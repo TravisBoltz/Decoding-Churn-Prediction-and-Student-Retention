{
  "cells": [
    {
      "cell_type": "markdown",
      "metadata": {},
      "source": [
        "**<center><span style=\"font-family:serif; font-size:34px;\"> Decoding Student Retention and Churn of Vodafone (Telecel) in KNUST - A Survival Analytics Approach </span>\n",
        "<a id = \"missingvalue\" ></a><center>**"
      ]
    },
    {
      "cell_type": "markdown",
      "metadata": {},
      "source": [
        "<center><span style=\"font-family:Palatino; font-size:22px;\"><i>A comparative analysis between Cox Proportional Hazards<span style=\"color:#DC143C;\"> and</span> Accelerated Failure Time </i> </center>"
      ]
    },
    {
      "cell_type": "markdown",
      "metadata": {},
      "source": [
        "***"
      ]
    },
    {
      "cell_type": "markdown",
      "metadata": {},
      "source": [
        "## Install Missing Packages"
      ]
    },
    {
      "cell_type": "code",
      "execution_count": 10,
      "metadata": {
        "id": "205bLM9ru3qy"
      },
      "outputs": [],
      "source": [
        "# pip install seaborn\n",
        "# pip install lifelines\n",
        "# pip install plotly\n",
        "# pip install pandas\n",
        "# pip install LabelEncoder\n",
        "# pip install numpy\n",
        "# pip install ydata_profiling\n"
      ]
    },
    {
      "cell_type": "markdown",
      "metadata": {},
      "source": [
        "## Load Packages"
      ]
    },
    {
      "cell_type": "code",
      "execution_count": 11,
      "metadata": {
        "id": "AlgunNk2u3q0"
      },
      "outputs": [],
      "source": [
        "import pandas as pd\n",
        "# data = pd.read_csv('encoded_values_2.csv')\n",
        "import seaborn as sns\n",
        "from sklearn.preprocessing import LabelEncoder\n",
        "from lifelines import CoxPHFitter, KaplanMeierFitter\n",
        "import numpy as np\n",
        "from ydata_profiling import ProfileReport\n",
        "import plotly.graph_objects as go\n",
        "from plotly.subplots import make_subplots\n",
        "import plotly.express as px #for histogram\n",
        "sns.set(style=\"whitegrid\")"
      ]
    },
    {
      "cell_type": "markdown",
      "metadata": {},
      "source": [
        "## Import Dataset"
      ]
    },
    {
      "cell_type": "code",
      "execution_count": 12,
      "metadata": {},
      "outputs": [
        {
          "data": {
            "text/html": [
              "<div>\n",
              "<style scoped>\n",
              "    .dataframe tbody tr th:only-of-type {\n",
              "        vertical-align: middle;\n",
              "    }\n",
              "\n",
              "    .dataframe tbody tr th {\n",
              "        vertical-align: top;\n",
              "    }\n",
              "\n",
              "    .dataframe thead th {\n",
              "        text-align: right;\n",
              "    }\n",
              "</style>\n",
              "<table border=\"1\" class=\"dataframe\">\n",
              "  <thead>\n",
              "    <tr style=\"text-align: right;\">\n",
              "      <th></th>\n",
              "      <th>Gender</th>\n",
              "      <th>Churn</th>\n",
              "      <th>Residence</th>\n",
              "      <th>Usage_Freq</th>\n",
              "      <th>Voice_Calls</th>\n",
              "      <th>Mobile_Data_Internet</th>\n",
              "      <th>SMS_Text_Messaging</th>\n",
              "      <th>Data_Exhaustion</th>\n",
              "      <th>Multiple_Networks</th>\n",
              "      <th>Poor_Network_Quality_Coverage</th>\n",
              "      <th>Unsatisfactory_Customer_Service</th>\n",
              "      <th>High_Costs_Pricing</th>\n",
              "      <th>Monthly_Data_Usage</th>\n",
              "      <th>Churn_Level</th>\n",
              "    </tr>\n",
              "  </thead>\n",
              "  <tbody>\n",
              "    <tr>\n",
              "      <th>0</th>\n",
              "      <td>Female</td>\n",
              "      <td>No</td>\n",
              "      <td>Off-campus</td>\n",
              "      <td>Daily</td>\n",
              "      <td>Yes</td>\n",
              "      <td>Yes</td>\n",
              "      <td>No</td>\n",
              "      <td>Yes</td>\n",
              "      <td>Yes</td>\n",
              "      <td>No</td>\n",
              "      <td>Yes</td>\n",
              "      <td>Yes</td>\n",
              "      <td>8 and more</td>\n",
              "      <td>4</td>\n",
              "    </tr>\n",
              "    <tr>\n",
              "      <th>1</th>\n",
              "      <td>Female</td>\n",
              "      <td>No</td>\n",
              "      <td>Off-campus</td>\n",
              "      <td>Several times a week</td>\n",
              "      <td>Yes</td>\n",
              "      <td>No</td>\n",
              "      <td>No</td>\n",
              "      <td>Yes</td>\n",
              "      <td>Yes</td>\n",
              "      <td>No</td>\n",
              "      <td>Yes</td>\n",
              "      <td>Yes</td>\n",
              "      <td>6-8</td>\n",
              "      <td>4</td>\n",
              "    </tr>\n",
              "    <tr>\n",
              "      <th>2</th>\n",
              "      <td>Female</td>\n",
              "      <td>Yes</td>\n",
              "      <td>On-campus</td>\n",
              "      <td>Never</td>\n",
              "      <td>Yes</td>\n",
              "      <td>Yes</td>\n",
              "      <td>No</td>\n",
              "      <td>Yes</td>\n",
              "      <td>Yes</td>\n",
              "      <td>No</td>\n",
              "      <td>No</td>\n",
              "      <td>No</td>\n",
              "      <td>8 and more</td>\n",
              "      <td>3</td>\n",
              "    </tr>\n",
              "    <tr>\n",
              "      <th>3</th>\n",
              "      <td>Female</td>\n",
              "      <td>No</td>\n",
              "      <td>Off-campus</td>\n",
              "      <td>Occasionally</td>\n",
              "      <td>Yes</td>\n",
              "      <td>Yes</td>\n",
              "      <td>Yes</td>\n",
              "      <td>No</td>\n",
              "      <td>Yes</td>\n",
              "      <td>No</td>\n",
              "      <td>Yes</td>\n",
              "      <td>Yes</td>\n",
              "      <td>6-8</td>\n",
              "      <td>4</td>\n",
              "    </tr>\n",
              "    <tr>\n",
              "      <th>4</th>\n",
              "      <td>Male</td>\n",
              "      <td>No</td>\n",
              "      <td>Off-campus</td>\n",
              "      <td>Several times a week</td>\n",
              "      <td>Yes</td>\n",
              "      <td>Yes</td>\n",
              "      <td>Yes</td>\n",
              "      <td>Yes</td>\n",
              "      <td>Yes</td>\n",
              "      <td>No</td>\n",
              "      <td>Yes</td>\n",
              "      <td>Yes</td>\n",
              "      <td>8 and more</td>\n",
              "      <td>4</td>\n",
              "    </tr>\n",
              "  </tbody>\n",
              "</table>\n",
              "</div>"
            ],
            "text/plain": [
              "   Gender Churn   Residence            Usage_Freq Voice_Calls  \\\n",
              "0  Female    No  Off-campus                 Daily         Yes   \n",
              "1  Female    No  Off-campus  Several times a week         Yes   \n",
              "2  Female   Yes   On-campus                 Never         Yes   \n",
              "3  Female    No  Off-campus          Occasionally         Yes   \n",
              "4    Male    No  Off-campus  Several times a week         Yes   \n",
              "\n",
              "  Mobile_Data_Internet SMS_Text_Messaging Data_Exhaustion Multiple_Networks  \\\n",
              "0                  Yes                 No             Yes               Yes   \n",
              "1                   No                 No             Yes               Yes   \n",
              "2                  Yes                 No             Yes               Yes   \n",
              "3                  Yes                Yes              No               Yes   \n",
              "4                  Yes                Yes             Yes               Yes   \n",
              "\n",
              "  Poor_Network_Quality_Coverage Unsatisfactory_Customer_Service  \\\n",
              "0                            No                             Yes   \n",
              "1                            No                             Yes   \n",
              "2                            No                              No   \n",
              "3                            No                             Yes   \n",
              "4                            No                             Yes   \n",
              "\n",
              "  High_Costs_Pricing Monthly_Data_Usage  Churn_Level  \n",
              "0                Yes         8 and more            4  \n",
              "1                Yes                6-8            4  \n",
              "2                 No         8 and more            3  \n",
              "3                Yes                6-8            4  \n",
              "4                Yes         8 and more            4  "
            ]
          },
          "execution_count": 12,
          "metadata": {},
          "output_type": "execute_result"
        }
      ],
      "source": [
        "data = pd.read_csv('Churn Data.csv')\n",
        "data.head()"
      ]
    },
    {
      "cell_type": "code",
      "execution_count": 13,
      "metadata": {
        "colab": {
          "base_uri": "https://localhost:8080/",
          "height": 212
        },
        "id": "MfFDoIyTu3q3",
        "outputId": "b4d612b1-0023-4a46-a57d-796b0cb16d50"
      },
      "outputs": [
        {
          "data": {
            "text/html": [
              "<div>\n",
              "<style scoped>\n",
              "    .dataframe tbody tr th:only-of-type {\n",
              "        vertical-align: middle;\n",
              "    }\n",
              "\n",
              "    .dataframe tbody tr th {\n",
              "        vertical-align: top;\n",
              "    }\n",
              "\n",
              "    .dataframe thead th {\n",
              "        text-align: right;\n",
              "    }\n",
              "</style>\n",
              "<table border=\"1\" class=\"dataframe\">\n",
              "  <thead>\n",
              "    <tr style=\"text-align: right;\">\n",
              "      <th></th>\n",
              "      <th>Gender</th>\n",
              "      <th>Churn</th>\n",
              "      <th>Residence</th>\n",
              "      <th>Usage_Freq</th>\n",
              "      <th>Voice_Calls</th>\n",
              "      <th>Mobile_Data_Internet</th>\n",
              "      <th>SMS_Text_Messaging</th>\n",
              "      <th>Data_Exhaustion</th>\n",
              "      <th>Multiple_Networks</th>\n",
              "      <th>Poor_Network_Quality_Coverage</th>\n",
              "      <th>Unsatisfactory_Customer_Service</th>\n",
              "      <th>High_Costs_Pricing</th>\n",
              "      <th>Monthly_Data_Usage</th>\n",
              "    </tr>\n",
              "  </thead>\n",
              "  <tbody>\n",
              "    <tr>\n",
              "      <th>count</th>\n",
              "      <td>338</td>\n",
              "      <td>338</td>\n",
              "      <td>338</td>\n",
              "      <td>338</td>\n",
              "      <td>338</td>\n",
              "      <td>338</td>\n",
              "      <td>338</td>\n",
              "      <td>338</td>\n",
              "      <td>338</td>\n",
              "      <td>338</td>\n",
              "      <td>338</td>\n",
              "      <td>338</td>\n",
              "      <td>338</td>\n",
              "    </tr>\n",
              "    <tr>\n",
              "      <th>unique</th>\n",
              "      <td>2</td>\n",
              "      <td>2</td>\n",
              "      <td>2</td>\n",
              "      <td>5</td>\n",
              "      <td>2</td>\n",
              "      <td>2</td>\n",
              "      <td>2</td>\n",
              "      <td>2</td>\n",
              "      <td>2</td>\n",
              "      <td>2</td>\n",
              "      <td>2</td>\n",
              "      <td>2</td>\n",
              "      <td>5</td>\n",
              "    </tr>\n",
              "    <tr>\n",
              "      <th>top</th>\n",
              "      <td>Female</td>\n",
              "      <td>No</td>\n",
              "      <td>Off-campus</td>\n",
              "      <td>Daily</td>\n",
              "      <td>Yes</td>\n",
              "      <td>Yes</td>\n",
              "      <td>Yes</td>\n",
              "      <td>Yes</td>\n",
              "      <td>Yes</td>\n",
              "      <td>No</td>\n",
              "      <td>Yes</td>\n",
              "      <td>Yes</td>\n",
              "      <td>8 and more</td>\n",
              "    </tr>\n",
              "    <tr>\n",
              "      <th>freq</th>\n",
              "      <td>233</td>\n",
              "      <td>259</td>\n",
              "      <td>279</td>\n",
              "      <td>170</td>\n",
              "      <td>285</td>\n",
              "      <td>302</td>\n",
              "      <td>180</td>\n",
              "      <td>283</td>\n",
              "      <td>312</td>\n",
              "      <td>276</td>\n",
              "      <td>288</td>\n",
              "      <td>291</td>\n",
              "      <td>231</td>\n",
              "    </tr>\n",
              "  </tbody>\n",
              "</table>\n",
              "</div>"
            ],
            "text/plain": [
              "        Gender Churn   Residence Usage_Freq Voice_Calls Mobile_Data_Internet  \\\n",
              "count      338   338         338        338         338                  338   \n",
              "unique       2     2           2          5           2                    2   \n",
              "top     Female    No  Off-campus      Daily         Yes                  Yes   \n",
              "freq       233   259         279        170         285                  302   \n",
              "\n",
              "       SMS_Text_Messaging Data_Exhaustion Multiple_Networks  \\\n",
              "count                 338             338               338   \n",
              "unique                  2               2                 2   \n",
              "top                   Yes             Yes               Yes   \n",
              "freq                  180             283               312   \n",
              "\n",
              "       Poor_Network_Quality_Coverage Unsatisfactory_Customer_Service  \\\n",
              "count                            338                             338   \n",
              "unique                             2                               2   \n",
              "top                               No                             Yes   \n",
              "freq                             276                             288   \n",
              "\n",
              "       High_Costs_Pricing Monthly_Data_Usage  \n",
              "count                 338                338  \n",
              "unique                  2                  5  \n",
              "top                   Yes         8 and more  \n",
              "freq                  291                231  "
            ]
          },
          "execution_count": 13,
          "metadata": {},
          "output_type": "execute_result"
        }
      ],
      "source": [
        "data.describe(include=[\"object\", \"bool\"]) # For non-numeric\n"
      ]
    },
    {
      "cell_type": "markdown",
      "metadata": {},
      "source": [
        "## Descriptive Analysis of Churn Data"
      ]
    },
    {
      "cell_type": "code",
      "execution_count": 14,
      "metadata": {
        "colab": {
          "base_uri": "https://localhost:8080/",
          "height": 517
        },
        "id": "niVjdsjHu3q4",
        "outputId": "304846fa-68dc-4a7c-b49b-641d50a17a39"
      },
      "outputs": [
        {
          "data": {
            "application/vnd.plotly.v1+json": {
              "config": {
                "plotlyServerURL": "https://plot.ly"
              },
              "data": [
                {
                  "alignmentgroup": "True",
                  "bingroup": "x",
                  "hovertemplate": "Churn=%{x}<br>count=%{y}<extra></extra>",
                  "legendgroup": "",
                  "marker": {
                    "color": "#636efa",
                    "pattern": {
                      "shape": ""
                    }
                  },
                  "name": "",
                  "offsetgroup": "",
                  "orientation": "v",
                  "showlegend": false,
                  "type": "histogram",
                  "x": [
                    "No",
                    "No",
                    "Yes",
                    "No",
                    "No",
                    "No",
                    "No",
                    "Yes",
                    "No",
                    "No",
                    "No",
                    "Yes",
                    "Yes",
                    "No",
                    "Yes",
                    "No",
                    "No",
                    "Yes",
                    "No",
                    "No",
                    "No",
                    "Yes",
                    "No",
                    "No",
                    "No",
                    "No",
                    "Yes",
                    "No",
                    "No",
                    "No",
                    "No",
                    "No",
                    "No",
                    "Yes",
                    "No",
                    "Yes",
                    "No",
                    "No",
                    "Yes",
                    "No",
                    "No",
                    "Yes",
                    "No",
                    "No",
                    "No",
                    "No",
                    "No",
                    "No",
                    "No",
                    "No",
                    "No",
                    "No",
                    "Yes",
                    "Yes",
                    "No",
                    "Yes",
                    "Yes",
                    "No",
                    "Yes",
                    "No",
                    "No",
                    "Yes",
                    "No",
                    "No",
                    "No",
                    "No",
                    "No",
                    "No",
                    "No",
                    "No",
                    "Yes",
                    "Yes",
                    "Yes",
                    "Yes",
                    "Yes",
                    "No",
                    "No",
                    "No",
                    "No",
                    "No",
                    "No",
                    "Yes",
                    "No",
                    "Yes",
                    "No",
                    "No",
                    "No",
                    "No",
                    "No",
                    "No",
                    "No",
                    "No",
                    "No",
                    "No",
                    "No",
                    "No",
                    "No",
                    "Yes",
                    "No",
                    "No",
                    "No",
                    "Yes",
                    "No",
                    "No",
                    "No",
                    "No",
                    "No",
                    "Yes",
                    "No",
                    "No",
                    "No",
                    "No",
                    "No",
                    "Yes",
                    "Yes",
                    "Yes",
                    "No",
                    "Yes",
                    "No",
                    "No",
                    "No",
                    "No",
                    "No",
                    "No",
                    "No",
                    "No",
                    "No",
                    "No",
                    "Yes",
                    "Yes",
                    "No",
                    "No",
                    "No",
                    "No",
                    "Yes",
                    "No",
                    "No",
                    "No",
                    "No",
                    "Yes",
                    "No",
                    "No",
                    "No",
                    "No",
                    "No",
                    "Yes",
                    "No",
                    "Yes",
                    "No",
                    "No",
                    "No",
                    "Yes",
                    "Yes",
                    "Yes",
                    "No",
                    "Yes",
                    "No",
                    "No",
                    "No",
                    "No",
                    "No",
                    "No",
                    "No",
                    "No",
                    "No",
                    "No",
                    "Yes",
                    "No",
                    "No",
                    "No",
                    "No",
                    "No",
                    "Yes",
                    "No",
                    "No",
                    "No",
                    "No",
                    "No",
                    "Yes",
                    "Yes",
                    "Yes",
                    "No",
                    "Yes",
                    "No",
                    "No",
                    "No",
                    "Yes",
                    "No",
                    "No",
                    "No",
                    "No",
                    "No",
                    "No",
                    "No",
                    "No",
                    "No",
                    "No",
                    "No",
                    "Yes",
                    "Yes",
                    "Yes",
                    "No",
                    "Yes",
                    "No",
                    "No",
                    "No",
                    "Yes",
                    "Yes",
                    "No",
                    "No",
                    "No",
                    "No",
                    "No",
                    "Yes",
                    "Yes",
                    "No",
                    "No",
                    "No",
                    "No",
                    "No",
                    "No",
                    "No",
                    "Yes",
                    "No",
                    "No",
                    "Yes",
                    "Yes",
                    "No",
                    "No",
                    "No",
                    "Yes",
                    "No",
                    "Yes",
                    "No",
                    "Yes",
                    "No",
                    "No",
                    "Yes",
                    "No",
                    "Yes",
                    "No",
                    "No",
                    "No",
                    "Yes",
                    "No",
                    "No",
                    "No",
                    "No",
                    "Yes",
                    "No",
                    "No",
                    "Yes",
                    "No",
                    "No",
                    "No",
                    "No",
                    "No",
                    "No",
                    "Yes",
                    "No",
                    "No",
                    "No",
                    "No",
                    "No",
                    "No",
                    "No",
                    "No",
                    "No",
                    "No",
                    "No",
                    "No",
                    "No",
                    "No",
                    "Yes",
                    "No",
                    "No",
                    "No",
                    "Yes",
                    "No",
                    "No",
                    "No",
                    "No",
                    "Yes",
                    "No",
                    "No",
                    "No",
                    "No",
                    "No",
                    "No",
                    "No",
                    "No",
                    "No",
                    "No",
                    "No",
                    "No",
                    "No",
                    "No",
                    "No",
                    "No",
                    "No",
                    "Yes",
                    "No",
                    "No",
                    "No",
                    "No",
                    "No",
                    "Yes",
                    "Yes",
                    "Yes",
                    "No",
                    "No",
                    "No",
                    "No",
                    "No",
                    "No",
                    "No",
                    "No",
                    "No",
                    "No",
                    "No",
                    "No",
                    "No",
                    "No",
                    "Yes",
                    "No",
                    "No",
                    "No",
                    "Yes",
                    "No",
                    "No",
                    "Yes",
                    "No",
                    "No",
                    "No",
                    "No",
                    "No",
                    "No",
                    "No"
                  ],
                  "xaxis": "x",
                  "yaxis": "y"
                }
              ],
              "layout": {
                "bargap": 0.1,
                "barmode": "relative",
                "height": 500,
                "legend": {
                  "tracegroupgap": 0
                },
                "margin": {
                  "t": 60
                },
                "template": {
                  "data": {
                    "bar": [
                      {
                        "error_x": {
                          "color": "#2a3f5f"
                        },
                        "error_y": {
                          "color": "#2a3f5f"
                        },
                        "marker": {
                          "line": {
                            "color": "#E5ECF6",
                            "width": 0.5
                          },
                          "pattern": {
                            "fillmode": "overlay",
                            "size": 10,
                            "solidity": 0.2
                          }
                        },
                        "type": "bar"
                      }
                    ],
                    "barpolar": [
                      {
                        "marker": {
                          "line": {
                            "color": "#E5ECF6",
                            "width": 0.5
                          },
                          "pattern": {
                            "fillmode": "overlay",
                            "size": 10,
                            "solidity": 0.2
                          }
                        },
                        "type": "barpolar"
                      }
                    ],
                    "carpet": [
                      {
                        "aaxis": {
                          "endlinecolor": "#2a3f5f",
                          "gridcolor": "white",
                          "linecolor": "white",
                          "minorgridcolor": "white",
                          "startlinecolor": "#2a3f5f"
                        },
                        "baxis": {
                          "endlinecolor": "#2a3f5f",
                          "gridcolor": "white",
                          "linecolor": "white",
                          "minorgridcolor": "white",
                          "startlinecolor": "#2a3f5f"
                        },
                        "type": "carpet"
                      }
                    ],
                    "choropleth": [
                      {
                        "colorbar": {
                          "outlinewidth": 0,
                          "ticks": ""
                        },
                        "type": "choropleth"
                      }
                    ],
                    "contour": [
                      {
                        "colorbar": {
                          "outlinewidth": 0,
                          "ticks": ""
                        },
                        "colorscale": [
                          [
                            0,
                            "#0d0887"
                          ],
                          [
                            0.1111111111111111,
                            "#46039f"
                          ],
                          [
                            0.2222222222222222,
                            "#7201a8"
                          ],
                          [
                            0.3333333333333333,
                            "#9c179e"
                          ],
                          [
                            0.4444444444444444,
                            "#bd3786"
                          ],
                          [
                            0.5555555555555556,
                            "#d8576b"
                          ],
                          [
                            0.6666666666666666,
                            "#ed7953"
                          ],
                          [
                            0.7777777777777778,
                            "#fb9f3a"
                          ],
                          [
                            0.8888888888888888,
                            "#fdca26"
                          ],
                          [
                            1,
                            "#f0f921"
                          ]
                        ],
                        "type": "contour"
                      }
                    ],
                    "contourcarpet": [
                      {
                        "colorbar": {
                          "outlinewidth": 0,
                          "ticks": ""
                        },
                        "type": "contourcarpet"
                      }
                    ],
                    "heatmap": [
                      {
                        "colorbar": {
                          "outlinewidth": 0,
                          "ticks": ""
                        },
                        "colorscale": [
                          [
                            0,
                            "#0d0887"
                          ],
                          [
                            0.1111111111111111,
                            "#46039f"
                          ],
                          [
                            0.2222222222222222,
                            "#7201a8"
                          ],
                          [
                            0.3333333333333333,
                            "#9c179e"
                          ],
                          [
                            0.4444444444444444,
                            "#bd3786"
                          ],
                          [
                            0.5555555555555556,
                            "#d8576b"
                          ],
                          [
                            0.6666666666666666,
                            "#ed7953"
                          ],
                          [
                            0.7777777777777778,
                            "#fb9f3a"
                          ],
                          [
                            0.8888888888888888,
                            "#fdca26"
                          ],
                          [
                            1,
                            "#f0f921"
                          ]
                        ],
                        "type": "heatmap"
                      }
                    ],
                    "heatmapgl": [
                      {
                        "colorbar": {
                          "outlinewidth": 0,
                          "ticks": ""
                        },
                        "colorscale": [
                          [
                            0,
                            "#0d0887"
                          ],
                          [
                            0.1111111111111111,
                            "#46039f"
                          ],
                          [
                            0.2222222222222222,
                            "#7201a8"
                          ],
                          [
                            0.3333333333333333,
                            "#9c179e"
                          ],
                          [
                            0.4444444444444444,
                            "#bd3786"
                          ],
                          [
                            0.5555555555555556,
                            "#d8576b"
                          ],
                          [
                            0.6666666666666666,
                            "#ed7953"
                          ],
                          [
                            0.7777777777777778,
                            "#fb9f3a"
                          ],
                          [
                            0.8888888888888888,
                            "#fdca26"
                          ],
                          [
                            1,
                            "#f0f921"
                          ]
                        ],
                        "type": "heatmapgl"
                      }
                    ],
                    "histogram": [
                      {
                        "marker": {
                          "pattern": {
                            "fillmode": "overlay",
                            "size": 10,
                            "solidity": 0.2
                          }
                        },
                        "type": "histogram"
                      }
                    ],
                    "histogram2d": [
                      {
                        "colorbar": {
                          "outlinewidth": 0,
                          "ticks": ""
                        },
                        "colorscale": [
                          [
                            0,
                            "#0d0887"
                          ],
                          [
                            0.1111111111111111,
                            "#46039f"
                          ],
                          [
                            0.2222222222222222,
                            "#7201a8"
                          ],
                          [
                            0.3333333333333333,
                            "#9c179e"
                          ],
                          [
                            0.4444444444444444,
                            "#bd3786"
                          ],
                          [
                            0.5555555555555556,
                            "#d8576b"
                          ],
                          [
                            0.6666666666666666,
                            "#ed7953"
                          ],
                          [
                            0.7777777777777778,
                            "#fb9f3a"
                          ],
                          [
                            0.8888888888888888,
                            "#fdca26"
                          ],
                          [
                            1,
                            "#f0f921"
                          ]
                        ],
                        "type": "histogram2d"
                      }
                    ],
                    "histogram2dcontour": [
                      {
                        "colorbar": {
                          "outlinewidth": 0,
                          "ticks": ""
                        },
                        "colorscale": [
                          [
                            0,
                            "#0d0887"
                          ],
                          [
                            0.1111111111111111,
                            "#46039f"
                          ],
                          [
                            0.2222222222222222,
                            "#7201a8"
                          ],
                          [
                            0.3333333333333333,
                            "#9c179e"
                          ],
                          [
                            0.4444444444444444,
                            "#bd3786"
                          ],
                          [
                            0.5555555555555556,
                            "#d8576b"
                          ],
                          [
                            0.6666666666666666,
                            "#ed7953"
                          ],
                          [
                            0.7777777777777778,
                            "#fb9f3a"
                          ],
                          [
                            0.8888888888888888,
                            "#fdca26"
                          ],
                          [
                            1,
                            "#f0f921"
                          ]
                        ],
                        "type": "histogram2dcontour"
                      }
                    ],
                    "mesh3d": [
                      {
                        "colorbar": {
                          "outlinewidth": 0,
                          "ticks": ""
                        },
                        "type": "mesh3d"
                      }
                    ],
                    "parcoords": [
                      {
                        "line": {
                          "colorbar": {
                            "outlinewidth": 0,
                            "ticks": ""
                          }
                        },
                        "type": "parcoords"
                      }
                    ],
                    "pie": [
                      {
                        "automargin": true,
                        "type": "pie"
                      }
                    ],
                    "scatter": [
                      {
                        "fillpattern": {
                          "fillmode": "overlay",
                          "size": 10,
                          "solidity": 0.2
                        },
                        "type": "scatter"
                      }
                    ],
                    "scatter3d": [
                      {
                        "line": {
                          "colorbar": {
                            "outlinewidth": 0,
                            "ticks": ""
                          }
                        },
                        "marker": {
                          "colorbar": {
                            "outlinewidth": 0,
                            "ticks": ""
                          }
                        },
                        "type": "scatter3d"
                      }
                    ],
                    "scattercarpet": [
                      {
                        "marker": {
                          "colorbar": {
                            "outlinewidth": 0,
                            "ticks": ""
                          }
                        },
                        "type": "scattercarpet"
                      }
                    ],
                    "scattergeo": [
                      {
                        "marker": {
                          "colorbar": {
                            "outlinewidth": 0,
                            "ticks": ""
                          }
                        },
                        "type": "scattergeo"
                      }
                    ],
                    "scattergl": [
                      {
                        "marker": {
                          "colorbar": {
                            "outlinewidth": 0,
                            "ticks": ""
                          }
                        },
                        "type": "scattergl"
                      }
                    ],
                    "scattermapbox": [
                      {
                        "marker": {
                          "colorbar": {
                            "outlinewidth": 0,
                            "ticks": ""
                          }
                        },
                        "type": "scattermapbox"
                      }
                    ],
                    "scatterpolar": [
                      {
                        "marker": {
                          "colorbar": {
                            "outlinewidth": 0,
                            "ticks": ""
                          }
                        },
                        "type": "scatterpolar"
                      }
                    ],
                    "scatterpolargl": [
                      {
                        "marker": {
                          "colorbar": {
                            "outlinewidth": 0,
                            "ticks": ""
                          }
                        },
                        "type": "scatterpolargl"
                      }
                    ],
                    "scatterternary": [
                      {
                        "marker": {
                          "colorbar": {
                            "outlinewidth": 0,
                            "ticks": ""
                          }
                        },
                        "type": "scatterternary"
                      }
                    ],
                    "surface": [
                      {
                        "colorbar": {
                          "outlinewidth": 0,
                          "ticks": ""
                        },
                        "colorscale": [
                          [
                            0,
                            "#0d0887"
                          ],
                          [
                            0.1111111111111111,
                            "#46039f"
                          ],
                          [
                            0.2222222222222222,
                            "#7201a8"
                          ],
                          [
                            0.3333333333333333,
                            "#9c179e"
                          ],
                          [
                            0.4444444444444444,
                            "#bd3786"
                          ],
                          [
                            0.5555555555555556,
                            "#d8576b"
                          ],
                          [
                            0.6666666666666666,
                            "#ed7953"
                          ],
                          [
                            0.7777777777777778,
                            "#fb9f3a"
                          ],
                          [
                            0.8888888888888888,
                            "#fdca26"
                          ],
                          [
                            1,
                            "#f0f921"
                          ]
                        ],
                        "type": "surface"
                      }
                    ],
                    "table": [
                      {
                        "cells": {
                          "fill": {
                            "color": "#EBF0F8"
                          },
                          "line": {
                            "color": "white"
                          }
                        },
                        "header": {
                          "fill": {
                            "color": "#C8D4E3"
                          },
                          "line": {
                            "color": "white"
                          }
                        },
                        "type": "table"
                      }
                    ]
                  },
                  "layout": {
                    "annotationdefaults": {
                      "arrowcolor": "#2a3f5f",
                      "arrowhead": 0,
                      "arrowwidth": 1
                    },
                    "autotypenumbers": "strict",
                    "coloraxis": {
                      "colorbar": {
                        "outlinewidth": 0,
                        "ticks": ""
                      }
                    },
                    "colorscale": {
                      "diverging": [
                        [
                          0,
                          "#8e0152"
                        ],
                        [
                          0.1,
                          "#c51b7d"
                        ],
                        [
                          0.2,
                          "#de77ae"
                        ],
                        [
                          0.3,
                          "#f1b6da"
                        ],
                        [
                          0.4,
                          "#fde0ef"
                        ],
                        [
                          0.5,
                          "#f7f7f7"
                        ],
                        [
                          0.6,
                          "#e6f5d0"
                        ],
                        [
                          0.7,
                          "#b8e186"
                        ],
                        [
                          0.8,
                          "#7fbc41"
                        ],
                        [
                          0.9,
                          "#4d9221"
                        ],
                        [
                          1,
                          "#276419"
                        ]
                      ],
                      "sequential": [
                        [
                          0,
                          "#0d0887"
                        ],
                        [
                          0.1111111111111111,
                          "#46039f"
                        ],
                        [
                          0.2222222222222222,
                          "#7201a8"
                        ],
                        [
                          0.3333333333333333,
                          "#9c179e"
                        ],
                        [
                          0.4444444444444444,
                          "#bd3786"
                        ],
                        [
                          0.5555555555555556,
                          "#d8576b"
                        ],
                        [
                          0.6666666666666666,
                          "#ed7953"
                        ],
                        [
                          0.7777777777777778,
                          "#fb9f3a"
                        ],
                        [
                          0.8888888888888888,
                          "#fdca26"
                        ],
                        [
                          1,
                          "#f0f921"
                        ]
                      ],
                      "sequentialminus": [
                        [
                          0,
                          "#0d0887"
                        ],
                        [
                          0.1111111111111111,
                          "#46039f"
                        ],
                        [
                          0.2222222222222222,
                          "#7201a8"
                        ],
                        [
                          0.3333333333333333,
                          "#9c179e"
                        ],
                        [
                          0.4444444444444444,
                          "#bd3786"
                        ],
                        [
                          0.5555555555555556,
                          "#d8576b"
                        ],
                        [
                          0.6666666666666666,
                          "#ed7953"
                        ],
                        [
                          0.7777777777777778,
                          "#fb9f3a"
                        ],
                        [
                          0.8888888888888888,
                          "#fdca26"
                        ],
                        [
                          1,
                          "#f0f921"
                        ]
                      ]
                    },
                    "colorway": [
                      "#636efa",
                      "#EF553B",
                      "#00cc96",
                      "#ab63fa",
                      "#FFA15A",
                      "#19d3f3",
                      "#FF6692",
                      "#B6E880",
                      "#FF97FF",
                      "#FECB52"
                    ],
                    "font": {
                      "color": "#2a3f5f"
                    },
                    "geo": {
                      "bgcolor": "white",
                      "lakecolor": "white",
                      "landcolor": "#E5ECF6",
                      "showlakes": true,
                      "showland": true,
                      "subunitcolor": "white"
                    },
                    "hoverlabel": {
                      "align": "left"
                    },
                    "hovermode": "closest",
                    "mapbox": {
                      "style": "light"
                    },
                    "paper_bgcolor": "white",
                    "plot_bgcolor": "#E5ECF6",
                    "polar": {
                      "angularaxis": {
                        "gridcolor": "white",
                        "linecolor": "white",
                        "ticks": ""
                      },
                      "bgcolor": "#E5ECF6",
                      "radialaxis": {
                        "gridcolor": "white",
                        "linecolor": "white",
                        "ticks": ""
                      }
                    },
                    "scene": {
                      "xaxis": {
                        "backgroundcolor": "#E5ECF6",
                        "gridcolor": "white",
                        "gridwidth": 2,
                        "linecolor": "white",
                        "showbackground": true,
                        "ticks": "",
                        "zerolinecolor": "white"
                      },
                      "yaxis": {
                        "backgroundcolor": "#E5ECF6",
                        "gridcolor": "white",
                        "gridwidth": 2,
                        "linecolor": "white",
                        "showbackground": true,
                        "ticks": "",
                        "zerolinecolor": "white"
                      },
                      "zaxis": {
                        "backgroundcolor": "#E5ECF6",
                        "gridcolor": "white",
                        "gridwidth": 2,
                        "linecolor": "white",
                        "showbackground": true,
                        "ticks": "",
                        "zerolinecolor": "white"
                      }
                    },
                    "shapedefaults": {
                      "line": {
                        "color": "#2a3f5f"
                      }
                    },
                    "ternary": {
                      "aaxis": {
                        "gridcolor": "white",
                        "linecolor": "white",
                        "ticks": ""
                      },
                      "baxis": {
                        "gridcolor": "white",
                        "linecolor": "white",
                        "ticks": ""
                      },
                      "bgcolor": "#E5ECF6",
                      "caxis": {
                        "gridcolor": "white",
                        "linecolor": "white",
                        "ticks": ""
                      }
                    },
                    "title": {
                      "x": 0.05
                    },
                    "xaxis": {
                      "automargin": true,
                      "gridcolor": "white",
                      "linecolor": "white",
                      "ticks": "",
                      "title": {
                        "standoff": 15
                      },
                      "zerolinecolor": "white",
                      "zerolinewidth": 2
                    },
                    "yaxis": {
                      "automargin": true,
                      "gridcolor": "white",
                      "linecolor": "white",
                      "ticks": "",
                      "title": {
                        "standoff": 15
                      },
                      "zerolinecolor": "white",
                      "zerolinewidth": 2
                    }
                  }
                },
                "width": 700,
                "xaxis": {
                  "anchor": "y",
                  "domain": [
                    0,
                    1
                  ],
                  "title": {
                    "text": "Churn"
                  }
                },
                "yaxis": {
                  "anchor": "x",
                  "domain": [
                    0,
                    1
                  ],
                  "title": {
                    "text": "Number of students"
                  }
                }
              }
            }
          },
          "metadata": {},
          "output_type": "display_data"
        }
      ],
      "source": [
        "import plotly.express as px\n",
        "\n",
        "color_map = {\"Yes\": '#FFA15A', \"No\": '#00CC96'}\n",
        "fig = px.histogram(data, x=\"Churn\", color_discrete_map=color_map)\n",
        "fig.update_layout(\n",
        "    width=700, \n",
        "    height=500, \n",
        "    bargap=0.1,\n",
        "    yaxis_title='Number of students'  # Set the y-axis label\n",
        ")\n",
        "fig.show()\n"
      ]
    },
    {
      "cell_type": "code",
      "execution_count": 15,
      "metadata": {},
      "outputs": [],
      "source": [
        "# Uncomment for a more detailed data analysis \n",
        "# ProfileReport(data, title=\"Profiling Report\") "
      ]
    },
    {
      "cell_type": "markdown",
      "metadata": {},
      "source": [
        "## Data Preprocesisng"
      ]
    },
    {
      "cell_type": "code",
      "execution_count": 16,
      "metadata": {},
      "outputs": [
        {
          "data": {
            "text/plain": [
              "Gender                             0\n",
              "Churn                              0\n",
              "Residence                          0\n",
              "Usage_Freq                         0\n",
              "Voice_Calls                        0\n",
              "Mobile_Data_Internet               0\n",
              "SMS_Text_Messaging                 0\n",
              "Data_Exhaustion                    0\n",
              "Multiple_Networks                  0\n",
              "Poor_Network_Quality_Coverage      0\n",
              "Unsatisfactory_Customer_Service    0\n",
              "High_Costs_Pricing                 0\n",
              "Monthly_Data_Usage                 0\n",
              "Churn_Level                        0\n",
              "dtype: int64"
            ]
          },
          "execution_count": 16,
          "metadata": {},
          "output_type": "execute_result"
        }
      ],
      "source": [
        "# Check for missing values\n",
        "missing_values = data.isnull().sum()\n",
        "\n",
        "# Check data types\n",
        "data_types = data.dtypes\n",
        "\n",
        "missing_values\n",
        "    "
      ]
    },
    {
      "cell_type": "code",
      "execution_count": 17,
      "metadata": {
        "id": "8BBUQA4wu3q5"
      },
      "outputs": [],
      "source": [
        "# Create a DataFrame to store the encoded values\n",
        "encoded_values = pd.DataFrame(columns=['Feature', 'Category', 'Encoded Value'])\n",
        "# Get all the categorical columns\n",
        "category_feature = data.select_dtypes(include=['object']).columns\n",
        "\n",
        "# Create a LabelEncoder object\n",
        "le = LabelEncoder()\n",
        "\n",
        "# Iterate through each categorical feature\n",
        "for feature in category_feature:\n",
        "    # Fit the LabelEncoder on the current feature and transform the data\n",
        "    data[feature] = le.fit_transform(data[feature])\n",
        "\n",
        "    # Get the encoded values for the current feature\n",
        "    for category, encoded_value in zip(le.classes_, le.transform(le.classes_)):\n",
        "        # Create a temporary DataFrame to hold the current row\n",
        "        temp_df = pd.DataFrame([{'Feature': feature, 'Category': category, 'Encoded Value': encoded_value}])\n",
        "\n",
        "        # Append the temporary DataFrame to the main DataFrame\n",
        "        encoded_values = pd.concat([encoded_values, temp_df], ignore_index=True)\n"
      ]
    },
    {
      "cell_type": "markdown",
      "metadata": {},
      "source": [
        "## Kaplan Meier Analysis\n",
        "\n",
        "The Kaplan-Meier estimator calculates the survival probability at a specific time step by multiplying the probability of surviving each previous time step.\n",
        "\n",
        "Let $S(t)$ be the survival probability at time $t$. The estimator is computed as:\n",
        "\n",
        "$$\n",
        "S(t) = \\prod_{t_i \\leq t} \\left(1 - \\frac{d_i}{n_i}\\right)\n",
        "$$\n",
        "\n",
        "where:\n",
        "- \n",
        "- $t_i$ is the time of the $i$-th unique event (churn)\n",
        "- $d_i$ is the number of events (churn) at time $i$\n",
        "- $n_i$ is the number of students at risk just prior to time $i$\n",
        "\n",
        "The estimator essentially calculates the probability of surviving from one time step to the next, and the product of these probabilities gives the overall survival probability up to time $t$.\n",
        "\n",
        "\n",
        "Here, $t_1$ would be the time at which the first churn event occurred, $d_1$ would be 1 (since one churn event occurred), and $n_1$ would be the total number of students at that time.\n"
      ]
    },
    {
      "cell_type": "code",
      "execution_count": 18,
      "metadata": {
        "colab": {
          "base_uri": "https://localhost:8080/",
          "height": 739
        },
        "id": "QroVcP_1u3q5",
        "outputId": "40ca1e15-ece2-4148-9c44-30f2d883e021"
      },
      "outputs": [
        {
          "data": {
            "image/png": "[encoded data removed]",
            "text/plain": [
              "<Figure size 1000x600 with 1 Axes>"
            ]
          },
          "metadata": {},
          "output_type": "display_data"
        },
        {
          "data": {
            "text/html": [
              "<div>\n",
              "<style scoped>\n",
              "    .dataframe tbody tr th:only-of-type {\n",
              "        vertical-align: middle;\n",
              "    }\n",
              "\n",
              "    .dataframe tbody tr th {\n",
              "        vertical-align: top;\n",
              "    }\n",
              "\n",
              "    .dataframe thead th {\n",
              "        text-align: right;\n",
              "    }\n",
              "</style>\n",
              "<table border=\"1\" class=\"dataframe\">\n",
              "  <thead>\n",
              "    <tr style=\"text-align: right;\">\n",
              "      <th></th>\n",
              "      <th>Event Time</th>\n",
              "      <th>Number of Individuals</th>\n",
              "      <th>Number of Events</th>\n",
              "      <th>Survival Probability</th>\n",
              "      <th>Lower CI</th>\n",
              "      <th>Upper CI</th>\n",
              "    </tr>\n",
              "  </thead>\n",
              "  <tbody>\n",
              "    <tr>\n",
              "      <th>0</th>\n",
              "      <td>0.0</td>\n",
              "      <td>338</td>\n",
              "      <td>0</td>\n",
              "      <td>1.000000</td>\n",
              "      <td>1.000000</td>\n",
              "      <td>1.000000</td>\n",
              "    </tr>\n",
              "    <tr>\n",
              "      <th>1</th>\n",
              "      <td>1.0</td>\n",
              "      <td>338</td>\n",
              "      <td>25</td>\n",
              "      <td>0.926036</td>\n",
              "      <td>0.892497</td>\n",
              "      <td>0.949406</td>\n",
              "    </tr>\n",
              "    <tr>\n",
              "      <th>2</th>\n",
              "      <td>2.0</td>\n",
              "      <td>313</td>\n",
              "      <td>22</td>\n",
              "      <td>0.860947</td>\n",
              "      <td>0.819283</td>\n",
              "      <td>0.893630</td>\n",
              "    </tr>\n",
              "    <tr>\n",
              "      <th>3</th>\n",
              "      <td>3.0</td>\n",
              "      <td>291</td>\n",
              "      <td>32</td>\n",
              "      <td>0.766272</td>\n",
              "      <td>0.717405</td>\n",
              "      <td>0.807836</td>\n",
              "    </tr>\n",
              "    <tr>\n",
              "      <th>4</th>\n",
              "      <td>4.0</td>\n",
              "      <td>259</td>\n",
              "      <td>0</td>\n",
              "      <td>0.766272</td>\n",
              "      <td>0.717405</td>\n",
              "      <td>0.807836</td>\n",
              "    </tr>\n",
              "  </tbody>\n",
              "</table>\n",
              "</div>"
            ],
            "text/plain": [
              "   Event Time  Number of Individuals  Number of Events  Survival Probability  \\\n",
              "0         0.0                    338                 0              1.000000   \n",
              "1         1.0                    338                25              0.926036   \n",
              "2         2.0                    313                22              0.860947   \n",
              "3         3.0                    291                32              0.766272   \n",
              "4         4.0                    259                 0              0.766272   \n",
              "\n",
              "   Lower CI  Upper CI  \n",
              "0  1.000000  1.000000  \n",
              "1  0.892497  0.949406  \n",
              "2  0.819283  0.893630  \n",
              "3  0.717405  0.807836  \n",
              "4  0.717405  0.807836  "
            ]
          },
          "execution_count": 18,
          "metadata": {},
          "output_type": "execute_result"
        }
      ],
      "source": [
        "import pandas as pd\n",
        "from lifelines import KaplanMeierFitter\n",
        "import matplotlib.pyplot as plt\n",
        "\n",
        "# Assuming 'data' is your dataset with columns 'Churn_Level' and 'Churn'\n",
        "\n",
        "# Fit Kaplan-Meier estimator\n",
        "kmf = KaplanMeierFitter()\n",
        "kmf.fit(data['Churn_Level'], data['Churn'])\n",
        "\n",
        "# Initial number of censored individuals\n",
        "initial_censored = 338\n",
        "\n",
        "# Calculate number of censored individuals (did not churn) at each event time\n",
        "n_individuals = len(data)\n",
        "censored_counts = [initial_censored]\n",
        "\n",
        "for i in range(1, len(kmf.timeline)):\n",
        "    churned_count = kmf.event_table.iloc[i-1]['observed']  # Number of events (churns) at current event time\n",
        "    censored_count = censored_counts[i-1] - churned_count\n",
        "    censored_counts.append(censored_count)\n",
        "\n",
        "# Extract event counts (number of churns) at each event time\n",
        "event_counts = kmf.event_table['observed'].values\n",
        "\n",
        "# Extract survival probabilities\n",
        "survival_probs = kmf.survival_function_.iloc[:, 0].values\n",
        "\n",
        "# Confidence intervals from Kaplan-Meier estimator\n",
        "confidence_intervals = kmf.confidence_interval_survival_function_\n",
        "\n",
        "# Create a DataFrame to display the information\n",
        "table_data = {\n",
        "    'Event Time': kmf.timeline,\n",
        "    'Number of Individuals': censored_counts,\n",
        "    'Number of Events': event_counts,\n",
        "    'Survival Probability': survival_probs,\n",
        "    'Lower CI': confidence_intervals['KM_estimate_lower_0.95'].values,\n",
        "    'Upper CI': confidence_intervals['KM_estimate_upper_0.95'].values\n",
        "}\n",
        "\n",
        "df = pd.DataFrame(table_data)\n",
        "\n",
        "# Plotting the survival curves using Kaplan-Meier Estimator\n",
        "plt.figure(figsize=(10, 6))\n",
        "ax = kmf.plot_survival_function()\n",
        "ax.get_legend().remove()  # Remove the legend\n",
        "\n",
        "# Set custom y-axis ticks and labels\n",
        "plt.yticks([0, 0.5, 1, 1.1], ['0', '0.5', '1', ''])\n",
        "plt.xticks([1, 2, 3, 4, 4.2], ['1', '2', '3', '4', ''])\n",
        "\n",
        "plt.xlabel('Event Time')\n",
        "plt.ylabel('Survival Probability')\n",
        "plt.show()\n",
        "\n",
        "# Print the DataFrame\n",
        "df\n"
      ]
    },
    {
      "cell_type": "markdown",
      "metadata": {},
      "source": [
        "## Cox Proportional Hazard (Cox PH)\n",
        "The Cox Proportional Hazards model is a popular semi-parametric model for survival analysis. It models the relationship between the survival time and a set of predictor variables, assuming a proportional hazard rate.\n",
        "\n",
        "**Mathematical Computation:**\n",
        "\n",
        "The Cox PH model is represented as:\n",
        "\n",
        "$$\n",
        "h(t \\mid x) = h_0(t) \\exp(\\beta_1 x_1 + \\beta_2 x_2 + \\dots + \\beta_p x_p)\n",
        "$$\n",
        "\n",
        "where:\n",
        "- $h(t \\mid x)$ is the hazard function, i.e., the instantaneous rate of the event occurring at time $t$ given the predictor variables $x$\n",
        "- $h_0(t)$ is the baseline hazard function, representing the hazard for individuals with all predictor variables equal to zero\n",
        "- $\\beta_1, \\beta_2, ..., \\beta_p$ are the coefficients for the predictor variables\n",
        "\n",
        "The coefficients are estimated using maximum likelihood estimation, and the model assumes a proportional hazard ratio, meaning the effect of the predictors on the hazard is constant over time.\n"
      ]
    },
    {
      "cell_type": "code",
      "execution_count": 19,
      "metadata": {
        "colab": {
          "base_uri": "https://localhost:8080/",
          "height": 1000
        },
        "id": "6yd5QAEpu3q5",
        "outputId": "45a27315-39e1-4561-938c-f8677068b8dc"
      },
      "outputs": [
        {
          "data": {
            "text/html": [
              "<div>\n",
              "<style scoped>\n",
              "    .dataframe tbody tr th:only-of-type {\n",
              "        vertical-align: middle;\n",
              "    }\n",
              "\n",
              "    .dataframe tbody tr th {\n",
              "        vertical-align: top;\n",
              "    }\n",
              "\n",
              "    .dataframe thead th {\n",
              "        text-align: right;\n",
              "    }\n",
              "</style>\n",
              "<table border=\"1\" class=\"dataframe\">\n",
              "  <tbody>\n",
              "    <tr>\n",
              "      <th>model</th>\n",
              "      <td>lifelines.CoxPHFitter</td>\n",
              "    </tr>\n",
              "    <tr>\n",
              "      <th>duration col</th>\n",
              "      <td>'Churn_Level'</td>\n",
              "    </tr>\n",
              "    <tr>\n",
              "      <th>event col</th>\n",
              "      <td>'Churn'</td>\n",
              "    </tr>\n",
              "    <tr>\n",
              "      <th>baseline estimation</th>\n",
              "      <td>breslow</td>\n",
              "    </tr>\n",
              "    <tr>\n",
              "      <th>number of observations</th>\n",
              "      <td>338</td>\n",
              "    </tr>\n",
              "    <tr>\n",
              "      <th>number of events observed</th>\n",
              "      <td>79</td>\n",
              "    </tr>\n",
              "    <tr>\n",
              "      <th>partial log-likelihood</th>\n",
              "      <td>-316.76</td>\n",
              "    </tr>\n",
              "    <tr>\n",
              "      <th>time fit was run</th>\n",
              "      <td>2024-08-29 00:43:26 UTC</td>\n",
              "    </tr>\n",
              "  </tbody>\n",
              "</table>\n",
              "</div><table border=\"1\" class=\"dataframe\">\n",
              "  <thead>\n",
              "    <tr style=\"text-align: right;\">\n",
              "      <th style=\"min-width: 12px;\"></th>\n",
              "      <th style=\"min-width: 12px;\">coef</th>\n",
              "      <th style=\"min-width: 12px;\">exp(coef)</th>\n",
              "      <th style=\"min-width: 12px;\">se(coef)</th>\n",
              "      <th style=\"min-width: 12px;\">coef lower 95%</th>\n",
              "      <th style=\"min-width: 12px;\">coef upper 95%</th>\n",
              "      <th style=\"min-width: 12px;\">exp(coef) lower 95%</th>\n",
              "      <th style=\"min-width: 12px;\">exp(coef) upper 95%</th>\n",
              "      <th style=\"min-width: 12px;\">cmp to</th>\n",
              "      <th style=\"min-width: 12px;\">z</th>\n",
              "      <th style=\"min-width: 12px;\">p</th>\n",
              "      <th style=\"min-width: 12px;\">-log2(p)</th>\n",
              "    </tr>\n",
              "  </thead>\n",
              "  <tbody>\n",
              "    <tr>\n",
              "      <th>Gender</th>\n",
              "      <td>0.33</td>\n",
              "      <td>1.39</td>\n",
              "      <td>0.28</td>\n",
              "      <td>-0.23</td>\n",
              "      <td>0.89</td>\n",
              "      <td>0.80</td>\n",
              "      <td>2.42</td>\n",
              "      <td>0.00</td>\n",
              "      <td>1.16</td>\n",
              "      <td>0.24</td>\n",
              "      <td>2.03</td>\n",
              "    </tr>\n",
              "    <tr>\n",
              "      <th>Residence</th>\n",
              "      <td>0.32</td>\n",
              "      <td>1.38</td>\n",
              "      <td>0.27</td>\n",
              "      <td>-0.22</td>\n",
              "      <td>0.86</td>\n",
              "      <td>0.80</td>\n",
              "      <td>2.36</td>\n",
              "      <td>0.00</td>\n",
              "      <td>1.16</td>\n",
              "      <td>0.25</td>\n",
              "      <td>2.02</td>\n",
              "    </tr>\n",
              "    <tr>\n",
              "      <th>Usage_Freq</th>\n",
              "      <td>-0.08</td>\n",
              "      <td>0.92</td>\n",
              "      <td>0.07</td>\n",
              "      <td>-0.23</td>\n",
              "      <td>0.06</td>\n",
              "      <td>0.80</td>\n",
              "      <td>1.06</td>\n",
              "      <td>0.00</td>\n",
              "      <td>-1.11</td>\n",
              "      <td>0.27</td>\n",
              "      <td>1.90</td>\n",
              "    </tr>\n",
              "    <tr>\n",
              "      <th>Voice_Calls</th>\n",
              "      <td>-0.57</td>\n",
              "      <td>0.57</td>\n",
              "      <td>0.32</td>\n",
              "      <td>-1.19</td>\n",
              "      <td>0.06</td>\n",
              "      <td>0.30</td>\n",
              "      <td>1.06</td>\n",
              "      <td>0.00</td>\n",
              "      <td>-1.77</td>\n",
              "      <td>0.08</td>\n",
              "      <td>3.71</td>\n",
              "    </tr>\n",
              "    <tr>\n",
              "      <th>Mobile_Data_Internet</th>\n",
              "      <td>0.32</td>\n",
              "      <td>1.38</td>\n",
              "      <td>0.46</td>\n",
              "      <td>-0.57</td>\n",
              "      <td>1.21</td>\n",
              "      <td>0.56</td>\n",
              "      <td>3.36</td>\n",
              "      <td>0.00</td>\n",
              "      <td>0.70</td>\n",
              "      <td>0.48</td>\n",
              "      <td>1.06</td>\n",
              "    </tr>\n",
              "    <tr>\n",
              "      <th>SMS_Text_Messaging</th>\n",
              "      <td>0.48</td>\n",
              "      <td>1.61</td>\n",
              "      <td>0.25</td>\n",
              "      <td>-0.01</td>\n",
              "      <td>0.96</td>\n",
              "      <td>0.99</td>\n",
              "      <td>2.61</td>\n",
              "      <td>0.00</td>\n",
              "      <td>1.92</td>\n",
              "      <td>0.06</td>\n",
              "      <td>4.18</td>\n",
              "    </tr>\n",
              "    <tr>\n",
              "      <th>Data_Exhaustion</th>\n",
              "      <td>-0.20</td>\n",
              "      <td>0.82</td>\n",
              "      <td>0.38</td>\n",
              "      <td>-0.94</td>\n",
              "      <td>0.55</td>\n",
              "      <td>0.39</td>\n",
              "      <td>1.73</td>\n",
              "      <td>0.00</td>\n",
              "      <td>-0.52</td>\n",
              "      <td>0.61</td>\n",
              "      <td>0.72</td>\n",
              "    </tr>\n",
              "    <tr>\n",
              "      <th>Multiple_Networks</th>\n",
              "      <td>-0.13</td>\n",
              "      <td>0.88</td>\n",
              "      <td>0.44</td>\n",
              "      <td>-0.99</td>\n",
              "      <td>0.74</td>\n",
              "      <td>0.37</td>\n",
              "      <td>2.10</td>\n",
              "      <td>0.00</td>\n",
              "      <td>-0.28</td>\n",
              "      <td>0.78</td>\n",
              "      <td>0.36</td>\n",
              "    </tr>\n",
              "    <tr>\n",
              "      <th>Poor_Network_Quality_Coverage</th>\n",
              "      <td>2.60</td>\n",
              "      <td>13.49</td>\n",
              "      <td>0.35</td>\n",
              "      <td>1.91</td>\n",
              "      <td>3.29</td>\n",
              "      <td>6.75</td>\n",
              "      <td>26.98</td>\n",
              "      <td>0.00</td>\n",
              "      <td>7.36</td>\n",
              "      <td>&lt;0.005</td>\n",
              "      <td>42.30</td>\n",
              "    </tr>\n",
              "    <tr>\n",
              "      <th>Unsatisfactory_Customer_Service</th>\n",
              "      <td>-1.40</td>\n",
              "      <td>0.25</td>\n",
              "      <td>0.30</td>\n",
              "      <td>-2.00</td>\n",
              "      <td>-0.81</td>\n",
              "      <td>0.14</td>\n",
              "      <td>0.44</td>\n",
              "      <td>0.00</td>\n",
              "      <td>-4.65</td>\n",
              "      <td>&lt;0.005</td>\n",
              "      <td>18.22</td>\n",
              "    </tr>\n",
              "    <tr>\n",
              "      <th>High_Costs_Pricing</th>\n",
              "      <td>-1.13</td>\n",
              "      <td>0.32</td>\n",
              "      <td>0.29</td>\n",
              "      <td>-1.70</td>\n",
              "      <td>-0.56</td>\n",
              "      <td>0.18</td>\n",
              "      <td>0.57</td>\n",
              "      <td>0.00</td>\n",
              "      <td>-3.91</td>\n",
              "      <td>&lt;0.005</td>\n",
              "      <td>13.43</td>\n",
              "    </tr>\n",
              "    <tr>\n",
              "      <th>Monthly_Data_Usage</th>\n",
              "      <td>0.21</td>\n",
              "      <td>1.24</td>\n",
              "      <td>0.09</td>\n",
              "      <td>0.03</td>\n",
              "      <td>0.40</td>\n",
              "      <td>1.03</td>\n",
              "      <td>1.49</td>\n",
              "      <td>0.00</td>\n",
              "      <td>2.27</td>\n",
              "      <td>0.02</td>\n",
              "      <td>5.45</td>\n",
              "    </tr>\n",
              "  </tbody>\n",
              "</table><br><div>\n",
              "<style scoped>\n",
              "    .dataframe tbody tr th:only-of-type {\n",
              "        vertical-align: middle;\n",
              "    }\n",
              "\n",
              "    .dataframe tbody tr th {\n",
              "        vertical-align: top;\n",
              "    }\n",
              "\n",
              "    .dataframe thead th {\n",
              "        text-align: right;\n",
              "    }\n",
              "</style>\n",
              "<table border=\"1\" class=\"dataframe\">\n",
              "  <tbody>\n",
              "    <tr>\n",
              "      <th>Concordance</th>\n",
              "      <td>0.96</td>\n",
              "    </tr>\n",
              "    <tr>\n",
              "      <th>Partial AIC</th>\n",
              "      <td>657.52</td>\n",
              "    </tr>\n",
              "    <tr>\n",
              "      <th>log-likelihood ratio test</th>\n",
              "      <td>266.68 on 12 df</td>\n",
              "    </tr>\n",
              "    <tr>\n",
              "      <th>-log2(p) of ll-ratio test</th>\n",
              "      <td>163.93</td>\n",
              "    </tr>\n",
              "  </tbody>\n",
              "</table>\n",
              "</div>"
            ],
            "text/latex": [
              "\\begin{tabular}{lrrrrrrrrrrr}\n",
              " & coef & exp(coef) & se(coef) & coef lower 95% & coef upper 95% & exp(coef) lower 95% & exp(coef) upper 95% & cmp to & z & p & -log2(p) \\\\\n",
              "covariate &  &  &  &  &  &  &  &  &  &  &  \\\\\n",
              "Gender & 0.33 & 1.39 & 0.28 & -0.23 & 0.89 & 0.80 & 2.42 & 0.00 & 1.16 & 0.24 & 2.03 \\\\\n",
              "Residence & 0.32 & 1.38 & 0.27 & -0.22 & 0.86 & 0.80 & 2.36 & 0.00 & 1.16 & 0.25 & 2.02 \\\\\n",
              "Usage_Freq & -0.08 & 0.92 & 0.07 & -0.23 & 0.06 & 0.80 & 1.06 & 0.00 & -1.11 & 0.27 & 1.90 \\\\\n",
              "Voice_Calls & -0.57 & 0.57 & 0.32 & -1.19 & 0.06 & 0.30 & 1.06 & 0.00 & -1.77 & 0.08 & 3.71 \\\\\n",
              "Mobile_Data_Internet & 0.32 & 1.38 & 0.46 & -0.57 & 1.21 & 0.56 & 3.36 & 0.00 & 0.70 & 0.48 & 1.06 \\\\\n",
              "SMS_Text_Messaging & 0.48 & 1.61 & 0.25 & -0.01 & 0.96 & 0.99 & 2.61 & 0.00 & 1.92 & 0.06 & 4.18 \\\\\n",
              "Data_Exhaustion & -0.20 & 0.82 & 0.38 & -0.94 & 0.55 & 0.39 & 1.73 & 0.00 & -0.52 & 0.61 & 0.72 \\\\\n",
              "Multiple_Networks & -0.13 & 0.88 & 0.44 & -0.99 & 0.74 & 0.37 & 2.10 & 0.00 & -0.28 & 0.78 & 0.36 \\\\\n",
              "Poor_Network_Quality_Coverage & 2.60 & 13.49 & 0.35 & 1.91 & 3.29 & 6.75 & 26.98 & 0.00 & 7.36 & 0.00 & 42.30 \\\\\n",
              "Unsatisfactory_Customer_Service & -1.40 & 0.25 & 0.30 & -2.00 & -0.81 & 0.14 & 0.44 & 0.00 & -4.65 & 0.00 & 18.22 \\\\\n",
              "High_Costs_Pricing & -1.13 & 0.32 & 0.29 & -1.70 & -0.56 & 0.18 & 0.57 & 0.00 & -3.91 & 0.00 & 13.43 \\\\\n",
              "Monthly_Data_Usage & 0.21 & 1.24 & 0.09 & 0.03 & 0.40 & 1.03 & 1.49 & 0.00 & 2.27 & 0.02 & 5.45 \\\\\n",
              "\\end{tabular}\n"
            ],
            "text/plain": [
              "<lifelines.CoxPHFitter: fitted with 338 total observations, 259 right-censored observations>\n",
              "             duration col = 'Churn_Level'\n",
              "                event col = 'Churn'\n",
              "      baseline estimation = breslow\n",
              "   number of observations = 338\n",
              "number of events observed = 79\n",
              "   partial log-likelihood = -316.76\n",
              "         time fit was run = 2024-08-29 00:43:26 UTC\n",
              "\n",
              "---\n",
              "                                 coef exp(coef)  se(coef)  coef lower 95%  coef upper 95% exp(coef) lower 95% exp(coef) upper 95%\n",
              "covariate                                                                                                                        \n",
              "Gender                           0.33      1.39      0.28           -0.23            0.89                0.80                2.42\n",
              "Residence                        0.32      1.38      0.27           -0.22            0.86                0.80                2.36\n",
              "Usage_Freq                      -0.08      0.92      0.07           -0.23            0.06                0.80                1.06\n",
              "Voice_Calls                     -0.57      0.57      0.32           -1.19            0.06                0.30                1.06\n",
              "Mobile_Data_Internet             0.32      1.38      0.46           -0.57            1.21                0.56                3.36\n",
              "SMS_Text_Messaging               0.48      1.61      0.25           -0.01            0.96                0.99                2.61\n",
              "Data_Exhaustion                 -0.20      0.82      0.38           -0.94            0.55                0.39                1.73\n",
              "Multiple_Networks               -0.13      0.88      0.44           -0.99            0.74                0.37                2.10\n",
              "Poor_Network_Quality_Coverage    2.60     13.49      0.35            1.91            3.29                6.75               26.98\n",
              "Unsatisfactory_Customer_Service -1.40      0.25      0.30           -2.00           -0.81                0.14                0.44\n",
              "High_Costs_Pricing              -1.13      0.32      0.29           -1.70           -0.56                0.18                0.57\n",
              "Monthly_Data_Usage               0.21      1.24      0.09            0.03            0.40                1.03                1.49\n",
              "\n",
              "                                 cmp to     z      p  -log2(p)\n",
              "covariate                                                     \n",
              "Gender                             0.00  1.16   0.24      2.03\n",
              "Residence                          0.00  1.16   0.25      2.02\n",
              "Usage_Freq                         0.00 -1.11   0.27      1.90\n",
              "Voice_Calls                        0.00 -1.77   0.08      3.71\n",
              "Mobile_Data_Internet               0.00  0.70   0.48      1.06\n",
              "SMS_Text_Messaging                 0.00  1.92   0.06      4.18\n",
              "Data_Exhaustion                    0.00 -0.52   0.61      0.72\n",
              "Multiple_Networks                  0.00 -0.28   0.78      0.36\n",
              "Poor_Network_Quality_Coverage      0.00  7.36 <0.005     42.30\n",
              "Unsatisfactory_Customer_Service    0.00 -4.65 <0.005     18.22\n",
              "High_Costs_Pricing                 0.00 -3.91 <0.005     13.43\n",
              "Monthly_Data_Usage                 0.00  2.27   0.02      5.45\n",
              "---\n",
              "Concordance = 0.96\n",
              "Partial AIC = 657.52\n",
              "log-likelihood ratio test = 266.68 on 12 df\n",
              "-log2(p) of ll-ratio test = 163.93"
            ]
          },
          "metadata": {},
          "output_type": "display_data"
        }
      ],
      "source": [
        "import matplotlib.pyplot as plt\n",
        "from lifelines import CoxPHFitter\n",
        "# Initialize the Cox Proportional Hazards model\n",
        "cph = CoxPHFitter()\n",
        "# data = data.drop(columns=['High_Costs_Pricing','Multiple_Networks','Other_Networks_Better_Services','Poor_Network_Quality_Coverage'])\n",
        "# data = data.drop(columns='Poor_Network_Quality_Coverage')\n",
        "\n",
        "# Fit the model\n",
        "cph.fit(data, duration_col='Churn_Level', event_col='Churn')\n",
        "\n",
        "# Display the summary\n",
        "cph.print_summary()\n",
        "\n",
        "\n"
      ]
    },
    {
      "cell_type": "code",
      "execution_count": 20,
      "metadata": {},
      "outputs": [
        {
          "data": {
            "image/png": "[encoded data removed]",
            "text/plain": [
              "<Figure size 1000x600 with 1 Axes>"
            ]
          },
          "metadata": {},
          "output_type": "display_data"
        }
      ],
      "source": [
        "# Plot the coefficients\n",
        "plt.figure(figsize=(10, 6))\n",
        "cph.plot()\n",
        "# plt.title('Cox Proportional Hazards Model Coefficients')\n",
        "plt.show()"
      ]
    },
    {
      "cell_type": "markdown",
      "metadata": {},
      "source": [
        "## Cox PH Assumption Test\n",
        "The Cox PH makes an assumption that, time is constant throughout.\n",
        "$$ H_0: \\text{The Assumption of Proportional Hazard is fulfilled} $$\n",
        "$$ H_1: \\text{The Assumption of Proportional Hazard is not fulfilled} $$"
      ]
    },
    {
      "cell_type": "code",
      "execution_count": 21,
      "metadata": {},
      "outputs": [
        {
          "data": {
            "text/html": [
              "<div>\n",
              "<style scoped>\n",
              "    .dataframe tbody tr th:only-of-type {\n",
              "        vertical-align: middle;\n",
              "    }\n",
              "\n",
              "    .dataframe tbody tr th {\n",
              "        vertical-align: top;\n",
              "    }\n",
              "\n",
              "    .dataframe thead th {\n",
              "        text-align: right;\n",
              "    }\n",
              "</style>\n",
              "<table border=\"1\" class=\"dataframe\">\n",
              "  <tbody>\n",
              "    <tr>\n",
              "      <th>time_transform</th>\n",
              "      <td>rank</td>\n",
              "    </tr>\n",
              "    <tr>\n",
              "      <th>null_distribution</th>\n",
              "      <td>chi squared</td>\n",
              "    </tr>\n",
              "    <tr>\n",
              "      <th>degrees_of_freedom</th>\n",
              "      <td>1</td>\n",
              "    </tr>\n",
              "    <tr>\n",
              "      <th>model</th>\n",
              "      <td>&lt;lifelines.CoxPHFitter: fitted with 338 total ...</td>\n",
              "    </tr>\n",
              "    <tr>\n",
              "      <th>test_name</th>\n",
              "      <td>proportional_hazard_test</td>\n",
              "    </tr>\n",
              "  </tbody>\n",
              "</table>\n",
              "</div><table border=\"1\" class=\"dataframe\">\n",
              "  <thead>\n",
              "    <tr style=\"text-align: right;\">\n",
              "      <th></th>\n",
              "      <th>test_statistic</th>\n",
              "      <th>p</th>\n",
              "      <th>-log2(p)</th>\n",
              "    </tr>\n",
              "  </thead>\n",
              "  <tbody>\n",
              "    <tr>\n",
              "      <th>Data_Exhaustion</th>\n",
              "      <td>0.46</td>\n",
              "      <td>0.50</td>\n",
              "      <td>1.00</td>\n",
              "    </tr>\n",
              "    <tr>\n",
              "      <th>Gender</th>\n",
              "      <td>0.26</td>\n",
              "      <td>0.61</td>\n",
              "      <td>0.71</td>\n",
              "    </tr>\n",
              "    <tr>\n",
              "      <th>High_Costs_Pricing</th>\n",
              "      <td>1.74</td>\n",
              "      <td>0.19</td>\n",
              "      <td>2.42</td>\n",
              "    </tr>\n",
              "    <tr>\n",
              "      <th>Mobile_Data_Internet</th>\n",
              "      <td>0.63</td>\n",
              "      <td>0.43</td>\n",
              "      <td>1.22</td>\n",
              "    </tr>\n",
              "    <tr>\n",
              "      <th>Monthly_Data_Usage</th>\n",
              "      <td>1.49</td>\n",
              "      <td>0.22</td>\n",
              "      <td>2.17</td>\n",
              "    </tr>\n",
              "    <tr>\n",
              "      <th>Multiple_Networks</th>\n",
              "      <td>0.09</td>\n",
              "      <td>0.77</td>\n",
              "      <td>0.38</td>\n",
              "    </tr>\n",
              "    <tr>\n",
              "      <th>Poor_Network_Quality_Coverage</th>\n",
              "      <td>2.36</td>\n",
              "      <td>0.12</td>\n",
              "      <td>3.00</td>\n",
              "    </tr>\n",
              "    <tr>\n",
              "      <th>Residence</th>\n",
              "      <td>0.01</td>\n",
              "      <td>0.93</td>\n",
              "      <td>0.10</td>\n",
              "    </tr>\n",
              "    <tr>\n",
              "      <th>SMS_Text_Messaging</th>\n",
              "      <td>0.04</td>\n",
              "      <td>0.84</td>\n",
              "      <td>0.25</td>\n",
              "    </tr>\n",
              "    <tr>\n",
              "      <th>Unsatisfactory_Customer_Service</th>\n",
              "      <td>0.10</td>\n",
              "      <td>0.76</td>\n",
              "      <td>0.40</td>\n",
              "    </tr>\n",
              "    <tr>\n",
              "      <th>Usage_Freq</th>\n",
              "      <td>0.04</td>\n",
              "      <td>0.84</td>\n",
              "      <td>0.25</td>\n",
              "    </tr>\n",
              "    <tr>\n",
              "      <th>Voice_Calls</th>\n",
              "      <td>2.70</td>\n",
              "      <td>0.10</td>\n",
              "      <td>3.32</td>\n",
              "    </tr>\n",
              "  </tbody>\n",
              "</table>"
            ],
            "text/latex": [
              "\\begin{tabular}{lrrr}\n",
              " & test_statistic & p & -log2(p) \\\\\n",
              "Data_Exhaustion & 0.46 & 0.50 & 1.00 \\\\\n",
              "Gender & 0.26 & 0.61 & 0.71 \\\\\n",
              "High_Costs_Pricing & 1.74 & 0.19 & 2.42 \\\\\n",
              "Mobile_Data_Internet & 0.63 & 0.43 & 1.22 \\\\\n",
              "Monthly_Data_Usage & 1.49 & 0.22 & 2.17 \\\\\n",
              "Multiple_Networks & 0.09 & 0.77 & 0.38 \\\\\n",
              "Poor_Network_Quality_Coverage & 2.36 & 0.12 & 3.00 \\\\\n",
              "Residence & 0.01 & 0.93 & 0.10 \\\\\n",
              "SMS_Text_Messaging & 0.04 & 0.84 & 0.25 \\\\\n",
              "Unsatisfactory_Customer_Service & 0.10 & 0.76 & 0.40 \\\\\n",
              "Usage_Freq & 0.04 & 0.84 & 0.25 \\\\\n",
              "Voice_Calls & 2.70 & 0.10 & 3.32 \\\\\n",
              "\\end{tabular}\n"
            ],
            "text/plain": [
              "<lifelines.StatisticalResult: proportional_hazard_test>\n",
              "    time_transform = rank\n",
              " null_distribution = chi squared\n",
              "degrees_of_freedom = 1\n",
              "             model = <lifelines.CoxPHFitter: fitted with 338 total observations, 259 right-censored observations>\n",
              "         test_name = proportional_hazard_test\n",
              "\n",
              "---\n",
              "                                 test_statistic    p  -log2(p)\n",
              "Data_Exhaustion                            0.46 0.50      1.00\n",
              "Gender                                     0.26 0.61      0.71\n",
              "High_Costs_Pricing                         1.74 0.19      2.42\n",
              "Mobile_Data_Internet                       0.63 0.43      1.22\n",
              "Monthly_Data_Usage                         1.49 0.22      2.17\n",
              "Multiple_Networks                          0.09 0.77      0.38\n",
              "Poor_Network_Quality_Coverage              2.36 0.12      3.00\n",
              "Residence                                  0.01 0.93      0.10\n",
              "SMS_Text_Messaging                         0.04 0.84      0.25\n",
              "Unsatisfactory_Customer_Service            0.10 0.76      0.40\n",
              "Usage_Freq                                 0.04 0.84      0.25\n",
              "Voice_Calls                                2.70 0.10      3.32"
            ]
          },
          "execution_count": 21,
          "metadata": {},
          "output_type": "execute_result"
        }
      ],
      "source": [
        "from lifelines.statistics import proportional_hazard_test\n",
        "\n",
        "# Fit the Cox Proportional Hazards model\n",
        "cph = CoxPHFitter()\n",
        "cph.fit(data, duration_col='Churn_Level', event_col='Churn')\n",
        "\n",
        "# Perform the proportional hazards test\n",
        "results = proportional_hazard_test(cph, data, time_transform='rank')\n",
        "\n",
        "# # Print the results\n",
        "# cph.plot_partial_effects_on_outcome('Other_Networks_Better_Services', values=[0, 1, 2, 3, 4])\n",
        "# plt.title('Partial Effects of Other Networks Better Services on Survival')\n",
        "# plt.show()\n",
        "results# Plot the scaled Schoenfeld residuals\n",
        "\n",
        "\n",
        "# Interpretation and validation\n",
        "# (This will involve checking the summary output, coefficients, and assumption checks)\n"
      ]
    },
    {
      "cell_type": "markdown",
      "metadata": {},
      "source": [
        "## Accelerated Failure Time\n",
        "Accelerated Failure Time (AFT) is one of the popular parametric models used in survival analysis. The model assumes that the survival function \\(S(t)\\) follows a parametric continuous distribution. This implies that the distribution is following a Weibull, lognormal, or log-logistic distribution. An AFT model aims to account for the influence of multiple covariates on the survival time by either accelerating or decelerating it.\n",
        "\n",
        "$$\\lambda(x) = \\exp(b_0 + \\sum_{i=1}^{n}{b_i x_i})$$\n",
        "Where:\n",
        "   - $\\lambda(x)$ is the accelerating factor\n",
        "   - $b_0$ is the baseline accelerating factor when all covariates are 0\n",
        "   - $b_i$ is the regression coefficient for the $i$ th covariate\n",
        "   - $x_i$ are the covariates\n"
      ]
    },
    {
      "cell_type": "code",
      "execution_count": 22,
      "metadata": {},
      "outputs": [
        {
          "name": "stdout",
          "output_type": "stream",
          "text": [
            "Model Comparison Metrics:\n",
            "                  Model         AIC         BIC  Hanna-Quinn\n",
            "0      WeibullAFTFitter  316.433303  300.079395    306.67379\n",
            "1    LogNormalAFTFitter  305.805320  289.451411    306.67379\n",
            "2  LogLogisticAFTFitter  307.510343  291.156435    306.67379\n",
            "\n",
            "The AFT model with the lowest AIC is: LogNormalAFTFitter\n",
            "The AFT model with the lowest BIC is: LogNormalAFTFitter\n",
            "The AFT model with the lowest Hanna-Quinn is: WeibullAFTFitter\n"
          ]
        }
      ],
      "source": [
        "import pandas as pd\n",
        "from lifelines import WeibullAFTFitter, LogNormalAFTFitter, LogLogisticAFTFitter\n",
        "import numpy as np\n",
        "\n",
        "\n",
        "# Instantiate each AFT fitter\n",
        "weibull_aft = WeibullAFTFitter()\n",
        "lognormal_aft = LogNormalAFTFitter()\n",
        "loglogistic_aft = LogLogisticAFTFitter()\n",
        "\n",
        "# Fit to data and collect AIC, BIC, and Hanna-Quinn values\n",
        "aft_metrics = {}\n",
        "for model in [weibull_aft, lognormal_aft, loglogistic_aft]:\n",
        "    model.fit(data, duration_col='Churn_Level', event_col='Churn')\n",
        "    aic = model.AIC_\n",
        "    bic = model.BIC_  # You can get BIC directly from lifelines\n",
        "    n = len(data)\n",
        "    k = len(model.params_)\n",
        "\n",
        "    # Hanna-Quinn criterion calculation\n",
        "    hqc = np.log(n) * k * np.log(np.log(n)) + 2 * k * np.log(n)\n",
        "\n",
        "    aft_metrics[model.__class__.__name__] = {\n",
        "        'AIC': aic,\n",
        "        'BIC': bic,\n",
        "        'Hanna-Quinn': hqc\n",
        "    }\n",
        "\n",
        "# Create a DataFrame from the metrics\n",
        "metrics_df = pd.DataFrame(aft_metrics).T\n",
        "metrics_df.index.name = 'Model'\n",
        "metrics_df = metrics_df.reset_index()\n",
        "\n",
        "print(\"Model Comparison Metrics:\")\n",
        "print(metrics_df)\n",
        "\n",
        "# Find the model with the lowest AIC, BIC, and Hanna-Quinn\n",
        "best_aft_model_aic = metrics_df.loc[metrics_df['AIC'].idxmin(), 'Model']\n",
        "best_aft_model_bic = metrics_df.loc[metrics_df['BIC'].idxmin(), 'Model']\n",
        "best_aft_model_hqc = metrics_df.loc[metrics_df['Hanna-Quinn'].idxmin(), 'Model']\n",
        "\n",
        "print(f\"\\nThe AFT model with the lowest AIC is: {best_aft_model_aic}\")\n",
        "print(f\"The AFT model with the lowest BIC is: {best_aft_model_bic}\")\n",
        "print(f\"The AFT model with the lowest Hanna-Quinn is: {best_aft_model_hqc}\")\n"
      ]
    },
    {
      "cell_type": "code",
      "execution_count": 23,
      "metadata": {
        "colab": {
          "base_uri": "https://localhost:8080/",
          "height": 936
        },
        "id": "gK0dvRzEu3q6",
        "outputId": "c0b38ab7-026d-4333-af1a-310dfa00c9e0"
      },
      "outputs": [
        {
          "data": {
            "text/html": [
              "<div>\n",
              "<style scoped>\n",
              "    .dataframe tbody tr th:only-of-type {\n",
              "        vertical-align: middle;\n",
              "    }\n",
              "\n",
              "    .dataframe tbody tr th {\n",
              "        vertical-align: top;\n",
              "    }\n",
              "\n",
              "    .dataframe thead th {\n",
              "        text-align: right;\n",
              "    }\n",
              "</style>\n",
              "<table border=\"1\" class=\"dataframe\">\n",
              "  <tbody>\n",
              "    <tr>\n",
              "      <th>model</th>\n",
              "      <td>lifelines.LogNormalAFTFitter</td>\n",
              "    </tr>\n",
              "    <tr>\n",
              "      <th>duration col</th>\n",
              "      <td>'Churn_Level'</td>\n",
              "    </tr>\n",
              "    <tr>\n",
              "      <th>event col</th>\n",
              "      <td>'Churn'</td>\n",
              "    </tr>\n",
              "    <tr>\n",
              "      <th>number of observations</th>\n",
              "      <td>338</td>\n",
              "    </tr>\n",
              "    <tr>\n",
              "      <th>number of events observed</th>\n",
              "      <td>79</td>\n",
              "    </tr>\n",
              "    <tr>\n",
              "      <th>log-likelihood</th>\n",
              "      <td>-138.903</td>\n",
              "    </tr>\n",
              "    <tr>\n",
              "      <th>time fit was run</th>\n",
              "      <td>2024-08-29 00:43:27 UTC</td>\n",
              "    </tr>\n",
              "  </tbody>\n",
              "</table>\n",
              "</div><table border=\"1\" class=\"dataframe\">\n",
              "  <thead>\n",
              "    <tr style=\"text-align: right;\">\n",
              "      <th style=\"min-width: 12px;\"></th>\n",
              "      <th style=\"min-width: 12px;\"></th>\n",
              "      <th style=\"min-width: 12px;\">coef</th>\n",
              "      <th style=\"min-width: 12px;\">exp(coef)</th>\n",
              "      <th style=\"min-width: 12px;\">se(coef)</th>\n",
              "      <th style=\"min-width: 12px;\">coef lower 95%</th>\n",
              "      <th style=\"min-width: 12px;\">coef upper 95%</th>\n",
              "      <th style=\"min-width: 12px;\">exp(coef) lower 95%</th>\n",
              "      <th style=\"min-width: 12px;\">exp(coef) upper 95%</th>\n",
              "      <th style=\"min-width: 12px;\">cmp to</th>\n",
              "      <th style=\"min-width: 12px;\">z</th>\n",
              "      <th style=\"min-width: 12px;\">p</th>\n",
              "      <th style=\"min-width: 12px;\">-log2(p)</th>\n",
              "    </tr>\n",
              "  </thead>\n",
              "  <tbody>\n",
              "    <tr>\n",
              "      <th rowspan=\"13\" valign=\"top\">mu_</th>\n",
              "      <th>Data_Exhaustion</th>\n",
              "      <td>0.102</td>\n",
              "      <td>1.107</td>\n",
              "      <td>0.148</td>\n",
              "      <td>-0.189</td>\n",
              "      <td>0.392</td>\n",
              "      <td>0.828</td>\n",
              "      <td>1.480</td>\n",
              "      <td>0.000</td>\n",
              "      <td>0.686</td>\n",
              "      <td>0.493</td>\n",
              "      <td>1.021</td>\n",
              "    </tr>\n",
              "    <tr>\n",
              "      <th>Gender</th>\n",
              "      <td>0.032</td>\n",
              "      <td>1.033</td>\n",
              "      <td>0.118</td>\n",
              "      <td>-0.199</td>\n",
              "      <td>0.263</td>\n",
              "      <td>0.820</td>\n",
              "      <td>1.301</td>\n",
              "      <td>0.000</td>\n",
              "      <td>0.273</td>\n",
              "      <td>0.785</td>\n",
              "      <td>0.350</td>\n",
              "    </tr>\n",
              "    <tr>\n",
              "      <th>High_Costs_Pricing</th>\n",
              "      <td>0.515</td>\n",
              "      <td>1.674</td>\n",
              "      <td>0.122</td>\n",
              "      <td>0.276</td>\n",
              "      <td>0.754</td>\n",
              "      <td>1.318</td>\n",
              "      <td>2.127</td>\n",
              "      <td>0.000</td>\n",
              "      <td>4.226</td>\n",
              "      <td>&lt;0.0005</td>\n",
              "      <td>15.359</td>\n",
              "    </tr>\n",
              "    <tr>\n",
              "      <th>Mobile_Data_Internet</th>\n",
              "      <td>-0.287</td>\n",
              "      <td>0.750</td>\n",
              "      <td>0.207</td>\n",
              "      <td>-0.693</td>\n",
              "      <td>0.118</td>\n",
              "      <td>0.500</td>\n",
              "      <td>1.125</td>\n",
              "      <td>0.000</td>\n",
              "      <td>-1.390</td>\n",
              "      <td>0.165</td>\n",
              "      <td>2.602</td>\n",
              "    </tr>\n",
              "    <tr>\n",
              "      <th>Monthly_Data_Usage</th>\n",
              "      <td>-0.069</td>\n",
              "      <td>0.933</td>\n",
              "      <td>0.044</td>\n",
              "      <td>-0.155</td>\n",
              "      <td>0.016</td>\n",
              "      <td>0.857</td>\n",
              "      <td>1.016</td>\n",
              "      <td>0.000</td>\n",
              "      <td>-1.585</td>\n",
              "      <td>0.113</td>\n",
              "      <td>3.145</td>\n",
              "    </tr>\n",
              "    <tr>\n",
              "      <th>Multiple_Networks</th>\n",
              "      <td>-0.104</td>\n",
              "      <td>0.901</td>\n",
              "      <td>0.202</td>\n",
              "      <td>-0.499</td>\n",
              "      <td>0.292</td>\n",
              "      <td>0.607</td>\n",
              "      <td>1.339</td>\n",
              "      <td>0.000</td>\n",
              "      <td>-0.514</td>\n",
              "      <td>0.607</td>\n",
              "      <td>0.720</td>\n",
              "    </tr>\n",
              "    <tr>\n",
              "      <th>Poor_Network_Quality_Coverage</th>\n",
              "      <td>-1.041</td>\n",
              "      <td>0.353</td>\n",
              "      <td>0.123</td>\n",
              "      <td>-1.283</td>\n",
              "      <td>-0.799</td>\n",
              "      <td>0.277</td>\n",
              "      <td>0.450</td>\n",
              "      <td>0.000</td>\n",
              "      <td>-8.433</td>\n",
              "      <td>&lt;0.0005</td>\n",
              "      <td>54.726</td>\n",
              "    </tr>\n",
              "    <tr>\n",
              "      <th>Residence</th>\n",
              "      <td>-0.146</td>\n",
              "      <td>0.864</td>\n",
              "      <td>0.124</td>\n",
              "      <td>-0.389</td>\n",
              "      <td>0.097</td>\n",
              "      <td>0.678</td>\n",
              "      <td>1.102</td>\n",
              "      <td>0.000</td>\n",
              "      <td>-1.177</td>\n",
              "      <td>0.239</td>\n",
              "      <td>2.065</td>\n",
              "    </tr>\n",
              "    <tr>\n",
              "      <th>SMS_Text_Messaging</th>\n",
              "      <td>-0.228</td>\n",
              "      <td>0.796</td>\n",
              "      <td>0.108</td>\n",
              "      <td>-0.440</td>\n",
              "      <td>-0.015</td>\n",
              "      <td>0.644</td>\n",
              "      <td>0.985</td>\n",
              "      <td>0.000</td>\n",
              "      <td>-2.101</td>\n",
              "      <td>0.036</td>\n",
              "      <td>4.811</td>\n",
              "    </tr>\n",
              "    <tr>\n",
              "      <th>Unsatisfactory_Customer_Service</th>\n",
              "      <td>0.809</td>\n",
              "      <td>2.246</td>\n",
              "      <td>0.122</td>\n",
              "      <td>0.569</td>\n",
              "      <td>1.049</td>\n",
              "      <td>1.767</td>\n",
              "      <td>2.855</td>\n",
              "      <td>0.000</td>\n",
              "      <td>6.615</td>\n",
              "      <td>&lt;0.0005</td>\n",
              "      <td>34.646</td>\n",
              "    </tr>\n",
              "    <tr>\n",
              "      <th>Usage_Freq</th>\n",
              "      <td>-0.002</td>\n",
              "      <td>0.998</td>\n",
              "      <td>0.033</td>\n",
              "      <td>-0.066</td>\n",
              "      <td>0.061</td>\n",
              "      <td>0.936</td>\n",
              "      <td>1.063</td>\n",
              "      <td>0.000</td>\n",
              "      <td>-0.075</td>\n",
              "      <td>0.940</td>\n",
              "      <td>0.089</td>\n",
              "    </tr>\n",
              "    <tr>\n",
              "      <th>Voice_Calls</th>\n",
              "      <td>0.132</td>\n",
              "      <td>1.141</td>\n",
              "      <td>0.135</td>\n",
              "      <td>-0.133</td>\n",
              "      <td>0.397</td>\n",
              "      <td>0.875</td>\n",
              "      <td>1.488</td>\n",
              "      <td>0.000</td>\n",
              "      <td>0.977</td>\n",
              "      <td>0.329</td>\n",
              "      <td>1.605</td>\n",
              "    </tr>\n",
              "    <tr>\n",
              "      <th>Intercept</th>\n",
              "      <td>1.626</td>\n",
              "      <td>5.084</td>\n",
              "      <td>0.393</td>\n",
              "      <td>0.857</td>\n",
              "      <td>2.395</td>\n",
              "      <td>2.356</td>\n",
              "      <td>10.972</td>\n",
              "      <td>0.000</td>\n",
              "      <td>4.143</td>\n",
              "      <td>&lt;0.0005</td>\n",
              "      <td>14.831</td>\n",
              "    </tr>\n",
              "    <tr>\n",
              "      <th>sigma_</th>\n",
              "      <th>Intercept</th>\n",
              "      <td>-0.616</td>\n",
              "      <td>0.540</td>\n",
              "      <td>0.084</td>\n",
              "      <td>-0.780</td>\n",
              "      <td>-0.451</td>\n",
              "      <td>0.458</td>\n",
              "      <td>0.637</td>\n",
              "      <td>0.000</td>\n",
              "      <td>-7.333</td>\n",
              "      <td>&lt;0.0005</td>\n",
              "      <td>42.018</td>\n",
              "    </tr>\n",
              "  </tbody>\n",
              "</table><br><div>\n",
              "<style scoped>\n",
              "    .dataframe tbody tr th:only-of-type {\n",
              "        vertical-align: middle;\n",
              "    }\n",
              "\n",
              "    .dataframe tbody tr th {\n",
              "        vertical-align: top;\n",
              "    }\n",
              "\n",
              "    .dataframe thead th {\n",
              "        text-align: right;\n",
              "    }\n",
              "</style>\n",
              "<table border=\"1\" class=\"dataframe\">\n",
              "  <tbody>\n",
              "    <tr>\n",
              "      <th>Concordance</th>\n",
              "      <td>0.958</td>\n",
              "    </tr>\n",
              "    <tr>\n",
              "      <th>AIC</th>\n",
              "      <td>305.805</td>\n",
              "    </tr>\n",
              "    <tr>\n",
              "      <th>log-likelihood ratio test</th>\n",
              "      <td>290.678 on 12 df</td>\n",
              "    </tr>\n",
              "    <tr>\n",
              "      <th>-log2(p) of ll-ratio test</th>\n",
              "      <td>180.620</td>\n",
              "    </tr>\n",
              "  </tbody>\n",
              "</table>\n",
              "</div>"
            ],
            "text/latex": [
              "\\begin{tabular}{llrrrrrrrrrrr}\n",
              " &  & coef & exp(coef) & se(coef) & coef lower 95% & coef upper 95% & exp(coef) lower 95% & exp(coef) upper 95% & cmp to & z & p & -log2(p) \\\\\n",
              "param & covariate &  &  &  &  &  &  &  &  &  &  &  \\\\\n",
              "\\multirow[c]{13}{*}{mu_} & Data_Exhaustion & 0.102 & 1.107 & 0.148 & -0.189 & 0.392 & 0.828 & 1.480 & 0.000 & 0.686 & 0.493 & 1.021 \\\\\n",
              " & Gender & 0.032 & 1.033 & 0.118 & -0.199 & 0.263 & 0.820 & 1.301 & 0.000 & 0.273 & 0.785 & 0.350 \\\\\n",
              " & High_Costs_Pricing & 0.515 & 1.674 & 0.122 & 0.276 & 0.754 & 1.318 & 2.127 & 0.000 & 4.226 & 0.000 & 15.359 \\\\\n",
              " & Mobile_Data_Internet & -0.287 & 0.750 & 0.207 & -0.693 & 0.118 & 0.500 & 1.125 & 0.000 & -1.390 & 0.165 & 2.602 \\\\\n",
              " & Monthly_Data_Usage & -0.069 & 0.933 & 0.044 & -0.155 & 0.016 & 0.857 & 1.016 & 0.000 & -1.585 & 0.113 & 3.145 \\\\\n",
              " & Multiple_Networks & -0.104 & 0.901 & 0.202 & -0.499 & 0.292 & 0.607 & 1.339 & 0.000 & -0.514 & 0.607 & 0.720 \\\\\n",
              " & Poor_Network_Quality_Coverage & -1.041 & 0.353 & 0.123 & -1.283 & -0.799 & 0.277 & 0.450 & 0.000 & -8.433 & 0.000 & 54.726 \\\\\n",
              " & Residence & -0.146 & 0.864 & 0.124 & -0.389 & 0.097 & 0.678 & 1.102 & 0.000 & -1.177 & 0.239 & 2.065 \\\\\n",
              " & SMS_Text_Messaging & -0.228 & 0.796 & 0.108 & -0.440 & -0.015 & 0.644 & 0.985 & 0.000 & -2.101 & 0.036 & 4.811 \\\\\n",
              " & Unsatisfactory_Customer_Service & 0.809 & 2.246 & 0.122 & 0.569 & 1.049 & 1.767 & 2.855 & 0.000 & 6.615 & 0.000 & 34.646 \\\\\n",
              " & Usage_Freq & -0.002 & 0.998 & 0.033 & -0.066 & 0.061 & 0.936 & 1.063 & 0.000 & -0.075 & 0.940 & 0.089 \\\\\n",
              " & Voice_Calls & 0.132 & 1.141 & 0.135 & -0.133 & 0.397 & 0.875 & 1.488 & 0.000 & 0.977 & 0.329 & 1.605 \\\\\n",
              " & Intercept & 1.626 & 5.084 & 0.393 & 0.857 & 2.395 & 2.356 & 10.972 & 0.000 & 4.143 & 0.000 & 14.831 \\\\\n",
              "sigma_ & Intercept & -0.616 & 0.540 & 0.084 & -0.780 & -0.451 & 0.458 & 0.637 & 0.000 & -7.333 & 0.000 & 42.018 \\\\\n",
              "\\end{tabular}\n"
            ],
            "text/plain": [
              "<lifelines.LogNormalAFTFitter: fitted with 338 total observations, 259 right-censored observations>\n",
              "             duration col = 'Churn_Level'\n",
              "                event col = 'Churn'\n",
              "   number of observations = 338\n",
              "number of events observed = 79\n",
              "           log-likelihood = -138.903\n",
              "         time fit was run = 2024-08-29 00:43:27 UTC\n",
              "\n",
              "---\n",
              "                                         coef exp(coef)  se(coef)  coef lower 95%  coef upper 95% exp(coef) lower 95% exp(coef) upper 95%\n",
              "param  covariate                                                                                                                         \n",
              "mu_    Data_Exhaustion                  0.102     1.107     0.148          -0.189           0.392               0.828               1.480\n",
              "       Gender                           0.032     1.033     0.118          -0.199           0.263               0.820               1.301\n",
              "       High_Costs_Pricing               0.515     1.674     0.122           0.276           0.754               1.318               2.127\n",
              "       Mobile_Data_Internet            -0.287     0.750     0.207          -0.693           0.118               0.500               1.125\n",
              "       Monthly_Data_Usage              -0.069     0.933     0.044          -0.155           0.016               0.857               1.016\n",
              "       Multiple_Networks               -0.104     0.901     0.202          -0.499           0.292               0.607               1.339\n",
              "       Poor_Network_Quality_Coverage   -1.041     0.353     0.123          -1.283          -0.799               0.277               0.450\n",
              "       Residence                       -0.146     0.864     0.124          -0.389           0.097               0.678               1.102\n",
              "       SMS_Text_Messaging              -0.228     0.796     0.108          -0.440          -0.015               0.644               0.985\n",
              "       Unsatisfactory_Customer_Service  0.809     2.246     0.122           0.569           1.049               1.767               2.855\n",
              "       Usage_Freq                      -0.002     0.998     0.033          -0.066           0.061               0.936               1.063\n",
              "       Voice_Calls                      0.132     1.141     0.135          -0.133           0.397               0.875               1.488\n",
              "       Intercept                        1.626     5.084     0.393           0.857           2.395               2.356              10.972\n",
              "sigma_ Intercept                       -0.616     0.540     0.084          -0.780          -0.451               0.458               0.637\n",
              "\n",
              "                                        cmp to      z       p  -log2(p)\n",
              "param  covariate                                                       \n",
              "mu_    Data_Exhaustion                   0.000  0.686   0.493     1.021\n",
              "       Gender                            0.000  0.273   0.785     0.350\n",
              "       High_Costs_Pricing                0.000  4.226 <0.0005    15.359\n",
              "       Mobile_Data_Internet              0.000 -1.390   0.165     2.602\n",
              "       Monthly_Data_Usage                0.000 -1.585   0.113     3.145\n",
              "       Multiple_Networks                 0.000 -0.514   0.607     0.720\n",
              "       Poor_Network_Quality_Coverage     0.000 -8.433 <0.0005    54.726\n",
              "       Residence                         0.000 -1.177   0.239     2.065\n",
              "       SMS_Text_Messaging                0.000 -2.101   0.036     4.811\n",
              "       Unsatisfactory_Customer_Service   0.000  6.615 <0.0005    34.646\n",
              "       Usage_Freq                        0.000 -0.075   0.940     0.089\n",
              "       Voice_Calls                       0.000  0.977   0.329     1.605\n",
              "       Intercept                         0.000  4.143 <0.0005    14.831\n",
              "sigma_ Intercept                         0.000 -7.333 <0.0005    42.018\n",
              "---\n",
              "Concordance = 0.958\n",
              "AIC = 305.805\n",
              "log-likelihood ratio test = 290.678 on 12 df\n",
              "-log2(p) of ll-ratio test = 180.620"
            ]
          },
          "metadata": {},
          "output_type": "display_data"
        }
      ],
      "source": [
        "from lifelines import LogNormalAFTFitter\n",
        "weibull_aft = LogNormalAFTFitter()\n",
        "weibull_aft.fit(data, duration_col='Churn_Level', event_col='Churn')\n",
        "weibull_aft.print_summary(3)"
      ]
    },
    {
      "cell_type": "code",
      "execution_count": 24,
      "metadata": {
        "colab": {
          "base_uri": "https://localhost:8080/",
          "height": 468
        },
        "id": "J3rlfEENu3q6",
        "outputId": "6ce30525-64e4-4de2-c4ae-0bb55c5f874e"
      },
      "outputs": [
        {
          "data": {
            "text/plain": [
              "<Axes: xlabel='log(accelerated failure rate) (95% CI)'>"
            ]
          },
          "execution_count": 24,
          "metadata": {},
          "output_type": "execute_result"
        },
        {
          "data": {
            "image/png": "[encoded data removed]",
            "text/plain": [
              "<Figure size 1000x600 with 1 Axes>"
            ]
          },
          "metadata": {},
          "output_type": "display_data"
        }
      ],
      "source": [
        "plt.subplots(figsize=(10, 6))\n",
        "weibull_aft.plot()\n"
      ]
    }
  ],
  "metadata": {
    "accelerator": "GPU",
    "colab": {
      "gpuType": "T4",
      "provenance": []
    },
    "kernelspec": {
      "display_name": "Python 3",
      "name": "python3"
    },
    "language_info": {
      "codemirror_mode": {
        "name": "ipython",
        "version": 3
      },
      "file_extension": ".py",
      "mimetype": "text/x-python",
      "name": "python",
      "nbconvert_exporter": "python",
      "pygments_lexer": "ipython3",
      "version": "3.11.9"
    }
  },
  "nbformat": 4,
  "nbformat_minor": 0
}
