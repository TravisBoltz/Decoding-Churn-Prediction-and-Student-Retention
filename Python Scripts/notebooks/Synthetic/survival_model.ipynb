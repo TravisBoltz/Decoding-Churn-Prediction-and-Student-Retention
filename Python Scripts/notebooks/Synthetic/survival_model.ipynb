{
 "cells": [
  {
   "cell_type": "markdown",
   "metadata": {},
   "source": [
    "**<center><span style=\"font-family:serif; font-size:34px;\"> Decoding Student Retention and Churn of Vodafone (Telecel) in KNUST - A Survival Analytics Approach </span>\n",
    "<a id = \"missingvalue\" ></a><center>**"
   ]
  },
  {
   "cell_type": "markdown",
   "metadata": {},
   "source": [
    "<center><span style=\"font-family:Palatino; font-size:22px;\"><i>A comparative analysis between Cox Proportional Hazards, Kaplan Meier <span style=\"color:#DC143C;\"> and</span> Random Survival Forest Model </i> </center>"
   ]
  },
  {
   "cell_type": "markdown",
   "metadata": {},
   "source": [
    "***"
   ]
  },
  {
   "cell_type": "markdown",
   "metadata": {},
   "source": [
    "#\n",
    "**<center><span style=\"font-family:serif; font-size:34px;\"> Survival Analysis Methodologies</span><a id = \"missingvalue\" ></a><center>**"
   ]
  },
  {
   "cell_type": "markdown",
   "metadata": {},
   "source": [
    "- In the context of this problem, \"methodology\" refers to the systematic processes, techniques, and protocols employed in collecting, managing, processing, and analyzing data to ensure its integrity, accuracy, and effectiveness for drawing insights or building machine learning models.\n",
    "- In this analysis, we employ three methodologies for survival analysis: Kaplan-Meier Estimator, Random Survival Forests (RSF), and Cox Proportional Hazards (CoxPH) model. These methods are used to analyze the time until an event occurs, such as student churn.\n"
   ]
  },
  {
   "cell_type": "markdown",
   "metadata": {},
   "source": [
    "## *Model 1: Kaplan-Meier Estimator\n",
    "\n",
    "**Description:**\n",
    "The Kaplan-Meier estimator is employed in survival analysis to analyze the time until an event occurs.\n",
    "\n",
    "**Mathematical Computation:**\n",
    "\n",
    "The Kaplan-Meier estimator calculates the survival probability at a specific time step by multiplying the probability of surviving each previous time step.\n",
    "\n",
    "Let $S(t)$ be the survival probability at time $t$. The estimator is computed as:\n",
    "\n",
    "$$\n",
    "S(t) = \\prod_{t_i \\leq t} \\left(1 - \\frac{d_i}{n_i}\\right)\n",
    "$$\n",
    "\n",
    "where:\n",
    "- \n",
    "- $t_i$ is the time of the $i$-th unique event (churn)\n",
    "- $d_i$ is the number of events (churn) at time $i$\n",
    "- $n_i$ is the number of students at risk just prior to time $i$\n",
    "\n",
    "The estimator essentially calculates the probability of surviving from one time step to the next, and the product of these probabilities gives the overall survival probability up to time $t$.\n",
    "\n",
    "\n",
    "Here, $t_1$ would be the time at which the first churn event occurred, $d_1$ would be 1 (since one churn event occurred), and $n_1$ would be the total number of students at that time.\n",
    "\n",
    "## *Model 2: Random Survival Forests\n",
    "\n",
    "**Description:**\n",
    "Random Survival Forests extend the traditional random forest algorithm to the survival analysis setting. They are an ensemble method that combines multiple decision trees to improve predictive performance and handle censored data.\n",
    "\n",
    "**Mathematical Computation:**\n",
    "\n",
    "Random Survival Forests use a similar structure to traditional random forests but with modifications to handle right-censored data and to predict survival probabilities.\n",
    "\n",
    "The predicted survival probability at a specific time $t$ for a new instance can be computed as:\n",
    "\n",
    "$$\n",
    "\\hat{S}(t) = \\frac{1}{B} \\sum_{b=1}^{B} \\hat{S}_b(t)\n",
    "$$\n",
    "\n",
    "where:\n",
    "- $\\hat{S}(t)$ is the predicted survival probability\n",
    "- $B$ is the total number of trees in the forest\n",
    "- $\\hat{S}_b(t)$ is the predicted survival probability from the $b$-th tree\n",
    "\n",
    "Each tree is constructed using a bootstrapped sample of the data, and the splitting criteria are based on survival-specific metrics like the log-rank statistic or the log-rank score.\n",
    "\n",
    "For this model, we would need to build multiple decision trees and calculate the predicted survival probability for each tree.\n",
    "\n",
    "The hazard function for a specific student can be calculated using the formula.\n",
    "\n",
    "## *Model 3: Cox Proportional Hazards (Cox PH) Model\n",
    "\n",
    "**Description:**\n",
    "The Cox Proportional Hazards model is a popular semi-parametric model for survival analysis. It models the relationship between the survival time and a set of predictor variables, assuming a proportional hazard rate.\n",
    "\n",
    "**Mathematical Computation:**\n",
    "\n",
    "The Cox PH model is represented as:\n",
    "\n",
    "$$\n",
    "h(t \\mid x) = h_0(t) \\exp(\\beta_1 x_1 + \\beta_2 x_2 + \\dots + \\beta_p x_p)\n",
    "$$\n",
    "\n",
    "where:\n",
    "- $h(t \\mid x)$ is the hazard function, i.e., the instantaneous rate of the event occurring at time $t$ given the predictor variables $x$\n",
    "- $h_0(t)$ is the baseline hazard function, representing the hazard for individuals with all predictor variables equal to zero\n",
    "- $\\beta_1, \\beta_2, ..., \\beta_p$ are the coefficients for the predictor variables\n",
    "\n",
    "The coefficients are estimated using maximum likelihood estimation, and the model assumes a proportional hazard ratio, meaning the effect of the predictors on the hazard is constant over time.\n",
    "\n",
    "## *Concordance Index in Survival Analysis\n",
    "\n",
    "The Concordance Index, often referred to as the C-index or Harrell's C-index, is a statistical metric used to evaluate the performance of models in survival analysis. It assesses how well a model discriminates between subjects in terms of their event times and predicted risks.\n",
    "\n",
    "**Description**: The Concordance Index measures the model's ability to correctly order or rank the predicted risks of individuals based on their actual event times. In survival analysis, the goal is often to predict the time until a specific event occurs, such as death, relapse, or failure. The Concordance Index evaluates whether the model's predicted risks align with the observed event times.\n",
    "\n",
    "**Mathematical Computation**: Let's break down the calculation of the Concordance Index:\n",
    "\n",
    "**Step 1: Define Pairs of Individuals**\n",
    "- Create all possible pairs of individuals from the dataset.\n",
    "- For each pair, compare their predicted risk scores and event times.\n",
    "\n",
    "**Step 2: Calculate Concordant and Discordant Pairs**\n",
    "\n",
    "- A pair of individuals (i, j) is concordant if the ordering of their predicted risks aligns with the ordering of their event times: \n",
    "  - If $\\hat{F}(t_i) > \\hat{F}(t_j)$ and $T_i > T_j$\n",
    "  - If $\\hat{F}(t_i) < \\hat{F}(t_j)$ and $T_i < T_j$\n",
    "- A pair is discordant if the ordering of predicted risks is opposite to the ordering of event times.\n",
    "- Pairs where event times are equal ($T_i = T_j$) are ignored.\n",
    "\n",
    "**Step 3: Compute the Concordance Index**\n",
    "\n",
    "The Concordance Index ($C$) is calculated as:\n",
    "\n",
    "$$\n",
    "C = \\frac{\\text{Number of Concordant Pairs}}{\\text{Number of Concordant Pairs} + \\text{Number of Discordant Pairs}}\n",
    "$$\n",
    "\n",
    "**Interpretation**\n",
    "\n",
    "- $C$ ranges from 0 to 1, where:\n",
    "  - 0.5 indicates random guessing (no predictive ability)\n",
    "  - 1 indicates perfect discrimination (perfect predictive ability)\n",
    "- A $C$ value above 0.5 suggests that the model has predictive ability better than random chance.\n",
    "- Higher $C$ values indicate better model performance and more accurate risk predictions.\n",
    "\n",
    "**Extensions**\n",
    "\n",
    "The Concordance Index can be extended to handle censored data, where individuals may not experience the event of interest during the observation period. Various methods, such as inverse probability of censoring weights (IPCW), can be applied to adjust for censored instances and provide a more accurate assessment of model performance.\n"
   ]
  },
  {
   "cell_type": "markdown",
   "metadata": {},
   "source": [
    "***"
   ]
  },
  {
   "cell_type": "markdown",
   "metadata": {},
   "source": [
    "# \n",
    "**<center><span style=\"font-family:serif; font-size:34px;\"> Survival Analysis Analytics</span><a id = \"missingvalue\" ></a><center>**"
   ]
  },
  {
   "cell_type": "markdown",
   "metadata": {},
   "source": [
    "### Loading of libraries and dataset"
   ]
  },
  {
   "cell_type": "code",
   "execution_count": 1,
   "metadata": {},
   "outputs": [],
   "source": [
    "# # # %pip install pandas\n",
    "# # # %pip install numpy\n",
    "# # %pip install matplotlib\n",
    "# # %pip install seaborn\n",
    "# # %pip install scikit-learn\n",
    "# # # %pip install xgboost\n",
    "# # # %pip install lightgbm\n",
    "# # # %pip install catboost\n",
    "# %pip install lifelines\n",
    "# # # %pip install pycox\n",
    "# %pip install random-survival-forest\n",
    "# %pip install scikit-survival\n",
    "# %pip install jinja2\n"
   ]
  },
  {
   "cell_type": "code",
   "execution_count": 2,
   "metadata": {},
   "outputs": [],
   "source": [
    "# import random\n",
    "# import pandas as pd\n",
    "\n",
    "# # Define lists for different fields\n",
    "# genders = ['Male', 'Female']\n",
    "# colleges = ['College of Engineering', 'College of Humanities and Social Sciences', 'College of Agriculture and Natural Resources', 'College of Art and Built Environment', 'College of Science', 'College of Health Sciences']\n",
    "# churns = ['Yes', 'No']\n",
    "# levels = [100, 200, 300, 400, 500]  # Removed 600\n",
    "# residences = ['Off-campus', 'On-campus']\n",
    "# sim_usage = ['Yes', 'No']\n",
    "# usage_frequency = ['Daily', 'Several times a week', 'Occasionally', 'Rarely', 'Never']\n",
    "# network_strength = [1, 2, 3, 4, 5]\n",
    "# services_used = ['Voice Calls', 'Mobile data/Internet', 'SMS/Text messaging']\n",
    "# data_allowance_exhaustion = ['Yes', 'No']\n",
    "# other_networks = ['Yes', 'No']\n",
    "# considered_discontinuing = ['Yes', 'No']\n",
    "# reasons_for_discontinuing = ['Poor network quality/coverage', 'Insufficient data allowance', 'Unsatisfactory customer service', 'High costs/pricing']\n",
    "# education_levels = ['Undergraduate', 'Postgraduate', 'Distant Learning', 'Masters', 'PhD']\n",
    "# monthly_data = ['0-2', '2-4', '4-6', '6-8', '8 and more']\n",
    "\n",
    "# # Define a function to generate synthetic responses\n",
    "# def generate_responses(num_responses_per_college):\n",
    "#     responses = []\n",
    "#     for college in colleges:\n",
    "#         for _ in range(num_responses_per_college):\n",
    "#             gender = random.choices(genders, weights=[0.442, 0.558], k=1)[0]\n",
    "#             churn = random.choices(churns, weights=[0.16, 0.84], k=1)[0]\n",
    "#             education_level = random.choices(education_levels, weights=[0.99, 0.000, 0.000, 0.0005, 0.00005], k=1)[0]\n",
    "\n",
    "#             if education_level in ['Postgraduate', 'Distant Learning', 'Masters', 'PhD']:\n",
    "#                 level = random.choice([100, 200])\n",
    "#             else:\n",
    "#                 if college in ['College of Science', 'College of Humanities and Social Sciences']:\n",
    "#                     level = random.choices(levels, weights=[0.3, 0.3, 0.24, 0.14, 0.02], k=1)[0]  # Reduced weight for level 400\n",
    "#                 else:\n",
    "#                     level = random.choices([100, 200, 300, 400], weights=[0.3, 0.3, 0.3, 0.1], k=1)[0]  # Reduced weight for level 400\n",
    "\n",
    "#             residence = random.choices(residences, weights=[0.679, 0.321], k=1)[0]\n",
    "#             sim_usage_value = random.choices(sim_usage, weights=[0.96, 0.04], k=1)[0]\n",
    "#             usage_frequency_value = random.choices(usage_frequency, weights=[0.494, 0.16, 0.21, 0.049, 0.086], k=1)[0]\n",
    "#             network_strength_value = random.choices(network_strength, weights=[0.25, 0.247, 0.333, 0.086, 0.025], k=1)[0]\n",
    "#             voice_calls_value = random.choices(['Yes', 'No'], weights=[0.815, 0.185], k=1)[0]\n",
    "#             mobile_data_internet_value = random.choices(['Yes', 'No'], weights=[0.84, 0.16], k=1)[0]\n",
    "#             sms_text_messaging_value = random.choices(['Yes', 'No'], weights=[0.51, 0.48], k=1)[0]\n",
    "#             data_allowance_exhaustion_value = random.choices(data_allowance_exhaustion, weights=[0.827, 0.173], k=1)[0]\n",
    "#             other_networks_values = random.choices(other_networks, weights=[0.938, 0.062], k=1)[0]\n",
    "#             considered_discontinuing_value = random.choices(considered_discontinuing, weights=[0.84, 0.16], k=1)[0]\n",
    "\n",
    "#             poor_network_quality_coverage = 'Yes' if churn == 'No' else random.choices(['Yes', 'No'], weights=[0.704, 0.296], k=1)[0]\n",
    "#             insufficient_data_allowance = 'Yes' if churn == 'No' else random.choices(['Yes', 'No'], weights=[0.3, 0.7], k=1)[0]\n",
    "#             unsatisfactory_customer_service = 'Yes' if churn == 'No' else random.choices(['Yes', 'No'], weights=[0.39, 0.61], k=1)[0]\n",
    "#             high_costs_pricing = 'Yes' if churn == 'No' else random.choices(['Yes', 'No'], weights=[0.545, 0.455], k=1)[0]\n",
    "\n",
    "#             monthly_data_usage = random.choices(monthly_data, weights=[0.05, 0.1, 0.15, 0.2, 0.5], k=1)[0]\n",
    "\n",
    "#             responses.append([gender, college, churn, level, education_level, residence, sim_usage_value, usage_frequency_value, network_strength_value, voice_calls_value, mobile_data_internet_value, sms_text_messaging_value, data_allowance_exhaustion_value, other_networks_values, considered_discontinuing_value, poor_network_quality_coverage, insufficient_data_allowance, unsatisfactory_customer_service, high_costs_pricing, monthly_data_usage])\n",
    "\n",
    "#     return responses\n",
    "\n",
    "# # Generate synthetic responses for 768 students (128 per college)\n",
    "# num_responses_per_college = 128\n",
    "# responses = generate_responses(num_responses_per_college)\n",
    "\n",
    "# # Create a DataFrame from the synthetic responses\n",
    "# columns = ['Gender', 'College', 'Churn', 'Level', 'Education_Level', 'Residence', 'SIM_Usage', 'Usage_Freq', 'Network_Strength', 'Voice_Calls', 'Mobile_Data_Internet', 'SMS_Text_Messaging', 'Data_Exhaustion', 'Multiple_Networks','Other_Networks_Better_Services', 'Poor_Network_Quality_Coverage', 'Insufficient_Data_Allowance', 'Unsatisfactory_Customer_Service', 'High_Costs_Pricing', 'Monthly_Data_Usage']\n",
    "\n",
    "# data = pd.DataFrame(responses, columns=columns)\n",
    "\n",
    "# # Display the DataFrame\n",
    "# data\n",
    "\n",
    "# # Optional: Save the synthetic responses to a CSV file\n",
    "# data.to_csv('newData.csv', index=False)"
   ]
  },
  {
   "cell_type": "code",
   "execution_count": 3,
   "metadata": {},
   "outputs": [],
   "source": [
    "import pandas as pd\n",
    "from sklearn.preprocessing import LabelEncoder\n",
    "from lifelines import CoxPHFitter, KaplanMeierFitter\n",
    "from lifelines.utils import concordance_index\n",
    "from sksurv.ensemble import RandomSurvivalForest\n",
    "from sksurv.metrics import concordance_index_censored\n",
    "\n",
    "# Load the dataset\n",
    "# data = pd.read_csv('../../data/Synthetic/reData.csv')\n",
    "\n",
    "data = pd.read_csv('newData.csv')\n"
   ]
  },
  {
   "cell_type": "code",
   "execution_count": 4,
   "metadata": {},
   "outputs": [],
   "source": [
    "# def convert_values(val):\n",
    "#     if 0 <= val < 2:\n",
    "#         return '0 - 2'\n",
    "#     elif 2 <= val < 4:\n",
    "#         return '2 - 4'\n",
    "#     elif 4 <= val < 6:\n",
    "#         return '4 - 6'   \n",
    "#     elif 6 <= val < 8:\n",
    "#         return '6 - 8'\n",
    "#     elif 8 <= val < 10:\n",
    "#         return '8 - 10'        \n",
    "#     elif val >= 10:\n",
    "#         return 'More than 10'\n",
    "#     else:\n",
    "#         return str(val)\n",
    "\n",
    "# data['Monthly_Data_Usage'] = data['Monthly_Data_Usage'].apply(convert_values)"
   ]
  },
  {
   "cell_type": "code",
   "execution_count": 5,
   "metadata": {},
   "outputs": [
    {
     "data": {
      "text/html": [
       "<div>\n",
       "<style scoped>\n",
       "    .dataframe tbody tr th:only-of-type {\n",
       "        vertical-align: middle;\n",
       "    }\n",
       "\n",
       "    .dataframe tbody tr th {\n",
       "        vertical-align: top;\n",
       "    }\n",
       "\n",
       "    .dataframe thead th {\n",
       "        text-align: right;\n",
       "    }\n",
       "</style>\n",
       "<table border=\"1\" class=\"dataframe\">\n",
       "  <thead>\n",
       "    <tr style=\"text-align: right;\">\n",
       "      <th></th>\n",
       "      <th>Gender</th>\n",
       "      <th>College</th>\n",
       "      <th>Churn</th>\n",
       "      <th>Level</th>\n",
       "      <th>Education_Level</th>\n",
       "      <th>Residence</th>\n",
       "      <th>SIM_Usage</th>\n",
       "      <th>Usage_Freq</th>\n",
       "      <th>Network_Strength</th>\n",
       "      <th>Voice_Calls</th>\n",
       "      <th>Mobile_Data_Internet</th>\n",
       "      <th>SMS_Text_Messaging</th>\n",
       "      <th>Data_Exhaustion</th>\n",
       "      <th>Multiple_Networks</th>\n",
       "      <th>Other_Networks_Better_Services</th>\n",
       "      <th>Poor_Network_Quality_Coverage</th>\n",
       "      <th>Insufficient_Data_Allowance</th>\n",
       "      <th>Unsatisfactory_Customer_Service</th>\n",
       "      <th>High_Costs_Pricing</th>\n",
       "      <th>Monthly_Data_Usage</th>\n",
       "    </tr>\n",
       "  </thead>\n",
       "  <tbody>\n",
       "    <tr>\n",
       "      <th>0</th>\n",
       "      <td>Female</td>\n",
       "      <td>College of Engineering</td>\n",
       "      <td>No</td>\n",
       "      <td>300</td>\n",
       "      <td>Undergraduate</td>\n",
       "      <td>On-campus</td>\n",
       "      <td>Yes</td>\n",
       "      <td>Several times a week</td>\n",
       "      <td>3</td>\n",
       "      <td>Yes</td>\n",
       "      <td>Yes</td>\n",
       "      <td>No</td>\n",
       "      <td>Yes</td>\n",
       "      <td>Yes</td>\n",
       "      <td>Yes</td>\n",
       "      <td>Yes</td>\n",
       "      <td>Yes</td>\n",
       "      <td>Yes</td>\n",
       "      <td>Yes</td>\n",
       "      <td>6-8</td>\n",
       "    </tr>\n",
       "    <tr>\n",
       "      <th>1</th>\n",
       "      <td>Female</td>\n",
       "      <td>College of Engineering</td>\n",
       "      <td>No</td>\n",
       "      <td>200</td>\n",
       "      <td>Undergraduate</td>\n",
       "      <td>Off-campus</td>\n",
       "      <td>Yes</td>\n",
       "      <td>Daily</td>\n",
       "      <td>3</td>\n",
       "      <td>Yes</td>\n",
       "      <td>Yes</td>\n",
       "      <td>No</td>\n",
       "      <td>Yes</td>\n",
       "      <td>Yes</td>\n",
       "      <td>Yes</td>\n",
       "      <td>Yes</td>\n",
       "      <td>Yes</td>\n",
       "      <td>Yes</td>\n",
       "      <td>Yes</td>\n",
       "      <td>6-8</td>\n",
       "    </tr>\n",
       "    <tr>\n",
       "      <th>2</th>\n",
       "      <td>Male</td>\n",
       "      <td>College of Engineering</td>\n",
       "      <td>No</td>\n",
       "      <td>100</td>\n",
       "      <td>Undergraduate</td>\n",
       "      <td>Off-campus</td>\n",
       "      <td>Yes</td>\n",
       "      <td>Several times a week</td>\n",
       "      <td>4</td>\n",
       "      <td>Yes</td>\n",
       "      <td>Yes</td>\n",
       "      <td>No</td>\n",
       "      <td>Yes</td>\n",
       "      <td>Yes</td>\n",
       "      <td>No</td>\n",
       "      <td>Yes</td>\n",
       "      <td>Yes</td>\n",
       "      <td>Yes</td>\n",
       "      <td>Yes</td>\n",
       "      <td>8 and more</td>\n",
       "    </tr>\n",
       "    <tr>\n",
       "      <th>3</th>\n",
       "      <td>Male</td>\n",
       "      <td>College of Engineering</td>\n",
       "      <td>No</td>\n",
       "      <td>100</td>\n",
       "      <td>Undergraduate</td>\n",
       "      <td>Off-campus</td>\n",
       "      <td>Yes</td>\n",
       "      <td>Daily</td>\n",
       "      <td>1</td>\n",
       "      <td>No</td>\n",
       "      <td>Yes</td>\n",
       "      <td>No</td>\n",
       "      <td>Yes</td>\n",
       "      <td>Yes</td>\n",
       "      <td>Yes</td>\n",
       "      <td>Yes</td>\n",
       "      <td>Yes</td>\n",
       "      <td>Yes</td>\n",
       "      <td>Yes</td>\n",
       "      <td>8 and more</td>\n",
       "    </tr>\n",
       "    <tr>\n",
       "      <th>4</th>\n",
       "      <td>Male</td>\n",
       "      <td>College of Engineering</td>\n",
       "      <td>No</td>\n",
       "      <td>200</td>\n",
       "      <td>Undergraduate</td>\n",
       "      <td>Off-campus</td>\n",
       "      <td>Yes</td>\n",
       "      <td>Occasionally</td>\n",
       "      <td>1</td>\n",
       "      <td>Yes</td>\n",
       "      <td>No</td>\n",
       "      <td>No</td>\n",
       "      <td>Yes</td>\n",
       "      <td>Yes</td>\n",
       "      <td>Yes</td>\n",
       "      <td>Yes</td>\n",
       "      <td>Yes</td>\n",
       "      <td>Yes</td>\n",
       "      <td>Yes</td>\n",
       "      <td>8 and more</td>\n",
       "    </tr>\n",
       "  </tbody>\n",
       "</table>\n",
       "</div>"
      ],
      "text/plain": [
       "   Gender                 College Churn  Level Education_Level   Residence  \\\n",
       "0  Female  College of Engineering    No    300   Undergraduate   On-campus   \n",
       "1  Female  College of Engineering    No    200   Undergraduate  Off-campus   \n",
       "2    Male  College of Engineering    No    100   Undergraduate  Off-campus   \n",
       "3    Male  College of Engineering    No    100   Undergraduate  Off-campus   \n",
       "4    Male  College of Engineering    No    200   Undergraduate  Off-campus   \n",
       "\n",
       "  SIM_Usage            Usage_Freq  Network_Strength Voice_Calls  \\\n",
       "0       Yes  Several times a week                 3         Yes   \n",
       "1       Yes                 Daily                 3         Yes   \n",
       "2       Yes  Several times a week                 4         Yes   \n",
       "3       Yes                 Daily                 1          No   \n",
       "4       Yes          Occasionally                 1         Yes   \n",
       "\n",
       "  Mobile_Data_Internet SMS_Text_Messaging Data_Exhaustion Multiple_Networks  \\\n",
       "0                  Yes                 No             Yes               Yes   \n",
       "1                  Yes                 No             Yes               Yes   \n",
       "2                  Yes                 No             Yes               Yes   \n",
       "3                  Yes                 No             Yes               Yes   \n",
       "4                   No                 No             Yes               Yes   \n",
       "\n",
       "  Other_Networks_Better_Services Poor_Network_Quality_Coverage  \\\n",
       "0                            Yes                           Yes   \n",
       "1                            Yes                           Yes   \n",
       "2                             No                           Yes   \n",
       "3                            Yes                           Yes   \n",
       "4                            Yes                           Yes   \n",
       "\n",
       "  Insufficient_Data_Allowance Unsatisfactory_Customer_Service  \\\n",
       "0                         Yes                             Yes   \n",
       "1                         Yes                             Yes   \n",
       "2                         Yes                             Yes   \n",
       "3                         Yes                             Yes   \n",
       "4                         Yes                             Yes   \n",
       "\n",
       "  High_Costs_Pricing Monthly_Data_Usage  \n",
       "0                Yes                6-8  \n",
       "1                Yes                6-8  \n",
       "2                Yes         8 and more  \n",
       "3                Yes         8 and more  \n",
       "4                Yes         8 and more  "
      ]
     },
     "execution_count": 5,
     "metadata": {},
     "output_type": "execute_result"
    }
   ],
   "source": [
    "data.head()"
   ]
  },
  {
   "cell_type": "markdown",
   "metadata": {},
   "source": [
    "### Model Building"
   ]
  },
  {
   "cell_type": "markdown",
   "metadata": {},
   "source": [
    "- In this data, our time interval is the Level\n",
    "- Our dependent variable will be on churn"
   ]
  },
  {
   "cell_type": "markdown",
   "metadata": {},
   "source": [
    ">  Models to be used\n",
    "* Cox Proportional Hazards Model: This model assumes that the effects of the predictors are multiplicative with respect to the hazard and are constant over time (proportional hazards assumption). If these assumptions hold true for your data, the Cox model can provide interpretable parameters and is widely used in medical research.\n",
    "* Random Survival Forest Model: This model is a type of ensemble method that can handle more complex interactions between variables and doesn’t make the proportional hazards assumption. It can be more accurate if there are complex, non-linear relationships in your data.\n",
    "* Kaplan-Meier Estimator: This provides a non-parametric estimate of the survival function. This function gives the probability of surviving (not churning) past a given time."
   ]
  },
  {
   "cell_type": "code",
   "execution_count": 6,
   "metadata": {},
   "outputs": [
    {
     "data": {
      "text/html": [
       "<div>\n",
       "<style scoped>\n",
       "    .dataframe tbody tr th:only-of-type {\n",
       "        vertical-align: middle;\n",
       "    }\n",
       "\n",
       "    .dataframe tbody tr th {\n",
       "        vertical-align: top;\n",
       "    }\n",
       "\n",
       "    .dataframe thead th {\n",
       "        text-align: right;\n",
       "    }\n",
       "</style>\n",
       "<table border=\"1\" class=\"dataframe\">\n",
       "  <thead>\n",
       "    <tr style=\"text-align: right;\">\n",
       "      <th></th>\n",
       "      <th>Gender</th>\n",
       "      <th>College</th>\n",
       "      <th>Churn</th>\n",
       "      <th>Level</th>\n",
       "      <th>Education_Level</th>\n",
       "      <th>Residence</th>\n",
       "      <th>SIM_Usage</th>\n",
       "      <th>Usage_Freq</th>\n",
       "      <th>Network_Strength</th>\n",
       "      <th>Voice_Calls</th>\n",
       "      <th>Mobile_Data_Internet</th>\n",
       "      <th>SMS_Text_Messaging</th>\n",
       "      <th>Data_Exhaustion</th>\n",
       "      <th>Multiple_Networks</th>\n",
       "      <th>Other_Networks_Better_Services</th>\n",
       "      <th>Poor_Network_Quality_Coverage</th>\n",
       "      <th>Insufficient_Data_Allowance</th>\n",
       "      <th>Unsatisfactory_Customer_Service</th>\n",
       "      <th>High_Costs_Pricing</th>\n",
       "      <th>Monthly_Data_Usage</th>\n",
       "    </tr>\n",
       "  </thead>\n",
       "  <tbody>\n",
       "    <tr>\n",
       "      <th>count</th>\n",
       "      <td>768</td>\n",
       "      <td>768</td>\n",
       "      <td>768</td>\n",
       "      <td>768.000000</td>\n",
       "      <td>768</td>\n",
       "      <td>768</td>\n",
       "      <td>768</td>\n",
       "      <td>768</td>\n",
       "      <td>768.000000</td>\n",
       "      <td>768</td>\n",
       "      <td>768</td>\n",
       "      <td>768</td>\n",
       "      <td>768</td>\n",
       "      <td>768</td>\n",
       "      <td>768</td>\n",
       "      <td>768</td>\n",
       "      <td>768</td>\n",
       "      <td>768</td>\n",
       "      <td>768</td>\n",
       "      <td>768</td>\n",
       "    </tr>\n",
       "    <tr>\n",
       "      <th>unique</th>\n",
       "      <td>2</td>\n",
       "      <td>6</td>\n",
       "      <td>2</td>\n",
       "      <td>NaN</td>\n",
       "      <td>1</td>\n",
       "      <td>2</td>\n",
       "      <td>2</td>\n",
       "      <td>5</td>\n",
       "      <td>NaN</td>\n",
       "      <td>2</td>\n",
       "      <td>2</td>\n",
       "      <td>2</td>\n",
       "      <td>2</td>\n",
       "      <td>2</td>\n",
       "      <td>2</td>\n",
       "      <td>2</td>\n",
       "      <td>2</td>\n",
       "      <td>2</td>\n",
       "      <td>2</td>\n",
       "      <td>5</td>\n",
       "    </tr>\n",
       "    <tr>\n",
       "      <th>top</th>\n",
       "      <td>Female</td>\n",
       "      <td>College of Engineering</td>\n",
       "      <td>No</td>\n",
       "      <td>NaN</td>\n",
       "      <td>Undergraduate</td>\n",
       "      <td>Off-campus</td>\n",
       "      <td>Yes</td>\n",
       "      <td>Daily</td>\n",
       "      <td>NaN</td>\n",
       "      <td>Yes</td>\n",
       "      <td>Yes</td>\n",
       "      <td>No</td>\n",
       "      <td>Yes</td>\n",
       "      <td>Yes</td>\n",
       "      <td>Yes</td>\n",
       "      <td>Yes</td>\n",
       "      <td>Yes</td>\n",
       "      <td>Yes</td>\n",
       "      <td>Yes</td>\n",
       "      <td>8 and more</td>\n",
       "    </tr>\n",
       "    <tr>\n",
       "      <th>freq</th>\n",
       "      <td>429</td>\n",
       "      <td>128</td>\n",
       "      <td>647</td>\n",
       "      <td>NaN</td>\n",
       "      <td>768</td>\n",
       "      <td>515</td>\n",
       "      <td>745</td>\n",
       "      <td>386</td>\n",
       "      <td>NaN</td>\n",
       "      <td>623</td>\n",
       "      <td>644</td>\n",
       "      <td>389</td>\n",
       "      <td>635</td>\n",
       "      <td>722</td>\n",
       "      <td>647</td>\n",
       "      <td>733</td>\n",
       "      <td>683</td>\n",
       "      <td>699</td>\n",
       "      <td>707</td>\n",
       "      <td>404</td>\n",
       "    </tr>\n",
       "    <tr>\n",
       "      <th>mean</th>\n",
       "      <td>NaN</td>\n",
       "      <td>NaN</td>\n",
       "      <td>NaN</td>\n",
       "      <td>218.229167</td>\n",
       "      <td>NaN</td>\n",
       "      <td>NaN</td>\n",
       "      <td>NaN</td>\n",
       "      <td>NaN</td>\n",
       "      <td>2.333333</td>\n",
       "      <td>NaN</td>\n",
       "      <td>NaN</td>\n",
       "      <td>NaN</td>\n",
       "      <td>NaN</td>\n",
       "      <td>NaN</td>\n",
       "      <td>NaN</td>\n",
       "      <td>NaN</td>\n",
       "      <td>NaN</td>\n",
       "      <td>NaN</td>\n",
       "      <td>NaN</td>\n",
       "      <td>NaN</td>\n",
       "    </tr>\n",
       "    <tr>\n",
       "      <th>std</th>\n",
       "      <td>NaN</td>\n",
       "      <td>NaN</td>\n",
       "      <td>NaN</td>\n",
       "      <td>100.486377</td>\n",
       "      <td>NaN</td>\n",
       "      <td>NaN</td>\n",
       "      <td>NaN</td>\n",
       "      <td>NaN</td>\n",
       "      <td>1.021711</td>\n",
       "      <td>NaN</td>\n",
       "      <td>NaN</td>\n",
       "      <td>NaN</td>\n",
       "      <td>NaN</td>\n",
       "      <td>NaN</td>\n",
       "      <td>NaN</td>\n",
       "      <td>NaN</td>\n",
       "      <td>NaN</td>\n",
       "      <td>NaN</td>\n",
       "      <td>NaN</td>\n",
       "      <td>NaN</td>\n",
       "    </tr>\n",
       "    <tr>\n",
       "      <th>min</th>\n",
       "      <td>NaN</td>\n",
       "      <td>NaN</td>\n",
       "      <td>NaN</td>\n",
       "      <td>100.000000</td>\n",
       "      <td>NaN</td>\n",
       "      <td>NaN</td>\n",
       "      <td>NaN</td>\n",
       "      <td>NaN</td>\n",
       "      <td>1.000000</td>\n",
       "      <td>NaN</td>\n",
       "      <td>NaN</td>\n",
       "      <td>NaN</td>\n",
       "      <td>NaN</td>\n",
       "      <td>NaN</td>\n",
       "      <td>NaN</td>\n",
       "      <td>NaN</td>\n",
       "      <td>NaN</td>\n",
       "      <td>NaN</td>\n",
       "      <td>NaN</td>\n",
       "      <td>NaN</td>\n",
       "    </tr>\n",
       "    <tr>\n",
       "      <th>25%</th>\n",
       "      <td>NaN</td>\n",
       "      <td>NaN</td>\n",
       "      <td>NaN</td>\n",
       "      <td>100.000000</td>\n",
       "      <td>NaN</td>\n",
       "      <td>NaN</td>\n",
       "      <td>NaN</td>\n",
       "      <td>NaN</td>\n",
       "      <td>1.000000</td>\n",
       "      <td>NaN</td>\n",
       "      <td>NaN</td>\n",
       "      <td>NaN</td>\n",
       "      <td>NaN</td>\n",
       "      <td>NaN</td>\n",
       "      <td>NaN</td>\n",
       "      <td>NaN</td>\n",
       "      <td>NaN</td>\n",
       "      <td>NaN</td>\n",
       "      <td>NaN</td>\n",
       "      <td>NaN</td>\n",
       "    </tr>\n",
       "    <tr>\n",
       "      <th>50%</th>\n",
       "      <td>NaN</td>\n",
       "      <td>NaN</td>\n",
       "      <td>NaN</td>\n",
       "      <td>200.000000</td>\n",
       "      <td>NaN</td>\n",
       "      <td>NaN</td>\n",
       "      <td>NaN</td>\n",
       "      <td>NaN</td>\n",
       "      <td>2.000000</td>\n",
       "      <td>NaN</td>\n",
       "      <td>NaN</td>\n",
       "      <td>NaN</td>\n",
       "      <td>NaN</td>\n",
       "      <td>NaN</td>\n",
       "      <td>NaN</td>\n",
       "      <td>NaN</td>\n",
       "      <td>NaN</td>\n",
       "      <td>NaN</td>\n",
       "      <td>NaN</td>\n",
       "      <td>NaN</td>\n",
       "    </tr>\n",
       "    <tr>\n",
       "      <th>75%</th>\n",
       "      <td>NaN</td>\n",
       "      <td>NaN</td>\n",
       "      <td>NaN</td>\n",
       "      <td>300.000000</td>\n",
       "      <td>NaN</td>\n",
       "      <td>NaN</td>\n",
       "      <td>NaN</td>\n",
       "      <td>NaN</td>\n",
       "      <td>3.000000</td>\n",
       "      <td>NaN</td>\n",
       "      <td>NaN</td>\n",
       "      <td>NaN</td>\n",
       "      <td>NaN</td>\n",
       "      <td>NaN</td>\n",
       "      <td>NaN</td>\n",
       "      <td>NaN</td>\n",
       "      <td>NaN</td>\n",
       "      <td>NaN</td>\n",
       "      <td>NaN</td>\n",
       "      <td>NaN</td>\n",
       "    </tr>\n",
       "    <tr>\n",
       "      <th>max</th>\n",
       "      <td>NaN</td>\n",
       "      <td>NaN</td>\n",
       "      <td>NaN</td>\n",
       "      <td>500.000000</td>\n",
       "      <td>NaN</td>\n",
       "      <td>NaN</td>\n",
       "      <td>NaN</td>\n",
       "      <td>NaN</td>\n",
       "      <td>5.000000</td>\n",
       "      <td>NaN</td>\n",
       "      <td>NaN</td>\n",
       "      <td>NaN</td>\n",
       "      <td>NaN</td>\n",
       "      <td>NaN</td>\n",
       "      <td>NaN</td>\n",
       "      <td>NaN</td>\n",
       "      <td>NaN</td>\n",
       "      <td>NaN</td>\n",
       "      <td>NaN</td>\n",
       "      <td>NaN</td>\n",
       "    </tr>\n",
       "  </tbody>\n",
       "</table>\n",
       "</div>"
      ],
      "text/plain": [
       "        Gender                 College Churn       Level Education_Level  \\\n",
       "count      768                     768   768  768.000000             768   \n",
       "unique       2                       6     2         NaN               1   \n",
       "top     Female  College of Engineering    No         NaN   Undergraduate   \n",
       "freq       429                     128   647         NaN             768   \n",
       "mean       NaN                     NaN   NaN  218.229167             NaN   \n",
       "std        NaN                     NaN   NaN  100.486377             NaN   \n",
       "min        NaN                     NaN   NaN  100.000000             NaN   \n",
       "25%        NaN                     NaN   NaN  100.000000             NaN   \n",
       "50%        NaN                     NaN   NaN  200.000000             NaN   \n",
       "75%        NaN                     NaN   NaN  300.000000             NaN   \n",
       "max        NaN                     NaN   NaN  500.000000             NaN   \n",
       "\n",
       "         Residence SIM_Usage Usage_Freq  Network_Strength Voice_Calls  \\\n",
       "count          768       768        768        768.000000         768   \n",
       "unique           2         2          5               NaN           2   \n",
       "top     Off-campus       Yes      Daily               NaN         Yes   \n",
       "freq           515       745        386               NaN         623   \n",
       "mean           NaN       NaN        NaN          2.333333         NaN   \n",
       "std            NaN       NaN        NaN          1.021711         NaN   \n",
       "min            NaN       NaN        NaN          1.000000         NaN   \n",
       "25%            NaN       NaN        NaN          1.000000         NaN   \n",
       "50%            NaN       NaN        NaN          2.000000         NaN   \n",
       "75%            NaN       NaN        NaN          3.000000         NaN   \n",
       "max            NaN       NaN        NaN          5.000000         NaN   \n",
       "\n",
       "       Mobile_Data_Internet SMS_Text_Messaging Data_Exhaustion  \\\n",
       "count                   768                768             768   \n",
       "unique                    2                  2               2   \n",
       "top                     Yes                 No             Yes   \n",
       "freq                    644                389             635   \n",
       "mean                    NaN                NaN             NaN   \n",
       "std                     NaN                NaN             NaN   \n",
       "min                     NaN                NaN             NaN   \n",
       "25%                     NaN                NaN             NaN   \n",
       "50%                     NaN                NaN             NaN   \n",
       "75%                     NaN                NaN             NaN   \n",
       "max                     NaN                NaN             NaN   \n",
       "\n",
       "       Multiple_Networks Other_Networks_Better_Services  \\\n",
       "count                768                            768   \n",
       "unique                 2                              2   \n",
       "top                  Yes                            Yes   \n",
       "freq                 722                            647   \n",
       "mean                 NaN                            NaN   \n",
       "std                  NaN                            NaN   \n",
       "min                  NaN                            NaN   \n",
       "25%                  NaN                            NaN   \n",
       "50%                  NaN                            NaN   \n",
       "75%                  NaN                            NaN   \n",
       "max                  NaN                            NaN   \n",
       "\n",
       "       Poor_Network_Quality_Coverage Insufficient_Data_Allowance  \\\n",
       "count                            768                         768   \n",
       "unique                             2                           2   \n",
       "top                              Yes                         Yes   \n",
       "freq                             733                         683   \n",
       "mean                             NaN                         NaN   \n",
       "std                              NaN                         NaN   \n",
       "min                              NaN                         NaN   \n",
       "25%                              NaN                         NaN   \n",
       "50%                              NaN                         NaN   \n",
       "75%                              NaN                         NaN   \n",
       "max                              NaN                         NaN   \n",
       "\n",
       "       Unsatisfactory_Customer_Service High_Costs_Pricing Monthly_Data_Usage  \n",
       "count                              768                768                768  \n",
       "unique                               2                  2                  5  \n",
       "top                                Yes                Yes         8 and more  \n",
       "freq                               699                707                404  \n",
       "mean                               NaN                NaN                NaN  \n",
       "std                                NaN                NaN                NaN  \n",
       "min                                NaN                NaN                NaN  \n",
       "25%                                NaN                NaN                NaN  \n",
       "50%                                NaN                NaN                NaN  \n",
       "75%                                NaN                NaN                NaN  \n",
       "max                                NaN                NaN                NaN  "
      ]
     },
     "execution_count": 6,
     "metadata": {},
     "output_type": "execute_result"
    }
   ],
   "source": [
    "data.describe(include='all')\n"
   ]
  },
  {
   "cell_type": "code",
   "execution_count": 7,
   "metadata": {},
   "outputs": [],
   "source": [
    "# Create a DataFrame to store the encoded values\n",
    "encoded_values = pd.DataFrame(columns=['Feature', 'Category', 'Encoded Value'])\n",
    "# Get all the categorical columns\n",
    "category_feature = data.select_dtypes(include=['object']).columns\n",
    "\n",
    "# Create a LabelEncoder object\n",
    "le = LabelEncoder()\n",
    "\n",
    "# Iterate through each categorical feature\n",
    "for feature in category_feature:\n",
    "    # Fit the LabelEncoder on the current feature and transform the data\n",
    "    data[feature] = le.fit_transform(data[feature])\n",
    "\n",
    "    # Get the encoded values for the current feature\n",
    "    for category, encoded_value in zip(le.classes_, le.transform(le.classes_)):\n",
    "        # Create a temporary DataFrame to hold the current row\n",
    "        temp_df = pd.DataFrame([{'Feature': feature, 'Category': category, 'Encoded Value': encoded_value}])\n",
    "\n",
    "        # Append the temporary DataFrame to the main DataFrame\n",
    "        encoded_values = pd.concat([encoded_values, temp_df], ignore_index=True)\n"
   ]
  },
  {
   "cell_type": "code",
   "execution_count": 8,
   "metadata": {},
   "outputs": [],
   "source": [
    "# import numpy as np\n",
    "# # Preprocess the data\n",
    "# # Encode categorical variables\n",
    "# label_encoders = {}\n",
    "# categorical_columns = ['Gender', 'College', 'Churn', 'Level', 'Residence', 'SIM_Usage',\n",
    "#        'Usage_Freq', 'Network_Strength', 'Voice_Calls',\n",
    "#        'Mobile_Data_Internet', 'SMS_Text_Messaging', 'Data_Exhaustion',\n",
    "#        'Other_Networks', 'Poor_Network_Quality_Coverage',\n",
    "#        'Insufficient_Data_Allowance', 'Unsatisfactory_Customer_Service',\n",
    "#        'High_Costs_Pricing','Monthly_Data_Usage']\n",
    "\n",
    "# for column in categorical_columns:\n",
    "#     le = LabelEncoder()\n",
    "#     data[column] = le.fit_transform(data[column])\n",
    "#     label_encoders[column] = le\n",
    "    \n",
    "\n",
    "\n",
    "# # Prepare data for survival analysis\n",
    "# X = data.drop(columns=['Level', 'Churn'])\n",
    "# y = data[['Level', 'Churn']].copy()\n",
    "# y['Churn'] = y['Churn'].astype(bool)\n",
    "# y = y.to_records(index=False)\n"
   ]
  },
  {
   "cell_type": "markdown",
   "metadata": {},
   "source": [
    "> Here, 'Level' will be used as the time-to-event variable and 'Churn' as the event indicator\n"
   ]
  },
  {
   "cell_type": "code",
   "execution_count": 9,
   "metadata": {},
   "outputs": [],
   "source": [
    "data = data.drop(columns=['Education_Level'])\n"
   ]
  },
  {
   "cell_type": "code",
   "execution_count": 10,
   "metadata": {},
   "outputs": [
    {
     "name": "stdout",
     "output_type": "stream",
     "text": [
      "Variance for churned events: 0.20730027548209368\n",
      "Variance for non-churned events: 0.0\n"
     ]
    },
    {
     "data": {
      "text/html": [
       "<div>\n",
       "<style scoped>\n",
       "    .dataframe tbody tr th:only-of-type {\n",
       "        vertical-align: middle;\n",
       "    }\n",
       "\n",
       "    .dataframe tbody tr th {\n",
       "        vertical-align: top;\n",
       "    }\n",
       "\n",
       "    .dataframe thead th {\n",
       "        text-align: right;\n",
       "    }\n",
       "</style>\n",
       "<table border=\"1\" class=\"dataframe\">\n",
       "  <tbody>\n",
       "    <tr>\n",
       "      <th>model</th>\n",
       "      <td>lifelines.CoxPHFitter</td>\n",
       "    </tr>\n",
       "    <tr>\n",
       "      <th>duration col</th>\n",
       "      <td>'Level'</td>\n",
       "    </tr>\n",
       "    <tr>\n",
       "      <th>event col</th>\n",
       "      <td>'Churn'</td>\n",
       "    </tr>\n",
       "    <tr>\n",
       "      <th>baseline estimation</th>\n",
       "      <td>breslow</td>\n",
       "    </tr>\n",
       "    <tr>\n",
       "      <th>number of observations</th>\n",
       "      <td>768</td>\n",
       "    </tr>\n",
       "    <tr>\n",
       "      <th>number of events observed</th>\n",
       "      <td>121</td>\n",
       "    </tr>\n",
       "    <tr>\n",
       "      <th>partial log-likelihood</th>\n",
       "      <td>-544.89</td>\n",
       "    </tr>\n",
       "    <tr>\n",
       "      <th>time fit was run</th>\n",
       "      <td>2024-07-11 18:19:54 UTC</td>\n",
       "    </tr>\n",
       "  </tbody>\n",
       "</table>\n",
       "</div><table border=\"1\" class=\"dataframe\">\n",
       "  <thead>\n",
       "    <tr style=\"text-align: right;\">\n",
       "      <th style=\"min-width: 12px;\"></th>\n",
       "      <th style=\"min-width: 12px;\">coef</th>\n",
       "      <th style=\"min-width: 12px;\">exp(coef)</th>\n",
       "      <th style=\"min-width: 12px;\">se(coef)</th>\n",
       "      <th style=\"min-width: 12px;\">coef lower 95%</th>\n",
       "      <th style=\"min-width: 12px;\">coef upper 95%</th>\n",
       "      <th style=\"min-width: 12px;\">exp(coef) lower 95%</th>\n",
       "      <th style=\"min-width: 12px;\">exp(coef) upper 95%</th>\n",
       "      <th style=\"min-width: 12px;\">cmp to</th>\n",
       "      <th style=\"min-width: 12px;\">z</th>\n",
       "      <th style=\"min-width: 12px;\">p</th>\n",
       "      <th style=\"min-width: 12px;\">-log2(p)</th>\n",
       "    </tr>\n",
       "  </thead>\n",
       "  <tbody>\n",
       "    <tr>\n",
       "      <th>Gender</th>\n",
       "      <td>-0.27</td>\n",
       "      <td>0.76</td>\n",
       "      <td>0.20</td>\n",
       "      <td>-0.65</td>\n",
       "      <td>0.11</td>\n",
       "      <td>0.52</td>\n",
       "      <td>1.12</td>\n",
       "      <td>0.00</td>\n",
       "      <td>-1.38</td>\n",
       "      <td>0.17</td>\n",
       "      <td>2.57</td>\n",
       "    </tr>\n",
       "    <tr>\n",
       "      <th>College</th>\n",
       "      <td>-0.03</td>\n",
       "      <td>0.97</td>\n",
       "      <td>0.06</td>\n",
       "      <td>-0.15</td>\n",
       "      <td>0.09</td>\n",
       "      <td>0.86</td>\n",
       "      <td>1.10</td>\n",
       "      <td>0.00</td>\n",
       "      <td>-0.43</td>\n",
       "      <td>0.67</td>\n",
       "      <td>0.58</td>\n",
       "    </tr>\n",
       "    <tr>\n",
       "      <th>Residence</th>\n",
       "      <td>-0.11</td>\n",
       "      <td>0.90</td>\n",
       "      <td>0.22</td>\n",
       "      <td>-0.53</td>\n",
       "      <td>0.32</td>\n",
       "      <td>0.59</td>\n",
       "      <td>1.38</td>\n",
       "      <td>0.00</td>\n",
       "      <td>-0.48</td>\n",
       "      <td>0.63</td>\n",
       "      <td>0.66</td>\n",
       "    </tr>\n",
       "    <tr>\n",
       "      <th>SIM_Usage</th>\n",
       "      <td>0.63</td>\n",
       "      <td>1.87</td>\n",
       "      <td>0.54</td>\n",
       "      <td>-0.44</td>\n",
       "      <td>1.69</td>\n",
       "      <td>0.65</td>\n",
       "      <td>5.41</td>\n",
       "      <td>0.00</td>\n",
       "      <td>1.15</td>\n",
       "      <td>0.25</td>\n",
       "      <td>2.01</td>\n",
       "    </tr>\n",
       "    <tr>\n",
       "      <th>Usage_Freq</th>\n",
       "      <td>0.04</td>\n",
       "      <td>1.04</td>\n",
       "      <td>0.06</td>\n",
       "      <td>-0.08</td>\n",
       "      <td>0.16</td>\n",
       "      <td>0.92</td>\n",
       "      <td>1.17</td>\n",
       "      <td>0.00</td>\n",
       "      <td>0.66</td>\n",
       "      <td>0.51</td>\n",
       "      <td>0.97</td>\n",
       "    </tr>\n",
       "    <tr>\n",
       "      <th>Network_Strength</th>\n",
       "      <td>0.01</td>\n",
       "      <td>1.01</td>\n",
       "      <td>0.11</td>\n",
       "      <td>-0.21</td>\n",
       "      <td>0.22</td>\n",
       "      <td>0.81</td>\n",
       "      <td>1.25</td>\n",
       "      <td>0.00</td>\n",
       "      <td>0.06</td>\n",
       "      <td>0.95</td>\n",
       "      <td>0.07</td>\n",
       "    </tr>\n",
       "    <tr>\n",
       "      <th>Voice_Calls</th>\n",
       "      <td>0.08</td>\n",
       "      <td>1.08</td>\n",
       "      <td>0.30</td>\n",
       "      <td>-0.51</td>\n",
       "      <td>0.66</td>\n",
       "      <td>0.60</td>\n",
       "      <td>1.94</td>\n",
       "      <td>0.00</td>\n",
       "      <td>0.26</td>\n",
       "      <td>0.79</td>\n",
       "      <td>0.34</td>\n",
       "    </tr>\n",
       "    <tr>\n",
       "      <th>Mobile_Data_Internet</th>\n",
       "      <td>0.05</td>\n",
       "      <td>1.05</td>\n",
       "      <td>0.27</td>\n",
       "      <td>-0.49</td>\n",
       "      <td>0.59</td>\n",
       "      <td>0.61</td>\n",
       "      <td>1.80</td>\n",
       "      <td>0.00</td>\n",
       "      <td>0.18</td>\n",
       "      <td>0.86</td>\n",
       "      <td>0.22</td>\n",
       "    </tr>\n",
       "    <tr>\n",
       "      <th>SMS_Text_Messaging</th>\n",
       "      <td>0.14</td>\n",
       "      <td>1.15</td>\n",
       "      <td>0.20</td>\n",
       "      <td>-0.26</td>\n",
       "      <td>0.54</td>\n",
       "      <td>0.77</td>\n",
       "      <td>1.72</td>\n",
       "      <td>0.00</td>\n",
       "      <td>0.69</td>\n",
       "      <td>0.49</td>\n",
       "      <td>1.03</td>\n",
       "    </tr>\n",
       "    <tr>\n",
       "      <th>Data_Exhaustion</th>\n",
       "      <td>0.08</td>\n",
       "      <td>1.08</td>\n",
       "      <td>0.26</td>\n",
       "      <td>-0.43</td>\n",
       "      <td>0.59</td>\n",
       "      <td>0.65</td>\n",
       "      <td>1.80</td>\n",
       "      <td>0.00</td>\n",
       "      <td>0.31</td>\n",
       "      <td>0.76</td>\n",
       "      <td>0.40</td>\n",
       "    </tr>\n",
       "    <tr>\n",
       "      <th>Multiple_Networks</th>\n",
       "      <td>-0.38</td>\n",
       "      <td>0.69</td>\n",
       "      <td>0.31</td>\n",
       "      <td>-0.98</td>\n",
       "      <td>0.23</td>\n",
       "      <td>0.37</td>\n",
       "      <td>1.25</td>\n",
       "      <td>0.00</td>\n",
       "      <td>-1.23</td>\n",
       "      <td>0.22</td>\n",
       "      <td>2.18</td>\n",
       "    </tr>\n",
       "    <tr>\n",
       "      <th>Other_Networks_Better_Services</th>\n",
       "      <td>0.44</td>\n",
       "      <td>1.55</td>\n",
       "      <td>0.30</td>\n",
       "      <td>-0.15</td>\n",
       "      <td>1.02</td>\n",
       "      <td>0.86</td>\n",
       "      <td>2.78</td>\n",
       "      <td>0.00</td>\n",
       "      <td>1.45</td>\n",
       "      <td>0.15</td>\n",
       "      <td>2.77</td>\n",
       "    </tr>\n",
       "    <tr>\n",
       "      <th>Insufficient_Data_Allowance</th>\n",
       "      <td>-2.12</td>\n",
       "      <td>0.12</td>\n",
       "      <td>0.30</td>\n",
       "      <td>-2.70</td>\n",
       "      <td>-1.54</td>\n",
       "      <td>0.07</td>\n",
       "      <td>0.21</td>\n",
       "      <td>0.00</td>\n",
       "      <td>-7.13</td>\n",
       "      <td>&lt;0.005</td>\n",
       "      <td>39.87</td>\n",
       "    </tr>\n",
       "    <tr>\n",
       "      <th>Unsatisfactory_Customer_Service</th>\n",
       "      <td>-0.83</td>\n",
       "      <td>0.44</td>\n",
       "      <td>0.25</td>\n",
       "      <td>-1.32</td>\n",
       "      <td>-0.34</td>\n",
       "      <td>0.27</td>\n",
       "      <td>0.71</td>\n",
       "      <td>0.00</td>\n",
       "      <td>-3.33</td>\n",
       "      <td>&lt;0.005</td>\n",
       "      <td>10.16</td>\n",
       "    </tr>\n",
       "    <tr>\n",
       "      <th>High_Costs_Pricing</th>\n",
       "      <td>-1.45</td>\n",
       "      <td>0.23</td>\n",
       "      <td>0.23</td>\n",
       "      <td>-1.91</td>\n",
       "      <td>-1.00</td>\n",
       "      <td>0.15</td>\n",
       "      <td>0.37</td>\n",
       "      <td>0.00</td>\n",
       "      <td>-6.23</td>\n",
       "      <td>&lt;0.005</td>\n",
       "      <td>31.00</td>\n",
       "    </tr>\n",
       "    <tr>\n",
       "      <th>Monthly_Data_Usage</th>\n",
       "      <td>-0.07</td>\n",
       "      <td>0.93</td>\n",
       "      <td>0.09</td>\n",
       "      <td>-0.24</td>\n",
       "      <td>0.10</td>\n",
       "      <td>0.78</td>\n",
       "      <td>1.11</td>\n",
       "      <td>0.00</td>\n",
       "      <td>-0.80</td>\n",
       "      <td>0.42</td>\n",
       "      <td>1.25</td>\n",
       "    </tr>\n",
       "  </tbody>\n",
       "</table><br><div>\n",
       "<style scoped>\n",
       "    .dataframe tbody tr th:only-of-type {\n",
       "        vertical-align: middle;\n",
       "    }\n",
       "\n",
       "    .dataframe tbody tr th {\n",
       "        vertical-align: top;\n",
       "    }\n",
       "\n",
       "    .dataframe thead th {\n",
       "        text-align: right;\n",
       "    }\n",
       "</style>\n",
       "<table border=\"1\" class=\"dataframe\">\n",
       "  <tbody>\n",
       "    <tr>\n",
       "      <th>Concordance</th>\n",
       "      <td>0.92</td>\n",
       "    </tr>\n",
       "    <tr>\n",
       "      <th>Partial AIC</th>\n",
       "      <td>1121.78</td>\n",
       "    </tr>\n",
       "    <tr>\n",
       "      <th>log-likelihood ratio test</th>\n",
       "      <td>331.92 on 16 df</td>\n",
       "    </tr>\n",
       "    <tr>\n",
       "      <th>-log2(p) of ll-ratio test</th>\n",
       "      <td>200.04</td>\n",
       "    </tr>\n",
       "  </tbody>\n",
       "</table>\n",
       "</div>"
      ],
      "text/latex": [
       "\\begin{tabular}{lrrrrrrrrrrr}\n",
       " & coef & exp(coef) & se(coef) & coef lower 95% & coef upper 95% & exp(coef) lower 95% & exp(coef) upper 95% & cmp to & z & p & -log2(p) \\\\\n",
       "covariate &  &  &  &  &  &  &  &  &  &  &  \\\\\n",
       "Gender & -0.27 & 0.76 & 0.20 & -0.65 & 0.11 & 0.52 & 1.12 & 0.00 & -1.38 & 0.17 & 2.57 \\\\\n",
       "College & -0.03 & 0.97 & 0.06 & -0.15 & 0.09 & 0.86 & 1.10 & 0.00 & -0.43 & 0.67 & 0.58 \\\\\n",
       "Residence & -0.11 & 0.90 & 0.22 & -0.53 & 0.32 & 0.59 & 1.38 & 0.00 & -0.48 & 0.63 & 0.66 \\\\\n",
       "SIM_Usage & 0.63 & 1.87 & 0.54 & -0.44 & 1.69 & 0.65 & 5.41 & 0.00 & 1.15 & 0.25 & 2.01 \\\\\n",
       "Usage_Freq & 0.04 & 1.04 & 0.06 & -0.08 & 0.16 & 0.92 & 1.17 & 0.00 & 0.66 & 0.51 & 0.97 \\\\\n",
       "Network_Strength & 0.01 & 1.01 & 0.11 & -0.21 & 0.22 & 0.81 & 1.25 & 0.00 & 0.06 & 0.95 & 0.07 \\\\\n",
       "Voice_Calls & 0.08 & 1.08 & 0.30 & -0.51 & 0.66 & 0.60 & 1.94 & 0.00 & 0.26 & 0.79 & 0.34 \\\\\n",
       "Mobile_Data_Internet & 0.05 & 1.05 & 0.27 & -0.49 & 0.59 & 0.61 & 1.80 & 0.00 & 0.18 & 0.86 & 0.22 \\\\\n",
       "SMS_Text_Messaging & 0.14 & 1.15 & 0.20 & -0.26 & 0.54 & 0.77 & 1.72 & 0.00 & 0.69 & 0.49 & 1.03 \\\\\n",
       "Data_Exhaustion & 0.08 & 1.08 & 0.26 & -0.43 & 0.59 & 0.65 & 1.80 & 0.00 & 0.31 & 0.76 & 0.40 \\\\\n",
       "Multiple_Networks & -0.38 & 0.69 & 0.31 & -0.98 & 0.23 & 0.37 & 1.25 & 0.00 & -1.23 & 0.22 & 2.18 \\\\\n",
       "Other_Networks_Better_Services & 0.44 & 1.55 & 0.30 & -0.15 & 1.02 & 0.86 & 2.78 & 0.00 & 1.45 & 0.15 & 2.77 \\\\\n",
       "Insufficient_Data_Allowance & -2.12 & 0.12 & 0.30 & -2.70 & -1.54 & 0.07 & 0.21 & 0.00 & -7.13 & 0.00 & 39.87 \\\\\n",
       "Unsatisfactory_Customer_Service & -0.83 & 0.44 & 0.25 & -1.32 & -0.34 & 0.27 & 0.71 & 0.00 & -3.33 & 0.00 & 10.16 \\\\\n",
       "High_Costs_Pricing & -1.45 & 0.23 & 0.23 & -1.91 & -1.00 & 0.15 & 0.37 & 0.00 & -6.23 & 0.00 & 31.00 \\\\\n",
       "Monthly_Data_Usage & -0.07 & 0.93 & 0.09 & -0.24 & 0.10 & 0.78 & 1.11 & 0.00 & -0.80 & 0.42 & 1.25 \\\\\n",
       "\\end{tabular}\n"
      ],
      "text/plain": [
       "<lifelines.CoxPHFitter: fitted with 768 total observations, 647 right-censored observations>\n",
       "             duration col = 'Level'\n",
       "                event col = 'Churn'\n",
       "      baseline estimation = breslow\n",
       "   number of observations = 768\n",
       "number of events observed = 121\n",
       "   partial log-likelihood = -544.89\n",
       "         time fit was run = 2024-07-11 18:19:54 UTC\n",
       "\n",
       "---\n",
       "                                 coef exp(coef)  se(coef)  coef lower 95%  coef upper 95% exp(coef) lower 95% exp(coef) upper 95%\n",
       "covariate                                                                                                                        \n",
       "Gender                          -0.27      0.76      0.20           -0.65            0.11                0.52                1.12\n",
       "College                         -0.03      0.97      0.06           -0.15            0.09                0.86                1.10\n",
       "Residence                       -0.11      0.90      0.22           -0.53            0.32                0.59                1.38\n",
       "SIM_Usage                        0.63      1.87      0.54           -0.44            1.69                0.65                5.41\n",
       "Usage_Freq                       0.04      1.04      0.06           -0.08            0.16                0.92                1.17\n",
       "Network_Strength                 0.01      1.01      0.11           -0.21            0.22                0.81                1.25\n",
       "Voice_Calls                      0.08      1.08      0.30           -0.51            0.66                0.60                1.94\n",
       "Mobile_Data_Internet             0.05      1.05      0.27           -0.49            0.59                0.61                1.80\n",
       "SMS_Text_Messaging               0.14      1.15      0.20           -0.26            0.54                0.77                1.72\n",
       "Data_Exhaustion                  0.08      1.08      0.26           -0.43            0.59                0.65                1.80\n",
       "Multiple_Networks               -0.38      0.69      0.31           -0.98            0.23                0.37                1.25\n",
       "Other_Networks_Better_Services   0.44      1.55      0.30           -0.15            1.02                0.86                2.78\n",
       "Insufficient_Data_Allowance     -2.12      0.12      0.30           -2.70           -1.54                0.07                0.21\n",
       "Unsatisfactory_Customer_Service -0.83      0.44      0.25           -1.32           -0.34                0.27                0.71\n",
       "High_Costs_Pricing              -1.45      0.23      0.23           -1.91           -1.00                0.15                0.37\n",
       "Monthly_Data_Usage              -0.07      0.93      0.09           -0.24            0.10                0.78                1.11\n",
       "\n",
       "                                 cmp to     z      p  -log2(p)\n",
       "covariate                                                     \n",
       "Gender                             0.00 -1.38   0.17      2.57\n",
       "College                            0.00 -0.43   0.67      0.58\n",
       "Residence                          0.00 -0.48   0.63      0.66\n",
       "SIM_Usage                          0.00  1.15   0.25      2.01\n",
       "Usage_Freq                         0.00  0.66   0.51      0.97\n",
       "Network_Strength                   0.00  0.06   0.95      0.07\n",
       "Voice_Calls                        0.00  0.26   0.79      0.34\n",
       "Mobile_Data_Internet               0.00  0.18   0.86      0.22\n",
       "SMS_Text_Messaging                 0.00  0.69   0.49      1.03\n",
       "Data_Exhaustion                    0.00  0.31   0.76      0.40\n",
       "Multiple_Networks                  0.00 -1.23   0.22      2.18\n",
       "Other_Networks_Better_Services     0.00  1.45   0.15      2.77\n",
       "Insufficient_Data_Allowance        0.00 -7.13 <0.005     39.87\n",
       "Unsatisfactory_Customer_Service    0.00 -3.33 <0.005     10.16\n",
       "High_Costs_Pricing                 0.00 -6.23 <0.005     31.00\n",
       "Monthly_Data_Usage                 0.00 -0.80   0.42      1.25\n",
       "---\n",
       "Concordance = 0.92\n",
       "Partial AIC = 1121.78\n",
       "log-likelihood ratio test = 331.92 on 16 df\n",
       "-log2(p) of ll-ratio test = 200.04"
      ]
     },
     "metadata": {},
     "output_type": "display_data"
    }
   ],
   "source": [
    "# Check the variance of 'Poor_Network_Quality_Coverage' for churned and non-churned events\n",
    "events = data['Churn'].astype(bool)\n",
    "var_churned = data.loc[events, 'Poor_Network_Quality_Coverage'].var()\n",
    "var_not_churned = data.loc[~events, 'Poor_Network_Quality_Coverage'].var()\n",
    "\n",
    "print(f\"Variance for churned events: {var_churned}\")\n",
    "print(f\"Variance for non-churned events: {var_not_churned}\")\n",
    "\n",
    "# If variance is very low for either, consider removing the column\n",
    "if var_churned < 1e-5 or var_not_churned < 1e-5:\n",
    "    data = data.drop(columns=['Poor_Network_Quality_Coverage'])\n",
    "\n",
    "# Fit the Cox Proportional Hazards model\n",
    "cph = CoxPHFitter()\n",
    "cph.fit(data, duration_col='Level', event_col='Churn')\n",
    "cph.print_summary()"
   ]
  },
  {
   "cell_type": "markdown",
   "metadata": {},
   "source": [
    "> Model Information\n",
    "- model: lifelines.CoxPHFitter (Cox Proportional Hazards model fitted using the lifelines library in Python.)\n",
    "- duration col: 'Level' (This is the time duration column used in the survival analysis.)\n",
    "- event col: 'Churn' (This is the event indicator column; 1 if the event (churn) occurred, 0 if censored.)\n",
    "- baseline estimation: breslow (This is the method used for baseline hazard estimation.)\n",
    "- number of observations: 768 (Total number of data points.)\n",
    "- number of events observed: 246 (Number of events (churn) observed.)\n",
    "- partial log-likelihood: -1207.24 (Log-likelihood of the fitted model.)\n",
    "- time fit was run: 2024-06-13 00:05:49 UTC"
   ]
  },
  {
   "cell_type": "markdown",
   "metadata": {},
   "source": [
    "> Coefficients Table\n",
    "- coef: The estimated coefficient for the variable.\n",
    "- exp(coef): The exponentiation of the coefficient, which represents the hazard ratio.\n",
    "- se(coef): Standard error of the coefficient.\n",
    "- coef lower 95%: Lower bound of the 95% confidence interval for the coefficient.\n",
    "- coef upper 95%: Upper bound of the 95% confidence interval for the coefficient.\n",
    "- exp(coef) lower 95%: Lower bound of the 95% confidence interval for the hazard ratio.\n",
    "- exp(coef) upper 95%: Upper bound of the 95% confidence interval for the hazard ratio.\n",
    "- cmp to: The comparison value, typically zero.\n",
    "- z: The z-value (coefficient divided by its standard error).\n",
    "- p: The p-value (probability that the coefficient is different from zero).\n",
    "- -log2(p): The negative log base 2 of the p-value (used for better interpretation of very small p-values)."
   ]
  },
  {
   "cell_type": "markdown",
   "metadata": {},
   "source": [
    "> Interpretation of Key Variables\n",
    "- Gender: Coefficient is 0.10, hazard ratio is 1.10. P-value of 0.46 indicates this is not statistically significant.\n",
    "- College: Coefficient is -0.13, hazard ratio is 0.88. P-value < 0.005 indicates this is statistically significant.\n",
    "- Residence: Coefficient is 0.16, hazard ratio is 1.17. P-value of 0.35 indicates this is not statistically significant.\n",
    "- Poor_Network_Quality_Coverage: Coefficient is -0.53, hazard ratio is 0.59. P-value < 0.005 indicates this is statistically significant.\n",
    "- Insufficient_Data_Allowance: Coefficient is -0.99, hazard ratio is 0.37. P-value < 0.005 indicates this is statistically significant.\n",
    "- Unsatisfactory_Customer_Service: Coefficient is -1.19, hazard ratio is 0.31. P-value < 0.005 indicates this is statistically significant.\n",
    "- High_Costs_Pricing: Coefficient is -0.81, hazard ratio is 0.44. P-value < 0.005 indicates this is statistically significant."
   ]
  },
  {
   "cell_type": "markdown",
   "metadata": {},
   "source": [
    "> Model Performance Metrics\n",
    "- Concordance: 0.89 (Indicates the model's ability to correctly rank the pairs of observations, values closer to 1 are better.)\n",
    "- Partial AIC: 2446.48 (A measure of the model's fit, lower values are better.)\n",
    "- log-likelihood ratio test: 463.59 on 16 df (Degrees of freedom). This tests the overall significance of the model.\n",
    "- -log2(p) of ll-ratio test: 291.67 (Provides a measure of the significance of the log-likelihood ratio test, larger values indicate higher significance.)"
   ]
  },
  {
   "cell_type": "markdown",
   "metadata": {},
   "source": [
    "> Summary\n",
    "- Variables like College, Poor_Network_Quality_Coverage, Insufficient_Data_Allowance, Unsatisfactory_Customer_Service, and High_Costs_Pricing are significant predictors of churn.\n",
    "- The concordance index of 0.89 suggests that the model has a high predictive accuracy.\n",
    "- The model overall is highly significant, as indicated by the log-likelihood ratio test."
   ]
  },
  {
   "cell_type": "markdown",
   "metadata": {},
   "source": [
    "### Cox Proportional Hazards Model Predictions\n"
   ]
  },
  {
   "cell_type": "code",
   "execution_count": 11,
   "metadata": {},
   "outputs": [
    {
     "name": "stdout",
     "output_type": "stream",
     "text": [
      "     Cox_Predicted_Churn_Probability  Churn\n",
      "0                           0.806241      0\n",
      "1                           0.763576      0\n",
      "2                           0.414910      0\n",
      "3                           0.495544      0\n",
      "4                           0.553260      0\n",
      "..                               ...    ...\n",
      "763                         0.549218      0\n",
      "764                         0.452910      0\n",
      "765                         0.424019      0\n",
      "766                         0.865084      0\n",
      "767                        18.591373      1\n",
      "\n",
      "[768 rows x 2 columns]\n"
     ]
    }
   ],
   "source": [
    "# Predict churn probabilities using Cox model\n",
    "data['Cox_Predicted_Churn_Probability'] = cph.predict_partial_hazard(data)\n",
    "print(data[['Cox_Predicted_Churn_Probability', 'Churn']])\n",
    "\n"
   ]
  },
  {
   "cell_type": "markdown",
   "metadata": {},
   "source": [
    "> Interpretaion\n",
    "* Cox_Predicted_Churn_Probability: This column contains the predicted partial hazard for each individual. The partial hazard is a relative measure of the risk of the event (churn) occurring at a specific time compared to a baseline.\n",
    "* Churn: This column indicates whether the churn event actually occurred (1 if the student churned, 0 if they did not).\n",
    "- The Cox model predicts the risk of churn for each student based on their covariates (features). A higher predicted partial hazard indicates a higher risk of churn."
   ]
  },
  {
   "cell_type": "markdown",
   "metadata": {},
   "source": [
    "> Explanation\n",
    "- The first student has a predicted partial hazard of 0.327843 and did not (Churn = false ).\n",
    "- The second student has a predicted partial hazard of 11.8 and actually churned (Churn = true).\n",
    "- This suggests the second student had a higher risk of churn compared to the first."
   ]
  },
  {
   "cell_type": "markdown",
   "metadata": {},
   "source": [
    "### Kaplan-Meier Estimator Predictions\n"
   ]
  },
  {
   "cell_type": "code",
   "execution_count": 12,
   "metadata": {},
   "outputs": [
    {
     "name": "stdout",
     "output_type": "stream",
     "text": [
      "     Kaplan_Meier_Predicted_Survival_Probability  Churn\n",
      "0                                       0.782092      0\n",
      "1                                       0.900775      0\n",
      "2                                       0.953125      0\n",
      "3                                       0.953125      0\n",
      "4                                       0.900775      0\n",
      "..                                           ...    ...\n",
      "763                                     0.953125      0\n",
      "764                                     0.953125      0\n",
      "765                                     0.953125      0\n",
      "766                                     0.611636      0\n",
      "767                                     0.611636      1\n",
      "\n",
      "[768 rows x 2 columns]\n"
     ]
    }
   ],
   "source": [
    "from lifelines.utils import concordance_index\n",
    "\n",
    "# Kaplan-Meier Estimator\n",
    "kmf = KaplanMeierFitter()\n",
    "kmf.fit(data['Level'], event_observed=data['Churn'])\n",
    "data['Kaplan_Meier_Predicted_Survival_Probability'] = kmf.predict(data['Level']).values\n",
    "\n",
    "# Calculate the Concordance Index\n",
    "c_index = concordance_index(data['Level'], -data['Kaplan_Meier_Predicted_Survival_Probability'], data['Churn'])\n",
    "\n",
    "# Print the data\n",
    "print(data[['Kaplan_Meier_Predicted_Survival_Probability', 'Churn']])\n"
   ]
  },
  {
   "cell_type": "markdown",
   "metadata": {},
   "source": [
    "> Interpretation:\n",
    "\n",
    "* Kaplan_Meier_Predicted_Survival_Probability: This column contains the predicted survival probabilities at each time point for each individual. The survival probability is the probability that an individual will survive (not churn) beyond a certain time.\n",
    "* Churn: This column indicates whether the churn event actually occurred (1 if the student churned, 0 if they did not).\n"
   ]
  },
  {
   "cell_type": "markdown",
   "metadata": {},
   "source": [
    "> Explanation\n",
    "- The first student has a predicted survival probability of 0.930990 and did not churn (Churn = false).\n",
    "- The second student has a predicted survival probability of 0.930990 and actually churned (Churn = true).\n",
    "- This suggests the second student had a lower probability of surviving (not churning) compared to the first."
   ]
  },
  {
   "cell_type": "markdown",
   "metadata": {},
   "source": [
    "### Random Survival Forest Model Predictions\n"
   ]
  },
  {
   "cell_type": "code",
   "execution_count": 13,
   "metadata": {},
   "outputs": [
    {
     "name": "stdout",
     "output_type": "stream",
     "text": [
      "     RSF_Predicted_Churn_Probability  Churn\n",
      "0                           0.023582  False\n",
      "1                           0.009751  False\n",
      "2                           0.211131  False\n",
      "3                           0.111414  False\n",
      "4                           0.058118  False\n",
      "..                               ...    ...\n",
      "763                         0.050000  False\n",
      "764                         0.270667  False\n",
      "765                         0.018000  False\n",
      "766                         0.004000  False\n",
      "767                         2.665630   True\n",
      "\n",
      "[768 rows x 2 columns]\n"
     ]
    }
   ],
   "source": [
    "# Convert 'Churn' column to boolean\n",
    "data['Churn'] = data['Churn'].astype(bool)\n",
    "\n",
    "# Create a structured array for 'y'\n",
    "# Define the variable 'X'\n",
    "X = data.drop(columns=['Level', 'Churn'])\n",
    "rsf = RandomSurvivalForest()\n",
    "y = data[['Churn','Level']].to_records(index=False)\n",
    "\n",
    "# Fit the Random Survival Forest model\n",
    "rsf.fit(X, y)\n",
    "rsf_pred = rsf.predict(X)  # Add this line to define rsf_pred\n",
    "data['RSF_Predicted_Churn_Probability'] = rsf_pred\n",
    "print(data[['RSF_Predicted_Churn_Probability', 'Churn']])\n",
    "\n",
    "# Evaluate the models using Concordance Index\n",
    "cox_cindex = concordance_index(data['Level'], -data['Cox_Predicted_Churn_Probability'], data['Churn'])\n"
   ]
  },
  {
   "cell_type": "markdown",
   "metadata": {},
   "source": [
    "> Interpretation\n",
    "* RSF_Predicted_Churn_Probability: This column contains the predicted churn probabilities from the Random Survival Forest model. These values are not strict probabilities but rather scores indicating the risk of churn.\n",
    "* Churn: This column indicates whether the churn event actually occurred (True if the student churned, False if they did not)."
   ]
  },
  {
   "cell_type": "markdown",
   "metadata": {},
   "source": [
    "> Explanation\n",
    "- A higher predicted churn probability score (e.g., 6.948619    for row 1) indicates a higher risk of churn.\n",
    "- A lower score (e.g., 0.024500 for row 0) indicates a lower risk of churn\n",
    "- Row 0 has a predicted churn probability of 0.024500 and the student did not churn (Churn = False).\n",
    "- Row 1 has a predicted churn probability of 6.948619    and the student did churn (Churn = True)."
   ]
  },
  {
   "cell_type": "markdown",
   "metadata": {},
   "source": [
    "***"
   ]
  },
  {
   "cell_type": "markdown",
   "metadata": {},
   "source": [
    "### Visualiztion of the models"
   ]
  },
  {
   "cell_type": "code",
   "execution_count": 14,
   "metadata": {},
   "outputs": [
    {
     "data": {
      "image/png": "[encoded data removed]",
      "text/plain": [
       "<Figure size 1000x600 with 1 Axes>"
      ]
     },
     "metadata": {},
     "output_type": "display_data"
    }
   ],
   "source": [
    "import matplotlib.pyplot as plt\n",
    "import seaborn as sns\n",
    "\n",
    "# Plotting the coefficients of the Cox Proportional Hazards Model\n",
    "plt.figure(figsize=(10, 6))\n",
    "cph.plot()\n",
    "plt.title('Cox Proportional Hazards Model Coefficients')\n",
    "plt.show()\n",
    "\n"
   ]
  },
  {
   "cell_type": "markdown",
   "metadata": {},
   "source": [
    "* The point estimate for each factor represents the log hazard ratio (log(HR)), which is a measure of the effect size. If the point estimate (the square on each line) is to the left of the vertical dashed line at zero, it suggests that the factor decreases the likelihood of student churn (i.e., it has a positive influence on retention). Conversely, if the point estimate is to the right of the line, it suggests that the factor increases the risk of churn. The further a point estimate is from zero, the stronger its effect.\n",
    "\n",
    "* The horizontal lines represent the 95% confidence interval (CI) for each factor’s effect size. If the CI crosses the vertical line at zero, it means that the effect of that factor is not statistically significant at the 95% confidence level.\n",
    "\n",
    "* From the plot, it appears that factors like Mobile Data Internet, Other Networks, Residence Frequency, Gender, Usage Frequency, Network Strength, SIM Usage, Monthly Data Usage, SMS Text Messaging, Data Exhaustion, Voice Calls, Poor Network Quality, High Costs, Insufficient Data Allowance, and Unsatisfactory Customer Service all have varying degrees of influence on student churn. You would need to look at the specific log(HR) values and their CIs to determine which factors have the most significant effects."
   ]
  },
  {
   "cell_type": "code",
   "execution_count": 15,
   "metadata": {},
   "outputs": [
    {
     "data": {
      "image/png": "[encoded data removed]",
      "text/plain": [
       "<Figure size 1000x600 with 1 Axes>"
      ]
     },
     "metadata": {},
     "output_type": "display_data"
    }
   ],
   "source": [
    "# Plotting the survival curves using Kaplan-Meier Estimator\n",
    "plt.figure(figsize=(10, 6))\n",
    "kmf.plot_cumulative_density()\n",
    "plt.title('Survival curves using Kaplan-Meier Estimator')\n",
    "\n",
    "plt.show()\n",
    "\n",
    "\n"
   ]
  },
  {
   "cell_type": "code",
   "execution_count": 16,
   "metadata": {},
   "outputs": [
    {
     "data": {
      "image/png": "[encoded data removed]",
      "text/plain": [
       "<Figure size 1000x600 with 1 Axes>"
      ]
     },
     "metadata": {},
     "output_type": "display_data"
    }
   ],
   "source": [
    "# Plotting the survival curves using Kaplan-Meier Estimator\n",
    "plt.figure(figsize=(10, 6))\n",
    "kmf.plot_survival_function()\n",
    "plt.title('Survival curves using Kaplan-Meier Estimator')\n",
    "\n",
    "plt.show()\n",
    "\n",
    "\n"
   ]
  },
  {
   "cell_type": "markdown",
   "metadata": {},
   "source": [
    ">Interpretation\n",
    "+ The shaded area around the survival curve represents the confidence interval, which gives a range of values that likely contains the true survival probability at each time point. The width of the confidence interval gives an idea of the precision of the estimate - a narrower interval means a more precise estimate.\n",
    "*  One of the key features of survival analysis is the handling of censoring - situations where the event of interest has not been observed for an individual during the study period. This could be because the individual dropped out of the study, or the study ended before the event occurred. In the Kaplan-Meier survival curve, censored observations are often indicated by small vertical tick marks. It occurs at time 5."
   ]
  },
  {
   "cell_type": "markdown",
   "metadata": {},
   "source": [
    "### Comparing the two performing models"
   ]
  },
  {
   "cell_type": "code",
   "execution_count": 17,
   "metadata": {},
   "outputs": [
    {
     "data": {
      "image/png": "[encoded data removed]",
      "text/plain": [
       "<Figure size 1000x600 with 1 Axes>"
      ]
     },
     "metadata": {},
     "output_type": "display_data"
    }
   ],
   "source": [
    "\n",
    "# Comparing the predicted churn probabilities\n",
    "plt.figure(figsize=(10, 6))\n",
    "sns.kdeplot(data=data, x='Cox_Predicted_Churn_Probability', label='Cox', fill=True)\n",
    "\n",
    "sns.kdeplot(data=data, x='RSF_Predicted_Churn_Probability', label='RSF', fill=True)\n",
    "plt.title('Comparison of Predicted Churn Probabilities')\n",
    "plt.xlabel('Predicted Churn Probability')\n",
    "plt.ylabel('Density')\n",
    "plt.legend()\n",
    "plt.show()\n",
    "\n"
   ]
  },
  {
   "cell_type": "markdown",
   "metadata": {},
   "source": [
    "- The Cox model is represented by a blue curve that peaks at around a churn probability of 5. The RSF model is represented by an orange curve that has a broader peak extending from around a churn probability of 5 to just past 10.\n",
    "\n",
    "- In the context of churn prediction, these curves represent the distribution of predicted probabilities of churn for each model. The peak of each curve indicates the most common predicted churn probability for that model.\n",
    "\n",
    "- The fact that the RSF curve is broader and extends further to the right suggests that the RSF model predicts a wider range of churn probabilities and tends to predict higher probabilities of churn compared to the Cox model."
   ]
  },
  {
   "cell_type": "markdown",
   "metadata": {},
   "source": [
    "***"
   ]
  },
  {
   "cell_type": "markdown",
   "metadata": {},
   "source": [
    "# \n",
    "**<center><span style=\"font-family:serif; font-size:34px;\">Conclusion</span><a id = \"missingvalue\" ></a><center>**"
   ]
  },
  {
   "cell_type": "markdown",
   "metadata": {},
   "source": [
    "**Interpretation**\n",
    "\n",
    "- Ranges from 0 to 1, where:\n",
    "  - 0.5 indicates random guessing (no predictive ability)\n",
    "  - 1 indicates perfect discrimination (perfect predictive ability)\n",
    "- A value above 0.5 suggests that the model has predictive ability better than random chance.\n",
    "- Higher values indicate better model performance and more accurate risk predictions.\n",
    "- Therefore, the closer to 1, the better."
   ]
  },
  {
   "cell_type": "code",
   "execution_count": 18,
   "metadata": {},
   "outputs": [
    {
     "name": "stdout",
     "output_type": "stream",
     "text": [
      "Cox Proportional Hazards Model Concordance Index: 0.9210049534529615\n",
      "Kaplan Meier Model Concordance Index: 0.7952219416764643\n",
      "Random Survival Forest Model Concordance Index: 0.9928492955303279\n"
     ]
    }
   ],
   "source": [
    "print(f'Cox Proportional Hazards Model Concordance Index: {cox_cindex}')\n",
    "print(f'Kaplan Meier Model Concordance Index: {c_index}')\n",
    "rsf_cindex = concordance_index_censored(y['Churn'], y['Level'], rsf_pred)\n",
    "print(f'Random Survival Forest Model Concordance Index: {rsf_cindex[0]}')"
   ]
  },
  {
   "cell_type": "markdown",
   "metadata": {},
   "source": [
    "> Result analysis\n",
    "* The Concordance Index (C-index) is a measure of the predictive accuracy of a survival model. It ranges from 0.5 to 1.0, where 0.5 indicates a model that predicts no better than random chance, and 1.0 indicates a model that makes perfect predictions.\n",
    "- RSF Predictions: The RSF model gives scores that reflect the risk of churn for each student. Higher scores indicate a higher risk.\n",
    "- Cox Model Predictions: The Cox model also provides a measure of risk, but the interpretation is based on hazard ratios.\n",
    "- Kaplan Meier Predictions: The Kaplan model estimates the probability that an event (such as death, failure, churn, etc.) has not yet occurred at a certain point in time.\n",
    "- Concordance Index: All 3 models have high concordance indices, with the RSF model (0.988) outperforming the Cox model (0.888) and kaplan meier(0.853). This means the RSF model is better at correctly ranking the likelihood of churn among students."
   ]
  },
  {
   "cell_type": "code",
   "execution_count": 19,
   "metadata": {},
   "outputs": [],
   "source": [
    "# %pip install plotly"
   ]
  },
  {
   "cell_type": "code",
   "execution_count": 20,
   "metadata": {},
   "outputs": [],
   "source": [
    "# %pip install nbformat>=4.2"
   ]
  },
  {
   "cell_type": "code",
   "execution_count": 21,
   "metadata": {},
   "outputs": [
    {
     "data": {
      "application/vnd.plotly.v1+json": {
       "config": {
        "plotlyServerURL": "https://plot.ly"
       },
       "data": [
        {
         "name": "Cox Proportional Hazards Model",
         "type": "bar",
         "x": [
          "Concordance Index"
         ],
         "y": [
          0.9210049534529615
         ]
        },
        {
         "name": "Kaplan-Meier Model",
         "type": "bar",
         "x": [
          "Concordance Index"
         ],
         "y": [
          0.7952219416764643
         ]
        },
        {
         "name": "Random Survival Forest Model",
         "type": "bar",
         "x": [
          "Concordance Index"
         ],
         "y": [
          0.9928492955303279
         ]
        }
       ],
       "layout": {
        "barmode": "group",
        "template": {
         "data": {
          "bar": [
           {
            "error_x": {
             "color": "#2a3f5f"
            },
            "error_y": {
             "color": "#2a3f5f"
            },
            "marker": {
             "line": {
              "color": "#E5ECF6",
              "width": 0.5
             },
             "pattern": {
              "fillmode": "overlay",
              "size": 10,
              "solidity": 0.2
             }
            },
            "type": "bar"
           }
          ],
          "barpolar": [
           {
            "marker": {
             "line": {
              "color": "#E5ECF6",
              "width": 0.5
             },
             "pattern": {
              "fillmode": "overlay",
              "size": 10,
              "solidity": 0.2
             }
            },
            "type": "barpolar"
           }
          ],
          "carpet": [
           {
            "aaxis": {
             "endlinecolor": "#2a3f5f",
             "gridcolor": "white",
             "linecolor": "white",
             "minorgridcolor": "white",
             "startlinecolor": "#2a3f5f"
            },
            "baxis": {
             "endlinecolor": "#2a3f5f",
             "gridcolor": "white",
             "linecolor": "white",
             "minorgridcolor": "white",
             "startlinecolor": "#2a3f5f"
            },
            "type": "carpet"
           }
          ],
          "choropleth": [
           {
            "colorbar": {
             "outlinewidth": 0,
             "ticks": ""
            },
            "type": "choropleth"
           }
          ],
          "contour": [
           {
            "colorbar": {
             "outlinewidth": 0,
             "ticks": ""
            },
            "colorscale": [
             [
              0,
              "#0d0887"
             ],
             [
              0.1111111111111111,
              "#46039f"
             ],
             [
              0.2222222222222222,
              "#7201a8"
             ],
             [
              0.3333333333333333,
              "#9c179e"
             ],
             [
              0.4444444444444444,
              "#bd3786"
             ],
             [
              0.5555555555555556,
              "#d8576b"
             ],
             [
              0.6666666666666666,
              "#ed7953"
             ],
             [
              0.7777777777777778,
              "#fb9f3a"
             ],
             [
              0.8888888888888888,
              "#fdca26"
             ],
             [
              1,
              "#f0f921"
             ]
            ],
            "type": "contour"
           }
          ],
          "contourcarpet": [
           {
            "colorbar": {
             "outlinewidth": 0,
             "ticks": ""
            },
            "type": "contourcarpet"
           }
          ],
          "heatmap": [
           {
            "colorbar": {
             "outlinewidth": 0,
             "ticks": ""
            },
            "colorscale": [
             [
              0,
              "#0d0887"
             ],
             [
              0.1111111111111111,
              "#46039f"
             ],
             [
              0.2222222222222222,
              "#7201a8"
             ],
             [
              0.3333333333333333,
              "#9c179e"
             ],
             [
              0.4444444444444444,
              "#bd3786"
             ],
             [
              0.5555555555555556,
              "#d8576b"
             ],
             [
              0.6666666666666666,
              "#ed7953"
             ],
             [
              0.7777777777777778,
              "#fb9f3a"
             ],
             [
              0.8888888888888888,
              "#fdca26"
             ],
             [
              1,
              "#f0f921"
             ]
            ],
            "type": "heatmap"
           }
          ],
          "heatmapgl": [
           {
            "colorbar": {
             "outlinewidth": 0,
             "ticks": ""
            },
            "colorscale": [
             [
              0,
              "#0d0887"
             ],
             [
              0.1111111111111111,
              "#46039f"
             ],
             [
              0.2222222222222222,
              "#7201a8"
             ],
             [
              0.3333333333333333,
              "#9c179e"
             ],
             [
              0.4444444444444444,
              "#bd3786"
             ],
             [
              0.5555555555555556,
              "#d8576b"
             ],
             [
              0.6666666666666666,
              "#ed7953"
             ],
             [
              0.7777777777777778,
              "#fb9f3a"
             ],
             [
              0.8888888888888888,
              "#fdca26"
             ],
             [
              1,
              "#f0f921"
             ]
            ],
            "type": "heatmapgl"
           }
          ],
          "histogram": [
           {
            "marker": {
             "pattern": {
              "fillmode": "overlay",
              "size": 10,
              "solidity": 0.2
             }
            },
            "type": "histogram"
           }
          ],
          "histogram2d": [
           {
            "colorbar": {
             "outlinewidth": 0,
             "ticks": ""
            },
            "colorscale": [
             [
              0,
              "#0d0887"
             ],
             [
              0.1111111111111111,
              "#46039f"
             ],
             [
              0.2222222222222222,
              "#7201a8"
             ],
             [
              0.3333333333333333,
              "#9c179e"
             ],
             [
              0.4444444444444444,
              "#bd3786"
             ],
             [
              0.5555555555555556,
              "#d8576b"
             ],
             [
              0.6666666666666666,
              "#ed7953"
             ],
             [
              0.7777777777777778,
              "#fb9f3a"
             ],
             [
              0.8888888888888888,
              "#fdca26"
             ],
             [
              1,
              "#f0f921"
             ]
            ],
            "type": "histogram2d"
           }
          ],
          "histogram2dcontour": [
           {
            "colorbar": {
             "outlinewidth": 0,
             "ticks": ""
            },
            "colorscale": [
             [
              0,
              "#0d0887"
             ],
             [
              0.1111111111111111,
              "#46039f"
             ],
             [
              0.2222222222222222,
              "#7201a8"
             ],
             [
              0.3333333333333333,
              "#9c179e"
             ],
             [
              0.4444444444444444,
              "#bd3786"
             ],
             [
              0.5555555555555556,
              "#d8576b"
             ],
             [
              0.6666666666666666,
              "#ed7953"
             ],
             [
              0.7777777777777778,
              "#fb9f3a"
             ],
             [
              0.8888888888888888,
              "#fdca26"
             ],
             [
              1,
              "#f0f921"
             ]
            ],
            "type": "histogram2dcontour"
           }
          ],
          "mesh3d": [
           {
            "colorbar": {
             "outlinewidth": 0,
             "ticks": ""
            },
            "type": "mesh3d"
           }
          ],
          "parcoords": [
           {
            "line": {
             "colorbar": {
              "outlinewidth": 0,
              "ticks": ""
             }
            },
            "type": "parcoords"
           }
          ],
          "pie": [
           {
            "automargin": true,
            "type": "pie"
           }
          ],
          "scatter": [
           {
            "fillpattern": {
             "fillmode": "overlay",
             "size": 10,
             "solidity": 0.2
            },
            "type": "scatter"
           }
          ],
          "scatter3d": [
           {
            "line": {
             "colorbar": {
              "outlinewidth": 0,
              "ticks": ""
             }
            },
            "marker": {
             "colorbar": {
              "outlinewidth": 0,
              "ticks": ""
             }
            },
            "type": "scatter3d"
           }
          ],
          "scattercarpet": [
           {
            "marker": {
             "colorbar": {
              "outlinewidth": 0,
              "ticks": ""
             }
            },
            "type": "scattercarpet"
           }
          ],
          "scattergeo": [
           {
            "marker": {
             "colorbar": {
              "outlinewidth": 0,
              "ticks": ""
             }
            },
            "type": "scattergeo"
           }
          ],
          "scattergl": [
           {
            "marker": {
             "colorbar": {
              "outlinewidth": 0,
              "ticks": ""
             }
            },
            "type": "scattergl"
           }
          ],
          "scattermapbox": [
           {
            "marker": {
             "colorbar": {
              "outlinewidth": 0,
              "ticks": ""
             }
            },
            "type": "scattermapbox"
           }
          ],
          "scatterpolar": [
           {
            "marker": {
             "colorbar": {
              "outlinewidth": 0,
              "ticks": ""
             }
            },
            "type": "scatterpolar"
           }
          ],
          "scatterpolargl": [
           {
            "marker": {
             "colorbar": {
              "outlinewidth": 0,
              "ticks": ""
             }
            },
            "type": "scatterpolargl"
           }
          ],
          "scatterternary": [
           {
            "marker": {
             "colorbar": {
              "outlinewidth": 0,
              "ticks": ""
             }
            },
            "type": "scatterternary"
           }
          ],
          "surface": [
           {
            "colorbar": {
             "outlinewidth": 0,
             "ticks": ""
            },
            "colorscale": [
             [
              0,
              "#0d0887"
             ],
             [
              0.1111111111111111,
              "#46039f"
             ],
             [
              0.2222222222222222,
              "#7201a8"
             ],
             [
              0.3333333333333333,
              "#9c179e"
             ],
             [
              0.4444444444444444,
              "#bd3786"
             ],
             [
              0.5555555555555556,
              "#d8576b"
             ],
             [
              0.6666666666666666,
              "#ed7953"
             ],
             [
              0.7777777777777778,
              "#fb9f3a"
             ],
             [
              0.8888888888888888,
              "#fdca26"
             ],
             [
              1,
              "#f0f921"
             ]
            ],
            "type": "surface"
           }
          ],
          "table": [
           {
            "cells": {
             "fill": {
              "color": "#EBF0F8"
             },
             "line": {
              "color": "white"
             }
            },
            "header": {
             "fill": {
              "color": "#C8D4E3"
             },
             "line": {
              "color": "white"
             }
            },
            "type": "table"
           }
          ]
         },
         "layout": {
          "annotationdefaults": {
           "arrowcolor": "#2a3f5f",
           "arrowhead": 0,
           "arrowwidth": 1
          },
          "autotypenumbers": "strict",
          "coloraxis": {
           "colorbar": {
            "outlinewidth": 0,
            "ticks": ""
           }
          },
          "colorscale": {
           "diverging": [
            [
             0,
             "#8e0152"
            ],
            [
             0.1,
             "#c51b7d"
            ],
            [
             0.2,
             "#de77ae"
            ],
            [
             0.3,
             "#f1b6da"
            ],
            [
             0.4,
             "#fde0ef"
            ],
            [
             0.5,
             "#f7f7f7"
            ],
            [
             0.6,
             "#e6f5d0"
            ],
            [
             0.7,
             "#b8e186"
            ],
            [
             0.8,
             "#7fbc41"
            ],
            [
             0.9,
             "#4d9221"
            ],
            [
             1,
             "#276419"
            ]
           ],
           "sequential": [
            [
             0,
             "#0d0887"
            ],
            [
             0.1111111111111111,
             "#46039f"
            ],
            [
             0.2222222222222222,
             "#7201a8"
            ],
            [
             0.3333333333333333,
             "#9c179e"
            ],
            [
             0.4444444444444444,
             "#bd3786"
            ],
            [
             0.5555555555555556,
             "#d8576b"
            ],
            [
             0.6666666666666666,
             "#ed7953"
            ],
            [
             0.7777777777777778,
             "#fb9f3a"
            ],
            [
             0.8888888888888888,
             "#fdca26"
            ],
            [
             1,
             "#f0f921"
            ]
           ],
           "sequentialminus": [
            [
             0,
             "#0d0887"
            ],
            [
             0.1111111111111111,
             "#46039f"
            ],
            [
             0.2222222222222222,
             "#7201a8"
            ],
            [
             0.3333333333333333,
             "#9c179e"
            ],
            [
             0.4444444444444444,
             "#bd3786"
            ],
            [
             0.5555555555555556,
             "#d8576b"
            ],
            [
             0.6666666666666666,
             "#ed7953"
            ],
            [
             0.7777777777777778,
             "#fb9f3a"
            ],
            [
             0.8888888888888888,
             "#fdca26"
            ],
            [
             1,
             "#f0f921"
            ]
           ]
          },
          "colorway": [
           "#636efa",
           "#EF553B",
           "#00cc96",
           "#ab63fa",
           "#FFA15A",
           "#19d3f3",
           "#FF6692",
           "#B6E880",
           "#FF97FF",
           "#FECB52"
          ],
          "font": {
           "color": "#2a3f5f"
          },
          "geo": {
           "bgcolor": "white",
           "lakecolor": "white",
           "landcolor": "#E5ECF6",
           "showlakes": true,
           "showland": true,
           "subunitcolor": "white"
          },
          "hoverlabel": {
           "align": "left"
          },
          "hovermode": "closest",
          "mapbox": {
           "style": "light"
          },
          "paper_bgcolor": "white",
          "plot_bgcolor": "#E5ECF6",
          "polar": {
           "angularaxis": {
            "gridcolor": "white",
            "linecolor": "white",
            "ticks": ""
           },
           "bgcolor": "#E5ECF6",
           "radialaxis": {
            "gridcolor": "white",
            "linecolor": "white",
            "ticks": ""
           }
          },
          "scene": {
           "xaxis": {
            "backgroundcolor": "#E5ECF6",
            "gridcolor": "white",
            "gridwidth": 2,
            "linecolor": "white",
            "showbackground": true,
            "ticks": "",
            "zerolinecolor": "white"
           },
           "yaxis": {
            "backgroundcolor": "#E5ECF6",
            "gridcolor": "white",
            "gridwidth": 2,
            "linecolor": "white",
            "showbackground": true,
            "ticks": "",
            "zerolinecolor": "white"
           },
           "zaxis": {
            "backgroundcolor": "#E5ECF6",
            "gridcolor": "white",
            "gridwidth": 2,
            "linecolor": "white",
            "showbackground": true,
            "ticks": "",
            "zerolinecolor": "white"
           }
          },
          "shapedefaults": {
           "line": {
            "color": "#2a3f5f"
           }
          },
          "ternary": {
           "aaxis": {
            "gridcolor": "white",
            "linecolor": "white",
            "ticks": ""
           },
           "baxis": {
            "gridcolor": "white",
            "linecolor": "white",
            "ticks": ""
           },
           "bgcolor": "#E5ECF6",
           "caxis": {
            "gridcolor": "white",
            "linecolor": "white",
            "ticks": ""
           }
          },
          "title": {
           "x": 0.05
          },
          "xaxis": {
           "automargin": true,
           "gridcolor": "white",
           "linecolor": "white",
           "ticks": "",
           "title": {
            "standoff": 15
           },
           "zerolinecolor": "white",
           "zerolinewidth": 2
          },
          "yaxis": {
           "automargin": true,
           "gridcolor": "white",
           "linecolor": "white",
           "ticks": "",
           "title": {
            "standoff": 15
           },
           "zerolinecolor": "white",
           "zerolinewidth": 2
          }
         }
        },
        "title": {
         "text": "Concordance Index Comparison"
        },
        "yaxis": {
         "range": [
          0,
          1
         ]
        }
       }
      }
     },
     "metadata": {},
     "output_type": "display_data"
    }
   ],
   "source": [
    "import plotly.graph_objects as go\n",
    "\n",
    "# Calculate the Concordance Indexes\n",
    "cox_cindex = concordance_index(data['Level'], -data['Cox_Predicted_Churn_Probability'], data['Churn'])\n",
    "km_cindex = c_index  # Assuming c_index is the Concordance Index for the Kaplan-Meier Model\n",
    "rsf_cindex = concordance_index_censored(y['Churn'], y['Level'], rsf_pred)[0]\n",
    "\n",
    "# Create a bar chart\n",
    "fig = go.Figure(data=[\n",
    "    go.Bar(name='Cox Proportional Hazards Model', x=['Concordance Index'], y=[cox_cindex]),\n",
    "    go.Bar(name='Kaplan-Meier Model', x=['Concordance Index'], y=[km_cindex]),\n",
    "    go.Bar(name='Random Survival Forest Model', x=['Concordance Index'], y=[rsf_cindex])\n",
    "])\n",
    "\n",
    "# Change the bar mode\n",
    "fig.update_layout(barmode='group', title='Concordance Index Comparison', yaxis=dict(range=[0, 1]))\n",
    "\n",
    "fig.show()\n"
   ]
  },
  {
   "cell_type": "markdown",
   "metadata": {},
   "source": [
    "***"
   ]
  }
 ],
 "metadata": {
  "kernelspec": {
   "display_name": ".venv",
   "language": "python",
   "name": "python3"
  },
  "language_info": {
   "codemirror_mode": {
    "name": "ipython",
    "version": 3
   },
   "file_extension": ".py",
   "mimetype": "text/x-python",
   "name": "python",
   "nbconvert_exporter": "python",
   "pygments_lexer": "ipython3",
   "version": "3.11.9"
  }
 },
 "nbformat": 4,
 "nbformat_minor": 2
}
