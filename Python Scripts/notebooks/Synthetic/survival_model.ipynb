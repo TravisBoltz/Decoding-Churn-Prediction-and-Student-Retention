{
 "cells": [
  {
   "cell_type": "markdown",
   "metadata": {},
   "source": [
    "**<center><span style=\"font-family:serif; font-size:34px;\"> Decoding Student Retention and Churn of Vodafone (Telecel) in KNUST - A Survival Analytics Approach </span>\n",
    "<a id = \"missingvalue\" ></a><center>**"
   ]
  },
  {
   "cell_type": "markdown",
   "metadata": {},
   "source": [
    "<center><span style=\"font-family:Palatino; font-size:22px;\"><i>A comparative analysis between Cox Proportional Hazards, Kaplan Meier <span style=\"color:#DC143C;\"> and</span> Random Survival Forest Model </i> </center>"
   ]
  },
  {
   "cell_type": "markdown",
   "metadata": {},
   "source": [
    "***"
   ]
  },
  {
   "cell_type": "markdown",
   "metadata": {},
   "source": [
    "#\n",
    "**<center><span style=\"font-family:serif; font-size:34px;\"> Survival Analysis Methodologies</span><a id = \"missingvalue\" ></a><center>**"
   ]
  },
  {
   "cell_type": "markdown",
   "metadata": {},
   "source": [
    "- In the context of this problem, \"methodology\" refers to the systematic processes, techniques, and protocols employed in collecting, managing, processing, and analyzing data to ensure its integrity, accuracy, and effectiveness for drawing insights or building machine learning models.\n",
    "- In this analysis, we employ three methodologies for survival analysis: Kaplan-Meier Estimator, Random Survival Forests (RSF), and Cox Proportional Hazards (CoxPH) model. These methods are used to analyze the time until an event occurs, such as student churn.\n"
   ]
  },
  {
   "cell_type": "markdown",
   "metadata": {},
   "source": [
    "## *Model 1: Kaplan-Meier Estimator\n",
    "\n",
    "**Description:**\n",
    "The Kaplan-Meier estimator is employed in survival analysis to analyze the time until an event occurs.\n",
    "\n",
    "**Mathematical Computation:**\n",
    "\n",
    "The Kaplan-Meier estimator calculates the survival probability at a specific time step by multiplying the probability of surviving each previous time step.\n",
    "\n",
    "Let $S(t)$ be the survival probability at time $t$. The estimator is computed as:\n",
    "\n",
    "$$\n",
    "S(t) = \\prod_{t_i \\leq t} \\left(1 - \\frac{d_i}{n_i}\\right)\n",
    "$$\n",
    "\n",
    "where:\n",
    "- \n",
    "- $t_i$ is the time of the $i$-th unique event (churn)\n",
    "- $d_i$ is the number of events (churn) at time $i$\n",
    "- $n_i$ is the number of students at risk just prior to time $i$\n",
    "\n",
    "The estimator essentially calculates the probability of surviving from one time step to the next, and the product of these probabilities gives the overall survival probability up to time $t$.\n",
    "\n",
    "\n",
    "Here, $t_1$ would be the time at which the first churn event occurred, $d_1$ would be 1 (since one churn event occurred), and $n_1$ would be the total number of students at that time.\n",
    "\n",
    "## *Model 2: Random Survival Forests\n",
    "\n",
    "**Description:**\n",
    "Random Survival Forests extend the traditional random forest algorithm to the survival analysis setting. They are an ensemble method that combines multiple decision trees to improve predictive performance and handle censored data.\n",
    "\n",
    "**Mathematical Computation:**\n",
    "\n",
    "Random Survival Forests use a similar structure to traditional random forests but with modifications to handle right-censored data and to predict survival probabilities.\n",
    "\n",
    "The predicted survival probability at a specific time $t$ for a new instance can be computed as:\n",
    "\n",
    "$$\n",
    "\\hat{S}(t) = \\frac{1}{B} \\sum_{b=1}^{B} \\hat{S}_b(t)\n",
    "$$\n",
    "\n",
    "where:\n",
    "- $\\hat{S}(t)$ is the predicted survival probability\n",
    "- $B$ is the total number of trees in the forest\n",
    "- $\\hat{S}_b(t)$ is the predicted survival probability from the $b$-th tree\n",
    "\n",
    "Each tree is constructed using a bootstrapped sample of the data, and the splitting criteria are based on survival-specific metrics like the log-rank statistic or the log-rank score.\n",
    "\n",
    "For this model, we would need to build multiple decision trees and calculate the predicted survival probability for each tree.\n",
    "\n",
    "The hazard function for a specific student can be calculated using the formula.\n",
    "\n",
    "## *Model 3: Cox Proportional Hazards (Cox PH) Model\n",
    "\n",
    "**Description:**\n",
    "The Cox Proportional Hazards model is a popular semi-parametric model for survival analysis. It models the relationship between the survival time and a set of predictor variables, assuming a proportional hazard rate.\n",
    "\n",
    "**Mathematical Computation:**\n",
    "\n",
    "The Cox PH model is represented as:\n",
    "\n",
    "$$\n",
    "h(t \\mid x) = h_0(t) \\exp(\\beta_1 x_1 + \\beta_2 x_2 + \\dots + \\beta_p x_p)\n",
    "$$\n",
    "\n",
    "where:\n",
    "- $h(t \\mid x)$ is the hazard function, i.e., the instantaneous rate of the event occurring at time $t$ given the predictor variables $x$\n",
    "- $h_0(t)$ is the baseline hazard function, representing the hazard for individuals with all predictor variables equal to zero\n",
    "- $\\beta_1, \\beta_2, ..., \\beta_p$ are the coefficients for the predictor variables\n",
    "\n",
    "The coefficients are estimated using maximum likelihood estimation, and the model assumes a proportional hazard ratio, meaning the effect of the predictors on the hazard is constant over time.\n",
    "\n",
    "## *Concordance Index in Survival Analysis\n",
    "\n",
    "The Concordance Index, often referred to as the C-index or Harrell's C-index, is a statistical metric used to evaluate the performance of models in survival analysis. It assesses how well a model discriminates between subjects in terms of their event times and predicted risks.\n",
    "\n",
    "**Description**: The Concordance Index measures the model's ability to correctly order or rank the predicted risks of individuals based on their actual event times. In survival analysis, the goal is often to predict the time until a specific event occurs, such as death, relapse, or failure. The Concordance Index evaluates whether the model's predicted risks align with the observed event times.\n",
    "\n",
    "**Mathematical Computation**: Let's break down the calculation of the Concordance Index:\n",
    "\n",
    "**Step 1: Define Pairs of Individuals**\n",
    "- Create all possible pairs of individuals from the dataset.\n",
    "- For each pair, compare their predicted risk scores and event times.\n",
    "\n",
    "**Step 2: Calculate Concordant and Discordant Pairs**\n",
    "\n",
    "- A pair of individuals (i, j) is concordant if the ordering of their predicted risks aligns with the ordering of their event times: \n",
    "  - If $\\hat{F}(t_i) > \\hat{F}(t_j)$ and $T_i > T_j$\n",
    "  - If $\\hat{F}(t_i) < \\hat{F}(t_j)$ and $T_i < T_j$\n",
    "- A pair is discordant if the ordering of predicted risks is opposite to the ordering of event times.\n",
    "- Pairs where event times are equal ($T_i = T_j$) are ignored.\n",
    "\n",
    "**Step 3: Compute the Concordance Index**\n",
    "\n",
    "The Concordance Index ($C$) is calculated as:\n",
    "\n",
    "$$\n",
    "C = \\frac{\\text{Number of Concordant Pairs}}{\\text{Number of Concordant Pairs} + \\text{Number of Discordant Pairs}}\n",
    "$$\n",
    "\n",
    "**Interpretation**\n",
    "\n",
    "- $C$ ranges from 0 to 1, where:\n",
    "  - 0.5 indicates random guessing (no predictive ability)\n",
    "  - 1 indicates perfect discrimination (perfect predictive ability)\n",
    "- A $C$ value above 0.5 suggests that the model has predictive ability better than random chance.\n",
    "- Higher $C$ values indicate better model performance and more accurate risk predictions.\n",
    "\n",
    "**Extensions**\n",
    "\n",
    "The Concordance Index can be extended to handle censored data, where individuals may not experience the event of interest during the observation period. Various methods, such as inverse probability of censoring weights (IPCW), can be applied to adjust for censored instances and provide a more accurate assessment of model performance.\n"
   ]
  },
  {
   "cell_type": "markdown",
   "metadata": {},
   "source": [
    "***"
   ]
  },
  {
   "cell_type": "markdown",
   "metadata": {},
   "source": [
    "# \n",
    "**<center><span style=\"font-family:serif; font-size:34px;\"> Survival Analysis Analytics</span><a id = \"missingvalue\" ></a><center>**"
   ]
  },
  {
   "cell_type": "markdown",
   "metadata": {},
   "source": [
    "### Loading of libraries and dataset"
   ]
  },
  {
   "cell_type": "code",
   "execution_count": 121,
   "metadata": {},
   "outputs": [],
   "source": [
    "import pandas as pd\n",
    "from sklearn.preprocessing import LabelEncoder\n",
    "from lifelines import CoxPHFitter, KaplanMeierFitter\n",
    "from lifelines.utils import concordance_index\n",
    "from sksurv.ensemble import RandomSurvivalForest\n",
    "from sksurv.metrics import concordance_index_censored\n",
    "\n",
    "# Load the dataset\n",
    "data = pd.read_csv('../../data/Synthetic/reData.csv')\n",
    "\n",
    "# data = pd.read_csv('newData.csv')\n"
   ]
  },
  {
   "cell_type": "code",
   "execution_count": 122,
   "metadata": {},
   "outputs": [],
   "source": [
    "# def convert_values(val):\n",
    "#     if 0 <= val < 2:\n",
    "#         return '0 - 2'\n",
    "#     elif 2 <= val < 4:\n",
    "#         return '2 - 4'\n",
    "#     elif 4 <= val < 6:\n",
    "#         return '4 - 6'   \n",
    "#     elif 6 <= val < 8:\n",
    "#         return '6 - 8'\n",
    "#     elif 8 <= val < 10:\n",
    "#         return '8 - 10'        \n",
    "#     elif val >= 10:\n",
    "#         return 'More than 10'\n",
    "#     else:\n",
    "#         return str(val)\n",
    "\n",
    "# data['Monthly_Data_Usage'] = data['Monthly_Data_Usage'].apply(convert_values)"
   ]
  },
  {
   "cell_type": "code",
   "execution_count": 123,
   "metadata": {},
   "outputs": [
    {
     "data": {
      "text/html": [
       "<div>\n",
       "<style scoped>\n",
       "    .dataframe tbody tr th:only-of-type {\n",
       "        vertical-align: middle;\n",
       "    }\n",
       "\n",
       "    .dataframe tbody tr th {\n",
       "        vertical-align: top;\n",
       "    }\n",
       "\n",
       "    .dataframe thead th {\n",
       "        text-align: right;\n",
       "    }\n",
       "</style>\n",
       "<table border=\"1\" class=\"dataframe\">\n",
       "  <thead>\n",
       "    <tr style=\"text-align: right;\">\n",
       "      <th></th>\n",
       "      <th>Gender</th>\n",
       "      <th>College</th>\n",
       "      <th>Churn</th>\n",
       "      <th>Level</th>\n",
       "      <th>Residence</th>\n",
       "      <th>SIM_Usage</th>\n",
       "      <th>Usage_Freq</th>\n",
       "      <th>Network_Strength</th>\n",
       "      <th>Voice_Calls</th>\n",
       "      <th>Mobile_Data_Internet</th>\n",
       "      <th>SMS_Text_Messaging</th>\n",
       "      <th>Data_Exhaustion</th>\n",
       "      <th>Other_Networks</th>\n",
       "      <th>Poor_Network_Quality_Coverage</th>\n",
       "      <th>Insufficient_Data_Allowance</th>\n",
       "      <th>Unsatisfactory_Customer_Service</th>\n",
       "      <th>High_Costs_Pricing</th>\n",
       "      <th>Monthly_Data_Usage</th>\n",
       "    </tr>\n",
       "  </thead>\n",
       "  <tbody>\n",
       "    <tr>\n",
       "      <th>0</th>\n",
       "      <td>Female</td>\n",
       "      <td>College of Humanities and Social Sciences</td>\n",
       "      <td>No</td>\n",
       "      <td>100</td>\n",
       "      <td>On-campus</td>\n",
       "      <td>No</td>\n",
       "      <td>Occasionally</td>\n",
       "      <td>4</td>\n",
       "      <td>Yes</td>\n",
       "      <td>Yes</td>\n",
       "      <td>Yes</td>\n",
       "      <td>Yes</td>\n",
       "      <td>Yes</td>\n",
       "      <td>Yes</td>\n",
       "      <td>Yes</td>\n",
       "      <td>Yes</td>\n",
       "      <td>Yes</td>\n",
       "      <td>8.68</td>\n",
       "    </tr>\n",
       "    <tr>\n",
       "      <th>1</th>\n",
       "      <td>Male</td>\n",
       "      <td>College of Humanities and Social Sciences</td>\n",
       "      <td>Yes</td>\n",
       "      <td>100</td>\n",
       "      <td>Off-campus</td>\n",
       "      <td>No</td>\n",
       "      <td>Several times a week</td>\n",
       "      <td>5</td>\n",
       "      <td>Yes</td>\n",
       "      <td>Yes</td>\n",
       "      <td>Yes</td>\n",
       "      <td>Yes</td>\n",
       "      <td>Yes</td>\n",
       "      <td>Yes</td>\n",
       "      <td>No</td>\n",
       "      <td>No</td>\n",
       "      <td>No</td>\n",
       "      <td>1.74</td>\n",
       "    </tr>\n",
       "    <tr>\n",
       "      <th>2</th>\n",
       "      <td>Male</td>\n",
       "      <td>College of Art and Built Environment</td>\n",
       "      <td>No</td>\n",
       "      <td>200</td>\n",
       "      <td>Off-campus</td>\n",
       "      <td>No</td>\n",
       "      <td>Never</td>\n",
       "      <td>1</td>\n",
       "      <td>Yes</td>\n",
       "      <td>Yes</td>\n",
       "      <td>Yes</td>\n",
       "      <td>No</td>\n",
       "      <td>Yes</td>\n",
       "      <td>Yes</td>\n",
       "      <td>Yes</td>\n",
       "      <td>Yes</td>\n",
       "      <td>Yes</td>\n",
       "      <td>9.25</td>\n",
       "    </tr>\n",
       "    <tr>\n",
       "      <th>3</th>\n",
       "      <td>Female</td>\n",
       "      <td>College of Humanities and Social Sciences</td>\n",
       "      <td>No</td>\n",
       "      <td>400</td>\n",
       "      <td>On-campus</td>\n",
       "      <td>Yes</td>\n",
       "      <td>Daily</td>\n",
       "      <td>4</td>\n",
       "      <td>Yes</td>\n",
       "      <td>Yes</td>\n",
       "      <td>Yes</td>\n",
       "      <td>No</td>\n",
       "      <td>Yes</td>\n",
       "      <td>Yes</td>\n",
       "      <td>Yes</td>\n",
       "      <td>Yes</td>\n",
       "      <td>Yes</td>\n",
       "      <td>3.67</td>\n",
       "    </tr>\n",
       "    <tr>\n",
       "      <th>4</th>\n",
       "      <td>Female</td>\n",
       "      <td>College of Humanities and Social Sciences</td>\n",
       "      <td>Yes</td>\n",
       "      <td>400</td>\n",
       "      <td>On-campus</td>\n",
       "      <td>Yes</td>\n",
       "      <td>Occasionally</td>\n",
       "      <td>5</td>\n",
       "      <td>No</td>\n",
       "      <td>No</td>\n",
       "      <td>Yes</td>\n",
       "      <td>Yes</td>\n",
       "      <td>Yes</td>\n",
       "      <td>No</td>\n",
       "      <td>No</td>\n",
       "      <td>No</td>\n",
       "      <td>Yes</td>\n",
       "      <td>0.50</td>\n",
       "    </tr>\n",
       "  </tbody>\n",
       "</table>\n",
       "</div>"
      ],
      "text/plain": [
       "   Gender                                    College Churn  Level   Residence  \\\n",
       "0  Female  College of Humanities and Social Sciences    No    100   On-campus   \n",
       "1    Male  College of Humanities and Social Sciences   Yes    100  Off-campus   \n",
       "2    Male       College of Art and Built Environment    No    200  Off-campus   \n",
       "3  Female  College of Humanities and Social Sciences    No    400   On-campus   \n",
       "4  Female  College of Humanities and Social Sciences   Yes    400   On-campus   \n",
       "\n",
       "  SIM_Usage            Usage_Freq  Network_Strength Voice_Calls  \\\n",
       "0        No          Occasionally                 4         Yes   \n",
       "1        No  Several times a week                 5         Yes   \n",
       "2        No                 Never                 1         Yes   \n",
       "3       Yes                 Daily                 4         Yes   \n",
       "4       Yes          Occasionally                 5          No   \n",
       "\n",
       "  Mobile_Data_Internet SMS_Text_Messaging Data_Exhaustion Other_Networks  \\\n",
       "0                  Yes                Yes             Yes            Yes   \n",
       "1                  Yes                Yes             Yes            Yes   \n",
       "2                  Yes                Yes              No            Yes   \n",
       "3                  Yes                Yes              No            Yes   \n",
       "4                   No                Yes             Yes            Yes   \n",
       "\n",
       "  Poor_Network_Quality_Coverage Insufficient_Data_Allowance  \\\n",
       "0                           Yes                         Yes   \n",
       "1                           Yes                          No   \n",
       "2                           Yes                         Yes   \n",
       "3                           Yes                         Yes   \n",
       "4                            No                          No   \n",
       "\n",
       "  Unsatisfactory_Customer_Service High_Costs_Pricing  Monthly_Data_Usage  \n",
       "0                             Yes                Yes                8.68  \n",
       "1                              No                 No                1.74  \n",
       "2                             Yes                Yes                9.25  \n",
       "3                             Yes                Yes                3.67  \n",
       "4                              No                Yes                0.50  "
      ]
     },
     "execution_count": 123,
     "metadata": {},
     "output_type": "execute_result"
    }
   ],
   "source": [
    "data.head()"
   ]
  },
  {
   "cell_type": "markdown",
   "metadata": {},
   "source": [
    "### Model Building"
   ]
  },
  {
   "cell_type": "markdown",
   "metadata": {},
   "source": [
    "- In this data, our time interval is the Level\n",
    "- Our dependent variable will be on churn"
   ]
  },
  {
   "cell_type": "markdown",
   "metadata": {},
   "source": [
    ">  Models to be used\n",
    "* Cox Proportional Hazards Model: This model assumes that the effects of the predictors are multiplicative with respect to the hazard and are constant over time (proportional hazards assumption). If these assumptions hold true for your data, the Cox model can provide interpretable parameters and is widely used in medical research.\n",
    "* Random Survival Forest Model: This model is a type of ensemble method that can handle more complex interactions between variables and doesn’t make the proportional hazards assumption. It can be more accurate if there are complex, non-linear relationships in your data.\n",
    "* Kaplan-Meier Estimator: This provides a non-parametric estimate of the survival function. This function gives the probability of surviving (not churning) past a given time."
   ]
  },
  {
   "cell_type": "code",
   "execution_count": 124,
   "metadata": {},
   "outputs": [],
   "source": [
    "# # Create a DataFrame to store the encoded values\n",
    "# encoded_values = pd.DataFrame(columns=['Feature', 'Category', 'Encoded Value'])\n",
    "# # Get all the categorical columns\n",
    "# category_feature = data.select_dtypes(include=['object']).columns\n",
    "\n",
    "# # Create a LabelEncoder object\n",
    "# le = LabelEncoder()\n",
    "\n",
    "# # Iterate through each categorical feature\n",
    "# for feature in category_feature:\n",
    "#     # Fit the LabelEncoder on the current feature and transform the data\n",
    "#     data[feature] = le.fit_transform(data[feature])\n",
    "\n",
    "#     # Get the encoded values for the current feature\n",
    "#     for category, encoded_value in zip(le.classes_, le.transform(le.classes_)):\n",
    "#         # Create a temporary DataFrame to hold the current row\n",
    "#         temp_df = pd.DataFrame([{'Feature': feature, 'Category': category, 'Encoded Value': encoded_value}])\n",
    "\n",
    "#         # Append the temporary DataFrame to the main DataFrame\n",
    "#         encoded_values = pd.concat([encoded_values, temp_df], ignore_index=True)\n"
   ]
  },
  {
   "cell_type": "code",
   "execution_count": 125,
   "metadata": {},
   "outputs": [],
   "source": [
    "import numpy as np\n",
    "# Preprocess the data\n",
    "# Encode categorical variables\n",
    "label_encoders = {}\n",
    "categorical_columns = ['Gender', 'College', 'Churn', 'Level', 'Residence', 'SIM_Usage',\n",
    "       'Usage_Freq', 'Network_Strength', 'Voice_Calls',\n",
    "       'Mobile_Data_Internet', 'SMS_Text_Messaging', 'Data_Exhaustion',\n",
    "       'Other_Networks', 'Poor_Network_Quality_Coverage',\n",
    "       'Insufficient_Data_Allowance', 'Unsatisfactory_Customer_Service',\n",
    "       'High_Costs_Pricing','Monthly_Data_Usage']\n",
    "\n",
    "for column in categorical_columns:\n",
    "    le = LabelEncoder()\n",
    "    data[column] = le.fit_transform(data[column])\n",
    "    label_encoders[column] = le\n",
    "    \n",
    "\n",
    "\n",
    "# Prepare data for survival analysis\n",
    "X = data.drop(columns=['Level', 'Churn'])\n",
    "y = data[['Level', 'Churn']].copy()\n",
    "y['Churn'] = y['Churn'].astype(bool)\n",
    "y = y.to_records(index=False)\n"
   ]
  },
  {
   "cell_type": "markdown",
   "metadata": {},
   "source": [
    "> Here, 'Level' will be used as the time-to-event variable and 'Churn' as the event indicator\n"
   ]
  },
  {
   "cell_type": "code",
   "execution_count": 126,
   "metadata": {},
   "outputs": [
    {
     "data": {
      "text/html": [
       "<div>\n",
       "<style scoped>\n",
       "    .dataframe tbody tr th:only-of-type {\n",
       "        vertical-align: middle;\n",
       "    }\n",
       "\n",
       "    .dataframe tbody tr th {\n",
       "        vertical-align: top;\n",
       "    }\n",
       "\n",
       "    .dataframe thead th {\n",
       "        text-align: right;\n",
       "    }\n",
       "</style>\n",
       "<table border=\"1\" class=\"dataframe\">\n",
       "  <tbody>\n",
       "    <tr>\n",
       "      <th>model</th>\n",
       "      <td>lifelines.CoxPHFitter</td>\n",
       "    </tr>\n",
       "    <tr>\n",
       "      <th>duration col</th>\n",
       "      <td>'Level'</td>\n",
       "    </tr>\n",
       "    <tr>\n",
       "      <th>event col</th>\n",
       "      <td>'Churn'</td>\n",
       "    </tr>\n",
       "    <tr>\n",
       "      <th>baseline estimation</th>\n",
       "      <td>breslow</td>\n",
       "    </tr>\n",
       "    <tr>\n",
       "      <th>number of observations</th>\n",
       "      <td>768</td>\n",
       "    </tr>\n",
       "    <tr>\n",
       "      <th>number of events observed</th>\n",
       "      <td>246</td>\n",
       "    </tr>\n",
       "    <tr>\n",
       "      <th>partial log-likelihood</th>\n",
       "      <td>-1206.77</td>\n",
       "    </tr>\n",
       "    <tr>\n",
       "      <th>time fit was run</th>\n",
       "      <td>2024-07-07 11:57:25 UTC</td>\n",
       "    </tr>\n",
       "  </tbody>\n",
       "</table>\n",
       "</div><table border=\"1\" class=\"dataframe\">\n",
       "  <thead>\n",
       "    <tr style=\"text-align: right;\">\n",
       "      <th style=\"min-width: 12px;\"></th>\n",
       "      <th style=\"min-width: 12px;\">coef</th>\n",
       "      <th style=\"min-width: 12px;\">exp(coef)</th>\n",
       "      <th style=\"min-width: 12px;\">se(coef)</th>\n",
       "      <th style=\"min-width: 12px;\">coef lower 95%</th>\n",
       "      <th style=\"min-width: 12px;\">coef upper 95%</th>\n",
       "      <th style=\"min-width: 12px;\">exp(coef) lower 95%</th>\n",
       "      <th style=\"min-width: 12px;\">exp(coef) upper 95%</th>\n",
       "      <th style=\"min-width: 12px;\">cmp to</th>\n",
       "      <th style=\"min-width: 12px;\">z</th>\n",
       "      <th style=\"min-width: 12px;\">p</th>\n",
       "      <th style=\"min-width: 12px;\">-log2(p)</th>\n",
       "    </tr>\n",
       "  </thead>\n",
       "  <tbody>\n",
       "    <tr>\n",
       "      <th>Gender</th>\n",
       "      <td>0.09</td>\n",
       "      <td>1.10</td>\n",
       "      <td>0.13</td>\n",
       "      <td>-0.17</td>\n",
       "      <td>0.36</td>\n",
       "      <td>0.84</td>\n",
       "      <td>1.43</td>\n",
       "      <td>0.00</td>\n",
       "      <td>0.69</td>\n",
       "      <td>0.49</td>\n",
       "      <td>1.03</td>\n",
       "    </tr>\n",
       "    <tr>\n",
       "      <th>College</th>\n",
       "      <td>-0.13</td>\n",
       "      <td>0.88</td>\n",
       "      <td>0.04</td>\n",
       "      <td>-0.20</td>\n",
       "      <td>-0.05</td>\n",
       "      <td>0.82</td>\n",
       "      <td>0.95</td>\n",
       "      <td>0.00</td>\n",
       "      <td>-3.31</td>\n",
       "      <td>&lt;0.005</td>\n",
       "      <td>10.09</td>\n",
       "    </tr>\n",
       "    <tr>\n",
       "      <th>Residence</th>\n",
       "      <td>0.15</td>\n",
       "      <td>1.16</td>\n",
       "      <td>0.17</td>\n",
       "      <td>-0.19</td>\n",
       "      <td>0.48</td>\n",
       "      <td>0.83</td>\n",
       "      <td>1.61</td>\n",
       "      <td>0.00</td>\n",
       "      <td>0.86</td>\n",
       "      <td>0.39</td>\n",
       "      <td>1.36</td>\n",
       "    </tr>\n",
       "    <tr>\n",
       "      <th>SIM_Usage</th>\n",
       "      <td>0.04</td>\n",
       "      <td>1.04</td>\n",
       "      <td>0.13</td>\n",
       "      <td>-0.23</td>\n",
       "      <td>0.30</td>\n",
       "      <td>0.80</td>\n",
       "      <td>1.35</td>\n",
       "      <td>0.00</td>\n",
       "      <td>0.28</td>\n",
       "      <td>0.78</td>\n",
       "      <td>0.36</td>\n",
       "    </tr>\n",
       "    <tr>\n",
       "      <th>Usage_Freq</th>\n",
       "      <td>0.07</td>\n",
       "      <td>1.07</td>\n",
       "      <td>0.04</td>\n",
       "      <td>-0.01</td>\n",
       "      <td>0.15</td>\n",
       "      <td>0.99</td>\n",
       "      <td>1.16</td>\n",
       "      <td>0.00</td>\n",
       "      <td>1.61</td>\n",
       "      <td>0.11</td>\n",
       "      <td>3.23</td>\n",
       "    </tr>\n",
       "    <tr>\n",
       "      <th>Network_Strength</th>\n",
       "      <td>0.06</td>\n",
       "      <td>1.06</td>\n",
       "      <td>0.05</td>\n",
       "      <td>-0.03</td>\n",
       "      <td>0.15</td>\n",
       "      <td>0.97</td>\n",
       "      <td>1.17</td>\n",
       "      <td>0.00</td>\n",
       "      <td>1.26</td>\n",
       "      <td>0.21</td>\n",
       "      <td>2.28</td>\n",
       "    </tr>\n",
       "    <tr>\n",
       "      <th>Voice_Calls</th>\n",
       "      <td>-0.22</td>\n",
       "      <td>0.80</td>\n",
       "      <td>0.17</td>\n",
       "      <td>-0.55</td>\n",
       "      <td>0.11</td>\n",
       "      <td>0.57</td>\n",
       "      <td>1.12</td>\n",
       "      <td>0.00</td>\n",
       "      <td>-1.30</td>\n",
       "      <td>0.19</td>\n",
       "      <td>2.38</td>\n",
       "    </tr>\n",
       "    <tr>\n",
       "      <th>Mobile_Data_Internet</th>\n",
       "      <td>0.23</td>\n",
       "      <td>1.26</td>\n",
       "      <td>0.17</td>\n",
       "      <td>-0.11</td>\n",
       "      <td>0.57</td>\n",
       "      <td>0.90</td>\n",
       "      <td>1.77</td>\n",
       "      <td>0.00</td>\n",
       "      <td>1.35</td>\n",
       "      <td>0.18</td>\n",
       "      <td>2.49</td>\n",
       "    </tr>\n",
       "    <tr>\n",
       "      <th>SMS_Text_Messaging</th>\n",
       "      <td>0.02</td>\n",
       "      <td>1.02</td>\n",
       "      <td>0.18</td>\n",
       "      <td>-0.32</td>\n",
       "      <td>0.37</td>\n",
       "      <td>0.72</td>\n",
       "      <td>1.44</td>\n",
       "      <td>0.00</td>\n",
       "      <td>0.13</td>\n",
       "      <td>0.90</td>\n",
       "      <td>0.15</td>\n",
       "    </tr>\n",
       "    <tr>\n",
       "      <th>Data_Exhaustion</th>\n",
       "      <td>-0.11</td>\n",
       "      <td>0.90</td>\n",
       "      <td>0.13</td>\n",
       "      <td>-0.36</td>\n",
       "      <td>0.15</td>\n",
       "      <td>0.69</td>\n",
       "      <td>1.16</td>\n",
       "      <td>0.00</td>\n",
       "      <td>-0.81</td>\n",
       "      <td>0.42</td>\n",
       "      <td>1.27</td>\n",
       "    </tr>\n",
       "    <tr>\n",
       "      <th>Other_Networks</th>\n",
       "      <td>0.17</td>\n",
       "      <td>1.18</td>\n",
       "      <td>0.22</td>\n",
       "      <td>-0.27</td>\n",
       "      <td>0.60</td>\n",
       "      <td>0.77</td>\n",
       "      <td>1.83</td>\n",
       "      <td>0.00</td>\n",
       "      <td>0.76</td>\n",
       "      <td>0.45</td>\n",
       "      <td>1.16</td>\n",
       "    </tr>\n",
       "    <tr>\n",
       "      <th>Poor_Network_Quality_Coverage</th>\n",
       "      <td>-0.53</td>\n",
       "      <td>0.59</td>\n",
       "      <td>0.17</td>\n",
       "      <td>-0.86</td>\n",
       "      <td>-0.20</td>\n",
       "      <td>0.42</td>\n",
       "      <td>0.82</td>\n",
       "      <td>0.00</td>\n",
       "      <td>-3.17</td>\n",
       "      <td>&lt;0.005</td>\n",
       "      <td>9.37</td>\n",
       "    </tr>\n",
       "    <tr>\n",
       "      <th>Insufficient_Data_Allowance</th>\n",
       "      <td>-0.99</td>\n",
       "      <td>0.37</td>\n",
       "      <td>0.18</td>\n",
       "      <td>-1.35</td>\n",
       "      <td>-0.63</td>\n",
       "      <td>0.26</td>\n",
       "      <td>0.53</td>\n",
       "      <td>0.00</td>\n",
       "      <td>-5.38</td>\n",
       "      <td>&lt;0.005</td>\n",
       "      <td>23.72</td>\n",
       "    </tr>\n",
       "    <tr>\n",
       "      <th>Unsatisfactory_Customer_Service</th>\n",
       "      <td>-1.20</td>\n",
       "      <td>0.30</td>\n",
       "      <td>0.19</td>\n",
       "      <td>-1.56</td>\n",
       "      <td>-0.83</td>\n",
       "      <td>0.21</td>\n",
       "      <td>0.44</td>\n",
       "      <td>0.00</td>\n",
       "      <td>-6.42</td>\n",
       "      <td>&lt;0.005</td>\n",
       "      <td>32.80</td>\n",
       "    </tr>\n",
       "    <tr>\n",
       "      <th>High_Costs_Pricing</th>\n",
       "      <td>-0.82</td>\n",
       "      <td>0.44</td>\n",
       "      <td>0.18</td>\n",
       "      <td>-1.17</td>\n",
       "      <td>-0.46</td>\n",
       "      <td>0.31</td>\n",
       "      <td>0.63</td>\n",
       "      <td>0.00</td>\n",
       "      <td>-4.54</td>\n",
       "      <td>&lt;0.005</td>\n",
       "      <td>17.43</td>\n",
       "    </tr>\n",
       "    <tr>\n",
       "      <th>Monthly_Data_Usage</th>\n",
       "      <td>-0.00</td>\n",
       "      <td>1.00</td>\n",
       "      <td>0.00</td>\n",
       "      <td>-0.00</td>\n",
       "      <td>-0.00</td>\n",
       "      <td>1.00</td>\n",
       "      <td>1.00</td>\n",
       "      <td>0.00</td>\n",
       "      <td>-2.63</td>\n",
       "      <td>0.01</td>\n",
       "      <td>6.87</td>\n",
       "    </tr>\n",
       "  </tbody>\n",
       "</table><br><div>\n",
       "<style scoped>\n",
       "    .dataframe tbody tr th:only-of-type {\n",
       "        vertical-align: middle;\n",
       "    }\n",
       "\n",
       "    .dataframe tbody tr th {\n",
       "        vertical-align: top;\n",
       "    }\n",
       "\n",
       "    .dataframe thead th {\n",
       "        text-align: right;\n",
       "    }\n",
       "</style>\n",
       "<table border=\"1\" class=\"dataframe\">\n",
       "  <tbody>\n",
       "    <tr>\n",
       "      <th>Concordance</th>\n",
       "      <td>0.89</td>\n",
       "    </tr>\n",
       "    <tr>\n",
       "      <th>Partial AIC</th>\n",
       "      <td>2445.54</td>\n",
       "    </tr>\n",
       "    <tr>\n",
       "      <th>log-likelihood ratio test</th>\n",
       "      <td>464.53 on 16 df</td>\n",
       "    </tr>\n",
       "    <tr>\n",
       "      <th>-log2(p) of ll-ratio test</th>\n",
       "      <td>292.33</td>\n",
       "    </tr>\n",
       "  </tbody>\n",
       "</table>\n",
       "</div>"
      ],
      "text/latex": [
       "\\begin{tabular}{lrrrrrrrrrrr}\n",
       " & coef & exp(coef) & se(coef) & coef lower 95% & coef upper 95% & exp(coef) lower 95% & exp(coef) upper 95% & cmp to & z & p & -log2(p) \\\\\n",
       "covariate &  &  &  &  &  &  &  &  &  &  &  \\\\\n",
       "Gender & 0.09 & 1.10 & 0.13 & -0.17 & 0.36 & 0.84 & 1.43 & 0.00 & 0.69 & 0.49 & 1.03 \\\\\n",
       "College & -0.13 & 0.88 & 0.04 & -0.20 & -0.05 & 0.82 & 0.95 & 0.00 & -3.31 & 0.00 & 10.09 \\\\\n",
       "Residence & 0.15 & 1.16 & 0.17 & -0.19 & 0.48 & 0.83 & 1.61 & 0.00 & 0.86 & 0.39 & 1.36 \\\\\n",
       "SIM_Usage & 0.04 & 1.04 & 0.13 & -0.23 & 0.30 & 0.80 & 1.35 & 0.00 & 0.28 & 0.78 & 0.36 \\\\\n",
       "Usage_Freq & 0.07 & 1.07 & 0.04 & -0.01 & 0.15 & 0.99 & 1.16 & 0.00 & 1.61 & 0.11 & 3.23 \\\\\n",
       "Network_Strength & 0.06 & 1.06 & 0.05 & -0.03 & 0.15 & 0.97 & 1.17 & 0.00 & 1.26 & 0.21 & 2.28 \\\\\n",
       "Voice_Calls & -0.22 & 0.80 & 0.17 & -0.55 & 0.11 & 0.57 & 1.12 & 0.00 & -1.30 & 0.19 & 2.38 \\\\\n",
       "Mobile_Data_Internet & 0.23 & 1.26 & 0.17 & -0.11 & 0.57 & 0.90 & 1.77 & 0.00 & 1.35 & 0.18 & 2.49 \\\\\n",
       "SMS_Text_Messaging & 0.02 & 1.02 & 0.18 & -0.32 & 0.37 & 0.72 & 1.44 & 0.00 & 0.13 & 0.90 & 0.15 \\\\\n",
       "Data_Exhaustion & -0.11 & 0.90 & 0.13 & -0.36 & 0.15 & 0.69 & 1.16 & 0.00 & -0.81 & 0.42 & 1.27 \\\\\n",
       "Other_Networks & 0.17 & 1.18 & 0.22 & -0.27 & 0.60 & 0.77 & 1.83 & 0.00 & 0.76 & 0.45 & 1.16 \\\\\n",
       "Poor_Network_Quality_Coverage & -0.53 & 0.59 & 0.17 & -0.86 & -0.20 & 0.42 & 0.82 & 0.00 & -3.17 & 0.00 & 9.37 \\\\\n",
       "Insufficient_Data_Allowance & -0.99 & 0.37 & 0.18 & -1.35 & -0.63 & 0.26 & 0.53 & 0.00 & -5.38 & 0.00 & 23.72 \\\\\n",
       "Unsatisfactory_Customer_Service & -1.20 & 0.30 & 0.19 & -1.56 & -0.83 & 0.21 & 0.44 & 0.00 & -6.42 & 0.00 & 32.80 \\\\\n",
       "High_Costs_Pricing & -0.82 & 0.44 & 0.18 & -1.17 & -0.46 & 0.31 & 0.63 & 0.00 & -4.54 & 0.00 & 17.43 \\\\\n",
       "Monthly_Data_Usage & -0.00 & 1.00 & 0.00 & -0.00 & -0.00 & 1.00 & 1.00 & 0.00 & -2.63 & 0.01 & 6.87 \\\\\n",
       "\\end{tabular}\n"
      ],
      "text/plain": [
       "<lifelines.CoxPHFitter: fitted with 768 total observations, 522 right-censored observations>\n",
       "             duration col = 'Level'\n",
       "                event col = 'Churn'\n",
       "      baseline estimation = breslow\n",
       "   number of observations = 768\n",
       "number of events observed = 246\n",
       "   partial log-likelihood = -1206.77\n",
       "         time fit was run = 2024-07-07 11:57:25 UTC\n",
       "\n",
       "---\n",
       "                                 coef exp(coef)  se(coef)  coef lower 95%  coef upper 95% exp(coef) lower 95% exp(coef) upper 95%\n",
       "covariate                                                                                                                        \n",
       "Gender                           0.09      1.10      0.13           -0.17            0.36                0.84                1.43\n",
       "College                         -0.13      0.88      0.04           -0.20           -0.05                0.82                0.95\n",
       "Residence                        0.15      1.16      0.17           -0.19            0.48                0.83                1.61\n",
       "SIM_Usage                        0.04      1.04      0.13           -0.23            0.30                0.80                1.35\n",
       "Usage_Freq                       0.07      1.07      0.04           -0.01            0.15                0.99                1.16\n",
       "Network_Strength                 0.06      1.06      0.05           -0.03            0.15                0.97                1.17\n",
       "Voice_Calls                     -0.22      0.80      0.17           -0.55            0.11                0.57                1.12\n",
       "Mobile_Data_Internet             0.23      1.26      0.17           -0.11            0.57                0.90                1.77\n",
       "SMS_Text_Messaging               0.02      1.02      0.18           -0.32            0.37                0.72                1.44\n",
       "Data_Exhaustion                 -0.11      0.90      0.13           -0.36            0.15                0.69                1.16\n",
       "Other_Networks                   0.17      1.18      0.22           -0.27            0.60                0.77                1.83\n",
       "Poor_Network_Quality_Coverage   -0.53      0.59      0.17           -0.86           -0.20                0.42                0.82\n",
       "Insufficient_Data_Allowance     -0.99      0.37      0.18           -1.35           -0.63                0.26                0.53\n",
       "Unsatisfactory_Customer_Service -1.20      0.30      0.19           -1.56           -0.83                0.21                0.44\n",
       "High_Costs_Pricing              -0.82      0.44      0.18           -1.17           -0.46                0.31                0.63\n",
       "Monthly_Data_Usage              -0.00      1.00      0.00           -0.00           -0.00                1.00                1.00\n",
       "\n",
       "                                 cmp to     z      p  -log2(p)\n",
       "covariate                                                     \n",
       "Gender                             0.00  0.69   0.49      1.03\n",
       "College                            0.00 -3.31 <0.005     10.09\n",
       "Residence                          0.00  0.86   0.39      1.36\n",
       "SIM_Usage                          0.00  0.28   0.78      0.36\n",
       "Usage_Freq                         0.00  1.61   0.11      3.23\n",
       "Network_Strength                   0.00  1.26   0.21      2.28\n",
       "Voice_Calls                        0.00 -1.30   0.19      2.38\n",
       "Mobile_Data_Internet               0.00  1.35   0.18      2.49\n",
       "SMS_Text_Messaging                 0.00  0.13   0.90      0.15\n",
       "Data_Exhaustion                    0.00 -0.81   0.42      1.27\n",
       "Other_Networks                     0.00  0.76   0.45      1.16\n",
       "Poor_Network_Quality_Coverage      0.00 -3.17 <0.005      9.37\n",
       "Insufficient_Data_Allowance        0.00 -5.38 <0.005     23.72\n",
       "Unsatisfactory_Customer_Service    0.00 -6.42 <0.005     32.80\n",
       "High_Costs_Pricing                 0.00 -4.54 <0.005     17.43\n",
       "Monthly_Data_Usage                 0.00 -2.63   0.01      6.87\n",
       "---\n",
       "Concordance = 0.89\n",
       "Partial AIC = 2445.54\n",
       "log-likelihood ratio test = 464.53 on 16 df\n",
       "-log2(p) of ll-ratio test = 292.33"
      ]
     },
     "metadata": {},
     "output_type": "display_data"
    }
   ],
   "source": [
    "# Cox Proportional Hazards Model\n",
    "cph = CoxPHFitter()\n",
    "cph.fit(data, duration_col='Level', event_col='Churn')\n",
    "cph.print_summary()"
   ]
  },
  {
   "cell_type": "markdown",
   "metadata": {},
   "source": [
    "> Model Information\n",
    "- model: lifelines.CoxPHFitter (Cox Proportional Hazards model fitted using the lifelines library in Python.)\n",
    "- duration col: 'Level' (This is the time duration column used in the survival analysis.)\n",
    "- event col: 'Churn' (This is the event indicator column; 1 if the event (churn) occurred, 0 if censored.)\n",
    "- baseline estimation: breslow (This is the method used for baseline hazard estimation.)\n",
    "- number of observations: 768 (Total number of data points.)\n",
    "- number of events observed: 246 (Number of events (churn) observed.)\n",
    "- partial log-likelihood: -1207.24 (Log-likelihood of the fitted model.)\n",
    "- time fit was run: 2024-06-13 00:05:49 UTC"
   ]
  },
  {
   "cell_type": "markdown",
   "metadata": {},
   "source": [
    "> Coefficients Table\n",
    "- coef: The estimated coefficient for the variable.\n",
    "- exp(coef): The exponentiation of the coefficient, which represents the hazard ratio.\n",
    "- se(coef): Standard error of the coefficient.\n",
    "- coef lower 95%: Lower bound of the 95% confidence interval for the coefficient.\n",
    "- coef upper 95%: Upper bound of the 95% confidence interval for the coefficient.\n",
    "- exp(coef) lower 95%: Lower bound of the 95% confidence interval for the hazard ratio.\n",
    "- exp(coef) upper 95%: Upper bound of the 95% confidence interval for the hazard ratio.\n",
    "- cmp to: The comparison value, typically zero.\n",
    "- z: The z-value (coefficient divided by its standard error).\n",
    "- p: The p-value (probability that the coefficient is different from zero).\n",
    "- -log2(p): The negative log base 2 of the p-value (used for better interpretation of very small p-values)."
   ]
  },
  {
   "cell_type": "markdown",
   "metadata": {},
   "source": [
    "> Interpretation of Key Variables\n",
    "- Gender: Coefficient is 0.10, hazard ratio is 1.10. P-value of 0.46 indicates this is not statistically significant.\n",
    "- College: Coefficient is -0.13, hazard ratio is 0.88. P-value < 0.005 indicates this is statistically significant.\n",
    "- Residence: Coefficient is 0.16, hazard ratio is 1.17. P-value of 0.35 indicates this is not statistically significant.\n",
    "- Poor_Network_Quality_Coverage: Coefficient is -0.53, hazard ratio is 0.59. P-value < 0.005 indicates this is statistically significant.\n",
    "- Insufficient_Data_Allowance: Coefficient is -0.99, hazard ratio is 0.37. P-value < 0.005 indicates this is statistically significant.\n",
    "- Unsatisfactory_Customer_Service: Coefficient is -1.19, hazard ratio is 0.31. P-value < 0.005 indicates this is statistically significant.\n",
    "- High_Costs_Pricing: Coefficient is -0.81, hazard ratio is 0.44. P-value < 0.005 indicates this is statistically significant."
   ]
  },
  {
   "cell_type": "markdown",
   "metadata": {},
   "source": [
    "> Model Performance Metrics\n",
    "- Concordance: 0.89 (Indicates the model's ability to correctly rank the pairs of observations, values closer to 1 are better.)\n",
    "- Partial AIC: 2446.48 (A measure of the model's fit, lower values are better.)\n",
    "- log-likelihood ratio test: 463.59 on 16 df (Degrees of freedom). This tests the overall significance of the model.\n",
    "- -log2(p) of ll-ratio test: 291.67 (Provides a measure of the significance of the log-likelihood ratio test, larger values indicate higher significance.)"
   ]
  },
  {
   "cell_type": "markdown",
   "metadata": {},
   "source": [
    "> Summary\n",
    "- Variables like College, Poor_Network_Quality_Coverage, Insufficient_Data_Allowance, Unsatisfactory_Customer_Service, and High_Costs_Pricing are significant predictors of churn.\n",
    "- The concordance index of 0.89 suggests that the model has a high predictive accuracy.\n",
    "- The model overall is highly significant, as indicated by the log-likelihood ratio test."
   ]
  },
  {
   "cell_type": "markdown",
   "metadata": {},
   "source": [
    "### Cox Proportional Hazards Model Predictions\n"
   ]
  },
  {
   "cell_type": "code",
   "execution_count": 127,
   "metadata": {},
   "outputs": [
    {
     "name": "stdout",
     "output_type": "stream",
     "text": [
      "     Cox_Predicted_Churn_Probability  Churn\n",
      "0                           0.325708      0\n",
      "1                          11.795290      1\n",
      "2                           0.381126      0\n",
      "3                           0.452461      0\n",
      "4                           9.124689      1\n",
      "..                               ...    ...\n",
      "763                         0.346517      0\n",
      "764                         0.295414      0\n",
      "765                         0.627344      0\n",
      "766                         0.443724      0\n",
      "767                         0.287953      0\n",
      "\n",
      "[768 rows x 2 columns]\n"
     ]
    }
   ],
   "source": [
    "# Predict churn probabilities using Cox model\n",
    "data['Cox_Predicted_Churn_Probability'] = cph.predict_partial_hazard(data)\n",
    "print(data[['Cox_Predicted_Churn_Probability', 'Churn']])\n",
    "\n"
   ]
  },
  {
   "cell_type": "markdown",
   "metadata": {},
   "source": [
    "> Interpretaion\n",
    "* Cox_Predicted_Churn_Probability: This column contains the predicted partial hazard for each individual. The partial hazard is a relative measure of the risk of the event (churn) occurring at a specific time compared to a baseline.\n",
    "* Churn: This column indicates whether the churn event actually occurred (1 if the student churned, 0 if they did not).\n",
    "- The Cox model predicts the risk of churn for each student based on their covariates (features). A higher predicted partial hazard indicates a higher risk of churn."
   ]
  },
  {
   "cell_type": "markdown",
   "metadata": {},
   "source": [
    "> Explanation\n",
    "- The first student has a predicted partial hazard of 0.327843 and did not (Churn = false ).\n",
    "- The second student has a predicted partial hazard of 11.8 and actually churned (Churn = true).\n",
    "- This suggests the second student had a higher risk of churn compared to the first."
   ]
  },
  {
   "cell_type": "markdown",
   "metadata": {},
   "source": [
    "### Kaplan-Meier Estimator Predictions\n"
   ]
  },
  {
   "cell_type": "code",
   "execution_count": 128,
   "metadata": {},
   "outputs": [
    {
     "name": "stdout",
     "output_type": "stream",
     "text": [
      "     Kaplan_Meier_Predicted_Survival_Probability  Churn\n",
      "0                                       0.930990      0\n",
      "1                                       0.930990      1\n",
      "2                                       0.843861      0\n",
      "3                                       0.509659      0\n",
      "4                                       0.509659      1\n",
      "..                                           ...    ...\n",
      "763                                     0.694075      0\n",
      "764                                     0.315752      0\n",
      "765                                     0.694075      0\n",
      "766                                     0.930990      0\n",
      "767                                     0.694075      0\n",
      "\n",
      "[768 rows x 2 columns]\n"
     ]
    }
   ],
   "source": [
    "from lifelines.utils import concordance_index\n",
    "\n",
    "# Kaplan-Meier Estimator\n",
    "kmf = KaplanMeierFitter()\n",
    "kmf.fit(data['Level'], event_observed=data['Churn'])\n",
    "data['Kaplan_Meier_Predicted_Survival_Probability'] = kmf.predict(data['Level']).values\n",
    "\n",
    "# Calculate the Concordance Index\n",
    "c_index = concordance_index(data['Level'], -data['Kaplan_Meier_Predicted_Survival_Probability'], data['Churn'])\n",
    "\n",
    "# Print the data\n",
    "print(data[['Kaplan_Meier_Predicted_Survival_Probability', 'Churn']])\n"
   ]
  },
  {
   "cell_type": "markdown",
   "metadata": {},
   "source": [
    "> Interpretation:\n",
    "\n",
    "* Kaplan_Meier_Predicted_Survival_Probability: This column contains the predicted survival probabilities at each time point for each individual. The survival probability is the probability that an individual will survive (not churn) beyond a certain time.\n",
    "* Churn: This column indicates whether the churn event actually occurred (1 if the student churned, 0 if they did not).\n"
   ]
  },
  {
   "cell_type": "markdown",
   "metadata": {},
   "source": [
    "> Explanation\n",
    "- The first student has a predicted survival probability of 0.930990 and did not churn (Churn = false).\n",
    "- The second student has a predicted survival probability of 0.930990 and actually churned (Churn = true).\n",
    "- This suggests the second student had a lower probability of surviving (not churning) compared to the first."
   ]
  },
  {
   "cell_type": "markdown",
   "metadata": {},
   "source": [
    "### Random Survival Forest Model Predictions\n"
   ]
  },
  {
   "cell_type": "code",
   "execution_count": 129,
   "metadata": {},
   "outputs": [
    {
     "ename": "NameError",
     "evalue": "name 'rsf' is not defined",
     "output_type": "error",
     "traceback": [
      "\u001b[1;31m---------------------------------------------------------------------------\u001b[0m",
      "\u001b[1;31mNameError\u001b[0m                                 Traceback (most recent call last)",
      "Cell \u001b[1;32mIn[129], line 9\u001b[0m\n\u001b[0;32m      6\u001b[0m X \u001b[38;5;241m=\u001b[39m data\u001b[38;5;241m.\u001b[39mdrop(columns\u001b[38;5;241m=\u001b[39m[\u001b[38;5;124m'\u001b[39m\u001b[38;5;124mLevel\u001b[39m\u001b[38;5;124m'\u001b[39m, \u001b[38;5;124m'\u001b[39m\u001b[38;5;124mChurn\u001b[39m\u001b[38;5;124m'\u001b[39m])\n\u001b[0;32m      8\u001b[0m \u001b[38;5;66;03m# Fit the Random Survival Forest model\u001b[39;00m\n\u001b[1;32m----> 9\u001b[0m \u001b[43mrsf\u001b[49m\u001b[38;5;241m.\u001b[39mfit(X, y)\n\u001b[0;32m     10\u001b[0m rsf_pred \u001b[38;5;241m=\u001b[39m rsf\u001b[38;5;241m.\u001b[39mpredict(X)  \u001b[38;5;66;03m# Add this line to define rsf_pred\u001b[39;00m\n\u001b[0;32m     11\u001b[0m data[\u001b[38;5;124m'\u001b[39m\u001b[38;5;124mRSF_Predicted_Churn_Probability\u001b[39m\u001b[38;5;124m'\u001b[39m] \u001b[38;5;241m=\u001b[39m rsf_pred\n",
      "\u001b[1;31mNameError\u001b[0m: name 'rsf' is not defined"
     ]
    }
   ],
   "source": [
    "# Convert 'Churn' column to boolean\n",
    "data['Churn'] = data['Churn'].astype(bool)\n",
    "\n",
    "# Create a structured array for 'y'\n",
    "# Define the variable 'X'\n",
    "X = data.drop(columns=['Level', 'Churn'])\n",
    "\n",
    "# Fit the Random Survival Forest model\n",
    "rsf.fit(X, y)\n",
    "rsf_pred = rsf.predict(X)  # Add this line to define rsf_pred\n",
    "data['RSF_Predicted_Churn_Probability'] = rsf_pred\n",
    "print(data[['RSF_Predicted_Churn_Probability', 'Churn']])\n",
    "\n",
    "# Evaluate the models using Concordance Index\n",
    "cox_cindex = concordance_index(data['Level'], -data['Cox_Predicted_Churn_Probability'], data['Churn'])\n"
   ]
  },
  {
   "cell_type": "markdown",
   "metadata": {},
   "source": [
    "> Interpretation\n",
    "* RSF_Predicted_Churn_Probability: This column contains the predicted churn probabilities from the Random Survival Forest model. These values are not strict probabilities but rather scores indicating the risk of churn.\n",
    "* Churn: This column indicates whether the churn event actually occurred (True if the student churned, False if they did not)."
   ]
  },
  {
   "cell_type": "markdown",
   "metadata": {},
   "source": [
    "> Explanation\n",
    "- A higher predicted churn probability score (e.g., 6.948619    for row 1) indicates a higher risk of churn.\n",
    "- A lower score (e.g., 0.024500 for row 0) indicates a lower risk of churn\n",
    "- Row 0 has a predicted churn probability of 0.024500 and the student did not churn (Churn = False).\n",
    "- Row 1 has a predicted churn probability of 6.948619    and the student did churn (Churn = True)."
   ]
  },
  {
   "cell_type": "markdown",
   "metadata": {},
   "source": [
    "***"
   ]
  },
  {
   "cell_type": "markdown",
   "metadata": {},
   "source": [
    "### Visualiztion of the models"
   ]
  },
  {
   "cell_type": "code",
   "execution_count": null,
   "metadata": {},
   "outputs": [
    {
     "data": {
      "image/png": "[encoded data removed]",
      "text/plain": [
       "<Figure size 1000x600 with 1 Axes>"
      ]
     },
     "metadata": {},
     "output_type": "display_data"
    }
   ],
   "source": [
    "import matplotlib.pyplot as plt\n",
    "import seaborn as sns\n",
    "\n",
    "# Plotting the coefficients of the Cox Proportional Hazards Model\n",
    "plt.figure(figsize=(10, 6))\n",
    "cph.plot()\n",
    "plt.title('Cox Proportional Hazards Model Coefficients')\n",
    "plt.show()\n",
    "\n"
   ]
  },
  {
   "cell_type": "markdown",
   "metadata": {},
   "source": [
    "* The point estimate for each factor represents the log hazard ratio (log(HR)), which is a measure of the effect size. If the point estimate (the square on each line) is to the left of the vertical dashed line at zero, it suggests that the factor decreases the likelihood of student churn (i.e., it has a positive influence on retention). Conversely, if the point estimate is to the right of the line, it suggests that the factor increases the risk of churn. The further a point estimate is from zero, the stronger its effect.\n",
    "\n",
    "* The horizontal lines represent the 95% confidence interval (CI) for each factor’s effect size. If the CI crosses the vertical line at zero, it means that the effect of that factor is not statistically significant at the 95% confidence level.\n",
    "\n",
    "* From the plot, it appears that factors like Mobile Data Internet, Other Networks, Residence Frequency, Gender, Usage Frequency, Network Strength, SIM Usage, Monthly Data Usage, SMS Text Messaging, Data Exhaustion, Voice Calls, Poor Network Quality, High Costs, Insufficient Data Allowance, and Unsatisfactory Customer Service all have varying degrees of influence on student churn. You would need to look at the specific log(HR) values and their CIs to determine which factors have the most significant effects."
   ]
  },
  {
   "cell_type": "code",
   "execution_count": null,
   "metadata": {},
   "outputs": [
    {
     "data": {
      "image/png": "[encoded data removed]",
      "text/plain": [
       "<Figure size 1000x600 with 1 Axes>"
      ]
     },
     "metadata": {},
     "output_type": "display_data"
    }
   ],
   "source": [
    "# Plotting the survival curves using Kaplan-Meier Estimator\n",
    "plt.figure(figsize=(10, 6))\n",
    "kmf.plot_survival_function()\n",
    "plt.title('Survival curves using Kaplan-Meier Estimator')\n",
    "\n",
    "plt.show()\n",
    "\n",
    "\n"
   ]
  },
  {
   "cell_type": "markdown",
   "metadata": {},
   "source": [
    ">Interpretation\n",
    "+ The shaded area around the survival curve represents the confidence interval, which gives a range of values that likely contains the true survival probability at each time point. The width of the confidence interval gives an idea of the precision of the estimate - a narrower interval means a more precise estimate.\n",
    "*  One of the key features of survival analysis is the handling of censoring - situations where the event of interest has not been observed for an individual during the study period. This could be because the individual dropped out of the study, or the study ended before the event occurred. In the Kaplan-Meier survival curve, censored observations are often indicated by small vertical tick marks. It occurs at time 5."
   ]
  },
  {
   "cell_type": "markdown",
   "metadata": {},
   "source": [
    "### Comparing the two performing models"
   ]
  },
  {
   "cell_type": "code",
   "execution_count": null,
   "metadata": {},
   "outputs": [],
   "source": [
    "\n",
    "# # Comparing the predicted churn probabilities\n",
    "# plt.figure(figsize=(10, 6))\n",
    "# sns.kdeplot(data=data, x='Cox_Predicted_Churn_Probability', label='Cox', fill=True)\n",
    "\n",
    "# sns.kdeplot(data=data, x='RSF_Predicted_Churn_Probability', label='RSF', fill=True)\n",
    "# plt.title('Comparison of Predicted Churn Probabilities')\n",
    "# plt.xlabel('Predicted Churn Probability')\n",
    "# plt.ylabel('Density')\n",
    "# plt.legend()\n",
    "# plt.show()\n",
    "\n"
   ]
  },
  {
   "cell_type": "markdown",
   "metadata": {},
   "source": [
    "- The Cox model is represented by a blue curve that peaks at around a churn probability of 5. The RSF model is represented by an orange curve that has a broader peak extending from around a churn probability of 5 to just past 10.\n",
    "\n",
    "- In the context of churn prediction, these curves represent the distribution of predicted probabilities of churn for each model. The peak of each curve indicates the most common predicted churn probability for that model.\n",
    "\n",
    "- The fact that the RSF curve is broader and extends further to the right suggests that the RSF model predicts a wider range of churn probabilities and tends to predict higher probabilities of churn compared to the Cox model."
   ]
  },
  {
   "cell_type": "markdown",
   "metadata": {},
   "source": [
    "***"
   ]
  },
  {
   "cell_type": "markdown",
   "metadata": {},
   "source": [
    "# \n",
    "**<center><span style=\"font-family:serif; font-size:34px;\">Conclusion</span><a id = \"missingvalue\" ></a><center>**"
   ]
  },
  {
   "cell_type": "markdown",
   "metadata": {},
   "source": [
    "**Interpretation**\n",
    "\n",
    "- Ranges from 0 to 1, where:\n",
    "  - 0.5 indicates random guessing (no predictive ability)\n",
    "  - 1 indicates perfect discrimination (perfect predictive ability)\n",
    "- A value above 0.5 suggests that the model has predictive ability better than random chance.\n",
    "- Higher values indicate better model performance and more accurate risk predictions.\n",
    "- Therefore, the closer to 1, the better."
   ]
  },
  {
   "cell_type": "code",
   "execution_count": null,
   "metadata": {},
   "outputs": [
    {
     "name": "stdout",
     "output_type": "stream",
     "text": [
      "Kaplan Meier Model Concordance Index: 0.9658233949950636\n"
     ]
    },
    {
     "ename": "NameError",
     "evalue": "name 'rsf_cindex' is not defined",
     "output_type": "error",
     "traceback": [
      "\u001b[1;31m---------------------------------------------------------------------------\u001b[0m",
      "\u001b[1;31mNameError\u001b[0m                                 Traceback (most recent call last)",
      "Cell \u001b[1;32mIn[29], line 4\u001b[0m\n\u001b[0;32m      2\u001b[0m \u001b[38;5;28mprint\u001b[39m(\u001b[38;5;124mf\u001b[39m\u001b[38;5;124m'\u001b[39m\u001b[38;5;124mKaplan Meier Model Concordance Index: \u001b[39m\u001b[38;5;132;01m{\u001b[39;00mc_index\u001b[38;5;132;01m}\u001b[39;00m\u001b[38;5;124m'\u001b[39m)\n\u001b[0;32m      3\u001b[0m \u001b[38;5;66;03m# rsf_cindex = concordance_index_censored(y['Churn'], y['Level'], rsf_pred)\u001b[39;00m\n\u001b[1;32m----> 4\u001b[0m \u001b[38;5;28mprint\u001b[39m(\u001b[38;5;124mf\u001b[39m\u001b[38;5;124m'\u001b[39m\u001b[38;5;124mRandom Survival Forest Model Concordance Index: \u001b[39m\u001b[38;5;132;01m{\u001b[39;00m\u001b[43mrsf_cindex\u001b[49m[\u001b[38;5;241m0\u001b[39m]\u001b[38;5;132;01m}\u001b[39;00m\u001b[38;5;124m'\u001b[39m)\n",
      "\u001b[1;31mNameError\u001b[0m: name 'rsf_cindex' is not defined"
     ]
    }
   ],
   "source": [
    "print(f'Cox Proportional Hazards Model Concordance Index: {cox_cindex}')\n",
    "print(f'Kaplan Meier Model Concordance Index: {c_index}')\n",
    "rsf_cindex = concordance_index_censored(y['Churn'], y['Level'], rsf_pred)\n",
    "print(f'Random Survival Forest Model Concordance Index: {rsf_cindex[0]}')"
   ]
  },
  {
   "cell_type": "markdown",
   "metadata": {},
   "source": [
    "> Result analysis\n",
    "* The Concordance Index (C-index) is a measure of the predictive accuracy of a survival model. It ranges from 0.5 to 1.0, where 0.5 indicates a model that predicts no better than random chance, and 1.0 indicates a model that makes perfect predictions.\n",
    "- RSF Predictions: The RSF model gives scores that reflect the risk of churn for each student. Higher scores indicate a higher risk.\n",
    "- Cox Model Predictions: The Cox model also provides a measure of risk, but the interpretation is based on hazard ratios.\n",
    "- Kaplan Meier Predictions: The Kaplan model estimates the probability that an event (such as death, failure, churn, etc.) has not yet occurred at a certain point in time.\n",
    "- Concordance Index: All 3 models have high concordance indices, with the RSF model (0.988) outperforming the Cox model (0.888) and kaplan meier(0.853). This means the RSF model is better at correctly ranking the likelihood of churn among students."
   ]
  },
  {
   "cell_type": "code",
   "execution_count": null,
   "metadata": {},
   "outputs": [
    {
     "ename": "KeyError",
     "evalue": "'Churn'",
     "output_type": "error",
     "traceback": [
      "\u001b[1;31m---------------------------------------------------------------------------\u001b[0m",
      "\u001b[1;31mKeyError\u001b[0m                                  Traceback (most recent call last)",
      "Cell \u001b[1;32mIn[30], line 6\u001b[0m\n\u001b[0;32m      4\u001b[0m cox_cindex \u001b[38;5;241m=\u001b[39m concordance_index(data[\u001b[38;5;124m'\u001b[39m\u001b[38;5;124mLevel\u001b[39m\u001b[38;5;124m'\u001b[39m], \u001b[38;5;241m-\u001b[39mdata[\u001b[38;5;124m'\u001b[39m\u001b[38;5;124mCox_Predicted_Churn_Probability\u001b[39m\u001b[38;5;124m'\u001b[39m], data[\u001b[38;5;124m'\u001b[39m\u001b[38;5;124mChurn\u001b[39m\u001b[38;5;124m'\u001b[39m])\n\u001b[0;32m      5\u001b[0m km_cindex \u001b[38;5;241m=\u001b[39m c_index  \u001b[38;5;66;03m# Assuming c_index is the Concordance Index for the Kaplan-Meier Model\u001b[39;00m\n\u001b[1;32m----> 6\u001b[0m rsf_cindex \u001b[38;5;241m=\u001b[39m concordance_index_censored(\u001b[43my\u001b[49m\u001b[43m[\u001b[49m\u001b[38;5;124;43m'\u001b[39;49m\u001b[38;5;124;43mChurn\u001b[39;49m\u001b[38;5;124;43m'\u001b[39;49m\u001b[43m]\u001b[49m, y[\u001b[38;5;124m'\u001b[39m\u001b[38;5;124mLevel\u001b[39m\u001b[38;5;124m'\u001b[39m], rsf_pred)[\u001b[38;5;241m0\u001b[39m]\n\u001b[0;32m      8\u001b[0m \u001b[38;5;66;03m# Create a bar chart\u001b[39;00m\n\u001b[0;32m      9\u001b[0m fig \u001b[38;5;241m=\u001b[39m go\u001b[38;5;241m.\u001b[39mFigure(data\u001b[38;5;241m=\u001b[39m[\n\u001b[0;32m     10\u001b[0m     go\u001b[38;5;241m.\u001b[39mBar(name\u001b[38;5;241m=\u001b[39m\u001b[38;5;124m'\u001b[39m\u001b[38;5;124mCox Proportional Hazards Model\u001b[39m\u001b[38;5;124m'\u001b[39m, x\u001b[38;5;241m=\u001b[39m[\u001b[38;5;124m'\u001b[39m\u001b[38;5;124mConcordance Index\u001b[39m\u001b[38;5;124m'\u001b[39m], y\u001b[38;5;241m=\u001b[39m[cox_cindex]),\n\u001b[0;32m     11\u001b[0m     go\u001b[38;5;241m.\u001b[39mBar(name\u001b[38;5;241m=\u001b[39m\u001b[38;5;124m'\u001b[39m\u001b[38;5;124mKaplan-Meier Model\u001b[39m\u001b[38;5;124m'\u001b[39m, x\u001b[38;5;241m=\u001b[39m[\u001b[38;5;124m'\u001b[39m\u001b[38;5;124mConcordance Index\u001b[39m\u001b[38;5;124m'\u001b[39m], y\u001b[38;5;241m=\u001b[39m[km_cindex]),\n\u001b[0;32m     12\u001b[0m     go\u001b[38;5;241m.\u001b[39mBar(name\u001b[38;5;241m=\u001b[39m\u001b[38;5;124m'\u001b[39m\u001b[38;5;124mRandom Survival Forest Model\u001b[39m\u001b[38;5;124m'\u001b[39m, x\u001b[38;5;241m=\u001b[39m[\u001b[38;5;124m'\u001b[39m\u001b[38;5;124mConcordance Index\u001b[39m\u001b[38;5;124m'\u001b[39m], y\u001b[38;5;241m=\u001b[39m[rsf_cindex])\n\u001b[0;32m     13\u001b[0m ])\n",
      "File \u001b[1;32md:\\Projects\\Research Paper Final year 4\\.venv\\Lib\\site-packages\\pandas\\core\\series.py:1121\u001b[0m, in \u001b[0;36mSeries.__getitem__\u001b[1;34m(self, key)\u001b[0m\n\u001b[0;32m   1118\u001b[0m     \u001b[38;5;28;01mreturn\u001b[39;00m \u001b[38;5;28mself\u001b[39m\u001b[38;5;241m.\u001b[39m_values[key]\n\u001b[0;32m   1120\u001b[0m \u001b[38;5;28;01melif\u001b[39;00m key_is_scalar:\n\u001b[1;32m-> 1121\u001b[0m     \u001b[38;5;28;01mreturn\u001b[39;00m \u001b[38;5;28;43mself\u001b[39;49m\u001b[38;5;241;43m.\u001b[39;49m\u001b[43m_get_value\u001b[49m\u001b[43m(\u001b[49m\u001b[43mkey\u001b[49m\u001b[43m)\u001b[49m\n\u001b[0;32m   1123\u001b[0m \u001b[38;5;66;03m# Convert generator to list before going through hashable part\u001b[39;00m\n\u001b[0;32m   1124\u001b[0m \u001b[38;5;66;03m# (We will iterate through the generator there to check for slices)\u001b[39;00m\n\u001b[0;32m   1125\u001b[0m \u001b[38;5;28;01mif\u001b[39;00m is_iterator(key):\n",
      "File \u001b[1;32md:\\Projects\\Research Paper Final year 4\\.venv\\Lib\\site-packages\\pandas\\core\\series.py:1237\u001b[0m, in \u001b[0;36mSeries._get_value\u001b[1;34m(self, label, takeable)\u001b[0m\n\u001b[0;32m   1234\u001b[0m     \u001b[38;5;28;01mreturn\u001b[39;00m \u001b[38;5;28mself\u001b[39m\u001b[38;5;241m.\u001b[39m_values[label]\n\u001b[0;32m   1236\u001b[0m \u001b[38;5;66;03m# Similar to Index.get_value, but we do not fall back to positional\u001b[39;00m\n\u001b[1;32m-> 1237\u001b[0m loc \u001b[38;5;241m=\u001b[39m \u001b[38;5;28;43mself\u001b[39;49m\u001b[38;5;241;43m.\u001b[39;49m\u001b[43mindex\u001b[49m\u001b[38;5;241;43m.\u001b[39;49m\u001b[43mget_loc\u001b[49m\u001b[43m(\u001b[49m\u001b[43mlabel\u001b[49m\u001b[43m)\u001b[49m\n\u001b[0;32m   1239\u001b[0m \u001b[38;5;28;01mif\u001b[39;00m is_integer(loc):\n\u001b[0;32m   1240\u001b[0m     \u001b[38;5;28;01mreturn\u001b[39;00m \u001b[38;5;28mself\u001b[39m\u001b[38;5;241m.\u001b[39m_values[loc]\n",
      "File \u001b[1;32md:\\Projects\\Research Paper Final year 4\\.venv\\Lib\\site-packages\\pandas\\core\\indexes\\range.py:417\u001b[0m, in \u001b[0;36mRangeIndex.get_loc\u001b[1;34m(self, key)\u001b[0m\n\u001b[0;32m    415\u001b[0m         \u001b[38;5;28;01mraise\u001b[39;00m \u001b[38;5;167;01mKeyError\u001b[39;00m(key) \u001b[38;5;28;01mfrom\u001b[39;00m \u001b[38;5;21;01merr\u001b[39;00m\n\u001b[0;32m    416\u001b[0m \u001b[38;5;28;01mif\u001b[39;00m \u001b[38;5;28misinstance\u001b[39m(key, Hashable):\n\u001b[1;32m--> 417\u001b[0m     \u001b[38;5;28;01mraise\u001b[39;00m \u001b[38;5;167;01mKeyError\u001b[39;00m(key)\n\u001b[0;32m    418\u001b[0m \u001b[38;5;28mself\u001b[39m\u001b[38;5;241m.\u001b[39m_check_indexing_error(key)\n\u001b[0;32m    419\u001b[0m \u001b[38;5;28;01mraise\u001b[39;00m \u001b[38;5;167;01mKeyError\u001b[39;00m(key)\n",
      "\u001b[1;31mKeyError\u001b[0m: 'Churn'"
     ]
    }
   ],
   "source": [
    "import plotly.graph_objects as go\n",
    "\n",
    "# Calculate the Concordance Indexes\n",
    "cox_cindex = concordance_index(data['Level'], -data['Cox_Predicted_Churn_Probability'], data['Churn'])\n",
    "km_cindex = c_index  # Assuming c_index is the Concordance Index for the Kaplan-Meier Model\n",
    "rsf_cindex = concordance_index_censored(y['Churn'], y['Level'], rsf_pred)[0]\n",
    "\n",
    "# Create a bar chart\n",
    "fig = go.Figure(data=[\n",
    "    go.Bar(name='Cox Proportional Hazards Model', x=['Concordance Index'], y=[cox_cindex]),\n",
    "    go.Bar(name='Kaplan-Meier Model', x=['Concordance Index'], y=[km_cindex]),\n",
    "    go.Bar(name='Random Survival Forest Model', x=['Concordance Index'], y=[rsf_cindex])\n",
    "])\n",
    "\n",
    "# Change the bar mode\n",
    "fig.update_layout(barmode='group', title='Concordance Index Comparison', yaxis=dict(range=[0, 1]))\n",
    "\n",
    "fig.show()\n"
   ]
  },
  {
   "cell_type": "markdown",
   "metadata": {},
   "source": [
    "***"
   ]
  }
 ],
 "metadata": {
  "kernelspec": {
   "display_name": ".venv",
   "language": "python",
   "name": "python3"
  },
  "language_info": {
   "codemirror_mode": {
    "name": "ipython",
    "version": 3
   },
   "file_extension": ".py",
   "mimetype": "text/x-python",
   "name": "python",
   "nbconvert_exporter": "python",
   "pygments_lexer": "ipython3",
   "version": "3.11.9"
  }
 },
 "nbformat": 4,
 "nbformat_minor": 2
}
