{
  "cells": [
    {
      "cell_type": "code",
      "execution_count": 1,
      "metadata": {
        "id": "205bLM9ru3qy"
      },
      "outputs": [],
      "source": [
        "#%pip install random-survival-forest\n",
        "#%pip install scikit-survival"
      ]
    },
    {
      "cell_type": "code",
      "execution_count": 2,
      "metadata": {
        "id": "Khe_2ESWu3q0"
      },
      "outputs": [],
      "source": [
        "# pip install plotly"
      ]
    },
    {
      "cell_type": "code",
      "execution_count": 3,
      "metadata": {
        "id": "AlgunNk2u3q0"
      },
      "outputs": [],
      "source": [
        "import pandas as pd\n",
        "# data = pd.read_csv('encoded_values_2.csv')\n",
        "import seaborn as sns\n",
        "from sklearn.preprocessing import LabelEncoder\n",
        "import numpy as np\n",
        "import plotly.graph_objects as go\n",
        "from plotly.subplots import make_subplots\n",
        "import plotly.express as px #for histogram\n",
        "sns.set(style=\"whitegrid\")"
      ]
    },
    {
      "cell_type": "code",
      "execution_count": 4,
      "metadata": {
        "id": "y95e5qZgvQ1t"
      },
      "outputs": [],
      "source": [
        "# pip install lifelines"
      ]
    },
    {
      "cell_type": "code",
      "execution_count": 5,
      "metadata": {
        "id": "mrm_YXnZN5ez"
      },
      "outputs": [],
      "source": [
        "# pip install lifelines"
      ]
    },
    {
      "cell_type": "code",
      "execution_count": 48,
      "metadata": {
        "colab": {
          "base_uri": "https://localhost:8080/",
          "height": 330
        },
        "id": "jcrKJrxHu3q1",
        "outputId": "84b4969b-f270-4f7e-866b-12965c51f36a"
      },
      "outputs": [
        {
          "data": {
            "text/html": [
              "<div>\n",
              "<style scoped>\n",
              "    .dataframe tbody tr th:only-of-type {\n",
              "        vertical-align: middle;\n",
              "    }\n",
              "\n",
              "    .dataframe tbody tr th {\n",
              "        vertical-align: top;\n",
              "    }\n",
              "\n",
              "    .dataframe thead th {\n",
              "        text-align: right;\n",
              "    }\n",
              "</style>\n",
              "<table border=\"1\" class=\"dataframe\">\n",
              "  <thead>\n",
              "    <tr style=\"text-align: right;\">\n",
              "      <th></th>\n",
              "      <th>Gender</th>\n",
              "      <th>Churn</th>\n",
              "      <th>Residence</th>\n",
              "      <th>Usage_Freq</th>\n",
              "      <th>Network_Strength</th>\n",
              "      <th>Voice_Calls</th>\n",
              "      <th>Mobile_Data_Internet</th>\n",
              "      <th>SMS_Text_Messaging</th>\n",
              "      <th>Data_Exhaustion</th>\n",
              "      <th>Multiple_Networks</th>\n",
              "      <th>Poor_Network_Quality_Coverage</th>\n",
              "      <th>Unsatisfactory_Customer_Service</th>\n",
              "      <th>High_Costs_Pricing</th>\n",
              "      <th>Monthly_Data_Usage</th>\n",
              "      <th>Churn_Level</th>\n",
              "    </tr>\n",
              "  </thead>\n",
              "  <tbody>\n",
              "    <tr>\n",
              "      <th>0</th>\n",
              "      <td>Female</td>\n",
              "      <td>No</td>\n",
              "      <td>Off-campus</td>\n",
              "      <td>Occasionally</td>\n",
              "      <td>1</td>\n",
              "      <td>No</td>\n",
              "      <td>Yes</td>\n",
              "      <td>No</td>\n",
              "      <td>No</td>\n",
              "      <td>Yes</td>\n",
              "      <td>No</td>\n",
              "      <td>Yes</td>\n",
              "      <td>No</td>\n",
              "      <td>4-6</td>\n",
              "      <td>4</td>\n",
              "    </tr>\n",
              "    <tr>\n",
              "      <th>1</th>\n",
              "      <td>Female</td>\n",
              "      <td>No</td>\n",
              "      <td>Off-campus</td>\n",
              "      <td>Several times a week</td>\n",
              "      <td>2</td>\n",
              "      <td>Yes</td>\n",
              "      <td>Yes</td>\n",
              "      <td>No</td>\n",
              "      <td>Yes</td>\n",
              "      <td>Yes</td>\n",
              "      <td>Yes</td>\n",
              "      <td>Yes</td>\n",
              "      <td>Yes</td>\n",
              "      <td>8 and more</td>\n",
              "      <td>4</td>\n",
              "    </tr>\n",
              "    <tr>\n",
              "      <th>2</th>\n",
              "      <td>Female</td>\n",
              "      <td>No</td>\n",
              "      <td>On-campus</td>\n",
              "      <td>Daily</td>\n",
              "      <td>3</td>\n",
              "      <td>No</td>\n",
              "      <td>Yes</td>\n",
              "      <td>Yes</td>\n",
              "      <td>Yes</td>\n",
              "      <td>No</td>\n",
              "      <td>No</td>\n",
              "      <td>Yes</td>\n",
              "      <td>No</td>\n",
              "      <td>8 and more</td>\n",
              "      <td>4</td>\n",
              "    </tr>\n",
              "    <tr>\n",
              "      <th>3</th>\n",
              "      <td>Female</td>\n",
              "      <td>No</td>\n",
              "      <td>Off-campus</td>\n",
              "      <td>Occasionally</td>\n",
              "      <td>2</td>\n",
              "      <td>Yes</td>\n",
              "      <td>Yes</td>\n",
              "      <td>No</td>\n",
              "      <td>Yes</td>\n",
              "      <td>Yes</td>\n",
              "      <td>Yes</td>\n",
              "      <td>No</td>\n",
              "      <td>No</td>\n",
              "      <td>8 and more</td>\n",
              "      <td>4</td>\n",
              "    </tr>\n",
              "    <tr>\n",
              "      <th>4</th>\n",
              "      <td>Female</td>\n",
              "      <td>Yes</td>\n",
              "      <td>Off-campus</td>\n",
              "      <td>Several times a week</td>\n",
              "      <td>2</td>\n",
              "      <td>Yes</td>\n",
              "      <td>Yes</td>\n",
              "      <td>Yes</td>\n",
              "      <td>Yes</td>\n",
              "      <td>Yes</td>\n",
              "      <td>Yes</td>\n",
              "      <td>Yes</td>\n",
              "      <td>Yes</td>\n",
              "      <td>8 and more</td>\n",
              "      <td>2</td>\n",
              "    </tr>\n",
              "  </tbody>\n",
              "</table>\n",
              "</div>"
            ],
            "text/plain": [
              "   Gender Churn   Residence            Usage_Freq  Network_Strength  \\\n",
              "0  Female    No  Off-campus          Occasionally                 1   \n",
              "1  Female    No  Off-campus  Several times a week                 2   \n",
              "2  Female    No   On-campus                 Daily                 3   \n",
              "3  Female    No  Off-campus          Occasionally                 2   \n",
              "4  Female   Yes  Off-campus  Several times a week                 2   \n",
              "\n",
              "  Voice_Calls Mobile_Data_Internet SMS_Text_Messaging Data_Exhaustion  \\\n",
              "0          No                  Yes                 No              No   \n",
              "1         Yes                  Yes                 No             Yes   \n",
              "2          No                  Yes                Yes             Yes   \n",
              "3         Yes                  Yes                 No             Yes   \n",
              "4         Yes                  Yes                Yes             Yes   \n",
              "\n",
              "  Multiple_Networks Poor_Network_Quality_Coverage  \\\n",
              "0               Yes                            No   \n",
              "1               Yes                           Yes   \n",
              "2                No                            No   \n",
              "3               Yes                           Yes   \n",
              "4               Yes                           Yes   \n",
              "\n",
              "  Unsatisfactory_Customer_Service High_Costs_Pricing Monthly_Data_Usage  \\\n",
              "0                             Yes                 No                4-6   \n",
              "1                             Yes                Yes         8 and more   \n",
              "2                             Yes                 No         8 and more   \n",
              "3                              No                 No         8 and more   \n",
              "4                             Yes                Yes         8 and more   \n",
              "\n",
              "   Churn_Level  \n",
              "0            4  \n",
              "1            4  \n",
              "2            4  \n",
              "3            4  \n",
              "4            2  "
            ]
          },
          "execution_count": 48,
          "metadata": {},
          "output_type": "execute_result"
        }
      ],
      "source": [
        "import random\n",
        "import pandas as pd\n",
        "from lifelines import CoxPHFitter, KaplanMeierFitter\n",
        "\n",
        "np.random.seed(45)\n",
        "# Define lists for different fields\n",
        "genders = ['Male', 'Female']\n",
        "churns = ['Yes', 'No']\n",
        "residences = ['Off-campus', 'On-campus']\n",
        "usage_frequency = ['Daily', 'Several times a week', 'Occasionally', 'Rarely', 'Never']\n",
        "network_strength = [1, 2, 3, 4, 5]\n",
        "services_used = ['Voice Calls', 'Mobile data/Internet', 'SMS/Text messaging']\n",
        "data_allowance_exhaustion = ['Yes', 'No']\n",
        "other_networks = ['Yes', 'No']\n",
        "considered_discontinuing = ['Yes', 'No']\n",
        "reasons_for_discontinuing = ['Poor network quality/coverage', 'Insufficient data allowance', 'Unsatisfactory customer service', 'High costs/pricing']\n",
        "monthly_data = ['0-2', '2-4', '4-6', '6-8', '8 and more']\n",
        "\n",
        "# Define a function to generate synthetic responses\n",
        "def generate_responses(num_responses):\n",
        "    responses = []\n",
        "    for _ in range(num_responses):\n",
        "        gender = random.choices(genders, weights=[0.34, 0.66], k=1)[0]\n",
        "        churn = random.choices(churns, weights=[0.05, 0.95], k=1)[0]\n",
        "        residence = random.choices(residences, weights=[0.83, 0.17], k=1)[0]\n",
        "        usage_frequency_value = random.choices(usage_frequency, weights=[0.494, 0.16, 0.21, 0.049, 0.086], k=1)[0]\n",
        "        network_strength_value = random.choices(network_strength, weights=[0.25, 0.247, 0.333, 0.086, 0.025], k=1)[0]\n",
        "        voice_calls_value = random.choices(['Yes', 'No'], weights=[0.815, 0.185], k=1)[0]\n",
        "        mobile_data_internet_value = random.choices(['Yes', 'No'], weights=[0.865, 0.135], k=1)[0]\n",
        "        sms_text_messaging_value = random.choices(['Yes', 'No'], weights=[0.51, 0.48], k=1)[0]\n",
        "        data_allowance_exhaustion_value = random.choices(data_allowance_exhaustion, weights=[0.827, 0.173], k=1)[0]\n",
        "        other_networks_values = random.choices(other_networks, weights=[0.90, 0.1], k=1)[0]\n",
        "        # considered_discontinuing_value = random.choices(considered_discontinuing, weights=[0.84, 0.16], k=1)[0]\n",
        "        monthly_data_usage = random.choices(monthly_data, weights=[0.05, 0.1, 0.05, 0.1, 0.7], k=1)[0]\n",
        "\n",
        "        # poor_network_quality_coverage = 'Yes' if churn == 'No' else random.choices(['Yes', 'No'], weights=[0.704, 0.296], k=1)[0]\n",
        "        # # insufficient_data_allowance = 'Yes' if churn == 'No' else random.choices(['Yes', 'No'], weights=[0.3, 0.7], k=1)[0]\n",
        "        # unsatisfactory_customer_service = 'Yes' if churn == 'No' else random.choices(['Yes', 'No'], weights=[0.39, 0.61], k=1)[0]\n",
        "        # high_costs_pricing = 'Yes' if churn == 'No' else random.choices(['Yes', 'No'], weights=[0.545, 0.455], k=1)[0]\n",
        "        poor_network_quality_coverage = random.choices(['Yes', 'No'], weights=[0.704, 0.296], k=1)[0]\n",
        "        # insufficient_data_allowance = random.choices(['Yes', 'No'], weights=[0.3, 0.7], k=1)[0]\n",
        "        unsatisfactory_customer_service = random.choices(['Yes', 'No'], weights=[0.39, 0.61], k=1)[0]\n",
        "        high_costs_pricing = random.choices(['Yes', 'No'], weights=[0.545, 0.455], k=1)[0]\n",
        "\n",
        "\n",
        "\n",
        "        # Determine churn level\n",
        "        churn_level = random.randint(1, 3) if churn == 'Yes' else 4\n",
        "\n",
        "        responses.append([gender, churn, residence, usage_frequency_value, network_strength_value, voice_calls_value, mobile_data_internet_value, sms_text_messaging_value, data_allowance_exhaustion_value, other_networks_values, poor_network_quality_coverage, unsatisfactory_customer_service, high_costs_pricing, monthly_data_usage, churn_level])\n",
        "\n",
        "    return responses\n",
        "\n",
        "# Generate synthetic responses for a sample size of 338\n",
        "sample_size = 338\n",
        "responses = generate_responses(sample_size)\n",
        "\n",
        "# Create a DataFrame from the synthetic responses\n",
        "columns = ['Gender' ,'Churn', 'Residence', 'Usage_Freq', 'Network_Strength', 'Voice_Calls', 'Mobile_Data_Internet', 'SMS_Text_Messaging', 'Data_Exhaustion','Multiple_Networks', 'Poor_Network_Quality_Coverage', 'Unsatisfactory_Customer_Service', 'High_Costs_Pricing', 'Monthly_Data_Usage', 'Churn_Level']\n",
        "\n",
        "data = pd.DataFrame(responses, columns=columns)\n",
        "\n",
        "# Display the DataFrame\n",
        "(data.head())\n",
        "\n",
        "# Optional: Save the synthetic responses to a CSV file\n",
        "# data.to_csv('sampleData.csv', index=False)\n"
      ]
    },
    {
      "cell_type": "code",
      "execution_count": 7,
      "metadata": {
        "id": "eG0YyEqUu3q2"
      },
      "outputs": [],
      "source": [
        "# import random\n",
        "# import pandas as pd\n",
        "# from lifelines import CoxPHFitter, KaplanMeierFitter\n",
        "\n",
        "# np.random.seed(45)\n",
        "# # Define lists for different fields\n",
        "# genders = ['Male', 'Female']\n",
        "# churns = ['Yes', 'No']\n",
        "# residences = ['Off-campus', 'On-campus']\n",
        "# usage_frequency = ['Daily', 'Several times a week', 'Occasionally', 'Rarely', 'Never']\n",
        "# network_strength = [1, 2, 3, 4, 5]\n",
        "# services_used = ['Voice Calls', 'Mobile data/Internet', 'SMS/Text messaging']\n",
        "# data_allowance_exhaustion = ['Yes', 'No']\n",
        "# other_networks = ['Yes', 'No']\n",
        "# considered_discontinuing = ['Yes', 'No']\n",
        "# reasons_for_discontinuing = ['Poor network quality/coverage', 'Insufficient data allowance', 'Unsatisfactory customer service', 'High costs/pricing']\n",
        "# monthly_data = ['0-2', '2-4', '4-6', '6-8', '8 and more']\n",
        "\n",
        "# # Define a function to generate synthetic responses\n",
        "# def generate_responses(num_responses):\n",
        "#     responses = []\n",
        "#     for _ in range(num_responses):\n",
        "#         gender = random.choices(genders, weights=[0.442, 0.558], k=1)[0]\n",
        "#         churn = random.choices(churns, weights=[0.05, 0.95], k=1)[0]\n",
        "#         residence = random.choices(residences, weights=[0.679, 0.321], k=1)[0]\n",
        "#         usage_frequency_value = random.choices(usage_frequency, weights=[0.494, 0.16, 0.21, 0.049, 0.086], k=1)[0]\n",
        "#         network_strength_value = random.choices(network_strength, weights=[0.25, 0.247, 0.333, 0.086, 0.025], k=1)[0]\n",
        "#         voice_calls_value = random.choices(['Yes', 'No'], weights=[0.815, 0.185], k=1)[0]\n",
        "#         mobile_data_internet_value = random.choices(['Yes', 'No'], weights=[0.84, 0.16], k=1)[0]\n",
        "#         sms_text_messaging_value = random.choices(['Yes', 'No'], weights=[0.51, 0.48], k=1)[0]\n",
        "#         data_allowance_exhaustion_value = random.choices(data_allowance_exhaustion, weights=[0.827, 0.173], k=1)[0]\n",
        "#         other_networks_values = random.choices(other_networks, weights=[0.938, 0.062], k=1)[0]\n",
        "#         considered_discontinuing_value = random.choices(considered_discontinuing, weights=[0.84, 0.16], k=1)[0]\n",
        "#         monthly_data_usage = random.choices(monthly_data, weights=[0.05, 0.1, 0.15, 0.2, 0.5], k=1)[0]\n",
        "\n",
        "#         # poor_network_quality_coverage = 'Yes' if churn == 'No' else random.choices(['Yes', 'No'], weights=[0.704, 0.296], k=1)[0]\n",
        "#         # # insufficient_data_allowance = 'Yes' if churn == 'No' else random.choices(['Yes', 'No'], weights=[0.3, 0.7], k=1)[0]\n",
        "#         # unsatisfactory_customer_service = 'Yes' if churn == 'No' else random.choices(['Yes', 'No'], weights=[0.39, 0.61], k=1)[0]\n",
        "#         # high_costs_pricing = 'Yes' if churn == 'No' else random.choices(['Yes', 'No'], weights=[0.545, 0.455], k=1)[0]\n",
        "#         poor_network_quality_coverage = random.choices(['Yes', 'No'], weights=[0.704, 0.296], k=1)[0]\n",
        "#         # insufficient_data_allowance = random.choices(['Yes', 'No'], weights=[0.3, 0.7], k=1)[0]\n",
        "#         unsatisfactory_customer_service = random.choices(['Yes', 'No'], weights=[0.39, 0.61], k=1)[0]\n",
        "#         high_costs_pricing = random.choices(['Yes', 'No'], weights=[0.545, 0.455], k=1)[0]\n",
        "\n",
        "\n",
        "\n",
        "#         # Determine churn level\n",
        "#         churn_level = random.randint(1, 3) if churn == 'Yes' else 4\n",
        "\n",
        "#         responses.append([gender, churn, residence, usage_frequency_value, network_strength_value, voice_calls_value, mobile_data_internet_value, sms_text_messaging_value, data_allowance_exhaustion_value, other_networks_values, poor_network_quality_coverage, unsatisfactory_customer_service, high_costs_pricing, monthly_data_usage, churn_level])\n",
        "\n",
        "#     return responses\n",
        "\n",
        "# # Generate synthetic responses for a sample size of 338\n",
        "# sample_size = 338\n",
        "# responses = generate_responses(sample_size)\n",
        "\n",
        "# # Create a DataFrame from the synthetic responses\n",
        "# columns = ['Gender' ,'Churn', 'Residence', 'Usage_Freq', 'Network_Strength', 'Voice_Calls', 'Mobile_Data_Internet', 'SMS_Text_Messaging', 'Data_Exhaustion','Multiple_Networks', 'Poor_Network_Quality_Coverage', 'Unsatisfactory_Customer_Service', 'High_Costs_Pricing', 'Monthly_Data_Usage', 'Churn_Level']\n",
        "\n",
        "# data = pd.DataFrame(responses, columns=columns)\n",
        "\n",
        "# # Display the DataFrame\n",
        "# (data.head())\n",
        "\n",
        "# # Optional: Save the synthetic responses to a CSV file\n",
        "# data.to_csv('sampleData.csv', index=False)\n"
      ]
    },
    {
      "cell_type": "code",
      "execution_count": 8,
      "metadata": {
        "id": "Ec5lxwuI9nhK"
      },
      "outputs": [],
      "source": [
        "# pip install ydata_profiling\n"
      ]
    },
    {
      "cell_type": "code",
      "execution_count": null,
      "metadata": {
        "id": "TzfKI1ac9sa9"
      },
      "outputs": [],
      "source": []
    },
    {
      "cell_type": "code",
      "execution_count": 9,
      "metadata": {
        "id": "TDCfk5-9u3q2"
      },
      "outputs": [],
      "source": [
        "# from ydata_profiling import ProfileReport\n",
        "\n",
        "# ProfileReport(data, title=\"Profiling Report\")"
      ]
    },
    {
      "cell_type": "code",
      "execution_count": 10,
      "metadata": {
        "colab": {
          "base_uri": "https://localhost:8080/",
          "height": 300
        },
        "id": "S2ie9Znnu3q3",
        "outputId": "c96d7ad6-b56c-4ff8-c8c1-16531bbc294c"
      },
      "outputs": [
        {
          "data": {
            "text/html": [
              "<div>\n",
              "<style scoped>\n",
              "    .dataframe tbody tr th:only-of-type {\n",
              "        vertical-align: middle;\n",
              "    }\n",
              "\n",
              "    .dataframe tbody tr th {\n",
              "        vertical-align: top;\n",
              "    }\n",
              "\n",
              "    .dataframe thead th {\n",
              "        text-align: right;\n",
              "    }\n",
              "</style>\n",
              "<table border=\"1\" class=\"dataframe\">\n",
              "  <thead>\n",
              "    <tr style=\"text-align: right;\">\n",
              "      <th></th>\n",
              "      <th>Network_Strength</th>\n",
              "      <th>Churn_Level</th>\n",
              "    </tr>\n",
              "  </thead>\n",
              "  <tbody>\n",
              "    <tr>\n",
              "      <th>count</th>\n",
              "      <td>338.000000</td>\n",
              "      <td>338.000000</td>\n",
              "    </tr>\n",
              "    <tr>\n",
              "      <th>mean</th>\n",
              "      <td>2.390533</td>\n",
              "      <td>3.860947</td>\n",
              "    </tr>\n",
              "    <tr>\n",
              "      <th>std</th>\n",
              "      <td>1.028452</td>\n",
              "      <td>0.545998</td>\n",
              "    </tr>\n",
              "    <tr>\n",
              "      <th>min</th>\n",
              "      <td>1.000000</td>\n",
              "      <td>1.000000</td>\n",
              "    </tr>\n",
              "    <tr>\n",
              "      <th>25%</th>\n",
              "      <td>2.000000</td>\n",
              "      <td>4.000000</td>\n",
              "    </tr>\n",
              "    <tr>\n",
              "      <th>50%</th>\n",
              "      <td>2.000000</td>\n",
              "      <td>4.000000</td>\n",
              "    </tr>\n",
              "    <tr>\n",
              "      <th>75%</th>\n",
              "      <td>3.000000</td>\n",
              "      <td>4.000000</td>\n",
              "    </tr>\n",
              "    <tr>\n",
              "      <th>max</th>\n",
              "      <td>5.000000</td>\n",
              "      <td>4.000000</td>\n",
              "    </tr>\n",
              "  </tbody>\n",
              "</table>\n",
              "</div>"
            ],
            "text/plain": [
              "       Network_Strength  Churn_Level\n",
              "count        338.000000   338.000000\n",
              "mean           2.390533     3.860947\n",
              "std            1.028452     0.545998\n",
              "min            1.000000     1.000000\n",
              "25%            2.000000     4.000000\n",
              "50%            2.000000     4.000000\n",
              "75%            3.000000     4.000000\n",
              "max            5.000000     4.000000"
            ]
          },
          "execution_count": 10,
          "metadata": {},
          "output_type": "execute_result"
        }
      ],
      "source": [
        "data.describe()"
      ]
    },
    {
      "cell_type": "code",
      "execution_count": 11,
      "metadata": {
        "colab": {
          "base_uri": "https://localhost:8080/",
          "height": 212
        },
        "id": "MfFDoIyTu3q3",
        "outputId": "b4d612b1-0023-4a46-a57d-796b0cb16d50"
      },
      "outputs": [
        {
          "data": {
            "text/html": [
              "<div>\n",
              "<style scoped>\n",
              "    .dataframe tbody tr th:only-of-type {\n",
              "        vertical-align: middle;\n",
              "    }\n",
              "\n",
              "    .dataframe tbody tr th {\n",
              "        vertical-align: top;\n",
              "    }\n",
              "\n",
              "    .dataframe thead th {\n",
              "        text-align: right;\n",
              "    }\n",
              "</style>\n",
              "<table border=\"1\" class=\"dataframe\">\n",
              "  <thead>\n",
              "    <tr style=\"text-align: right;\">\n",
              "      <th></th>\n",
              "      <th>Gender</th>\n",
              "      <th>Churn</th>\n",
              "      <th>Residence</th>\n",
              "      <th>Usage_Freq</th>\n",
              "      <th>Voice_Calls</th>\n",
              "      <th>Mobile_Data_Internet</th>\n",
              "      <th>SMS_Text_Messaging</th>\n",
              "      <th>Data_Exhaustion</th>\n",
              "      <th>Multiple_Networks</th>\n",
              "      <th>Poor_Network_Quality_Coverage</th>\n",
              "      <th>Unsatisfactory_Customer_Service</th>\n",
              "      <th>High_Costs_Pricing</th>\n",
              "      <th>Monthly_Data_Usage</th>\n",
              "    </tr>\n",
              "  </thead>\n",
              "  <tbody>\n",
              "    <tr>\n",
              "      <th>count</th>\n",
              "      <td>338</td>\n",
              "      <td>338</td>\n",
              "      <td>338</td>\n",
              "      <td>338</td>\n",
              "      <td>338</td>\n",
              "      <td>338</td>\n",
              "      <td>338</td>\n",
              "      <td>338</td>\n",
              "      <td>338</td>\n",
              "      <td>338</td>\n",
              "      <td>338</td>\n",
              "      <td>338</td>\n",
              "      <td>338</td>\n",
              "    </tr>\n",
              "    <tr>\n",
              "      <th>unique</th>\n",
              "      <td>2</td>\n",
              "      <td>2</td>\n",
              "      <td>2</td>\n",
              "      <td>5</td>\n",
              "      <td>2</td>\n",
              "      <td>2</td>\n",
              "      <td>2</td>\n",
              "      <td>2</td>\n",
              "      <td>2</td>\n",
              "      <td>2</td>\n",
              "      <td>2</td>\n",
              "      <td>2</td>\n",
              "      <td>5</td>\n",
              "    </tr>\n",
              "    <tr>\n",
              "      <th>top</th>\n",
              "      <td>Female</td>\n",
              "      <td>No</td>\n",
              "      <td>Off-campus</td>\n",
              "      <td>Daily</td>\n",
              "      <td>Yes</td>\n",
              "      <td>Yes</td>\n",
              "      <td>Yes</td>\n",
              "      <td>Yes</td>\n",
              "      <td>Yes</td>\n",
              "      <td>Yes</td>\n",
              "      <td>No</td>\n",
              "      <td>Yes</td>\n",
              "      <td>8 and more</td>\n",
              "    </tr>\n",
              "    <tr>\n",
              "      <th>freq</th>\n",
              "      <td>213</td>\n",
              "      <td>315</td>\n",
              "      <td>275</td>\n",
              "      <td>160</td>\n",
              "      <td>273</td>\n",
              "      <td>289</td>\n",
              "      <td>183</td>\n",
              "      <td>277</td>\n",
              "      <td>304</td>\n",
              "      <td>236</td>\n",
              "      <td>186</td>\n",
              "      <td>190</td>\n",
              "      <td>248</td>\n",
              "    </tr>\n",
              "  </tbody>\n",
              "</table>\n",
              "</div>"
            ],
            "text/plain": [
              "        Gender Churn   Residence Usage_Freq Voice_Calls Mobile_Data_Internet  \\\n",
              "count      338   338         338        338         338                  338   \n",
              "unique       2     2           2          5           2                    2   \n",
              "top     Female    No  Off-campus      Daily         Yes                  Yes   \n",
              "freq       213   315         275        160         273                  289   \n",
              "\n",
              "       SMS_Text_Messaging Data_Exhaustion Multiple_Networks  \\\n",
              "count                 338             338               338   \n",
              "unique                  2               2                 2   \n",
              "top                   Yes             Yes               Yes   \n",
              "freq                  183             277               304   \n",
              "\n",
              "       Poor_Network_Quality_Coverage Unsatisfactory_Customer_Service  \\\n",
              "count                            338                             338   \n",
              "unique                             2                               2   \n",
              "top                              Yes                              No   \n",
              "freq                             236                             186   \n",
              "\n",
              "       High_Costs_Pricing Monthly_Data_Usage  \n",
              "count                 338                338  \n",
              "unique                  2                  5  \n",
              "top                   Yes         8 and more  \n",
              "freq                  190                248  "
            ]
          },
          "execution_count": 11,
          "metadata": {},
          "output_type": "execute_result"
        }
      ],
      "source": [
        "data.describe(include=[\"object\", \"bool\"]) # For non-numeric\n"
      ]
    },
    {
      "cell_type": "code",
      "execution_count": 12,
      "metadata": {
        "colab": {
          "base_uri": "https://localhost:8080/",
          "height": 554
        },
        "id": "1TpZdEiXu3q4",
        "outputId": "a4c8ab33-f0f7-4c51-84ae-bdc94310ad8e"
      },
      "outputs": [
        {
          "data": {
            "text/plain": [
              "Gender                             0\n",
              "Churn                              0\n",
              "Residence                          0\n",
              "Usage_Freq                         0\n",
              "Network_Strength                   0\n",
              "Voice_Calls                        0\n",
              "Mobile_Data_Internet               0\n",
              "SMS_Text_Messaging                 0\n",
              "Data_Exhaustion                    0\n",
              "Multiple_Networks                  0\n",
              "Poor_Network_Quality_Coverage      0\n",
              "Unsatisfactory_Customer_Service    0\n",
              "High_Costs_Pricing                 0\n",
              "Monthly_Data_Usage                 0\n",
              "Churn_Level                        0\n",
              "dtype: int64"
            ]
          },
          "execution_count": 12,
          "metadata": {},
          "output_type": "execute_result"
        }
      ],
      "source": [
        "# Check for missing values\n",
        "missing_values = data.isnull().sum()\n",
        "\n",
        "# Check data types\n",
        "data_types = data.dtypes\n",
        "\n",
        "missing_values\n"
      ]
    },
    {
      "cell_type": "code",
      "execution_count": 13,
      "metadata": {
        "colab": {
          "base_uri": "https://localhost:8080/",
          "height": 175
        },
        "id": "b2RX9wLfu3q4",
        "outputId": "788b2072-d68a-4ec7-c7dd-51885e6ed9b5"
      },
      "outputs": [
        {
          "data": {
            "text/html": [
              "<div>\n",
              "<style scoped>\n",
              "    .dataframe tbody tr th:only-of-type {\n",
              "        vertical-align: middle;\n",
              "    }\n",
              "\n",
              "    .dataframe tbody tr th {\n",
              "        vertical-align: top;\n",
              "    }\n",
              "\n",
              "    .dataframe thead th {\n",
              "        text-align: right;\n",
              "    }\n",
              "</style>\n",
              "<table border=\"1\" class=\"dataframe\">\n",
              "  <thead>\n",
              "    <tr style=\"text-align: right;\">\n",
              "      <th>Gender</th>\n",
              "      <th>Female</th>\n",
              "      <th>Male</th>\n",
              "      <th>All</th>\n",
              "    </tr>\n",
              "    <tr>\n",
              "      <th>Churn</th>\n",
              "      <th></th>\n",
              "      <th></th>\n",
              "      <th></th>\n",
              "    </tr>\n",
              "  </thead>\n",
              "  <tbody>\n",
              "    <tr>\n",
              "      <th>No</th>\n",
              "      <td>197</td>\n",
              "      <td>118</td>\n",
              "      <td>315</td>\n",
              "    </tr>\n",
              "    <tr>\n",
              "      <th>Yes</th>\n",
              "      <td>16</td>\n",
              "      <td>7</td>\n",
              "      <td>23</td>\n",
              "    </tr>\n",
              "    <tr>\n",
              "      <th>All</th>\n",
              "      <td>213</td>\n",
              "      <td>125</td>\n",
              "      <td>338</td>\n",
              "    </tr>\n",
              "  </tbody>\n",
              "</table>\n",
              "</div>"
            ],
            "text/plain": [
              "Gender  Female  Male  All\n",
              "Churn                    \n",
              "No         197   118  315\n",
              "Yes         16     7   23\n",
              "All        213   125  338"
            ]
          },
          "execution_count": 13,
          "metadata": {},
          "output_type": "execute_result"
        }
      ],
      "source": [
        "\n",
        "pd.crosstab(data[\"Churn\"], data[\"Gender\"], margins=True)\n"
      ]
    },
    {
      "cell_type": "code",
      "execution_count": 14,
      "metadata": {
        "colab": {
          "base_uri": "https://localhost:8080/",
          "height": 517
        },
        "id": "niVjdsjHu3q4",
        "outputId": "304846fa-68dc-4a7c-b49b-641d50a17a39"
      },
      "outputs": [
        {
          "data": {
            "application/vnd.plotly.v1+json": {
              "config": {
                "plotlyServerURL": "https://plot.ly"
              },
              "data": [
                {
                  "alignmentgroup": "True",
                  "bingroup": "x",
                  "hovertemplate": "Residence=On-campus<br>Churn=%{x}<br>count=%{y}<extra></extra>",
                  "legendgroup": "On-campus",
                  "marker": {
                    "color": "#00cc96",
                    "pattern": {
                      "shape": ""
                    }
                  },
                  "name": "On-campus",
                  "offsetgroup": "On-campus",
                  "orientation": "v",
                  "showlegend": true,
                  "type": "histogram",
                  "x": [
                    "No",
                    "No",
                    "No",
                    "No",
                    "Yes",
                    "Yes",
                    "No",
                    "No",
                    "No",
                    "No",
                    "No",
                    "No",
                    "No",
                    "No",
                    "No",
                    "No",
                    "No",
                    "No",
                    "No",
                    "No",
                    "No",
                    "No",
                    "No",
                    "No",
                    "No",
                    "No",
                    "No",
                    "No",
                    "No",
                    "No",
                    "No",
                    "No",
                    "No",
                    "No",
                    "No",
                    "No",
                    "No",
                    "No",
                    "Yes",
                    "No",
                    "No",
                    "No",
                    "No",
                    "No",
                    "No",
                    "No",
                    "No",
                    "No",
                    "No",
                    "No",
                    "No",
                    "No",
                    "No",
                    "No",
                    "No",
                    "No",
                    "No",
                    "No",
                    "No",
                    "No",
                    "No",
                    "No",
                    "No"
                  ],
                  "xaxis": "x",
                  "yaxis": "y"
                },
                {
                  "alignmentgroup": "True",
                  "bingroup": "x",
                  "hovertemplate": "Residence=Off-campus<br>Churn=%{x}<br>count=%{y}<extra></extra>",
                  "legendgroup": "Off-campus",
                  "marker": {
                    "color": "#ab63fa",
                    "pattern": {
                      "shape": ""
                    }
                  },
                  "name": "Off-campus",
                  "offsetgroup": "Off-campus",
                  "orientation": "v",
                  "showlegend": true,
                  "type": "histogram",
                  "x": [
                    "No",
                    "No",
                    "No",
                    "No",
                    "No",
                    "No",
                    "No",
                    "No",
                    "No",
                    "No",
                    "No",
                    "No",
                    "No",
                    "No",
                    "No",
                    "No",
                    "No",
                    "No",
                    "No",
                    "No",
                    "Yes",
                    "No",
                    "No",
                    "Yes",
                    "No",
                    "No",
                    "No",
                    "No",
                    "No",
                    "No",
                    "No",
                    "No",
                    "No",
                    "No",
                    "No",
                    "Yes",
                    "No",
                    "No",
                    "No",
                    "No",
                    "No",
                    "No",
                    "No",
                    "No",
                    "No",
                    "No",
                    "No",
                    "No",
                    "No",
                    "Yes",
                    "No",
                    "No",
                    "No",
                    "No",
                    "No",
                    "No",
                    "No",
                    "No",
                    "No",
                    "No",
                    "No",
                    "No",
                    "No",
                    "No",
                    "No",
                    "No",
                    "No",
                    "No",
                    "No",
                    "No",
                    "No",
                    "No",
                    "No",
                    "No",
                    "No",
                    "No",
                    "No",
                    "No",
                    "No",
                    "No",
                    "No",
                    "No",
                    "No",
                    "No",
                    "No",
                    "Yes",
                    "No",
                    "No",
                    "No",
                    "No",
                    "No",
                    "No",
                    "No",
                    "No",
                    "No",
                    "Yes",
                    "No",
                    "No",
                    "No",
                    "No",
                    "No",
                    "No",
                    "No",
                    "No",
                    "No",
                    "No",
                    "No",
                    "No",
                    "No",
                    "No",
                    "No",
                    "Yes",
                    "Yes",
                    "No",
                    "No",
                    "No",
                    "No",
                    "Yes",
                    "No",
                    "No",
                    "No",
                    "No",
                    "No",
                    "No",
                    "No",
                    "No",
                    "No",
                    "No",
                    "No",
                    "No",
                    "No",
                    "No",
                    "No",
                    "Yes",
                    "No",
                    "No",
                    "No",
                    "No",
                    "No",
                    "No",
                    "No",
                    "No",
                    "No",
                    "No",
                    "No",
                    "No",
                    "No",
                    "No",
                    "No",
                    "No",
                    "No",
                    "No",
                    "No",
                    "No",
                    "No",
                    "Yes",
                    "No",
                    "No",
                    "No",
                    "No",
                    "No",
                    "No",
                    "No",
                    "No",
                    "No",
                    "Yes",
                    "No",
                    "Yes",
                    "No",
                    "No",
                    "No",
                    "No",
                    "No",
                    "No",
                    "No",
                    "No",
                    "No",
                    "No",
                    "No",
                    "No",
                    "No",
                    "No",
                    "No",
                    "No",
                    "Yes",
                    "No",
                    "No",
                    "No",
                    "No",
                    "No",
                    "No",
                    "No",
                    "No",
                    "No",
                    "No",
                    "No",
                    "No",
                    "No",
                    "No",
                    "No",
                    "No",
                    "No",
                    "No",
                    "No",
                    "No",
                    "No",
                    "Yes",
                    "No",
                    "No",
                    "No",
                    "No",
                    "No",
                    "No",
                    "No",
                    "No",
                    "No",
                    "No",
                    "No",
                    "No",
                    "No",
                    "No",
                    "Yes",
                    "No",
                    "No",
                    "No",
                    "No",
                    "No",
                    "No",
                    "No",
                    "No",
                    "No",
                    "No",
                    "No",
                    "No",
                    "No",
                    "No",
                    "No",
                    "No",
                    "No",
                    "No",
                    "No",
                    "No",
                    "No",
                    "Yes",
                    "Yes",
                    "No",
                    "No",
                    "No",
                    "No",
                    "No",
                    "No",
                    "No",
                    "No",
                    "No",
                    "No",
                    "No",
                    "No",
                    "No",
                    "No",
                    "No",
                    "No",
                    "No",
                    "No",
                    "No",
                    "No",
                    "No",
                    "No",
                    "Yes",
                    "No",
                    "No",
                    "No",
                    "No",
                    "No",
                    "No",
                    "Yes"
                  ],
                  "xaxis": "x",
                  "yaxis": "y"
                }
              ],
              "layout": {
                "bargap": 0.1,
                "barmode": "relative",
                "height": 500,
                "legend": {
                  "title": {
                    "text": "Residence"
                  },
                  "tracegroupgap": 0
                },
                "template": {
                  "data": {
                    "bar": [
                      {
                        "error_x": {
                          "color": "#2a3f5f"
                        },
                        "error_y": {
                          "color": "#2a3f5f"
                        },
                        "marker": {
                          "line": {
                            "color": "#E5ECF6",
                            "width": 0.5
                          },
                          "pattern": {
                            "fillmode": "overlay",
                            "size": 10,
                            "solidity": 0.2
                          }
                        },
                        "type": "bar"
                      }
                    ],
                    "barpolar": [
                      {
                        "marker": {
                          "line": {
                            "color": "#E5ECF6",
                            "width": 0.5
                          },
                          "pattern": {
                            "fillmode": "overlay",
                            "size": 10,
                            "solidity": 0.2
                          }
                        },
                        "type": "barpolar"
                      }
                    ],
                    "carpet": [
                      {
                        "aaxis": {
                          "endlinecolor": "#2a3f5f",
                          "gridcolor": "white",
                          "linecolor": "white",
                          "minorgridcolor": "white",
                          "startlinecolor": "#2a3f5f"
                        },
                        "baxis": {
                          "endlinecolor": "#2a3f5f",
                          "gridcolor": "white",
                          "linecolor": "white",
                          "minorgridcolor": "white",
                          "startlinecolor": "#2a3f5f"
                        },
                        "type": "carpet"
                      }
                    ],
                    "choropleth": [
                      {
                        "colorbar": {
                          "outlinewidth": 0,
                          "ticks": ""
                        },
                        "type": "choropleth"
                      }
                    ],
                    "contour": [
                      {
                        "colorbar": {
                          "outlinewidth": 0,
                          "ticks": ""
                        },
                        "colorscale": [
                          [
                            0,
                            "#0d0887"
                          ],
                          [
                            0.1111111111111111,
                            "#46039f"
                          ],
                          [
                            0.2222222222222222,
                            "#7201a8"
                          ],
                          [
                            0.3333333333333333,
                            "#9c179e"
                          ],
                          [
                            0.4444444444444444,
                            "#bd3786"
                          ],
                          [
                            0.5555555555555556,
                            "#d8576b"
                          ],
                          [
                            0.6666666666666666,
                            "#ed7953"
                          ],
                          [
                            0.7777777777777778,
                            "#fb9f3a"
                          ],
                          [
                            0.8888888888888888,
                            "#fdca26"
                          ],
                          [
                            1,
                            "#f0f921"
                          ]
                        ],
                        "type": "contour"
                      }
                    ],
                    "contourcarpet": [
                      {
                        "colorbar": {
                          "outlinewidth": 0,
                          "ticks": ""
                        },
                        "type": "contourcarpet"
                      }
                    ],
                    "heatmap": [
                      {
                        "colorbar": {
                          "outlinewidth": 0,
                          "ticks": ""
                        },
                        "colorscale": [
                          [
                            0,
                            "#0d0887"
                          ],
                          [
                            0.1111111111111111,
                            "#46039f"
                          ],
                          [
                            0.2222222222222222,
                            "#7201a8"
                          ],
                          [
                            0.3333333333333333,
                            "#9c179e"
                          ],
                          [
                            0.4444444444444444,
                            "#bd3786"
                          ],
                          [
                            0.5555555555555556,
                            "#d8576b"
                          ],
                          [
                            0.6666666666666666,
                            "#ed7953"
                          ],
                          [
                            0.7777777777777778,
                            "#fb9f3a"
                          ],
                          [
                            0.8888888888888888,
                            "#fdca26"
                          ],
                          [
                            1,
                            "#f0f921"
                          ]
                        ],
                        "type": "heatmap"
                      }
                    ],
                    "heatmapgl": [
                      {
                        "colorbar": {
                          "outlinewidth": 0,
                          "ticks": ""
                        },
                        "colorscale": [
                          [
                            0,
                            "#0d0887"
                          ],
                          [
                            0.1111111111111111,
                            "#46039f"
                          ],
                          [
                            0.2222222222222222,
                            "#7201a8"
                          ],
                          [
                            0.3333333333333333,
                            "#9c179e"
                          ],
                          [
                            0.4444444444444444,
                            "#bd3786"
                          ],
                          [
                            0.5555555555555556,
                            "#d8576b"
                          ],
                          [
                            0.6666666666666666,
                            "#ed7953"
                          ],
                          [
                            0.7777777777777778,
                            "#fb9f3a"
                          ],
                          [
                            0.8888888888888888,
                            "#fdca26"
                          ],
                          [
                            1,
                            "#f0f921"
                          ]
                        ],
                        "type": "heatmapgl"
                      }
                    ],
                    "histogram": [
                      {
                        "marker": {
                          "pattern": {
                            "fillmode": "overlay",
                            "size": 10,
                            "solidity": 0.2
                          }
                        },
                        "type": "histogram"
                      }
                    ],
                    "histogram2d": [
                      {
                        "colorbar": {
                          "outlinewidth": 0,
                          "ticks": ""
                        },
                        "colorscale": [
                          [
                            0,
                            "#0d0887"
                          ],
                          [
                            0.1111111111111111,
                            "#46039f"
                          ],
                          [
                            0.2222222222222222,
                            "#7201a8"
                          ],
                          [
                            0.3333333333333333,
                            "#9c179e"
                          ],
                          [
                            0.4444444444444444,
                            "#bd3786"
                          ],
                          [
                            0.5555555555555556,
                            "#d8576b"
                          ],
                          [
                            0.6666666666666666,
                            "#ed7953"
                          ],
                          [
                            0.7777777777777778,
                            "#fb9f3a"
                          ],
                          [
                            0.8888888888888888,
                            "#fdca26"
                          ],
                          [
                            1,
                            "#f0f921"
                          ]
                        ],
                        "type": "histogram2d"
                      }
                    ],
                    "histogram2dcontour": [
                      {
                        "colorbar": {
                          "outlinewidth": 0,
                          "ticks": ""
                        },
                        "colorscale": [
                          [
                            0,
                            "#0d0887"
                          ],
                          [
                            0.1111111111111111,
                            "#46039f"
                          ],
                          [
                            0.2222222222222222,
                            "#7201a8"
                          ],
                          [
                            0.3333333333333333,
                            "#9c179e"
                          ],
                          [
                            0.4444444444444444,
                            "#bd3786"
                          ],
                          [
                            0.5555555555555556,
                            "#d8576b"
                          ],
                          [
                            0.6666666666666666,
                            "#ed7953"
                          ],
                          [
                            0.7777777777777778,
                            "#fb9f3a"
                          ],
                          [
                            0.8888888888888888,
                            "#fdca26"
                          ],
                          [
                            1,
                            "#f0f921"
                          ]
                        ],
                        "type": "histogram2dcontour"
                      }
                    ],
                    "mesh3d": [
                      {
                        "colorbar": {
                          "outlinewidth": 0,
                          "ticks": ""
                        },
                        "type": "mesh3d"
                      }
                    ],
                    "parcoords": [
                      {
                        "line": {
                          "colorbar": {
                            "outlinewidth": 0,
                            "ticks": ""
                          }
                        },
                        "type": "parcoords"
                      }
                    ],
                    "pie": [
                      {
                        "automargin": true,
                        "type": "pie"
                      }
                    ],
                    "scatter": [
                      {
                        "fillpattern": {
                          "fillmode": "overlay",
                          "size": 10,
                          "solidity": 0.2
                        },
                        "type": "scatter"
                      }
                    ],
                    "scatter3d": [
                      {
                        "line": {
                          "colorbar": {
                            "outlinewidth": 0,
                            "ticks": ""
                          }
                        },
                        "marker": {
                          "colorbar": {
                            "outlinewidth": 0,
                            "ticks": ""
                          }
                        },
                        "type": "scatter3d"
                      }
                    ],
                    "scattercarpet": [
                      {
                        "marker": {
                          "colorbar": {
                            "outlinewidth": 0,
                            "ticks": ""
                          }
                        },
                        "type": "scattercarpet"
                      }
                    ],
                    "scattergeo": [
                      {
                        "marker": {
                          "colorbar": {
                            "outlinewidth": 0,
                            "ticks": ""
                          }
                        },
                        "type": "scattergeo"
                      }
                    ],
                    "scattergl": [
                      {
                        "marker": {
                          "colorbar": {
                            "outlinewidth": 0,
                            "ticks": ""
                          }
                        },
                        "type": "scattergl"
                      }
                    ],
                    "scattermapbox": [
                      {
                        "marker": {
                          "colorbar": {
                            "outlinewidth": 0,
                            "ticks": ""
                          }
                        },
                        "type": "scattermapbox"
                      }
                    ],
                    "scatterpolar": [
                      {
                        "marker": {
                          "colorbar": {
                            "outlinewidth": 0,
                            "ticks": ""
                          }
                        },
                        "type": "scatterpolar"
                      }
                    ],
                    "scatterpolargl": [
                      {
                        "marker": {
                          "colorbar": {
                            "outlinewidth": 0,
                            "ticks": ""
                          }
                        },
                        "type": "scatterpolargl"
                      }
                    ],
                    "scatterternary": [
                      {
                        "marker": {
                          "colorbar": {
                            "outlinewidth": 0,
                            "ticks": ""
                          }
                        },
                        "type": "scatterternary"
                      }
                    ],
                    "surface": [
                      {
                        "colorbar": {
                          "outlinewidth": 0,
                          "ticks": ""
                        },
                        "colorscale": [
                          [
                            0,
                            "#0d0887"
                          ],
                          [
                            0.1111111111111111,
                            "#46039f"
                          ],
                          [
                            0.2222222222222222,
                            "#7201a8"
                          ],
                          [
                            0.3333333333333333,
                            "#9c179e"
                          ],
                          [
                            0.4444444444444444,
                            "#bd3786"
                          ],
                          [
                            0.5555555555555556,
                            "#d8576b"
                          ],
                          [
                            0.6666666666666666,
                            "#ed7953"
                          ],
                          [
                            0.7777777777777778,
                            "#fb9f3a"
                          ],
                          [
                            0.8888888888888888,
                            "#fdca26"
                          ],
                          [
                            1,
                            "#f0f921"
                          ]
                        ],
                        "type": "surface"
                      }
                    ],
                    "table": [
                      {
                        "cells": {
                          "fill": {
                            "color": "#EBF0F8"
                          },
                          "line": {
                            "color": "white"
                          }
                        },
                        "header": {
                          "fill": {
                            "color": "#C8D4E3"
                          },
                          "line": {
                            "color": "white"
                          }
                        },
                        "type": "table"
                      }
                    ]
                  },
                  "layout": {
                    "annotationdefaults": {
                      "arrowcolor": "#2a3f5f",
                      "arrowhead": 0,
                      "arrowwidth": 1
                    },
                    "autotypenumbers": "strict",
                    "coloraxis": {
                      "colorbar": {
                        "outlinewidth": 0,
                        "ticks": ""
                      }
                    },
                    "colorscale": {
                      "diverging": [
                        [
                          0,
                          "#8e0152"
                        ],
                        [
                          0.1,
                          "#c51b7d"
                        ],
                        [
                          0.2,
                          "#de77ae"
                        ],
                        [
                          0.3,
                          "#f1b6da"
                        ],
                        [
                          0.4,
                          "#fde0ef"
                        ],
                        [
                          0.5,
                          "#f7f7f7"
                        ],
                        [
                          0.6,
                          "#e6f5d0"
                        ],
                        [
                          0.7,
                          "#b8e186"
                        ],
                        [
                          0.8,
                          "#7fbc41"
                        ],
                        [
                          0.9,
                          "#4d9221"
                        ],
                        [
                          1,
                          "#276419"
                        ]
                      ],
                      "sequential": [
                        [
                          0,
                          "#0d0887"
                        ],
                        [
                          0.1111111111111111,
                          "#46039f"
                        ],
                        [
                          0.2222222222222222,
                          "#7201a8"
                        ],
                        [
                          0.3333333333333333,
                          "#9c179e"
                        ],
                        [
                          0.4444444444444444,
                          "#bd3786"
                        ],
                        [
                          0.5555555555555556,
                          "#d8576b"
                        ],
                        [
                          0.6666666666666666,
                          "#ed7953"
                        ],
                        [
                          0.7777777777777778,
                          "#fb9f3a"
                        ],
                        [
                          0.8888888888888888,
                          "#fdca26"
                        ],
                        [
                          1,
                          "#f0f921"
                        ]
                      ],
                      "sequentialminus": [
                        [
                          0,
                          "#0d0887"
                        ],
                        [
                          0.1111111111111111,
                          "#46039f"
                        ],
                        [
                          0.2222222222222222,
                          "#7201a8"
                        ],
                        [
                          0.3333333333333333,
                          "#9c179e"
                        ],
                        [
                          0.4444444444444444,
                          "#bd3786"
                        ],
                        [
                          0.5555555555555556,
                          "#d8576b"
                        ],
                        [
                          0.6666666666666666,
                          "#ed7953"
                        ],
                        [
                          0.7777777777777778,
                          "#fb9f3a"
                        ],
                        [
                          0.8888888888888888,
                          "#fdca26"
                        ],
                        [
                          1,
                          "#f0f921"
                        ]
                      ]
                    },
                    "colorway": [
                      "#636efa",
                      "#EF553B",
                      "#00cc96",
                      "#ab63fa",
                      "#FFA15A",
                      "#19d3f3",
                      "#FF6692",
                      "#B6E880",
                      "#FF97FF",
                      "#FECB52"
                    ],
                    "font": {
                      "color": "#2a3f5f"
                    },
                    "geo": {
                      "bgcolor": "white",
                      "lakecolor": "white",
                      "landcolor": "#E5ECF6",
                      "showlakes": true,
                      "showland": true,
                      "subunitcolor": "white"
                    },
                    "hoverlabel": {
                      "align": "left"
                    },
                    "hovermode": "closest",
                    "mapbox": {
                      "style": "light"
                    },
                    "paper_bgcolor": "white",
                    "plot_bgcolor": "#E5ECF6",
                    "polar": {
                      "angularaxis": {
                        "gridcolor": "white",
                        "linecolor": "white",
                        "ticks": ""
                      },
                      "bgcolor": "#E5ECF6",
                      "radialaxis": {
                        "gridcolor": "white",
                        "linecolor": "white",
                        "ticks": ""
                      }
                    },
                    "scene": {
                      "xaxis": {
                        "backgroundcolor": "#E5ECF6",
                        "gridcolor": "white",
                        "gridwidth": 2,
                        "linecolor": "white",
                        "showbackground": true,
                        "ticks": "",
                        "zerolinecolor": "white"
                      },
                      "yaxis": {
                        "backgroundcolor": "#E5ECF6",
                        "gridcolor": "white",
                        "gridwidth": 2,
                        "linecolor": "white",
                        "showbackground": true,
                        "ticks": "",
                        "zerolinecolor": "white"
                      },
                      "zaxis": {
                        "backgroundcolor": "#E5ECF6",
                        "gridcolor": "white",
                        "gridwidth": 2,
                        "linecolor": "white",
                        "showbackground": true,
                        "ticks": "",
                        "zerolinecolor": "white"
                      }
                    },
                    "shapedefaults": {
                      "line": {
                        "color": "#2a3f5f"
                      }
                    },
                    "ternary": {
                      "aaxis": {
                        "gridcolor": "white",
                        "linecolor": "white",
                        "ticks": ""
                      },
                      "baxis": {
                        "gridcolor": "white",
                        "linecolor": "white",
                        "ticks": ""
                      },
                      "bgcolor": "#E5ECF6",
                      "caxis": {
                        "gridcolor": "white",
                        "linecolor": "white",
                        "ticks": ""
                      }
                    },
                    "title": {
                      "x": 0.05
                    },
                    "xaxis": {
                      "automargin": true,
                      "gridcolor": "white",
                      "linecolor": "white",
                      "ticks": "",
                      "title": {
                        "standoff": 15
                      },
                      "zerolinecolor": "white",
                      "zerolinewidth": 2
                    },
                    "yaxis": {
                      "automargin": true,
                      "gridcolor": "white",
                      "linecolor": "white",
                      "ticks": "",
                      "title": {
                        "standoff": 15
                      },
                      "zerolinecolor": "white",
                      "zerolinewidth": 2
                    }
                  }
                },
                "title": {
                  "text": "<b>Churn distribution by Residence</b>"
                },
                "width": 700,
                "xaxis": {
                  "anchor": "y",
                  "domain": [
                    0,
                    1
                  ],
                  "title": {
                    "text": "Churn"
                  }
                },
                "yaxis": {
                  "anchor": "x",
                  "domain": [
                    0,
                    1
                  ],
                  "title": {
                    "text": "count"
                  }
                }
              }
            }
          },
          "metadata": {},
          "output_type": "display_data"
        }
      ],
      "source": [
        "\n",
        "color_map = {\"Yes\": '#FFA15A', \"No\": '#00CC96'}\n",
        "fig = px.histogram(data, x=\"Churn\", color=\"Residence\",  title=\"<b>Churn distribution by Residence</b>\", color_discrete_map=color_map)\n",
        "fig.update_layout(width=700, height=500, bargap=0.1)\n",
        "fig.show()"
      ]
    },
    {
      "cell_type": "code",
      "execution_count": 15,
      "metadata": {
        "colab": {
          "base_uri": "https://localhost:8080/",
          "height": 542
        },
        "id": "2foctdQ5u3q4",
        "outputId": "1cab3839-2e2b-47e8-9124-25ddca330d0c"
      },
      "outputs": [
        {
          "data": {
            "application/vnd.plotly.v1+json": {
              "config": {
                "plotlyServerURL": "https://plot.ly"
              },
              "data": [
                {
                  "domain": {
                    "x": [
                      0,
                      0.45
                    ],
                    "y": [
                      0,
                      1
                    ]
                  },
                  "hole": 0.4,
                  "hoverinfo": "label+percent+name",
                  "labels": [
                    "Male",
                    "Female"
                  ],
                  "name": "Gender",
                  "textfont": {
                    "size": 16
                  },
                  "type": "pie",
                  "values": [
                    213,
                    125
                  ]
                },
                {
                  "domain": {
                    "x": [
                      0.55,
                      1
                    ],
                    "y": [
                      0,
                      1
                    ]
                  },
                  "hole": 0.4,
                  "hoverinfo": "label+percent+name",
                  "labels": [
                    "No",
                    "Yes"
                  ],
                  "name": "Churn",
                  "textfont": {
                    "size": 16
                  },
                  "type": "pie",
                  "values": [
                    315,
                    23
                  ]
                }
              ],
              "layout": {
                "annotations": [
                  {
                    "font": {
                      "size": 20
                    },
                    "showarrow": false,
                    "text": "Gender",
                    "x": 0.16,
                    "y": 0.5
                  },
                  {
                    "font": {
                      "size": 20
                    },
                    "showarrow": false,
                    "text": "Churn",
                    "x": 0.84,
                    "y": 0.5
                  }
                ],
                "template": {
                  "data": {
                    "bar": [
                      {
                        "error_x": {
                          "color": "#2a3f5f"
                        },
                        "error_y": {
                          "color": "#2a3f5f"
                        },
                        "marker": {
                          "line": {
                            "color": "#E5ECF6",
                            "width": 0.5
                          },
                          "pattern": {
                            "fillmode": "overlay",
                            "size": 10,
                            "solidity": 0.2
                          }
                        },
                        "type": "bar"
                      }
                    ],
                    "barpolar": [
                      {
                        "marker": {
                          "line": {
                            "color": "#E5ECF6",
                            "width": 0.5
                          },
                          "pattern": {
                            "fillmode": "overlay",
                            "size": 10,
                            "solidity": 0.2
                          }
                        },
                        "type": "barpolar"
                      }
                    ],
                    "carpet": [
                      {
                        "aaxis": {
                          "endlinecolor": "#2a3f5f",
                          "gridcolor": "white",
                          "linecolor": "white",
                          "minorgridcolor": "white",
                          "startlinecolor": "#2a3f5f"
                        },
                        "baxis": {
                          "endlinecolor": "#2a3f5f",
                          "gridcolor": "white",
                          "linecolor": "white",
                          "minorgridcolor": "white",
                          "startlinecolor": "#2a3f5f"
                        },
                        "type": "carpet"
                      }
                    ],
                    "choropleth": [
                      {
                        "colorbar": {
                          "outlinewidth": 0,
                          "ticks": ""
                        },
                        "type": "choropleth"
                      }
                    ],
                    "contour": [
                      {
                        "colorbar": {
                          "outlinewidth": 0,
                          "ticks": ""
                        },
                        "colorscale": [
                          [
                            0,
                            "#0d0887"
                          ],
                          [
                            0.1111111111111111,
                            "#46039f"
                          ],
                          [
                            0.2222222222222222,
                            "#7201a8"
                          ],
                          [
                            0.3333333333333333,
                            "#9c179e"
                          ],
                          [
                            0.4444444444444444,
                            "#bd3786"
                          ],
                          [
                            0.5555555555555556,
                            "#d8576b"
                          ],
                          [
                            0.6666666666666666,
                            "#ed7953"
                          ],
                          [
                            0.7777777777777778,
                            "#fb9f3a"
                          ],
                          [
                            0.8888888888888888,
                            "#fdca26"
                          ],
                          [
                            1,
                            "#f0f921"
                          ]
                        ],
                        "type": "contour"
                      }
                    ],
                    "contourcarpet": [
                      {
                        "colorbar": {
                          "outlinewidth": 0,
                          "ticks": ""
                        },
                        "type": "contourcarpet"
                      }
                    ],
                    "heatmap": [
                      {
                        "colorbar": {
                          "outlinewidth": 0,
                          "ticks": ""
                        },
                        "colorscale": [
                          [
                            0,
                            "#0d0887"
                          ],
                          [
                            0.1111111111111111,
                            "#46039f"
                          ],
                          [
                            0.2222222222222222,
                            "#7201a8"
                          ],
                          [
                            0.3333333333333333,
                            "#9c179e"
                          ],
                          [
                            0.4444444444444444,
                            "#bd3786"
                          ],
                          [
                            0.5555555555555556,
                            "#d8576b"
                          ],
                          [
                            0.6666666666666666,
                            "#ed7953"
                          ],
                          [
                            0.7777777777777778,
                            "#fb9f3a"
                          ],
                          [
                            0.8888888888888888,
                            "#fdca26"
                          ],
                          [
                            1,
                            "#f0f921"
                          ]
                        ],
                        "type": "heatmap"
                      }
                    ],
                    "heatmapgl": [
                      {
                        "colorbar": {
                          "outlinewidth": 0,
                          "ticks": ""
                        },
                        "colorscale": [
                          [
                            0,
                            "#0d0887"
                          ],
                          [
                            0.1111111111111111,
                            "#46039f"
                          ],
                          [
                            0.2222222222222222,
                            "#7201a8"
                          ],
                          [
                            0.3333333333333333,
                            "#9c179e"
                          ],
                          [
                            0.4444444444444444,
                            "#bd3786"
                          ],
                          [
                            0.5555555555555556,
                            "#d8576b"
                          ],
                          [
                            0.6666666666666666,
                            "#ed7953"
                          ],
                          [
                            0.7777777777777778,
                            "#fb9f3a"
                          ],
                          [
                            0.8888888888888888,
                            "#fdca26"
                          ],
                          [
                            1,
                            "#f0f921"
                          ]
                        ],
                        "type": "heatmapgl"
                      }
                    ],
                    "histogram": [
                      {
                        "marker": {
                          "pattern": {
                            "fillmode": "overlay",
                            "size": 10,
                            "solidity": 0.2
                          }
                        },
                        "type": "histogram"
                      }
                    ],
                    "histogram2d": [
                      {
                        "colorbar": {
                          "outlinewidth": 0,
                          "ticks": ""
                        },
                        "colorscale": [
                          [
                            0,
                            "#0d0887"
                          ],
                          [
                            0.1111111111111111,
                            "#46039f"
                          ],
                          [
                            0.2222222222222222,
                            "#7201a8"
                          ],
                          [
                            0.3333333333333333,
                            "#9c179e"
                          ],
                          [
                            0.4444444444444444,
                            "#bd3786"
                          ],
                          [
                            0.5555555555555556,
                            "#d8576b"
                          ],
                          [
                            0.6666666666666666,
                            "#ed7953"
                          ],
                          [
                            0.7777777777777778,
                            "#fb9f3a"
                          ],
                          [
                            0.8888888888888888,
                            "#fdca26"
                          ],
                          [
                            1,
                            "#f0f921"
                          ]
                        ],
                        "type": "histogram2d"
                      }
                    ],
                    "histogram2dcontour": [
                      {
                        "colorbar": {
                          "outlinewidth": 0,
                          "ticks": ""
                        },
                        "colorscale": [
                          [
                            0,
                            "#0d0887"
                          ],
                          [
                            0.1111111111111111,
                            "#46039f"
                          ],
                          [
                            0.2222222222222222,
                            "#7201a8"
                          ],
                          [
                            0.3333333333333333,
                            "#9c179e"
                          ],
                          [
                            0.4444444444444444,
                            "#bd3786"
                          ],
                          [
                            0.5555555555555556,
                            "#d8576b"
                          ],
                          [
                            0.6666666666666666,
                            "#ed7953"
                          ],
                          [
                            0.7777777777777778,
                            "#fb9f3a"
                          ],
                          [
                            0.8888888888888888,
                            "#fdca26"
                          ],
                          [
                            1,
                            "#f0f921"
                          ]
                        ],
                        "type": "histogram2dcontour"
                      }
                    ],
                    "mesh3d": [
                      {
                        "colorbar": {
                          "outlinewidth": 0,
                          "ticks": ""
                        },
                        "type": "mesh3d"
                      }
                    ],
                    "parcoords": [
                      {
                        "line": {
                          "colorbar": {
                            "outlinewidth": 0,
                            "ticks": ""
                          }
                        },
                        "type": "parcoords"
                      }
                    ],
                    "pie": [
                      {
                        "automargin": true,
                        "type": "pie"
                      }
                    ],
                    "scatter": [
                      {
                        "fillpattern": {
                          "fillmode": "overlay",
                          "size": 10,
                          "solidity": 0.2
                        },
                        "type": "scatter"
                      }
                    ],
                    "scatter3d": [
                      {
                        "line": {
                          "colorbar": {
                            "outlinewidth": 0,
                            "ticks": ""
                          }
                        },
                        "marker": {
                          "colorbar": {
                            "outlinewidth": 0,
                            "ticks": ""
                          }
                        },
                        "type": "scatter3d"
                      }
                    ],
                    "scattercarpet": [
                      {
                        "marker": {
                          "colorbar": {
                            "outlinewidth": 0,
                            "ticks": ""
                          }
                        },
                        "type": "scattercarpet"
                      }
                    ],
                    "scattergeo": [
                      {
                        "marker": {
                          "colorbar": {
                            "outlinewidth": 0,
                            "ticks": ""
                          }
                        },
                        "type": "scattergeo"
                      }
                    ],
                    "scattergl": [
                      {
                        "marker": {
                          "colorbar": {
                            "outlinewidth": 0,
                            "ticks": ""
                          }
                        },
                        "type": "scattergl"
                      }
                    ],
                    "scattermapbox": [
                      {
                        "marker": {
                          "colorbar": {
                            "outlinewidth": 0,
                            "ticks": ""
                          }
                        },
                        "type": "scattermapbox"
                      }
                    ],
                    "scatterpolar": [
                      {
                        "marker": {
                          "colorbar": {
                            "outlinewidth": 0,
                            "ticks": ""
                          }
                        },
                        "type": "scatterpolar"
                      }
                    ],
                    "scatterpolargl": [
                      {
                        "marker": {
                          "colorbar": {
                            "outlinewidth": 0,
                            "ticks": ""
                          }
                        },
                        "type": "scatterpolargl"
                      }
                    ],
                    "scatterternary": [
                      {
                        "marker": {
                          "colorbar": {
                            "outlinewidth": 0,
                            "ticks": ""
                          }
                        },
                        "type": "scatterternary"
                      }
                    ],
                    "surface": [
                      {
                        "colorbar": {
                          "outlinewidth": 0,
                          "ticks": ""
                        },
                        "colorscale": [
                          [
                            0,
                            "#0d0887"
                          ],
                          [
                            0.1111111111111111,
                            "#46039f"
                          ],
                          [
                            0.2222222222222222,
                            "#7201a8"
                          ],
                          [
                            0.3333333333333333,
                            "#9c179e"
                          ],
                          [
                            0.4444444444444444,
                            "#bd3786"
                          ],
                          [
                            0.5555555555555556,
                            "#d8576b"
                          ],
                          [
                            0.6666666666666666,
                            "#ed7953"
                          ],
                          [
                            0.7777777777777778,
                            "#fb9f3a"
                          ],
                          [
                            0.8888888888888888,
                            "#fdca26"
                          ],
                          [
                            1,
                            "#f0f921"
                          ]
                        ],
                        "type": "surface"
                      }
                    ],
                    "table": [
                      {
                        "cells": {
                          "fill": {
                            "color": "#EBF0F8"
                          },
                          "line": {
                            "color": "white"
                          }
                        },
                        "header": {
                          "fill": {
                            "color": "#C8D4E3"
                          },
                          "line": {
                            "color": "white"
                          }
                        },
                        "type": "table"
                      }
                    ]
                  },
                  "layout": {
                    "annotationdefaults": {
                      "arrowcolor": "#2a3f5f",
                      "arrowhead": 0,
                      "arrowwidth": 1
                    },
                    "autotypenumbers": "strict",
                    "coloraxis": {
                      "colorbar": {
                        "outlinewidth": 0,
                        "ticks": ""
                      }
                    },
                    "colorscale": {
                      "diverging": [
                        [
                          0,
                          "#8e0152"
                        ],
                        [
                          0.1,
                          "#c51b7d"
                        ],
                        [
                          0.2,
                          "#de77ae"
                        ],
                        [
                          0.3,
                          "#f1b6da"
                        ],
                        [
                          0.4,
                          "#fde0ef"
                        ],
                        [
                          0.5,
                          "#f7f7f7"
                        ],
                        [
                          0.6,
                          "#e6f5d0"
                        ],
                        [
                          0.7,
                          "#b8e186"
                        ],
                        [
                          0.8,
                          "#7fbc41"
                        ],
                        [
                          0.9,
                          "#4d9221"
                        ],
                        [
                          1,
                          "#276419"
                        ]
                      ],
                      "sequential": [
                        [
                          0,
                          "#0d0887"
                        ],
                        [
                          0.1111111111111111,
                          "#46039f"
                        ],
                        [
                          0.2222222222222222,
                          "#7201a8"
                        ],
                        [
                          0.3333333333333333,
                          "#9c179e"
                        ],
                        [
                          0.4444444444444444,
                          "#bd3786"
                        ],
                        [
                          0.5555555555555556,
                          "#d8576b"
                        ],
                        [
                          0.6666666666666666,
                          "#ed7953"
                        ],
                        [
                          0.7777777777777778,
                          "#fb9f3a"
                        ],
                        [
                          0.8888888888888888,
                          "#fdca26"
                        ],
                        [
                          1,
                          "#f0f921"
                        ]
                      ],
                      "sequentialminus": [
                        [
                          0,
                          "#0d0887"
                        ],
                        [
                          0.1111111111111111,
                          "#46039f"
                        ],
                        [
                          0.2222222222222222,
                          "#7201a8"
                        ],
                        [
                          0.3333333333333333,
                          "#9c179e"
                        ],
                        [
                          0.4444444444444444,
                          "#bd3786"
                        ],
                        [
                          0.5555555555555556,
                          "#d8576b"
                        ],
                        [
                          0.6666666666666666,
                          "#ed7953"
                        ],
                        [
                          0.7777777777777778,
                          "#fb9f3a"
                        ],
                        [
                          0.8888888888888888,
                          "#fdca26"
                        ],
                        [
                          1,
                          "#f0f921"
                        ]
                      ]
                    },
                    "colorway": [
                      "#636efa",
                      "#EF553B",
                      "#00cc96",
                      "#ab63fa",
                      "#FFA15A",
                      "#19d3f3",
                      "#FF6692",
                      "#B6E880",
                      "#FF97FF",
                      "#FECB52"
                    ],
                    "font": {
                      "color": "#2a3f5f"
                    },
                    "geo": {
                      "bgcolor": "white",
                      "lakecolor": "white",
                      "landcolor": "#E5ECF6",
                      "showlakes": true,
                      "showland": true,
                      "subunitcolor": "white"
                    },
                    "hoverlabel": {
                      "align": "left"
                    },
                    "hovermode": "closest",
                    "mapbox": {
                      "style": "light"
                    },
                    "paper_bgcolor": "white",
                    "plot_bgcolor": "#E5ECF6",
                    "polar": {
                      "angularaxis": {
                        "gridcolor": "white",
                        "linecolor": "white",
                        "ticks": ""
                      },
                      "bgcolor": "#E5ECF6",
                      "radialaxis": {
                        "gridcolor": "white",
                        "linecolor": "white",
                        "ticks": ""
                      }
                    },
                    "scene": {
                      "xaxis": {
                        "backgroundcolor": "#E5ECF6",
                        "gridcolor": "white",
                        "gridwidth": 2,
                        "linecolor": "white",
                        "showbackground": true,
                        "ticks": "",
                        "zerolinecolor": "white"
                      },
                      "yaxis": {
                        "backgroundcolor": "#E5ECF6",
                        "gridcolor": "white",
                        "gridwidth": 2,
                        "linecolor": "white",
                        "showbackground": true,
                        "ticks": "",
                        "zerolinecolor": "white"
                      },
                      "zaxis": {
                        "backgroundcolor": "#E5ECF6",
                        "gridcolor": "white",
                        "gridwidth": 2,
                        "linecolor": "white",
                        "showbackground": true,
                        "ticks": "",
                        "zerolinecolor": "white"
                      }
                    },
                    "shapedefaults": {
                      "line": {
                        "color": "#2a3f5f"
                      }
                    },
                    "ternary": {
                      "aaxis": {
                        "gridcolor": "white",
                        "linecolor": "white",
                        "ticks": ""
                      },
                      "baxis": {
                        "gridcolor": "white",
                        "linecolor": "white",
                        "ticks": ""
                      },
                      "bgcolor": "#E5ECF6",
                      "caxis": {
                        "gridcolor": "white",
                        "linecolor": "white",
                        "ticks": ""
                      }
                    },
                    "title": {
                      "x": 0.05
                    },
                    "xaxis": {
                      "automargin": true,
                      "gridcolor": "white",
                      "linecolor": "white",
                      "ticks": "",
                      "title": {
                        "standoff": 15
                      },
                      "zerolinecolor": "white",
                      "zerolinewidth": 2
                    },
                    "yaxis": {
                      "automargin": true,
                      "gridcolor": "white",
                      "linecolor": "white",
                      "ticks": "",
                      "title": {
                        "standoff": 15
                      },
                      "zerolinecolor": "white",
                      "zerolinewidth": 2
                    }
                  }
                },
                "title": {
                  "text": "Gender and Churn Distributions of Students"
                }
              }
            }
          },
          "metadata": {},
          "output_type": "display_data"
        }
      ],
      "source": [
        "g_labels = ['Male', 'Female']\n",
        "c_labels = ['No', 'Yes']\n",
        "# Create subplots: use 'domain' type for Pie subplot\n",
        "fig = make_subplots(rows=1, cols=2, specs=[[{'type':'domain'}, {'type':'domain'}]])\n",
        "fig.add_trace(go.Pie(labels=g_labels, values=data['Gender'].value_counts(), name=\"Gender\"),\n",
        "              1, 1)\n",
        "fig.add_trace(go.Pie(labels=c_labels, values=data['Churn'].value_counts(), name=\"Churn\"),\n",
        "              1, 2)\n",
        "\n",
        "# Use `hole` to create a donut-like pie chart\n",
        "fig.update_traces(hole=.4, hoverinfo=\"label+percent+name\", textfont_size=16)\n",
        "\n",
        "fig.update_layout(\n",
        "    title_text=\"Gender and Churn Distributions of Students\",\n",
        "    # Add annotations in the center of the donut pies.\n",
        "    annotations=[dict(text='Gender', x=0.16, y=0.5, font_size=20, showarrow=False),\n",
        "                 dict(text='Churn', x=0.84, y=0.5, font_size=20, showarrow=False)])\n",
        "fig.show()"
      ]
    },
    {
      "cell_type": "code",
      "execution_count": 16,
      "metadata": {
        "colab": {
          "base_uri": "https://localhost:8080/",
          "height": 542
        },
        "id": "bPuE2Dcku3q5",
        "outputId": "92203c1f-ae7a-41f8-b8f3-552439751690"
      },
      "outputs": [
        {
          "data": {
            "application/vnd.plotly.v1+json": {
              "config": {
                "plotlyServerURL": "https://plot.ly"
              },
              "data": [
                {
                  "hole": 0.5,
                  "labels": [
                    "Daily",
                    "Several times a week",
                    "Rarely",
                    "Occasionally",
                    "Never"
                  ],
                  "pull": [
                    0.1,
                    0,
                    0.1,
                    0,
                    0
                  ],
                  "textinfo": "label+percent+value",
                  "textposition": "outside",
                  "type": "pie",
                  "values": [
                    160,
                    71,
                    60,
                    33,
                    14
                  ]
                }
              ],
              "layout": {
                "template": {
                  "data": {
                    "bar": [
                      {
                        "error_x": {
                          "color": "#2a3f5f"
                        },
                        "error_y": {
                          "color": "#2a3f5f"
                        },
                        "marker": {
                          "line": {
                            "color": "#E5ECF6",
                            "width": 0.5
                          },
                          "pattern": {
                            "fillmode": "overlay",
                            "size": 10,
                            "solidity": 0.2
                          }
                        },
                        "type": "bar"
                      }
                    ],
                    "barpolar": [
                      {
                        "marker": {
                          "line": {
                            "color": "#E5ECF6",
                            "width": 0.5
                          },
                          "pattern": {
                            "fillmode": "overlay",
                            "size": 10,
                            "solidity": 0.2
                          }
                        },
                        "type": "barpolar"
                      }
                    ],
                    "carpet": [
                      {
                        "aaxis": {
                          "endlinecolor": "#2a3f5f",
                          "gridcolor": "white",
                          "linecolor": "white",
                          "minorgridcolor": "white",
                          "startlinecolor": "#2a3f5f"
                        },
                        "baxis": {
                          "endlinecolor": "#2a3f5f",
                          "gridcolor": "white",
                          "linecolor": "white",
                          "minorgridcolor": "white",
                          "startlinecolor": "#2a3f5f"
                        },
                        "type": "carpet"
                      }
                    ],
                    "choropleth": [
                      {
                        "colorbar": {
                          "outlinewidth": 0,
                          "ticks": ""
                        },
                        "type": "choropleth"
                      }
                    ],
                    "contour": [
                      {
                        "colorbar": {
                          "outlinewidth": 0,
                          "ticks": ""
                        },
                        "colorscale": [
                          [
                            0,
                            "#0d0887"
                          ],
                          [
                            0.1111111111111111,
                            "#46039f"
                          ],
                          [
                            0.2222222222222222,
                            "#7201a8"
                          ],
                          [
                            0.3333333333333333,
                            "#9c179e"
                          ],
                          [
                            0.4444444444444444,
                            "#bd3786"
                          ],
                          [
                            0.5555555555555556,
                            "#d8576b"
                          ],
                          [
                            0.6666666666666666,
                            "#ed7953"
                          ],
                          [
                            0.7777777777777778,
                            "#fb9f3a"
                          ],
                          [
                            0.8888888888888888,
                            "#fdca26"
                          ],
                          [
                            1,
                            "#f0f921"
                          ]
                        ],
                        "type": "contour"
                      }
                    ],
                    "contourcarpet": [
                      {
                        "colorbar": {
                          "outlinewidth": 0,
                          "ticks": ""
                        },
                        "type": "contourcarpet"
                      }
                    ],
                    "heatmap": [
                      {
                        "colorbar": {
                          "outlinewidth": 0,
                          "ticks": ""
                        },
                        "colorscale": [
                          [
                            0,
                            "#0d0887"
                          ],
                          [
                            0.1111111111111111,
                            "#46039f"
                          ],
                          [
                            0.2222222222222222,
                            "#7201a8"
                          ],
                          [
                            0.3333333333333333,
                            "#9c179e"
                          ],
                          [
                            0.4444444444444444,
                            "#bd3786"
                          ],
                          [
                            0.5555555555555556,
                            "#d8576b"
                          ],
                          [
                            0.6666666666666666,
                            "#ed7953"
                          ],
                          [
                            0.7777777777777778,
                            "#fb9f3a"
                          ],
                          [
                            0.8888888888888888,
                            "#fdca26"
                          ],
                          [
                            1,
                            "#f0f921"
                          ]
                        ],
                        "type": "heatmap"
                      }
                    ],
                    "heatmapgl": [
                      {
                        "colorbar": {
                          "outlinewidth": 0,
                          "ticks": ""
                        },
                        "colorscale": [
                          [
                            0,
                            "#0d0887"
                          ],
                          [
                            0.1111111111111111,
                            "#46039f"
                          ],
                          [
                            0.2222222222222222,
                            "#7201a8"
                          ],
                          [
                            0.3333333333333333,
                            "#9c179e"
                          ],
                          [
                            0.4444444444444444,
                            "#bd3786"
                          ],
                          [
                            0.5555555555555556,
                            "#d8576b"
                          ],
                          [
                            0.6666666666666666,
                            "#ed7953"
                          ],
                          [
                            0.7777777777777778,
                            "#fb9f3a"
                          ],
                          [
                            0.8888888888888888,
                            "#fdca26"
                          ],
                          [
                            1,
                            "#f0f921"
                          ]
                        ],
                        "type": "heatmapgl"
                      }
                    ],
                    "histogram": [
                      {
                        "marker": {
                          "pattern": {
                            "fillmode": "overlay",
                            "size": 10,
                            "solidity": 0.2
                          }
                        },
                        "type": "histogram"
                      }
                    ],
                    "histogram2d": [
                      {
                        "colorbar": {
                          "outlinewidth": 0,
                          "ticks": ""
                        },
                        "colorscale": [
                          [
                            0,
                            "#0d0887"
                          ],
                          [
                            0.1111111111111111,
                            "#46039f"
                          ],
                          [
                            0.2222222222222222,
                            "#7201a8"
                          ],
                          [
                            0.3333333333333333,
                            "#9c179e"
                          ],
                          [
                            0.4444444444444444,
                            "#bd3786"
                          ],
                          [
                            0.5555555555555556,
                            "#d8576b"
                          ],
                          [
                            0.6666666666666666,
                            "#ed7953"
                          ],
                          [
                            0.7777777777777778,
                            "#fb9f3a"
                          ],
                          [
                            0.8888888888888888,
                            "#fdca26"
                          ],
                          [
                            1,
                            "#f0f921"
                          ]
                        ],
                        "type": "histogram2d"
                      }
                    ],
                    "histogram2dcontour": [
                      {
                        "colorbar": {
                          "outlinewidth": 0,
                          "ticks": ""
                        },
                        "colorscale": [
                          [
                            0,
                            "#0d0887"
                          ],
                          [
                            0.1111111111111111,
                            "#46039f"
                          ],
                          [
                            0.2222222222222222,
                            "#7201a8"
                          ],
                          [
                            0.3333333333333333,
                            "#9c179e"
                          ],
                          [
                            0.4444444444444444,
                            "#bd3786"
                          ],
                          [
                            0.5555555555555556,
                            "#d8576b"
                          ],
                          [
                            0.6666666666666666,
                            "#ed7953"
                          ],
                          [
                            0.7777777777777778,
                            "#fb9f3a"
                          ],
                          [
                            0.8888888888888888,
                            "#fdca26"
                          ],
                          [
                            1,
                            "#f0f921"
                          ]
                        ],
                        "type": "histogram2dcontour"
                      }
                    ],
                    "mesh3d": [
                      {
                        "colorbar": {
                          "outlinewidth": 0,
                          "ticks": ""
                        },
                        "type": "mesh3d"
                      }
                    ],
                    "parcoords": [
                      {
                        "line": {
                          "colorbar": {
                            "outlinewidth": 0,
                            "ticks": ""
                          }
                        },
                        "type": "parcoords"
                      }
                    ],
                    "pie": [
                      {
                        "automargin": true,
                        "type": "pie"
                      }
                    ],
                    "scatter": [
                      {
                        "fillpattern": {
                          "fillmode": "overlay",
                          "size": 10,
                          "solidity": 0.2
                        },
                        "type": "scatter"
                      }
                    ],
                    "scatter3d": [
                      {
                        "line": {
                          "colorbar": {
                            "outlinewidth": 0,
                            "ticks": ""
                          }
                        },
                        "marker": {
                          "colorbar": {
                            "outlinewidth": 0,
                            "ticks": ""
                          }
                        },
                        "type": "scatter3d"
                      }
                    ],
                    "scattercarpet": [
                      {
                        "marker": {
                          "colorbar": {
                            "outlinewidth": 0,
                            "ticks": ""
                          }
                        },
                        "type": "scattercarpet"
                      }
                    ],
                    "scattergeo": [
                      {
                        "marker": {
                          "colorbar": {
                            "outlinewidth": 0,
                            "ticks": ""
                          }
                        },
                        "type": "scattergeo"
                      }
                    ],
                    "scattergl": [
                      {
                        "marker": {
                          "colorbar": {
                            "outlinewidth": 0,
                            "ticks": ""
                          }
                        },
                        "type": "scattergl"
                      }
                    ],
                    "scattermapbox": [
                      {
                        "marker": {
                          "colorbar": {
                            "outlinewidth": 0,
                            "ticks": ""
                          }
                        },
                        "type": "scattermapbox"
                      }
                    ],
                    "scatterpolar": [
                      {
                        "marker": {
                          "colorbar": {
                            "outlinewidth": 0,
                            "ticks": ""
                          }
                        },
                        "type": "scatterpolar"
                      }
                    ],
                    "scatterpolargl": [
                      {
                        "marker": {
                          "colorbar": {
                            "outlinewidth": 0,
                            "ticks": ""
                          }
                        },
                        "type": "scatterpolargl"
                      }
                    ],
                    "scatterternary": [
                      {
                        "marker": {
                          "colorbar": {
                            "outlinewidth": 0,
                            "ticks": ""
                          }
                        },
                        "type": "scatterternary"
                      }
                    ],
                    "surface": [
                      {
                        "colorbar": {
                          "outlinewidth": 0,
                          "ticks": ""
                        },
                        "colorscale": [
                          [
                            0,
                            "#0d0887"
                          ],
                          [
                            0.1111111111111111,
                            "#46039f"
                          ],
                          [
                            0.2222222222222222,
                            "#7201a8"
                          ],
                          [
                            0.3333333333333333,
                            "#9c179e"
                          ],
                          [
                            0.4444444444444444,
                            "#bd3786"
                          ],
                          [
                            0.5555555555555556,
                            "#d8576b"
                          ],
                          [
                            0.6666666666666666,
                            "#ed7953"
                          ],
                          [
                            0.7777777777777778,
                            "#fb9f3a"
                          ],
                          [
                            0.8888888888888888,
                            "#fdca26"
                          ],
                          [
                            1,
                            "#f0f921"
                          ]
                        ],
                        "type": "surface"
                      }
                    ],
                    "table": [
                      {
                        "cells": {
                          "fill": {
                            "color": "#EBF0F8"
                          },
                          "line": {
                            "color": "white"
                          }
                        },
                        "header": {
                          "fill": {
                            "color": "#C8D4E3"
                          },
                          "line": {
                            "color": "white"
                          }
                        },
                        "type": "table"
                      }
                    ]
                  },
                  "layout": {
                    "annotationdefaults": {
                      "arrowcolor": "#2a3f5f",
                      "arrowhead": 0,
                      "arrowwidth": 1
                    },
                    "autotypenumbers": "strict",
                    "coloraxis": {
                      "colorbar": {
                        "outlinewidth": 0,
                        "ticks": ""
                      }
                    },
                    "colorscale": {
                      "diverging": [
                        [
                          0,
                          "#8e0152"
                        ],
                        [
                          0.1,
                          "#c51b7d"
                        ],
                        [
                          0.2,
                          "#de77ae"
                        ],
                        [
                          0.3,
                          "#f1b6da"
                        ],
                        [
                          0.4,
                          "#fde0ef"
                        ],
                        [
                          0.5,
                          "#f7f7f7"
                        ],
                        [
                          0.6,
                          "#e6f5d0"
                        ],
                        [
                          0.7,
                          "#b8e186"
                        ],
                        [
                          0.8,
                          "#7fbc41"
                        ],
                        [
                          0.9,
                          "#4d9221"
                        ],
                        [
                          1,
                          "#276419"
                        ]
                      ],
                      "sequential": [
                        [
                          0,
                          "#0d0887"
                        ],
                        [
                          0.1111111111111111,
                          "#46039f"
                        ],
                        [
                          0.2222222222222222,
                          "#7201a8"
                        ],
                        [
                          0.3333333333333333,
                          "#9c179e"
                        ],
                        [
                          0.4444444444444444,
                          "#bd3786"
                        ],
                        [
                          0.5555555555555556,
                          "#d8576b"
                        ],
                        [
                          0.6666666666666666,
                          "#ed7953"
                        ],
                        [
                          0.7777777777777778,
                          "#fb9f3a"
                        ],
                        [
                          0.8888888888888888,
                          "#fdca26"
                        ],
                        [
                          1,
                          "#f0f921"
                        ]
                      ],
                      "sequentialminus": [
                        [
                          0,
                          "#0d0887"
                        ],
                        [
                          0.1111111111111111,
                          "#46039f"
                        ],
                        [
                          0.2222222222222222,
                          "#7201a8"
                        ],
                        [
                          0.3333333333333333,
                          "#9c179e"
                        ],
                        [
                          0.4444444444444444,
                          "#bd3786"
                        ],
                        [
                          0.5555555555555556,
                          "#d8576b"
                        ],
                        [
                          0.6666666666666666,
                          "#ed7953"
                        ],
                        [
                          0.7777777777777778,
                          "#fb9f3a"
                        ],
                        [
                          0.8888888888888888,
                          "#fdca26"
                        ],
                        [
                          1,
                          "#f0f921"
                        ]
                      ]
                    },
                    "colorway": [
                      "#636efa",
                      "#EF553B",
                      "#00cc96",
                      "#ab63fa",
                      "#FFA15A",
                      "#19d3f3",
                      "#FF6692",
                      "#B6E880",
                      "#FF97FF",
                      "#FECB52"
                    ],
                    "font": {
                      "color": "#2a3f5f"
                    },
                    "geo": {
                      "bgcolor": "white",
                      "lakecolor": "white",
                      "landcolor": "#E5ECF6",
                      "showlakes": true,
                      "showland": true,
                      "subunitcolor": "white"
                    },
                    "hoverlabel": {
                      "align": "left"
                    },
                    "hovermode": "closest",
                    "mapbox": {
                      "style": "light"
                    },
                    "paper_bgcolor": "white",
                    "plot_bgcolor": "#E5ECF6",
                    "polar": {
                      "angularaxis": {
                        "gridcolor": "white",
                        "linecolor": "white",
                        "ticks": ""
                      },
                      "bgcolor": "#E5ECF6",
                      "radialaxis": {
                        "gridcolor": "white",
                        "linecolor": "white",
                        "ticks": ""
                      }
                    },
                    "scene": {
                      "xaxis": {
                        "backgroundcolor": "#E5ECF6",
                        "gridcolor": "white",
                        "gridwidth": 2,
                        "linecolor": "white",
                        "showbackground": true,
                        "ticks": "",
                        "zerolinecolor": "white"
                      },
                      "yaxis": {
                        "backgroundcolor": "#E5ECF6",
                        "gridcolor": "white",
                        "gridwidth": 2,
                        "linecolor": "white",
                        "showbackground": true,
                        "ticks": "",
                        "zerolinecolor": "white"
                      },
                      "zaxis": {
                        "backgroundcolor": "#E5ECF6",
                        "gridcolor": "white",
                        "gridwidth": 2,
                        "linecolor": "white",
                        "showbackground": true,
                        "ticks": "",
                        "zerolinecolor": "white"
                      }
                    },
                    "shapedefaults": {
                      "line": {
                        "color": "#2a3f5f"
                      }
                    },
                    "ternary": {
                      "aaxis": {
                        "gridcolor": "white",
                        "linecolor": "white",
                        "ticks": ""
                      },
                      "baxis": {
                        "gridcolor": "white",
                        "linecolor": "white",
                        "ticks": ""
                      },
                      "bgcolor": "#E5ECF6",
                      "caxis": {
                        "gridcolor": "white",
                        "linecolor": "white",
                        "ticks": ""
                      }
                    },
                    "title": {
                      "x": 0.05
                    },
                    "xaxis": {
                      "automargin": true,
                      "gridcolor": "white",
                      "linecolor": "white",
                      "ticks": "",
                      "title": {
                        "standoff": 15
                      },
                      "zerolinecolor": "white",
                      "zerolinewidth": 2
                    },
                    "yaxis": {
                      "automargin": true,
                      "gridcolor": "white",
                      "linecolor": "white",
                      "ticks": "",
                      "title": {
                        "standoff": 15
                      },
                      "zerolinecolor": "white",
                      "zerolinewidth": 2
                    }
                  }
                },
                "title": {
                  "text": "<b>Usage Frequency Distribution</b>"
                }
              }
            }
          },
          "metadata": {},
          "output_type": "display_data"
        }
      ],
      "source": [
        "import plotly.graph_objects as go\n",
        "\n",
        "labels = data['Usage_Freq'].unique()\n",
        "values = data['Usage_Freq'].value_counts()\n",
        "\n",
        "# Define explode values; set non-zero values for the slices you want to explode\n",
        "explode = [0.1 if label in ['Rarely', 'Daily'] else 0 for label in labels]\n",
        "\n",
        "fig = go.Figure(data=[go.Pie(labels=labels, values=values, textinfo='label+percent+value',\n",
        "                             hole=.5, pull=explode,\n",
        "                             textposition='outside')])\n",
        "\n",
        "fig.update_layout(title_text=\"<b>Usage Frequency Distribution</b>\")\n",
        "\n",
        "fig.show()\n"
      ]
    },
    {
      "cell_type": "code",
      "execution_count": 17,
      "metadata": {
        "id": "_lOMNNBpu3q5"
      },
      "outputs": [],
      "source": [
        "# plt.figure(figsize=(25, 10))\n",
        "# corr = data.apply(lambda x: pd.factorize(x)[0]).corr()\n",
        "# mask = np.triu(np.ones_like(corr, dtype=bool))\n",
        "# ax = sns.heatmap(corr, mask=mask, xticklabels=corr.columns, yticklabels=corr.columns, annot=True, linewidths=.2, cmap='coolwarm', vmin=-1, vmax=1)\n",
        "# # sns.heatmap(data.corr(), annot=True, fmt='.2f', cmap='coolwarm')\n"
      ]
    },
    {
      "cell_type": "code",
      "execution_count": 50,
      "metadata": {
        "id": "8BBUQA4wu3q5"
      },
      "outputs": [],
      "source": [
        "# Create a DataFrame to store the encoded values\n",
        "encoded_values = pd.DataFrame(columns=['Feature', 'Category', 'Encoded Value'])\n",
        "# Get all the categorical columns\n",
        "category_feature = data.select_dtypes(include=['object']).columns\n",
        "\n",
        "# Create a LabelEncoder object\n",
        "le = LabelEncoder()\n",
        "\n",
        "# Iterate through each categorical feature\n",
        "for feature in category_feature:\n",
        "    # Fit the LabelEncoder on the current feature and transform the data\n",
        "    data[feature] = le.fit_transform(data[feature])\n",
        "\n",
        "    # Get the encoded values for the current feature\n",
        "    for category, encoded_value in zip(le.classes_, le.transform(le.classes_)):\n",
        "        # Create a temporary DataFrame to hold the current row\n",
        "        temp_df = pd.DataFrame([{'Feature': feature, 'Category': category, 'Encoded Value': encoded_value}])\n",
        "\n",
        "        # Append the temporary DataFrame to the main DataFrame\n",
        "        encoded_values = pd.concat([encoded_values, temp_df], ignore_index=True)\n"
      ]
    },
    {
      "cell_type": "code",
      "execution_count": 19,
      "metadata": {
        "colab": {
          "base_uri": "https://localhost:8080/",
          "height": 739
        },
        "id": "QroVcP_1u3q5",
        "outputId": "40ca1e15-ece2-4148-9c44-30f2d883e021"
      },
      "outputs": [
        {
          "data": {
            "image/png": "[encoded data removed]",
            "text/plain": [
              "<Figure size 1000x600 with 1 Axes>"
            ]
          },
          "metadata": {},
          "output_type": "display_data"
        },
        {
          "data": {
            "text/html": [
              "<div>\n",
              "<style scoped>\n",
              "    .dataframe tbody tr th:only-of-type {\n",
              "        vertical-align: middle;\n",
              "    }\n",
              "\n",
              "    .dataframe tbody tr th {\n",
              "        vertical-align: top;\n",
              "    }\n",
              "\n",
              "    .dataframe thead th {\n",
              "        text-align: right;\n",
              "    }\n",
              "</style>\n",
              "<table border=\"1\" class=\"dataframe\">\n",
              "  <thead>\n",
              "    <tr style=\"text-align: right;\">\n",
              "      <th></th>\n",
              "      <th>Event Time</th>\n",
              "      <th>Number of Individuals</th>\n",
              "      <th>Number of Events</th>\n",
              "      <th>Survival Probability</th>\n",
              "      <th>Lower CI</th>\n",
              "      <th>Upper CI</th>\n",
              "    </tr>\n",
              "  </thead>\n",
              "  <tbody>\n",
              "    <tr>\n",
              "      <th>0</th>\n",
              "      <td>0.0</td>\n",
              "      <td>338</td>\n",
              "      <td>0</td>\n",
              "      <td>1.000000</td>\n",
              "      <td>1.000000</td>\n",
              "      <td>1.000000</td>\n",
              "    </tr>\n",
              "    <tr>\n",
              "      <th>1</th>\n",
              "      <td>1.0</td>\n",
              "      <td>338</td>\n",
              "      <td>6</td>\n",
              "      <td>0.982249</td>\n",
              "      <td>0.960916</td>\n",
              "      <td>0.991986</td>\n",
              "    </tr>\n",
              "    <tr>\n",
              "      <th>2</th>\n",
              "      <td>2.0</td>\n",
              "      <td>332</td>\n",
              "      <td>12</td>\n",
              "      <td>0.946746</td>\n",
              "      <td>0.916802</td>\n",
              "      <td>0.966111</td>\n",
              "    </tr>\n",
              "    <tr>\n",
              "      <th>3</th>\n",
              "      <td>3.0</td>\n",
              "      <td>320</td>\n",
              "      <td>5</td>\n",
              "      <td>0.931953</td>\n",
              "      <td>0.899371</td>\n",
              "      <td>0.954252</td>\n",
              "    </tr>\n",
              "    <tr>\n",
              "      <th>4</th>\n",
              "      <td>4.0</td>\n",
              "      <td>315</td>\n",
              "      <td>0</td>\n",
              "      <td>0.931953</td>\n",
              "      <td>0.899371</td>\n",
              "      <td>0.954252</td>\n",
              "    </tr>\n",
              "  </tbody>\n",
              "</table>\n",
              "</div>"
            ],
            "text/plain": [
              "   Event Time  Number of Individuals  Number of Events  Survival Probability  \\\n",
              "0         0.0                    338                 0              1.000000   \n",
              "1         1.0                    338                 6              0.982249   \n",
              "2         2.0                    332                12              0.946746   \n",
              "3         3.0                    320                 5              0.931953   \n",
              "4         4.0                    315                 0              0.931953   \n",
              "\n",
              "   Lower CI  Upper CI  \n",
              "0  1.000000  1.000000  \n",
              "1  0.960916  0.991986  \n",
              "2  0.916802  0.966111  \n",
              "3  0.899371  0.954252  \n",
              "4  0.899371  0.954252  "
            ]
          },
          "execution_count": 19,
          "metadata": {},
          "output_type": "execute_result"
        }
      ],
      "source": [
        "import pandas as pd\n",
        "from lifelines import KaplanMeierFitter\n",
        "import matplotlib.pyplot as plt\n",
        "# Assuming 'data' is your dataset with columns 'Level' and 'Churn'\n",
        "\n",
        "# Fit Kaplan-Meier estimator\n",
        "kmf = KaplanMeierFitter()\n",
        "kmf.fit(data['Churn_Level'], data['Churn'])\n",
        "\n",
        "# Initial number of censored individuals\n",
        "initial_censored = 338\n",
        "\n",
        "# Calculate number of censored individuals (did not churn) at each event time\n",
        "n_individuals = len(data)\n",
        "censored_counts = [initial_censored]\n",
        "\n",
        "for i in range(1, len(kmf.timeline)):\n",
        "    churned_count = kmf.event_table.iloc[i-1]['observed']  # Number of events (churns) at current event time\n",
        "    censored_count = censored_counts[i-1] - churned_count\n",
        "    censored_counts.append(censored_count)\n",
        "\n",
        "# Extract event counts (number of churns) at each event time\n",
        "event_counts = kmf.event_table['observed'].values\n",
        "\n",
        "# Extract survival probabilities\n",
        "survival_probs = kmf.survival_function_.iloc[:, 0].values\n",
        "\n",
        "# Confidence intervals from Kaplan-Meier estimator\n",
        "confidence_intervals = kmf.confidence_interval_survival_function_\n",
        "\n",
        "# Create a DataFrame to display the information\n",
        "table_data = {\n",
        "    'Event Time': kmf.timeline,\n",
        "    'Number of Individuals': censored_counts,\n",
        "    'Number of Events': event_counts,\n",
        "\n",
        "    'Survival Probability': survival_probs,\n",
        "    'Lower CI': confidence_intervals['KM_estimate_lower_0.95'].values,\n",
        "    'Upper CI': confidence_intervals['KM_estimate_upper_0.95'].values\n",
        "}\n",
        "\n",
        "df = pd.DataFrame(table_data)\n",
        "\n",
        "\n",
        "\n",
        "# Plotting the survival curves using Kaplan-Meier Estimator\n",
        "plt.figure(figsize=(10, 6))\n",
        "kmf.plot_survival_function()\n",
        "# plt.ylim(0, 1)  # Ensure y-axis ranges from 0 to 1\n",
        "\n",
        "# Set custom y-axis ticks and labels\n",
        "plt.yticks([0, 0.5, 1,1.1], ['0', '0.5', '1',''])\n",
        "plt.xticks([ 1, 2,3,4,4.2], ['1', '2', '3','4',''])\n",
        "\n",
        "plt.xlabel('Event Time')\n",
        "plt.ylabel('Survival Probability')\n",
        "plt.show()\n",
        "\n",
        "# Print the DataFrame\n",
        "df\n"
      ]
    },
    {
      "cell_type": "code",
      "execution_count": null,
      "metadata": {
        "id": "hcCmTTMBu3q5"
      },
      "outputs": [],
      "source": []
    },
    {
      "cell_type": "code",
      "execution_count": 20,
      "metadata": {
        "colab": {
          "base_uri": "https://localhost:8080/",
          "height": 1000
        },
        "id": "6yd5QAEpu3q5",
        "outputId": "45a27315-39e1-4561-938c-f8677068b8dc"
      },
      "outputs": [
        {
          "data": {
            "text/html": [
              "<div>\n",
              "<style scoped>\n",
              "    .dataframe tbody tr th:only-of-type {\n",
              "        vertical-align: middle;\n",
              "    }\n",
              "\n",
              "    .dataframe tbody tr th {\n",
              "        vertical-align: top;\n",
              "    }\n",
              "\n",
              "    .dataframe thead th {\n",
              "        text-align: right;\n",
              "    }\n",
              "</style>\n",
              "<table border=\"1\" class=\"dataframe\">\n",
              "  <tbody>\n",
              "    <tr>\n",
              "      <th>model</th>\n",
              "      <td>lifelines.CoxPHFitter</td>\n",
              "    </tr>\n",
              "    <tr>\n",
              "      <th>duration col</th>\n",
              "      <td>'Churn_Level'</td>\n",
              "    </tr>\n",
              "    <tr>\n",
              "      <th>event col</th>\n",
              "      <td>'Churn'</td>\n",
              "    </tr>\n",
              "    <tr>\n",
              "      <th>baseline estimation</th>\n",
              "      <td>breslow</td>\n",
              "    </tr>\n",
              "    <tr>\n",
              "      <th>number of observations</th>\n",
              "      <td>338</td>\n",
              "    </tr>\n",
              "    <tr>\n",
              "      <th>number of events observed</th>\n",
              "      <td>23</td>\n",
              "    </tr>\n",
              "    <tr>\n",
              "      <th>partial log-likelihood</th>\n",
              "      <td>-123.69</td>\n",
              "    </tr>\n",
              "    <tr>\n",
              "      <th>time fit was run</th>\n",
              "      <td>2024-08-13 23:59:03 UTC</td>\n",
              "    </tr>\n",
              "  </tbody>\n",
              "</table>\n",
              "</div><table border=\"1\" class=\"dataframe\">\n",
              "  <thead>\n",
              "    <tr style=\"text-align: right;\">\n",
              "      <th style=\"min-width: 12px;\"></th>\n",
              "      <th style=\"min-width: 12px;\">coef</th>\n",
              "      <th style=\"min-width: 12px;\">exp(coef)</th>\n",
              "      <th style=\"min-width: 12px;\">se(coef)</th>\n",
              "      <th style=\"min-width: 12px;\">coef lower 95%</th>\n",
              "      <th style=\"min-width: 12px;\">coef upper 95%</th>\n",
              "      <th style=\"min-width: 12px;\">exp(coef) lower 95%</th>\n",
              "      <th style=\"min-width: 12px;\">exp(coef) upper 95%</th>\n",
              "      <th style=\"min-width: 12px;\">cmp to</th>\n",
              "      <th style=\"min-width: 12px;\">z</th>\n",
              "      <th style=\"min-width: 12px;\">p</th>\n",
              "      <th style=\"min-width: 12px;\">-log2(p)</th>\n",
              "    </tr>\n",
              "  </thead>\n",
              "  <tbody>\n",
              "    <tr>\n",
              "      <th>Gender</th>\n",
              "      <td>-0.20</td>\n",
              "      <td>0.82</td>\n",
              "      <td>0.47</td>\n",
              "      <td>-1.11</td>\n",
              "      <td>0.72</td>\n",
              "      <td>0.33</td>\n",
              "      <td>2.05</td>\n",
              "      <td>0.00</td>\n",
              "      <td>-0.42</td>\n",
              "      <td>0.67</td>\n",
              "      <td>0.57</td>\n",
              "    </tr>\n",
              "    <tr>\n",
              "      <th>Residence</th>\n",
              "      <td>-0.46</td>\n",
              "      <td>0.63</td>\n",
              "      <td>0.63</td>\n",
              "      <td>-1.69</td>\n",
              "      <td>0.78</td>\n",
              "      <td>0.18</td>\n",
              "      <td>2.18</td>\n",
              "      <td>0.00</td>\n",
              "      <td>-0.72</td>\n",
              "      <td>0.47</td>\n",
              "      <td>1.09</td>\n",
              "    </tr>\n",
              "    <tr>\n",
              "      <th>Usage_Freq</th>\n",
              "      <td>0.20</td>\n",
              "      <td>1.22</td>\n",
              "      <td>0.13</td>\n",
              "      <td>-0.07</td>\n",
              "      <td>0.46</td>\n",
              "      <td>0.94</td>\n",
              "      <td>1.59</td>\n",
              "      <td>0.00</td>\n",
              "      <td>1.47</td>\n",
              "      <td>0.14</td>\n",
              "      <td>2.81</td>\n",
              "    </tr>\n",
              "    <tr>\n",
              "      <th>Network_Strength</th>\n",
              "      <td>0.28</td>\n",
              "      <td>1.33</td>\n",
              "      <td>0.20</td>\n",
              "      <td>-0.12</td>\n",
              "      <td>0.68</td>\n",
              "      <td>0.89</td>\n",
              "      <td>1.98</td>\n",
              "      <td>0.00</td>\n",
              "      <td>1.38</td>\n",
              "      <td>0.17</td>\n",
              "      <td>2.59</td>\n",
              "    </tr>\n",
              "    <tr>\n",
              "      <th>Voice_Calls</th>\n",
              "      <td>1.00</td>\n",
              "      <td>2.73</td>\n",
              "      <td>0.75</td>\n",
              "      <td>-0.46</td>\n",
              "      <td>2.47</td>\n",
              "      <td>0.63</td>\n",
              "      <td>11.78</td>\n",
              "      <td>0.00</td>\n",
              "      <td>1.35</td>\n",
              "      <td>0.18</td>\n",
              "      <td>2.49</td>\n",
              "    </tr>\n",
              "    <tr>\n",
              "      <th>Mobile_Data_Internet</th>\n",
              "      <td>1.67</td>\n",
              "      <td>5.31</td>\n",
              "      <td>1.04</td>\n",
              "      <td>-0.36</td>\n",
              "      <td>3.70</td>\n",
              "      <td>0.70</td>\n",
              "      <td>40.56</td>\n",
              "      <td>0.00</td>\n",
              "      <td>1.61</td>\n",
              "      <td>0.11</td>\n",
              "      <td>3.22</td>\n",
              "    </tr>\n",
              "    <tr>\n",
              "      <th>SMS_Text_Messaging</th>\n",
              "      <td>0.56</td>\n",
              "      <td>1.74</td>\n",
              "      <td>0.45</td>\n",
              "      <td>-0.32</td>\n",
              "      <td>1.43</td>\n",
              "      <td>0.73</td>\n",
              "      <td>4.18</td>\n",
              "      <td>0.00</td>\n",
              "      <td>1.24</td>\n",
              "      <td>0.21</td>\n",
              "      <td>2.23</td>\n",
              "    </tr>\n",
              "    <tr>\n",
              "      <th>Data_Exhaustion</th>\n",
              "      <td>1.69</td>\n",
              "      <td>5.40</td>\n",
              "      <td>1.03</td>\n",
              "      <td>-0.33</td>\n",
              "      <td>3.71</td>\n",
              "      <td>0.72</td>\n",
              "      <td>40.67</td>\n",
              "      <td>0.00</td>\n",
              "      <td>1.64</td>\n",
              "      <td>0.10</td>\n",
              "      <td>3.30</td>\n",
              "    </tr>\n",
              "    <tr>\n",
              "      <th>Multiple_Networks</th>\n",
              "      <td>0.09</td>\n",
              "      <td>1.09</td>\n",
              "      <td>0.75</td>\n",
              "      <td>-1.39</td>\n",
              "      <td>1.56</td>\n",
              "      <td>0.25</td>\n",
              "      <td>4.78</td>\n",
              "      <td>0.00</td>\n",
              "      <td>0.12</td>\n",
              "      <td>0.90</td>\n",
              "      <td>0.14</td>\n",
              "    </tr>\n",
              "    <tr>\n",
              "      <th>Poor_Network_Quality_Coverage</th>\n",
              "      <td>-0.17</td>\n",
              "      <td>0.85</td>\n",
              "      <td>0.46</td>\n",
              "      <td>-1.07</td>\n",
              "      <td>0.74</td>\n",
              "      <td>0.34</td>\n",
              "      <td>2.10</td>\n",
              "      <td>0.00</td>\n",
              "      <td>-0.36</td>\n",
              "      <td>0.72</td>\n",
              "      <td>0.47</td>\n",
              "    </tr>\n",
              "    <tr>\n",
              "      <th>Unsatisfactory_Customer_Service</th>\n",
              "      <td>-0.12</td>\n",
              "      <td>0.89</td>\n",
              "      <td>0.43</td>\n",
              "      <td>-0.96</td>\n",
              "      <td>0.73</td>\n",
              "      <td>0.38</td>\n",
              "      <td>2.07</td>\n",
              "      <td>0.00</td>\n",
              "      <td>-0.27</td>\n",
              "      <td>0.79</td>\n",
              "      <td>0.34</td>\n",
              "    </tr>\n",
              "    <tr>\n",
              "      <th>High_Costs_Pricing</th>\n",
              "      <td>0.55</td>\n",
              "      <td>1.73</td>\n",
              "      <td>0.44</td>\n",
              "      <td>-0.32</td>\n",
              "      <td>1.42</td>\n",
              "      <td>0.72</td>\n",
              "      <td>4.13</td>\n",
              "      <td>0.00</td>\n",
              "      <td>1.23</td>\n",
              "      <td>0.22</td>\n",
              "      <td>2.19</td>\n",
              "    </tr>\n",
              "    <tr>\n",
              "      <th>Monthly_Data_Usage</th>\n",
              "      <td>0.27</td>\n",
              "      <td>1.31</td>\n",
              "      <td>0.25</td>\n",
              "      <td>-0.23</td>\n",
              "      <td>0.76</td>\n",
              "      <td>0.80</td>\n",
              "      <td>2.13</td>\n",
              "      <td>0.00</td>\n",
              "      <td>1.06</td>\n",
              "      <td>0.29</td>\n",
              "      <td>1.79</td>\n",
              "    </tr>\n",
              "  </tbody>\n",
              "</table><br><div>\n",
              "<style scoped>\n",
              "    .dataframe tbody tr th:only-of-type {\n",
              "        vertical-align: middle;\n",
              "    }\n",
              "\n",
              "    .dataframe tbody tr th {\n",
              "        vertical-align: top;\n",
              "    }\n",
              "\n",
              "    .dataframe thead th {\n",
              "        text-align: right;\n",
              "    }\n",
              "</style>\n",
              "<table border=\"1\" class=\"dataframe\">\n",
              "  <tbody>\n",
              "    <tr>\n",
              "      <th>Concordance</th>\n",
              "      <td>0.75</td>\n",
              "    </tr>\n",
              "    <tr>\n",
              "      <th>Partial AIC</th>\n",
              "      <td>273.39</td>\n",
              "    </tr>\n",
              "    <tr>\n",
              "      <th>log-likelihood ratio test</th>\n",
              "      <td>18.94 on 13 df</td>\n",
              "    </tr>\n",
              "    <tr>\n",
              "      <th>-log2(p) of ll-ratio test</th>\n",
              "      <td>3.00</td>\n",
              "    </tr>\n",
              "  </tbody>\n",
              "</table>\n",
              "</div>"
            ],
            "text/latex": [
              "\\begin{tabular}{lrrrrrrrrrrr}\n",
              " & coef & exp(coef) & se(coef) & coef lower 95% & coef upper 95% & exp(coef) lower 95% & exp(coef) upper 95% & cmp to & z & p & -log2(p) \\\\\n",
              "covariate &  &  &  &  &  &  &  &  &  &  &  \\\\\n",
              "Gender & -0.20 & 0.82 & 0.47 & -1.11 & 0.72 & 0.33 & 2.05 & 0.00 & -0.42 & 0.67 & 0.57 \\\\\n",
              "Residence & -0.46 & 0.63 & 0.63 & -1.69 & 0.78 & 0.18 & 2.18 & 0.00 & -0.72 & 0.47 & 1.09 \\\\\n",
              "Usage_Freq & 0.20 & 1.22 & 0.13 & -0.07 & 0.46 & 0.94 & 1.59 & 0.00 & 1.47 & 0.14 & 2.81 \\\\\n",
              "Network_Strength & 0.28 & 1.33 & 0.20 & -0.12 & 0.68 & 0.89 & 1.98 & 0.00 & 1.38 & 0.17 & 2.59 \\\\\n",
              "Voice_Calls & 1.00 & 2.73 & 0.75 & -0.46 & 2.47 & 0.63 & 11.78 & 0.00 & 1.35 & 0.18 & 2.49 \\\\\n",
              "Mobile_Data_Internet & 1.67 & 5.31 & 1.04 & -0.36 & 3.70 & 0.70 & 40.56 & 0.00 & 1.61 & 0.11 & 3.22 \\\\\n",
              "SMS_Text_Messaging & 0.56 & 1.74 & 0.45 & -0.32 & 1.43 & 0.73 & 4.18 & 0.00 & 1.24 & 0.21 & 2.23 \\\\\n",
              "Data_Exhaustion & 1.69 & 5.40 & 1.03 & -0.33 & 3.71 & 0.72 & 40.67 & 0.00 & 1.64 & 0.10 & 3.30 \\\\\n",
              "Multiple_Networks & 0.09 & 1.09 & 0.75 & -1.39 & 1.56 & 0.25 & 4.78 & 0.00 & 0.12 & 0.90 & 0.14 \\\\\n",
              "Poor_Network_Quality_Coverage & -0.17 & 0.85 & 0.46 & -1.07 & 0.74 & 0.34 & 2.10 & 0.00 & -0.36 & 0.72 & 0.47 \\\\\n",
              "Unsatisfactory_Customer_Service & -0.12 & 0.89 & 0.43 & -0.96 & 0.73 & 0.38 & 2.07 & 0.00 & -0.27 & 0.79 & 0.34 \\\\\n",
              "High_Costs_Pricing & 0.55 & 1.73 & 0.44 & -0.32 & 1.42 & 0.72 & 4.13 & 0.00 & 1.23 & 0.22 & 2.19 \\\\\n",
              "Monthly_Data_Usage & 0.27 & 1.31 & 0.25 & -0.23 & 0.76 & 0.80 & 2.13 & 0.00 & 1.06 & 0.29 & 1.79 \\\\\n",
              "\\end{tabular}\n"
            ],
            "text/plain": [
              "<lifelines.CoxPHFitter: fitted with 338 total observations, 315 right-censored observations>\n",
              "             duration col = 'Churn_Level'\n",
              "                event col = 'Churn'\n",
              "      baseline estimation = breslow\n",
              "   number of observations = 338\n",
              "number of events observed = 23\n",
              "   partial log-likelihood = -123.69\n",
              "         time fit was run = 2024-08-13 23:59:03 UTC\n",
              "\n",
              "---\n",
              "                                 coef exp(coef)  se(coef)  coef lower 95%  coef upper 95% exp(coef) lower 95% exp(coef) upper 95%\n",
              "covariate                                                                                                                        \n",
              "Gender                          -0.20      0.82      0.47           -1.11            0.72                0.33                2.05\n",
              "Residence                       -0.46      0.63      0.63           -1.69            0.78                0.18                2.18\n",
              "Usage_Freq                       0.20      1.22      0.13           -0.07            0.46                0.94                1.59\n",
              "Network_Strength                 0.28      1.33      0.20           -0.12            0.68                0.89                1.98\n",
              "Voice_Calls                      1.00      2.73      0.75           -0.46            2.47                0.63               11.78\n",
              "Mobile_Data_Internet             1.67      5.31      1.04           -0.36            3.70                0.70               40.56\n",
              "SMS_Text_Messaging               0.56      1.74      0.45           -0.32            1.43                0.73                4.18\n",
              "Data_Exhaustion                  1.69      5.40      1.03           -0.33            3.71                0.72               40.67\n",
              "Multiple_Networks                0.09      1.09      0.75           -1.39            1.56                0.25                4.78\n",
              "Poor_Network_Quality_Coverage   -0.17      0.85      0.46           -1.07            0.74                0.34                2.10\n",
              "Unsatisfactory_Customer_Service -0.12      0.89      0.43           -0.96            0.73                0.38                2.07\n",
              "High_Costs_Pricing               0.55      1.73      0.44           -0.32            1.42                0.72                4.13\n",
              "Monthly_Data_Usage               0.27      1.31      0.25           -0.23            0.76                0.80                2.13\n",
              "\n",
              "                                 cmp to     z    p  -log2(p)\n",
              "covariate                                                   \n",
              "Gender                             0.00 -0.42 0.67      0.57\n",
              "Residence                          0.00 -0.72 0.47      1.09\n",
              "Usage_Freq                         0.00  1.47 0.14      2.81\n",
              "Network_Strength                   0.00  1.38 0.17      2.59\n",
              "Voice_Calls                        0.00  1.35 0.18      2.49\n",
              "Mobile_Data_Internet               0.00  1.61 0.11      3.22\n",
              "SMS_Text_Messaging                 0.00  1.24 0.21      2.23\n",
              "Data_Exhaustion                    0.00  1.64 0.10      3.30\n",
              "Multiple_Networks                  0.00  0.12 0.90      0.14\n",
              "Poor_Network_Quality_Coverage      0.00 -0.36 0.72      0.47\n",
              "Unsatisfactory_Customer_Service    0.00 -0.27 0.79      0.34\n",
              "High_Costs_Pricing                 0.00  1.23 0.22      2.19\n",
              "Monthly_Data_Usage                 0.00  1.06 0.29      1.79\n",
              "---\n",
              "Concordance = 0.75\n",
              "Partial AIC = 273.39\n",
              "log-likelihood ratio test = 18.94 on 13 df\n",
              "-log2(p) of ll-ratio test = 3.00"
            ]
          },
          "metadata": {},
          "output_type": "display_data"
        },
        {
          "data": {
            "image/png": "[encoded data removed]",
            "text/plain": [
              "<Figure size 640x480 with 1 Axes>"
            ]
          },
          "metadata": {},
          "output_type": "display_data"
        }
      ],
      "source": [
        "import matplotlib.pyplot as plt\n",
        "from lifelines import CoxPHFitter\n",
        "# Initialize the Cox Proportional Hazards model\n",
        "cph = CoxPHFitter()\n",
        "# data = data.drop(columns=['High_Costs_Pricing','Multiple_Networks','Other_Networks_Better_Services','Poor_Network_Quality_Coverage'])\n",
        "# data = data.drop(columns='Poor_Network_Quality_Coverage')\n",
        "\n",
        "# Fit the model\n",
        "cph.fit(data, duration_col='Churn_Level', event_col='Churn')\n",
        "\n",
        "# Display the summary\n",
        "cph.print_summary()\n",
        "\n",
        "# Plot the coefficients\n",
        "cph.plot()\n",
        "# plt.title('Cox Proportional Hazards Model Coefficients')\n",
        "plt.show()\n"
      ]
    },
    {
      "cell_type": "code",
      "execution_count": 21,
      "metadata": {
        "id": "0p6Brj5wu3q5"
      },
      "outputs": [],
      "source": [
        "# data['Level'] = data['Level']/100\n",
        "\n",
        "# data"
      ]
    },
    {
      "cell_type": "code",
      "execution_count": 22,
      "metadata": {
        "id": "nuTOa_9Su3q6"
      },
      "outputs": [],
      "source": [
        "# import pandas as pd\n",
        "# from lifelines import WeibullAFTFitter, LogNormalAFTFitter, LogLogisticAFTFitter\n",
        "# import numpy as np\n",
        "\n",
        "# # Sample data\n",
        "# data = pd.DataFrame({\n",
        "#     'Churn_Level': np.random.exponential(1, 100),\n",
        "#     'Churn': np.random.randint(0, 2, 100)\n",
        "# })\n",
        "\n",
        "# # Instantiate each AFT fitter\n",
        "# weibull_aft = WeibullAFTFitter()\n",
        "# lognormal_aft = LogNormalAFTFitter()\n",
        "# loglogistic_aft = LogLogisticAFTFitter()\n",
        "\n",
        "# # Fit to data and collect AIC, BIC, and Hanna-Quinn values\n",
        "# aft_metrics = {}\n",
        "# for model in [weibull_aft, lognormal_aft, loglogistic_aft]:\n",
        "#     model.fit(data, duration_col='Churn_Level', event_col='Churn')\n",
        "#     aic = model.AIC_\n",
        "#     bic = model.BIC_  # You can get BIC directly from lifelines\n",
        "#     n = len(data)\n",
        "#     k = len(model.params_)\n",
        "\n",
        "#     # Hanna-Quinn criterion calculation\n",
        "#     hqc = np.log(n) * k * np.log(np.log(n)) + 2 * k * np.log(n)\n",
        "\n",
        "#     aft_metrics[model.__class__.__name__] = {\n",
        "#         'AIC': aic,\n",
        "#         'BIC': bic,\n",
        "#         'Hanna-Quinn': hqc\n",
        "#     }\n",
        "\n",
        "# # Create a DataFrame from the metrics\n",
        "# metrics_df = pd.DataFrame(aft_metrics).T\n",
        "# metrics_df.index.name = 'Model'\n",
        "# metrics_df = metrics_df.reset_index()\n",
        "\n",
        "# print(\"Model Comparison Metrics:\")\n",
        "# print(metrics_df)\n",
        "\n",
        "# # Find the model with the lowest AIC, BIC, and Hanna-Quinn\n",
        "# best_aft_model_aic = metrics_df.loc[metrics_df['AIC'].idxmin(), 'Model']\n",
        "# best_aft_model_bic = metrics_df.loc[metrics_df['BIC'].idxmin(), 'Model']\n",
        "# best_aft_model_hqc = metrics_df.loc[metrics_df['Hanna-Quinn'].idxmin(), 'Model']\n",
        "\n",
        "# print(f\"\\nThe AFT model with the lowest AIC is: {best_aft_model_aic}\")\n",
        "# print(f\"The AFT model with the lowest BIC is: {best_aft_model_bic}\")\n",
        "# print(f\"The AFT model with the lowest Hanna-Quinn is: {best_aft_model_hqc}\")\n"
      ]
    },
    {
      "cell_type": "code",
      "execution_count": 23,
      "metadata": {
        "colab": {
          "base_uri": "https://localhost:8080/",
          "height": 936
        },
        "id": "gK0dvRzEu3q6",
        "outputId": "c0b38ab7-026d-4333-af1a-310dfa00c9e0"
      },
      "outputs": [
        {
          "data": {
            "text/html": [
              "<div>\n",
              "<style scoped>\n",
              "    .dataframe tbody tr th:only-of-type {\n",
              "        vertical-align: middle;\n",
              "    }\n",
              "\n",
              "    .dataframe tbody tr th {\n",
              "        vertical-align: top;\n",
              "    }\n",
              "\n",
              "    .dataframe thead th {\n",
              "        text-align: right;\n",
              "    }\n",
              "</style>\n",
              "<table border=\"1\" class=\"dataframe\">\n",
              "  <tbody>\n",
              "    <tr>\n",
              "      <th>model</th>\n",
              "      <td>lifelines.LogNormalAFTFitter</td>\n",
              "    </tr>\n",
              "    <tr>\n",
              "      <th>duration col</th>\n",
              "      <td>'Churn_Level'</td>\n",
              "    </tr>\n",
              "    <tr>\n",
              "      <th>event col</th>\n",
              "      <td>'Churn'</td>\n",
              "    </tr>\n",
              "    <tr>\n",
              "      <th>number of observations</th>\n",
              "      <td>338</td>\n",
              "    </tr>\n",
              "    <tr>\n",
              "      <th>number of events observed</th>\n",
              "      <td>23</td>\n",
              "    </tr>\n",
              "    <tr>\n",
              "      <th>log-likelihood</th>\n",
              "      <td>-103.355</td>\n",
              "    </tr>\n",
              "    <tr>\n",
              "      <th>time fit was run</th>\n",
              "      <td>2024-08-13 23:59:04 UTC</td>\n",
              "    </tr>\n",
              "  </tbody>\n",
              "</table>\n",
              "</div><table border=\"1\" class=\"dataframe\">\n",
              "  <thead>\n",
              "    <tr style=\"text-align: right;\">\n",
              "      <th style=\"min-width: 12px;\"></th>\n",
              "      <th style=\"min-width: 12px;\"></th>\n",
              "      <th style=\"min-width: 12px;\">coef</th>\n",
              "      <th style=\"min-width: 12px;\">exp(coef)</th>\n",
              "      <th style=\"min-width: 12px;\">se(coef)</th>\n",
              "      <th style=\"min-width: 12px;\">coef lower 95%</th>\n",
              "      <th style=\"min-width: 12px;\">coef upper 95%</th>\n",
              "      <th style=\"min-width: 12px;\">exp(coef) lower 95%</th>\n",
              "      <th style=\"min-width: 12px;\">exp(coef) upper 95%</th>\n",
              "      <th style=\"min-width: 12px;\">cmp to</th>\n",
              "      <th style=\"min-width: 12px;\">z</th>\n",
              "      <th style=\"min-width: 12px;\">p</th>\n",
              "      <th style=\"min-width: 12px;\">-log2(p)</th>\n",
              "    </tr>\n",
              "  </thead>\n",
              "  <tbody>\n",
              "    <tr>\n",
              "      <th rowspan=\"14\" valign=\"top\">mu_</th>\n",
              "      <th>Data_Exhaustion</th>\n",
              "      <td>-1.228</td>\n",
              "      <td>0.293</td>\n",
              "      <td>0.683</td>\n",
              "      <td>-2.567</td>\n",
              "      <td>0.111</td>\n",
              "      <td>0.077</td>\n",
              "      <td>1.117</td>\n",
              "      <td>0.000</td>\n",
              "      <td>-1.798</td>\n",
              "      <td>0.072</td>\n",
              "      <td>3.791</td>\n",
              "    </tr>\n",
              "    <tr>\n",
              "      <th>Gender</th>\n",
              "      <td>0.220</td>\n",
              "      <td>1.246</td>\n",
              "      <td>0.345</td>\n",
              "      <td>-0.457</td>\n",
              "      <td>0.897</td>\n",
              "      <td>0.633</td>\n",
              "      <td>2.452</td>\n",
              "      <td>0.000</td>\n",
              "      <td>0.637</td>\n",
              "      <td>0.524</td>\n",
              "      <td>0.932</td>\n",
              "    </tr>\n",
              "    <tr>\n",
              "      <th>High_Costs_Pricing</th>\n",
              "      <td>-0.422</td>\n",
              "      <td>0.656</td>\n",
              "      <td>0.346</td>\n",
              "      <td>-1.100</td>\n",
              "      <td>0.256</td>\n",
              "      <td>0.333</td>\n",
              "      <td>1.292</td>\n",
              "      <td>0.000</td>\n",
              "      <td>-1.219</td>\n",
              "      <td>0.223</td>\n",
              "      <td>2.166</td>\n",
              "    </tr>\n",
              "    <tr>\n",
              "      <th>Mobile_Data_Internet</th>\n",
              "      <td>-1.291</td>\n",
              "      <td>0.275</td>\n",
              "      <td>0.743</td>\n",
              "      <td>-2.747</td>\n",
              "      <td>0.166</td>\n",
              "      <td>0.064</td>\n",
              "      <td>1.180</td>\n",
              "      <td>0.000</td>\n",
              "      <td>-1.737</td>\n",
              "      <td>0.082</td>\n",
              "      <td>3.602</td>\n",
              "    </tr>\n",
              "    <tr>\n",
              "      <th>Monthly_Data_Usage</th>\n",
              "      <td>-0.208</td>\n",
              "      <td>0.812</td>\n",
              "      <td>0.182</td>\n",
              "      <td>-0.566</td>\n",
              "      <td>0.149</td>\n",
              "      <td>0.568</td>\n",
              "      <td>1.161</td>\n",
              "      <td>0.000</td>\n",
              "      <td>-1.142</td>\n",
              "      <td>0.253</td>\n",
              "      <td>1.981</td>\n",
              "    </tr>\n",
              "    <tr>\n",
              "      <th>Multiple_Networks</th>\n",
              "      <td>-0.160</td>\n",
              "      <td>0.852</td>\n",
              "      <td>0.596</td>\n",
              "      <td>-1.329</td>\n",
              "      <td>1.008</td>\n",
              "      <td>0.265</td>\n",
              "      <td>2.741</td>\n",
              "      <td>0.000</td>\n",
              "      <td>-0.269</td>\n",
              "      <td>0.788</td>\n",
              "      <td>0.343</td>\n",
              "    </tr>\n",
              "    <tr>\n",
              "      <th>Network_Strength</th>\n",
              "      <td>-0.235</td>\n",
              "      <td>0.791</td>\n",
              "      <td>0.161</td>\n",
              "      <td>-0.549</td>\n",
              "      <td>0.080</td>\n",
              "      <td>0.577</td>\n",
              "      <td>1.083</td>\n",
              "      <td>0.000</td>\n",
              "      <td>-1.462</td>\n",
              "      <td>0.144</td>\n",
              "      <td>2.800</td>\n",
              "    </tr>\n",
              "    <tr>\n",
              "      <th>Poor_Network_Quality_Coverage</th>\n",
              "      <td>0.002</td>\n",
              "      <td>1.002</td>\n",
              "      <td>0.355</td>\n",
              "      <td>-0.693</td>\n",
              "      <td>0.697</td>\n",
              "      <td>0.500</td>\n",
              "      <td>2.008</td>\n",
              "      <td>0.000</td>\n",
              "      <td>0.005</td>\n",
              "      <td>0.996</td>\n",
              "      <td>0.006</td>\n",
              "    </tr>\n",
              "    <tr>\n",
              "      <th>Residence</th>\n",
              "      <td>0.374</td>\n",
              "      <td>1.454</td>\n",
              "      <td>0.471</td>\n",
              "      <td>-0.549</td>\n",
              "      <td>1.298</td>\n",
              "      <td>0.578</td>\n",
              "      <td>3.661</td>\n",
              "      <td>0.000</td>\n",
              "      <td>0.795</td>\n",
              "      <td>0.427</td>\n",
              "      <td>1.228</td>\n",
              "    </tr>\n",
              "    <tr>\n",
              "      <th>SMS_Text_Messaging</th>\n",
              "      <td>-0.426</td>\n",
              "      <td>0.653</td>\n",
              "      <td>0.341</td>\n",
              "      <td>-1.095</td>\n",
              "      <td>0.242</td>\n",
              "      <td>0.335</td>\n",
              "      <td>1.274</td>\n",
              "      <td>0.000</td>\n",
              "      <td>-1.250</td>\n",
              "      <td>0.211</td>\n",
              "      <td>2.242</td>\n",
              "    </tr>\n",
              "    <tr>\n",
              "      <th>Unsatisfactory_Customer_Service</th>\n",
              "      <td>0.040</td>\n",
              "      <td>1.041</td>\n",
              "      <td>0.323</td>\n",
              "      <td>-0.593</td>\n",
              "      <td>0.674</td>\n",
              "      <td>0.553</td>\n",
              "      <td>1.962</td>\n",
              "      <td>0.000</td>\n",
              "      <td>0.125</td>\n",
              "      <td>0.900</td>\n",
              "      <td>0.151</td>\n",
              "    </tr>\n",
              "    <tr>\n",
              "      <th>Usage_Freq</th>\n",
              "      <td>-0.141</td>\n",
              "      <td>0.869</td>\n",
              "      <td>0.105</td>\n",
              "      <td>-0.347</td>\n",
              "      <td>0.066</td>\n",
              "      <td>0.707</td>\n",
              "      <td>1.068</td>\n",
              "      <td>0.000</td>\n",
              "      <td>-1.336</td>\n",
              "      <td>0.182</td>\n",
              "      <td>2.461</td>\n",
              "    </tr>\n",
              "    <tr>\n",
              "      <th>Voice_Calls</th>\n",
              "      <td>-0.925</td>\n",
              "      <td>0.396</td>\n",
              "      <td>0.565</td>\n",
              "      <td>-2.033</td>\n",
              "      <td>0.182</td>\n",
              "      <td>0.131</td>\n",
              "      <td>1.200</td>\n",
              "      <td>0.000</td>\n",
              "      <td>-1.638</td>\n",
              "      <td>0.101</td>\n",
              "      <td>3.301</td>\n",
              "    </tr>\n",
              "    <tr>\n",
              "      <th>Intercept</th>\n",
              "      <td>8.623</td>\n",
              "      <td>5560.127</td>\n",
              "      <td>2.014</td>\n",
              "      <td>4.675</td>\n",
              "      <td>12.572</td>\n",
              "      <td>107.251</td>\n",
              "      <td>2.882e+05</td>\n",
              "      <td>0.000</td>\n",
              "      <td>4.281</td>\n",
              "      <td>&lt;0.0005</td>\n",
              "      <td>15.713</td>\n",
              "    </tr>\n",
              "    <tr>\n",
              "      <th>sigma_</th>\n",
              "      <th>Intercept</th>\n",
              "      <td>0.371</td>\n",
              "      <td>1.449</td>\n",
              "      <td>0.185</td>\n",
              "      <td>0.008</td>\n",
              "      <td>0.733</td>\n",
              "      <td>1.009</td>\n",
              "      <td>2.082</td>\n",
              "      <td>0.000</td>\n",
              "      <td>2.006</td>\n",
              "      <td>0.045</td>\n",
              "      <td>4.478</td>\n",
              "    </tr>\n",
              "  </tbody>\n",
              "</table><br><div>\n",
              "<style scoped>\n",
              "    .dataframe tbody tr th:only-of-type {\n",
              "        vertical-align: middle;\n",
              "    }\n",
              "\n",
              "    .dataframe tbody tr th {\n",
              "        vertical-align: top;\n",
              "    }\n",
              "\n",
              "    .dataframe thead th {\n",
              "        text-align: right;\n",
              "    }\n",
              "</style>\n",
              "<table border=\"1\" class=\"dataframe\">\n",
              "  <tbody>\n",
              "    <tr>\n",
              "      <th>Concordance</th>\n",
              "      <td>0.753</td>\n",
              "    </tr>\n",
              "    <tr>\n",
              "      <th>AIC</th>\n",
              "      <td>236.710</td>\n",
              "    </tr>\n",
              "    <tr>\n",
              "      <th>log-likelihood ratio test</th>\n",
              "      <td>20.862 on 13 df</td>\n",
              "    </tr>\n",
              "    <tr>\n",
              "      <th>-log2(p) of ll-ratio test</th>\n",
              "      <td>3.723</td>\n",
              "    </tr>\n",
              "  </tbody>\n",
              "</table>\n",
              "</div>"
            ],
            "text/latex": [
              "\\begin{tabular}{llrrrrrrrrrrr}\n",
              " &  & coef & exp(coef) & se(coef) & coef lower 95% & coef upper 95% & exp(coef) lower 95% & exp(coef) upper 95% & cmp to & z & p & -log2(p) \\\\\n",
              "param & covariate &  &  &  &  &  &  &  &  &  &  &  \\\\\n",
              "\\multirow[c]{14}{*}{mu_} & Data_Exhaustion & -1.228 & 0.293 & 0.683 & -2.567 & 0.111 & 0.077 & 1.117 & 0.000 & -1.798 & 0.072 & 3.791 \\\\\n",
              " & Gender & 0.220 & 1.246 & 0.345 & -0.457 & 0.897 & 0.633 & 2.452 & 0.000 & 0.637 & 0.524 & 0.932 \\\\\n",
              " & High_Costs_Pricing & -0.422 & 0.656 & 0.346 & -1.100 & 0.256 & 0.333 & 1.292 & 0.000 & -1.219 & 0.223 & 2.166 \\\\\n",
              " & Mobile_Data_Internet & -1.291 & 0.275 & 0.743 & -2.747 & 0.166 & 0.064 & 1.180 & 0.000 & -1.737 & 0.082 & 3.602 \\\\\n",
              " & Monthly_Data_Usage & -0.208 & 0.812 & 0.182 & -0.566 & 0.149 & 0.568 & 1.161 & 0.000 & -1.142 & 0.253 & 1.981 \\\\\n",
              " & Multiple_Networks & -0.160 & 0.852 & 0.596 & -1.329 & 1.008 & 0.265 & 2.741 & 0.000 & -0.269 & 0.788 & 0.343 \\\\\n",
              " & Network_Strength & -0.235 & 0.791 & 0.161 & -0.549 & 0.080 & 0.577 & 1.083 & 0.000 & -1.462 & 0.144 & 2.800 \\\\\n",
              " & Poor_Network_Quality_Coverage & 0.002 & 1.002 & 0.355 & -0.693 & 0.697 & 0.500 & 2.008 & 0.000 & 0.005 & 0.996 & 0.006 \\\\\n",
              " & Residence & 0.374 & 1.454 & 0.471 & -0.549 & 1.298 & 0.578 & 3.661 & 0.000 & 0.795 & 0.427 & 1.228 \\\\\n",
              " & SMS_Text_Messaging & -0.426 & 0.653 & 0.341 & -1.095 & 0.242 & 0.335 & 1.274 & 0.000 & -1.250 & 0.211 & 2.242 \\\\\n",
              " & Unsatisfactory_Customer_Service & 0.040 & 1.041 & 0.323 & -0.593 & 0.674 & 0.553 & 1.962 & 0.000 & 0.125 & 0.900 & 0.151 \\\\\n",
              " & Usage_Freq & -0.141 & 0.869 & 0.105 & -0.347 & 0.066 & 0.707 & 1.068 & 0.000 & -1.336 & 0.182 & 2.461 \\\\\n",
              " & Voice_Calls & -0.925 & 0.396 & 0.565 & -2.033 & 0.182 & 0.131 & 1.200 & 0.000 & -1.638 & 0.101 & 3.301 \\\\\n",
              " & Intercept & 8.623 & 5560.127 & 2.014 & 4.675 & 12.572 & 107.251 & 288248.397 & 0.000 & 4.281 & 0.000 & 15.713 \\\\\n",
              "sigma_ & Intercept & 0.371 & 1.449 & 0.185 & 0.008 & 0.733 & 1.009 & 2.082 & 0.000 & 2.006 & 0.045 & 4.478 \\\\\n",
              "\\end{tabular}\n"
            ],
            "text/plain": [
              "<lifelines.LogNormalAFTFitter: fitted with 338 total observations, 315 right-censored observations>\n",
              "             duration col = 'Churn_Level'\n",
              "                event col = 'Churn'\n",
              "   number of observations = 338\n",
              "number of events observed = 23\n",
              "           log-likelihood = -103.355\n",
              "         time fit was run = 2024-08-13 23:59:04 UTC\n",
              "\n",
              "---\n",
              "                                         coef exp(coef)  se(coef)  coef lower 95%  coef upper 95% exp(coef) lower 95% exp(coef) upper 95%\n",
              "param  covariate                                                                                                                         \n",
              "mu_    Data_Exhaustion                 -1.228     0.293     0.683          -2.567           0.111               0.077               1.117\n",
              "       Gender                           0.220     1.246     0.345          -0.457           0.897               0.633               2.452\n",
              "       High_Costs_Pricing              -0.422     0.656     0.346          -1.100           0.256               0.333               1.292\n",
              "       Mobile_Data_Internet            -1.291     0.275     0.743          -2.747           0.166               0.064               1.180\n",
              "       Monthly_Data_Usage              -0.208     0.812     0.182          -0.566           0.149               0.568               1.161\n",
              "       Multiple_Networks               -0.160     0.852     0.596          -1.329           1.008               0.265               2.741\n",
              "       Network_Strength                -0.235     0.791     0.161          -0.549           0.080               0.577               1.083\n",
              "       Poor_Network_Quality_Coverage    0.002     1.002     0.355          -0.693           0.697               0.500               2.008\n",
              "       Residence                        0.374     1.454     0.471          -0.549           1.298               0.578               3.661\n",
              "       SMS_Text_Messaging              -0.426     0.653     0.341          -1.095           0.242               0.335               1.274\n",
              "       Unsatisfactory_Customer_Service  0.040     1.041     0.323          -0.593           0.674               0.553               1.962\n",
              "       Usage_Freq                      -0.141     0.869     0.105          -0.347           0.066               0.707               1.068\n",
              "       Voice_Calls                     -0.925     0.396     0.565          -2.033           0.182               0.131               1.200\n",
              "       Intercept                        8.623  5560.127     2.014           4.675          12.572             107.251           2.882e+05\n",
              "sigma_ Intercept                        0.371     1.449     0.185           0.008           0.733               1.009               2.082\n",
              "\n",
              "                                        cmp to      z       p  -log2(p)\n",
              "param  covariate                                                       \n",
              "mu_    Data_Exhaustion                   0.000 -1.798   0.072     3.791\n",
              "       Gender                            0.000  0.637   0.524     0.932\n",
              "       High_Costs_Pricing                0.000 -1.219   0.223     2.166\n",
              "       Mobile_Data_Internet              0.000 -1.737   0.082     3.602\n",
              "       Monthly_Data_Usage                0.000 -1.142   0.253     1.981\n",
              "       Multiple_Networks                 0.000 -0.269   0.788     0.343\n",
              "       Network_Strength                  0.000 -1.462   0.144     2.800\n",
              "       Poor_Network_Quality_Coverage     0.000  0.005   0.996     0.006\n",
              "       Residence                         0.000  0.795   0.427     1.228\n",
              "       SMS_Text_Messaging                0.000 -1.250   0.211     2.242\n",
              "       Unsatisfactory_Customer_Service   0.000  0.125   0.900     0.151\n",
              "       Usage_Freq                        0.000 -1.336   0.182     2.461\n",
              "       Voice_Calls                       0.000 -1.638   0.101     3.301\n",
              "       Intercept                         0.000  4.281 <0.0005    15.713\n",
              "sigma_ Intercept                         0.000  2.006   0.045     4.478\n",
              "---\n",
              "Concordance = 0.753\n",
              "AIC = 236.710\n",
              "log-likelihood ratio test = 20.862 on 13 df\n",
              "-log2(p) of ll-ratio test = 3.723"
            ]
          },
          "metadata": {},
          "output_type": "display_data"
        }
      ],
      "source": [
        "from lifelines import LogNormalAFTFitter\n",
        "weibull_aft = LogNormalAFTFitter()\n",
        "weibull_aft.fit(data, duration_col='Churn_Level', event_col='Churn')\n",
        "weibull_aft.print_summary(3)"
      ]
    },
    {
      "cell_type": "code",
      "execution_count": 24,
      "metadata": {
        "colab": {
          "base_uri": "https://localhost:8080/",
          "height": 468
        },
        "id": "J3rlfEENu3q6",
        "outputId": "6ce30525-64e4-4de2-c4ae-0bb55c5f874e"
      },
      "outputs": [
        {
          "data": {
            "text/plain": [
              "<Axes: xlabel='log(accelerated failure rate) (95% CI)'>"
            ]
          },
          "execution_count": 24,
          "metadata": {},
          "output_type": "execute_result"
        },
        {
          "data": {
            "image/png": "[encoded data removed]",
            "text/plain": [
              "<Figure size 1000x600 with 1 Axes>"
            ]
          },
          "metadata": {},
          "output_type": "display_data"
        }
      ],
      "source": [
        "plt.subplots(figsize=(10, 6))\n",
        "weibull_aft.plot()\n"
      ]
    },
    {
      "cell_type": "code",
      "execution_count": 25,
      "metadata": {
        "id": "U-fu4A3Cu3q6"
      },
      "outputs": [],
      "source": [
        "# from lifelines import CoxPHFitter\n",
        "\n",
        "# # Initialize the Cox Proportional Hazards model\n",
        "# cph = CoxPHFitter()\n",
        "\n",
        "# # Fit the model\n",
        "# cph.fit(data, duration_col='Level', event_col='Churn')\n",
        "\n",
        "# # Display the summary\n",
        "# cph.print_summary()\n",
        "\n",
        "# # Plot the coefficients\n",
        "# cph.plot()\n",
        "# plt.title('Cox Proportional Hazards Model Coefficients')\n",
        "# plt.show()\n"
      ]
    },
    {
      "cell_type": "code",
      "execution_count": 26,
      "metadata": {
        "colab": {
          "base_uri": "https://localhost:8080/",
          "height": 1000
        },
        "id": "6FTUHS6zu3q6",
        "outputId": "fdcfd3bc-331a-4f88-b6a4-39a599f64ff1"
      },
      "outputs": [
        {
          "data": {
            "text/html": [
              "<div>\n",
              "<style scoped>\n",
              "    .dataframe tbody tr th:only-of-type {\n",
              "        vertical-align: middle;\n",
              "    }\n",
              "\n",
              "    .dataframe tbody tr th {\n",
              "        vertical-align: top;\n",
              "    }\n",
              "\n",
              "    .dataframe thead th {\n",
              "        text-align: right;\n",
              "    }\n",
              "</style>\n",
              "<table border=\"1\" class=\"dataframe\">\n",
              "  <tbody>\n",
              "    <tr>\n",
              "      <th>time_transform</th>\n",
              "      <td>rank</td>\n",
              "    </tr>\n",
              "    <tr>\n",
              "      <th>null_distribution</th>\n",
              "      <td>chi squared</td>\n",
              "    </tr>\n",
              "    <tr>\n",
              "      <th>degrees_of_freedom</th>\n",
              "      <td>1</td>\n",
              "    </tr>\n",
              "    <tr>\n",
              "      <th>model</th>\n",
              "      <td>&lt;lifelines.CoxPHFitter: fitted with 338 total ...</td>\n",
              "    </tr>\n",
              "    <tr>\n",
              "      <th>test_name</th>\n",
              "      <td>proportional_hazard_test</td>\n",
              "    </tr>\n",
              "  </tbody>\n",
              "</table>\n",
              "</div><table border=\"1\" class=\"dataframe\">\n",
              "  <thead>\n",
              "    <tr style=\"text-align: right;\">\n",
              "      <th></th>\n",
              "      <th>test_statistic</th>\n",
              "      <th>p</th>\n",
              "      <th>-log2(p)</th>\n",
              "    </tr>\n",
              "  </thead>\n",
              "  <tbody>\n",
              "    <tr>\n",
              "      <th>Data_Exhaustion</th>\n",
              "      <td>0.38</td>\n",
              "      <td>0.54</td>\n",
              "      <td>0.89</td>\n",
              "    </tr>\n",
              "    <tr>\n",
              "      <th>Gender</th>\n",
              "      <td>0.37</td>\n",
              "      <td>0.54</td>\n",
              "      <td>0.88</td>\n",
              "    </tr>\n",
              "    <tr>\n",
              "      <th>High_Costs_Pricing</th>\n",
              "      <td>1.08</td>\n",
              "      <td>0.30</td>\n",
              "      <td>1.74</td>\n",
              "    </tr>\n",
              "    <tr>\n",
              "      <th>Mobile_Data_Internet</th>\n",
              "      <td>0.04</td>\n",
              "      <td>0.84</td>\n",
              "      <td>0.25</td>\n",
              "    </tr>\n",
              "    <tr>\n",
              "      <th>Monthly_Data_Usage</th>\n",
              "      <td>1.65</td>\n",
              "      <td>0.20</td>\n",
              "      <td>2.33</td>\n",
              "    </tr>\n",
              "    <tr>\n",
              "      <th>Multiple_Networks</th>\n",
              "      <td>1.13</td>\n",
              "      <td>0.29</td>\n",
              "      <td>1.79</td>\n",
              "    </tr>\n",
              "    <tr>\n",
              "      <th>Network_Strength</th>\n",
              "      <td>0.00</td>\n",
              "      <td>1.00</td>\n",
              "      <td>0.00</td>\n",
              "    </tr>\n",
              "    <tr>\n",
              "      <th>Poor_Network_Quality_Coverage</th>\n",
              "      <td>0.49</td>\n",
              "      <td>0.48</td>\n",
              "      <td>1.05</td>\n",
              "    </tr>\n",
              "    <tr>\n",
              "      <th>Residence</th>\n",
              "      <td>0.30</td>\n",
              "      <td>0.58</td>\n",
              "      <td>0.78</td>\n",
              "    </tr>\n",
              "    <tr>\n",
              "      <th>SMS_Text_Messaging</th>\n",
              "      <td>0.36</td>\n",
              "      <td>0.55</td>\n",
              "      <td>0.86</td>\n",
              "    </tr>\n",
              "    <tr>\n",
              "      <th>Unsatisfactory_Customer_Service</th>\n",
              "      <td>0.54</td>\n",
              "      <td>0.46</td>\n",
              "      <td>1.11</td>\n",
              "    </tr>\n",
              "    <tr>\n",
              "      <th>Usage_Freq</th>\n",
              "      <td>0.03</td>\n",
              "      <td>0.87</td>\n",
              "      <td>0.20</td>\n",
              "    </tr>\n",
              "    <tr>\n",
              "      <th>Voice_Calls</th>\n",
              "      <td>1.91</td>\n",
              "      <td>0.17</td>\n",
              "      <td>2.58</td>\n",
              "    </tr>\n",
              "  </tbody>\n",
              "</table>"
            ],
            "text/latex": [
              "\\begin{tabular}{lrrr}\n",
              " & test_statistic & p & -log2(p) \\\\\n",
              "Data_Exhaustion & 0.38 & 0.54 & 0.89 \\\\\n",
              "Gender & 0.37 & 0.54 & 0.88 \\\\\n",
              "High_Costs_Pricing & 1.08 & 0.30 & 1.74 \\\\\n",
              "Mobile_Data_Internet & 0.04 & 0.84 & 0.25 \\\\\n",
              "Monthly_Data_Usage & 1.65 & 0.20 & 2.33 \\\\\n",
              "Multiple_Networks & 1.13 & 0.29 & 1.79 \\\\\n",
              "Network_Strength & 0.00 & 1.00 & 0.00 \\\\\n",
              "Poor_Network_Quality_Coverage & 0.49 & 0.48 & 1.05 \\\\\n",
              "Residence & 0.30 & 0.58 & 0.78 \\\\\n",
              "SMS_Text_Messaging & 0.36 & 0.55 & 0.86 \\\\\n",
              "Unsatisfactory_Customer_Service & 0.54 & 0.46 & 1.11 \\\\\n",
              "Usage_Freq & 0.03 & 0.87 & 0.20 \\\\\n",
              "Voice_Calls & 1.91 & 0.17 & 2.58 \\\\\n",
              "\\end{tabular}\n"
            ],
            "text/plain": [
              "<lifelines.StatisticalResult: proportional_hazard_test>\n",
              "    time_transform = rank\n",
              " null_distribution = chi squared\n",
              "degrees_of_freedom = 1\n",
              "             model = <lifelines.CoxPHFitter: fitted with 338 total observations, 315 right-censored observations>\n",
              "         test_name = proportional_hazard_test\n",
              "\n",
              "---\n",
              "                                 test_statistic    p  -log2(p)\n",
              "Data_Exhaustion                            0.38 0.54      0.89\n",
              "Gender                                     0.37 0.54      0.88\n",
              "High_Costs_Pricing                         1.08 0.30      1.74\n",
              "Mobile_Data_Internet                       0.04 0.84      0.25\n",
              "Monthly_Data_Usage                         1.65 0.20      2.33\n",
              "Multiple_Networks                          1.13 0.29      1.79\n",
              "Network_Strength                           0.00 1.00      0.00\n",
              "Poor_Network_Quality_Coverage              0.49 0.48      1.05\n",
              "Residence                                  0.30 0.58      0.78\n",
              "SMS_Text_Messaging                         0.36 0.55      0.86\n",
              "Unsatisfactory_Customer_Service            0.54 0.46      1.11\n",
              "Usage_Freq                                 0.03 0.87      0.20\n",
              "Voice_Calls                                1.91 0.17      2.58"
            ]
          },
          "execution_count": 26,
          "metadata": {},
          "output_type": "execute_result"
        }
      ],
      "source": [
        "from lifelines.statistics import proportional_hazard_test\n",
        "\n",
        "# Fit the Cox Proportional Hazards model\n",
        "cph = CoxPHFitter()\n",
        "cph.fit(data, duration_col='Churn_Level', event_col='Churn')\n",
        "\n",
        "# Perform the proportional hazards test\n",
        "results = proportional_hazard_test(cph, data, time_transform='rank')\n",
        "\n",
        "# # Print the results\n",
        "# cph.plot_partial_effects_on_outcome('Other_Networks_Better_Services', values=[0, 1, 2, 3, 4])\n",
        "# plt.title('Partial Effects of Other Networks Better Services on Survival')\n",
        "# plt.show()\n",
        "results# Plot the scaled Schoenfeld residuals\n",
        "\n",
        "\n",
        "# Interpretation and validation\n",
        "# (This will involve checking the summary output, coefficients, and assumption checks)\n"
      ]
    },
    {
      "cell_type": "code",
      "execution_count": 46,
      "metadata": {},
      "outputs": [],
      "source": [
        "# from lifelines import CoxPHFitter\n",
        "# import matplotlib.pyplot as plt\n",
        "\n",
        "# # Assuming 'df' is your DataFrame and 'cph' is your fitted CoxPH model\n",
        "# cph = CoxPHFitter()\n",
        "# cph.fit(data, duration_col='Churn_Level', event_col='Churn')\n",
        "\n",
        "# # Plot Schoenfeld residuals\n",
        "# cph.check_assumptions(data, p_value_threshold=0.05)\n"
      ]
    },
    {
      "cell_type": "code",
      "execution_count": 51,
      "metadata": {
        "colab": {
          "base_uri": "https://localhost:8080/"
        },
        "id": "cOA_ryCyu3q6",
        "outputId": "07db1d5b-6883-4ac5-ef96-2ff7179cd434"
      },
      "outputs": [
        {
          "name": "stdout",
          "output_type": "stream",
          "text": [
            "Model Comparison Metrics:\n",
            "                  Model         AIC         BIC  Hanna-Quinn\n",
            "0      WeibullAFTFitter  192.797010  174.443102   328.579061\n",
            "1    LogNormalAFTFitter  189.982139  171.628230   328.579061\n",
            "2  LogLogisticAFTFitter  192.498056  174.144148   328.579061\n",
            "\n",
            "The AFT model with the lowest AIC is: LogNormalAFTFitter\n",
            "The AFT model with the lowest BIC is: LogNormalAFTFitter\n",
            "The AFT model with the lowest Hanna-Quinn is: WeibullAFTFitter\n"
          ]
        }
      ],
      "source": [
        "import pandas as pd\n",
        "from lifelines import WeibullAFTFitter, LogNormalAFTFitter, LogLogisticAFTFitter\n",
        "import numpy as np\n",
        "\n",
        "\n",
        "# Instantiate each AFT fitter\n",
        "weibull_aft = WeibullAFTFitter()\n",
        "lognormal_aft = LogNormalAFTFitter()\n",
        "loglogistic_aft = LogLogisticAFTFitter()\n",
        "\n",
        "# Fit to data and collect AIC, BIC, and Hanna-Quinn values\n",
        "aft_metrics = {}\n",
        "for model in [weibull_aft, lognormal_aft, loglogistic_aft]:\n",
        "    model.fit(data, duration_col='Churn_Level', event_col='Churn')\n",
        "    aic = model.AIC_\n",
        "    bic = model.BIC_  # You can get BIC directly from lifelines\n",
        "    n = len(data)\n",
        "    k = len(model.params_)\n",
        "\n",
        "    # Hanna-Quinn criterion calculation\n",
        "    hqc = np.log(n) * k * np.log(np.log(n)) + 2 * k * np.log(n)\n",
        "\n",
        "    aft_metrics[model.__class__.__name__] = {\n",
        "        'AIC': aic,\n",
        "        'BIC': bic,\n",
        "        'Hanna-Quinn': hqc\n",
        "    }\n",
        "\n",
        "# Create a DataFrame from the metrics\n",
        "metrics_df = pd.DataFrame(aft_metrics).T\n",
        "metrics_df.index.name = 'Model'\n",
        "metrics_df = metrics_df.reset_index()\n",
        "\n",
        "print(\"Model Comparison Metrics:\")\n",
        "print(metrics_df)\n",
        "\n",
        "# Find the model with the lowest AIC, BIC, and Hanna-Quinn\n",
        "best_aft_model_aic = metrics_df.loc[metrics_df['AIC'].idxmin(), 'Model']\n",
        "best_aft_model_bic = metrics_df.loc[metrics_df['BIC'].idxmin(), 'Model']\n",
        "best_aft_model_hqc = metrics_df.loc[metrics_df['Hanna-Quinn'].idxmin(), 'Model']\n",
        "\n",
        "print(f\"\\nThe AFT model with the lowest AIC is: {best_aft_model_aic}\")\n",
        "print(f\"The AFT model with the lowest BIC is: {best_aft_model_bic}\")\n",
        "print(f\"The AFT model with the lowest Hanna-Quinn is: {best_aft_model_hqc}\")\n"
      ]
    },
    {
      "cell_type": "code",
      "execution_count": 57,
      "metadata": {
        "id": "ufCO5-Otu3q9"
      },
      "outputs": [
        {
          "name": "stdout",
          "output_type": "stream",
          "text": [
            "Weibull Model:\n",
            "AIC: 176.98902622576662\n",
            "BIC: 184.63511801673266\n",
            "\n",
            "Log-Normal Model:\n",
            "AIC: 174.9097511551766\n",
            "BIC: 182.55584294614263\n",
            "\n",
            "Log-Logistic Model:\n",
            "AIC: 176.82339882684315\n",
            "BIC: 184.46949061780919\n",
            "\n"
          ]
        }
      ],
      "source": [
        "import pandas as pd\n",
        "from lifelines import WeibullFitter, LogNormalFitter, LogLogisticFitter\n",
        "# Define the duration and event columns\n",
        "duration_col = 'Churn_Level'\n",
        "event_col = 'Churn'\n",
        "\n",
        "# Fit Weibull model\n",
        "weibull_model = WeibullFitter()\n",
        "weibull_model.fit(data[duration_col], data[event_col])\n",
        "\n",
        "# Fit Log-Normal model\n",
        "lognormal_model = LogNormalFitter()\n",
        "lognormal_model.fit(data[duration_col], data[event_col])\n",
        "\n",
        "# Fit Log-Logistic model\n",
        "loglogistic_model = LogLogisticFitter()\n",
        "loglogistic_model.fit(data[duration_col], data[event_col])\n",
        "\n",
        "# Calculate AIC, BIC, and Hannan-Quinn criteria\n",
        "models = {\n",
        "    'Weibull': weibull_model,\n",
        "    'Log-Normal': lognormal_model,\n",
        "    'Log-Logistic': loglogistic_model\n",
        "}\n",
        "\n",
        "results = {}\n",
        "for model_name, model in models.items():\n",
        "    aic = model.AIC_\n",
        "    bic = model.BIC_\n",
        "    # hqic = model.HQIC_\n",
        "    results[model_name] = {'AIC': aic, 'BIC': bic}\n",
        "\n",
        "# Print the results\n",
        "for model_name, criteria in results.items():\n",
        "    print(f\"{model_name} Model:\")\n",
        "    print(f\"AIC: {criteria['AIC']}\")\n",
        "    print(f\"BIC: {criteria['BIC']}\")\n",
        "    # print(f\"Hannan-Quinn: {criteria['Hannan-Quinn']}\")\n",
        "    print()"
      ]
    },
    {
      "cell_type": "code",
      "execution_count": null,
      "metadata": {
        "id": "YMWzAHTmu3q9"
      },
      "outputs": [],
      "source": []
    }
  ],
  "metadata": {
    "accelerator": "GPU",
    "colab": {
      "gpuType": "T4",
      "provenance": []
    },
    "kernelspec": {
      "display_name": "Python 3",
      "name": "python3"
    },
    "language_info": {
      "codemirror_mode": {
        "name": "ipython",
        "version": 3
      },
      "file_extension": ".py",
      "mimetype": "text/x-python",
      "name": "python",
      "nbconvert_exporter": "python",
      "pygments_lexer": "ipython3",
      "version": "3.11.9"
    }
  },
  "nbformat": 4,
  "nbformat_minor": 0
}
