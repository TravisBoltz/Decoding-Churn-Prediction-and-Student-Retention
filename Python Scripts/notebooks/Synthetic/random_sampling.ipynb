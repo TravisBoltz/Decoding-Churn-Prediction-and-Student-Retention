{
  "cells": [
    {
      "cell_type": "code",
      "execution_count": 1,
      "metadata": {
        "id": "205bLM9ru3qy"
      },
      "outputs": [],
      "source": [
        "#%pip install random-survival-forest\n",
        "#%pip install scikit-survival"
      ]
    },
    {
      "cell_type": "code",
      "execution_count": 2,
      "metadata": {
        "id": "Khe_2ESWu3q0"
      },
      "outputs": [],
      "source": [
        "# pip install plotly"
      ]
    },
    {
      "cell_type": "code",
      "execution_count": 3,
      "metadata": {
        "id": "AlgunNk2u3q0"
      },
      "outputs": [],
      "source": [
        "import pandas as pd\n",
        "# data = pd.read_csv('encoded_values_2.csv')\n",
        "import seaborn as sns\n",
        "from sklearn.preprocessing import LabelEncoder\n",
        "import numpy as np\n",
        "import plotly.graph_objects as go\n",
        "from plotly.subplots import make_subplots\n",
        "import plotly.express as px #for histogram\n",
        "sns.set(style=\"whitegrid\")"
      ]
    },
    {
      "cell_type": "code",
      "execution_count": 4,
      "metadata": {
        "id": "y95e5qZgvQ1t"
      },
      "outputs": [],
      "source": [
        "# pip install lifelines"
      ]
    },
    {
      "cell_type": "code",
      "execution_count": 5,
      "metadata": {
        "id": "mrm_YXnZN5ez"
      },
      "outputs": [],
      "source": [
        "# pip install lifelines"
      ]
    },
    {
      "cell_type": "code",
      "execution_count": 6,
      "metadata": {
        "colab": {
          "base_uri": "https://localhost:8080/",
          "height": 330
        },
        "id": "jcrKJrxHu3q1",
        "outputId": "84b4969b-f270-4f7e-866b-12965c51f36a"
      },
      "outputs": [
        {
          "data": {
            "text/html": [
              "<div>\n",
              "<style scoped>\n",
              "    .dataframe tbody tr th:only-of-type {\n",
              "        vertical-align: middle;\n",
              "    }\n",
              "\n",
              "    .dataframe tbody tr th {\n",
              "        vertical-align: top;\n",
              "    }\n",
              "\n",
              "    .dataframe thead th {\n",
              "        text-align: right;\n",
              "    }\n",
              "</style>\n",
              "<table border=\"1\" class=\"dataframe\">\n",
              "  <thead>\n",
              "    <tr style=\"text-align: right;\">\n",
              "      <th></th>\n",
              "      <th>Gender</th>\n",
              "      <th>Churn</th>\n",
              "      <th>Residence</th>\n",
              "      <th>Usage_Freq</th>\n",
              "      <th>Network_Strength</th>\n",
              "      <th>Voice_Calls</th>\n",
              "      <th>Mobile_Data_Internet</th>\n",
              "      <th>SMS_Text_Messaging</th>\n",
              "      <th>Data_Exhaustion</th>\n",
              "      <th>Multiple_Networks</th>\n",
              "      <th>Poor_Network_Quality_Coverage</th>\n",
              "      <th>Unsatisfactory_Customer_Service</th>\n",
              "      <th>High_Costs_Pricing</th>\n",
              "      <th>Monthly_Data_Usage</th>\n",
              "      <th>Churn_Level</th>\n",
              "    </tr>\n",
              "  </thead>\n",
              "  <tbody>\n",
              "    <tr>\n",
              "      <th>0</th>\n",
              "      <td>Female</td>\n",
              "      <td>No</td>\n",
              "      <td>Off-campus</td>\n",
              "      <td>Daily</td>\n",
              "      <td>5</td>\n",
              "      <td>No</td>\n",
              "      <td>No</td>\n",
              "      <td>Yes</td>\n",
              "      <td>No</td>\n",
              "      <td>Yes</td>\n",
              "      <td>Yes</td>\n",
              "      <td>No</td>\n",
              "      <td>Yes</td>\n",
              "      <td>0-2</td>\n",
              "      <td>4</td>\n",
              "    </tr>\n",
              "    <tr>\n",
              "      <th>1</th>\n",
              "      <td>Female</td>\n",
              "      <td>No</td>\n",
              "      <td>On-campus</td>\n",
              "      <td>Occasionally</td>\n",
              "      <td>1</td>\n",
              "      <td>Yes</td>\n",
              "      <td>Yes</td>\n",
              "      <td>No</td>\n",
              "      <td>Yes</td>\n",
              "      <td>Yes</td>\n",
              "      <td>Yes</td>\n",
              "      <td>No</td>\n",
              "      <td>No</td>\n",
              "      <td>8 and more</td>\n",
              "      <td>4</td>\n",
              "    </tr>\n",
              "    <tr>\n",
              "      <th>2</th>\n",
              "      <td>Male</td>\n",
              "      <td>No</td>\n",
              "      <td>Off-campus</td>\n",
              "      <td>Occasionally</td>\n",
              "      <td>1</td>\n",
              "      <td>Yes</td>\n",
              "      <td>Yes</td>\n",
              "      <td>No</td>\n",
              "      <td>No</td>\n",
              "      <td>Yes</td>\n",
              "      <td>No</td>\n",
              "      <td>Yes</td>\n",
              "      <td>Yes</td>\n",
              "      <td>4-6</td>\n",
              "      <td>4</td>\n",
              "    </tr>\n",
              "    <tr>\n",
              "      <th>3</th>\n",
              "      <td>Female</td>\n",
              "      <td>No</td>\n",
              "      <td>Off-campus</td>\n",
              "      <td>Occasionally</td>\n",
              "      <td>3</td>\n",
              "      <td>Yes</td>\n",
              "      <td>Yes</td>\n",
              "      <td>Yes</td>\n",
              "      <td>Yes</td>\n",
              "      <td>Yes</td>\n",
              "      <td>No</td>\n",
              "      <td>No</td>\n",
              "      <td>No</td>\n",
              "      <td>8 and more</td>\n",
              "      <td>4</td>\n",
              "    </tr>\n",
              "    <tr>\n",
              "      <th>4</th>\n",
              "      <td>Male</td>\n",
              "      <td>No</td>\n",
              "      <td>Off-campus</td>\n",
              "      <td>Daily</td>\n",
              "      <td>1</td>\n",
              "      <td>Yes</td>\n",
              "      <td>Yes</td>\n",
              "      <td>Yes</td>\n",
              "      <td>Yes</td>\n",
              "      <td>No</td>\n",
              "      <td>No</td>\n",
              "      <td>Yes</td>\n",
              "      <td>No</td>\n",
              "      <td>6-8</td>\n",
              "      <td>4</td>\n",
              "    </tr>\n",
              "  </tbody>\n",
              "</table>\n",
              "</div>"
            ],
            "text/plain": [
              "   Gender Churn   Residence    Usage_Freq  Network_Strength Voice_Calls  \\\n",
              "0  Female    No  Off-campus         Daily                 5          No   \n",
              "1  Female    No   On-campus  Occasionally                 1         Yes   \n",
              "2    Male    No  Off-campus  Occasionally                 1         Yes   \n",
              "3  Female    No  Off-campus  Occasionally                 3         Yes   \n",
              "4    Male    No  Off-campus         Daily                 1         Yes   \n",
              "\n",
              "  Mobile_Data_Internet SMS_Text_Messaging Data_Exhaustion Multiple_Networks  \\\n",
              "0                   No                Yes              No               Yes   \n",
              "1                  Yes                 No             Yes               Yes   \n",
              "2                  Yes                 No              No               Yes   \n",
              "3                  Yes                Yes             Yes               Yes   \n",
              "4                  Yes                Yes             Yes                No   \n",
              "\n",
              "  Poor_Network_Quality_Coverage Unsatisfactory_Customer_Service  \\\n",
              "0                           Yes                              No   \n",
              "1                           Yes                              No   \n",
              "2                            No                             Yes   \n",
              "3                            No                              No   \n",
              "4                            No                             Yes   \n",
              "\n",
              "  High_Costs_Pricing Monthly_Data_Usage  Churn_Level  \n",
              "0                Yes                0-2            4  \n",
              "1                 No         8 and more            4  \n",
              "2                Yes                4-6            4  \n",
              "3                 No         8 and more            4  \n",
              "4                 No                6-8            4  "
            ]
          },
          "execution_count": 6,
          "metadata": {},
          "output_type": "execute_result"
        }
      ],
      "source": [
        "import random\n",
        "import pandas as pd\n",
        "from lifelines import CoxPHFitter, KaplanMeierFitter\n",
        "\n",
        "np.random.seed(45)\n",
        "# Define lists for different fields\n",
        "genders = ['Male', 'Female']\n",
        "churns = ['Yes', 'No']\n",
        "residences = ['Off-campus', 'On-campus']\n",
        "usage_frequency = ['Daily', 'Several times a week', 'Occasionally', 'Rarely', 'Never']\n",
        "network_strength = [1, 2, 3, 4, 5]\n",
        "services_used = ['Voice Calls', 'Mobile data/Internet', 'SMS/Text messaging']\n",
        "data_allowance_exhaustion = ['Yes', 'No']\n",
        "other_networks = ['Yes', 'No']\n",
        "considered_discontinuing = ['Yes', 'No']\n",
        "reasons_for_discontinuing = ['Poor network quality/coverage', 'Insufficient data allowance', 'Unsatisfactory customer service', 'High costs/pricing']\n",
        "monthly_data = ['0-2', '2-4', '4-6', '6-8', '8 and more']\n",
        "\n",
        "# Define a function to generate synthetic responses\n",
        "def generate_responses(num_responses):\n",
        "    responses = []\n",
        "    for _ in range(num_responses):\n",
        "        gender = random.choices(genders, weights=[0.34, 0.66], k=1)[0]\n",
        "        churn = random.choices(churns, weights=[0.05, 0.95], k=1)[0]\n",
        "        residence = random.choices(residences, weights=[0.83, 0.17], k=1)[0]\n",
        "        usage_frequency_value = random.choices(usage_frequency, weights=[0.494, 0.16, 0.21, 0.049, 0.086], k=1)[0]\n",
        "        network_strength_value = random.choices(network_strength, weights=[0.25, 0.247, 0.333, 0.086, 0.025], k=1)[0]\n",
        "        voice_calls_value = random.choices(['Yes', 'No'], weights=[0.815, 0.185], k=1)[0]\n",
        "        mobile_data_internet_value = random.choices(['Yes', 'No'], weights=[0.865, 0.135], k=1)[0]\n",
        "        sms_text_messaging_value = random.choices(['Yes', 'No'], weights=[0.51, 0.48], k=1)[0]\n",
        "        data_allowance_exhaustion_value = random.choices(data_allowance_exhaustion, weights=[0.827, 0.173], k=1)[0]\n",
        "        other_networks_values = random.choices(other_networks, weights=[0.90, 0.1], k=1)[0]\n",
        "        # considered_discontinuing_value = random.choices(considered_discontinuing, weights=[0.84, 0.16], k=1)[0]\n",
        "        monthly_data_usage = random.choices(monthly_data, weights=[0.05, 0.1, 0.05, 0.1, 0.7], k=1)[0]\n",
        "\n",
        "        # poor_network_quality_coverage = 'Yes' if churn == 'No' else random.choices(['Yes', 'No'], weights=[0.704, 0.296], k=1)[0]\n",
        "        # # insufficient_data_allowance = 'Yes' if churn == 'No' else random.choices(['Yes', 'No'], weights=[0.3, 0.7], k=1)[0]\n",
        "        # unsatisfactory_customer_service = 'Yes' if churn == 'No' else random.choices(['Yes', 'No'], weights=[0.39, 0.61], k=1)[0]\n",
        "        # high_costs_pricing = 'Yes' if churn == 'No' else random.choices(['Yes', 'No'], weights=[0.545, 0.455], k=1)[0]\n",
        "        poor_network_quality_coverage = random.choices(['Yes', 'No'], weights=[0.704, 0.296], k=1)[0]\n",
        "        # insufficient_data_allowance = random.choices(['Yes', 'No'], weights=[0.3, 0.7], k=1)[0]\n",
        "        unsatisfactory_customer_service = random.choices(['Yes', 'No'], weights=[0.39, 0.61], k=1)[0]\n",
        "        high_costs_pricing = random.choices(['Yes', 'No'], weights=[0.545, 0.455], k=1)[0]\n",
        "\n",
        "\n",
        "\n",
        "        # Determine churn level\n",
        "        churn_level = random.randint(1, 3) if churn == 'Yes' else 4\n",
        "\n",
        "        responses.append([gender, churn, residence, usage_frequency_value, network_strength_value, voice_calls_value, mobile_data_internet_value, sms_text_messaging_value, data_allowance_exhaustion_value, other_networks_values, poor_network_quality_coverage, unsatisfactory_customer_service, high_costs_pricing, monthly_data_usage, churn_level])\n",
        "\n",
        "    return responses\n",
        "\n",
        "# Generate synthetic responses for a sample size of 338\n",
        "sample_size = 338\n",
        "responses = generate_responses(sample_size)\n",
        "\n",
        "# Create a DataFrame from the synthetic responses\n",
        "columns = ['Gender' ,'Churn', 'Residence', 'Usage_Freq', 'Network_Strength', 'Voice_Calls', 'Mobile_Data_Internet', 'SMS_Text_Messaging', 'Data_Exhaustion','Multiple_Networks', 'Poor_Network_Quality_Coverage', 'Unsatisfactory_Customer_Service', 'High_Costs_Pricing', 'Monthly_Data_Usage', 'Churn_Level']\n",
        "\n",
        "data = pd.DataFrame(responses, columns=columns)\n",
        "\n",
        "# Display the DataFrame\n",
        "(data.head())\n",
        "\n",
        "# Optional: Save the synthetic responses to a CSV file\n",
        "# data.to_csv('sampleData.csv', index=False)\n"
      ]
    },
    {
      "cell_type": "code",
      "execution_count": 7,
      "metadata": {
        "id": "eG0YyEqUu3q2"
      },
      "outputs": [],
      "source": [
        "# import random\n",
        "# import pandas as pd\n",
        "# from lifelines import CoxPHFitter, KaplanMeierFitter\n",
        "\n",
        "# np.random.seed(45)\n",
        "# # Define lists for different fields\n",
        "# genders = ['Male', 'Female']\n",
        "# churns = ['Yes', 'No']\n",
        "# residences = ['Off-campus', 'On-campus']\n",
        "# usage_frequency = ['Daily', 'Several times a week', 'Occasionally', 'Rarely', 'Never']\n",
        "# network_strength = [1, 2, 3, 4, 5]\n",
        "# services_used = ['Voice Calls', 'Mobile data/Internet', 'SMS/Text messaging']\n",
        "# data_allowance_exhaustion = ['Yes', 'No']\n",
        "# other_networks = ['Yes', 'No']\n",
        "# considered_discontinuing = ['Yes', 'No']\n",
        "# reasons_for_discontinuing = ['Poor network quality/coverage', 'Insufficient data allowance', 'Unsatisfactory customer service', 'High costs/pricing']\n",
        "# monthly_data = ['0-2', '2-4', '4-6', '6-8', '8 and more']\n",
        "\n",
        "# # Define a function to generate synthetic responses\n",
        "# def generate_responses(num_responses):\n",
        "#     responses = []\n",
        "#     for _ in range(num_responses):\n",
        "#         gender = random.choices(genders, weights=[0.442, 0.558], k=1)[0]\n",
        "#         churn = random.choices(churns, weights=[0.05, 0.95], k=1)[0]\n",
        "#         residence = random.choices(residences, weights=[0.679, 0.321], k=1)[0]\n",
        "#         usage_frequency_value = random.choices(usage_frequency, weights=[0.494, 0.16, 0.21, 0.049, 0.086], k=1)[0]\n",
        "#         network_strength_value = random.choices(network_strength, weights=[0.25, 0.247, 0.333, 0.086, 0.025], k=1)[0]\n",
        "#         voice_calls_value = random.choices(['Yes', 'No'], weights=[0.815, 0.185], k=1)[0]\n",
        "#         mobile_data_internet_value = random.choices(['Yes', 'No'], weights=[0.84, 0.16], k=1)[0]\n",
        "#         sms_text_messaging_value = random.choices(['Yes', 'No'], weights=[0.51, 0.48], k=1)[0]\n",
        "#         data_allowance_exhaustion_value = random.choices(data_allowance_exhaustion, weights=[0.827, 0.173], k=1)[0]\n",
        "#         other_networks_values = random.choices(other_networks, weights=[0.938, 0.062], k=1)[0]\n",
        "#         considered_discontinuing_value = random.choices(considered_discontinuing, weights=[0.84, 0.16], k=1)[0]\n",
        "#         monthly_data_usage = random.choices(monthly_data, weights=[0.05, 0.1, 0.15, 0.2, 0.5], k=1)[0]\n",
        "\n",
        "#         # poor_network_quality_coverage = 'Yes' if churn == 'No' else random.choices(['Yes', 'No'], weights=[0.704, 0.296], k=1)[0]\n",
        "#         # # insufficient_data_allowance = 'Yes' if churn == 'No' else random.choices(['Yes', 'No'], weights=[0.3, 0.7], k=1)[0]\n",
        "#         # unsatisfactory_customer_service = 'Yes' if churn == 'No' else random.choices(['Yes', 'No'], weights=[0.39, 0.61], k=1)[0]\n",
        "#         # high_costs_pricing = 'Yes' if churn == 'No' else random.choices(['Yes', 'No'], weights=[0.545, 0.455], k=1)[0]\n",
        "#         poor_network_quality_coverage = random.choices(['Yes', 'No'], weights=[0.704, 0.296], k=1)[0]\n",
        "#         # insufficient_data_allowance = random.choices(['Yes', 'No'], weights=[0.3, 0.7], k=1)[0]\n",
        "#         unsatisfactory_customer_service = random.choices(['Yes', 'No'], weights=[0.39, 0.61], k=1)[0]\n",
        "#         high_costs_pricing = random.choices(['Yes', 'No'], weights=[0.545, 0.455], k=1)[0]\n",
        "\n",
        "\n",
        "\n",
        "#         # Determine churn level\n",
        "#         churn_level = random.randint(1, 3) if churn == 'Yes' else 4\n",
        "\n",
        "#         responses.append([gender, churn, residence, usage_frequency_value, network_strength_value, voice_calls_value, mobile_data_internet_value, sms_text_messaging_value, data_allowance_exhaustion_value, other_networks_values, poor_network_quality_coverage, unsatisfactory_customer_service, high_costs_pricing, monthly_data_usage, churn_level])\n",
        "\n",
        "#     return responses\n",
        "\n",
        "# # Generate synthetic responses for a sample size of 338\n",
        "# sample_size = 338\n",
        "# responses = generate_responses(sample_size)\n",
        "\n",
        "# # Create a DataFrame from the synthetic responses\n",
        "# columns = ['Gender' ,'Churn', 'Residence', 'Usage_Freq', 'Network_Strength', 'Voice_Calls', 'Mobile_Data_Internet', 'SMS_Text_Messaging', 'Data_Exhaustion','Multiple_Networks', 'Poor_Network_Quality_Coverage', 'Unsatisfactory_Customer_Service', 'High_Costs_Pricing', 'Monthly_Data_Usage', 'Churn_Level']\n",
        "\n",
        "# data = pd.DataFrame(responses, columns=columns)\n",
        "\n",
        "# # Display the DataFrame\n",
        "# (data.head())\n",
        "\n",
        "# # Optional: Save the synthetic responses to a CSV file\n",
        "# data.to_csv('sampleData.csv', index=False)\n"
      ]
    },
    {
      "cell_type": "code",
      "execution_count": 8,
      "metadata": {
        "id": "Ec5lxwuI9nhK"
      },
      "outputs": [],
      "source": [
        "# pip install ydata_profiling\n"
      ]
    },
    {
      "cell_type": "code",
      "execution_count": null,
      "metadata": {
        "id": "TzfKI1ac9sa9"
      },
      "outputs": [],
      "source": []
    },
    {
      "cell_type": "code",
      "execution_count": 9,
      "metadata": {
        "id": "TDCfk5-9u3q2"
      },
      "outputs": [],
      "source": [
        "# from ydata_profiling import ProfileReport\n",
        "\n",
        "# ProfileReport(data, title=\"Profiling Report\")"
      ]
    },
    {
      "cell_type": "code",
      "execution_count": 10,
      "metadata": {
        "colab": {
          "base_uri": "https://localhost:8080/",
          "height": 300
        },
        "id": "S2ie9Znnu3q3",
        "outputId": "c96d7ad6-b56c-4ff8-c8c1-16531bbc294c"
      },
      "outputs": [
        {
          "data": {
            "text/html": [
              "<div>\n",
              "<style scoped>\n",
              "    .dataframe tbody tr th:only-of-type {\n",
              "        vertical-align: middle;\n",
              "    }\n",
              "\n",
              "    .dataframe tbody tr th {\n",
              "        vertical-align: top;\n",
              "    }\n",
              "\n",
              "    .dataframe thead th {\n",
              "        text-align: right;\n",
              "    }\n",
              "</style>\n",
              "<table border=\"1\" class=\"dataframe\">\n",
              "  <thead>\n",
              "    <tr style=\"text-align: right;\">\n",
              "      <th></th>\n",
              "      <th>Network_Strength</th>\n",
              "      <th>Churn_Level</th>\n",
              "    </tr>\n",
              "  </thead>\n",
              "  <tbody>\n",
              "    <tr>\n",
              "      <th>count</th>\n",
              "      <td>338.000000</td>\n",
              "      <td>338.000000</td>\n",
              "    </tr>\n",
              "    <tr>\n",
              "      <th>mean</th>\n",
              "      <td>2.375740</td>\n",
              "      <td>3.855030</td>\n",
              "    </tr>\n",
              "    <tr>\n",
              "      <th>std</th>\n",
              "      <td>1.026765</td>\n",
              "      <td>0.596469</td>\n",
              "    </tr>\n",
              "    <tr>\n",
              "      <th>min</th>\n",
              "      <td>1.000000</td>\n",
              "      <td>1.000000</td>\n",
              "    </tr>\n",
              "    <tr>\n",
              "      <th>25%</th>\n",
              "      <td>2.000000</td>\n",
              "      <td>4.000000</td>\n",
              "    </tr>\n",
              "    <tr>\n",
              "      <th>50%</th>\n",
              "      <td>2.000000</td>\n",
              "      <td>4.000000</td>\n",
              "    </tr>\n",
              "    <tr>\n",
              "      <th>75%</th>\n",
              "      <td>3.000000</td>\n",
              "      <td>4.000000</td>\n",
              "    </tr>\n",
              "    <tr>\n",
              "      <th>max</th>\n",
              "      <td>5.000000</td>\n",
              "      <td>4.000000</td>\n",
              "    </tr>\n",
              "  </tbody>\n",
              "</table>\n",
              "</div>"
            ],
            "text/plain": [
              "       Network_Strength  Churn_Level\n",
              "count        338.000000   338.000000\n",
              "mean           2.375740     3.855030\n",
              "std            1.026765     0.596469\n",
              "min            1.000000     1.000000\n",
              "25%            2.000000     4.000000\n",
              "50%            2.000000     4.000000\n",
              "75%            3.000000     4.000000\n",
              "max            5.000000     4.000000"
            ]
          },
          "execution_count": 10,
          "metadata": {},
          "output_type": "execute_result"
        }
      ],
      "source": [
        "data.describe()"
      ]
    },
    {
      "cell_type": "code",
      "execution_count": 11,
      "metadata": {
        "colab": {
          "base_uri": "https://localhost:8080/",
          "height": 212
        },
        "id": "MfFDoIyTu3q3",
        "outputId": "b4d612b1-0023-4a46-a57d-796b0cb16d50"
      },
      "outputs": [
        {
          "data": {
            "text/html": [
              "<div>\n",
              "<style scoped>\n",
              "    .dataframe tbody tr th:only-of-type {\n",
              "        vertical-align: middle;\n",
              "    }\n",
              "\n",
              "    .dataframe tbody tr th {\n",
              "        vertical-align: top;\n",
              "    }\n",
              "\n",
              "    .dataframe thead th {\n",
              "        text-align: right;\n",
              "    }\n",
              "</style>\n",
              "<table border=\"1\" class=\"dataframe\">\n",
              "  <thead>\n",
              "    <tr style=\"text-align: right;\">\n",
              "      <th></th>\n",
              "      <th>Gender</th>\n",
              "      <th>Churn</th>\n",
              "      <th>Residence</th>\n",
              "      <th>Usage_Freq</th>\n",
              "      <th>Voice_Calls</th>\n",
              "      <th>Mobile_Data_Internet</th>\n",
              "      <th>SMS_Text_Messaging</th>\n",
              "      <th>Data_Exhaustion</th>\n",
              "      <th>Multiple_Networks</th>\n",
              "      <th>Poor_Network_Quality_Coverage</th>\n",
              "      <th>Unsatisfactory_Customer_Service</th>\n",
              "      <th>High_Costs_Pricing</th>\n",
              "      <th>Monthly_Data_Usage</th>\n",
              "    </tr>\n",
              "  </thead>\n",
              "  <tbody>\n",
              "    <tr>\n",
              "      <th>count</th>\n",
              "      <td>338</td>\n",
              "      <td>338</td>\n",
              "      <td>338</td>\n",
              "      <td>338</td>\n",
              "      <td>338</td>\n",
              "      <td>338</td>\n",
              "      <td>338</td>\n",
              "      <td>338</td>\n",
              "      <td>338</td>\n",
              "      <td>338</td>\n",
              "      <td>338</td>\n",
              "      <td>338</td>\n",
              "      <td>338</td>\n",
              "    </tr>\n",
              "    <tr>\n",
              "      <th>unique</th>\n",
              "      <td>2</td>\n",
              "      <td>2</td>\n",
              "      <td>2</td>\n",
              "      <td>5</td>\n",
              "      <td>2</td>\n",
              "      <td>2</td>\n",
              "      <td>2</td>\n",
              "      <td>2</td>\n",
              "      <td>2</td>\n",
              "      <td>2</td>\n",
              "      <td>2</td>\n",
              "      <td>2</td>\n",
              "      <td>5</td>\n",
              "    </tr>\n",
              "    <tr>\n",
              "      <th>top</th>\n",
              "      <td>Female</td>\n",
              "      <td>No</td>\n",
              "      <td>Off-campus</td>\n",
              "      <td>Daily</td>\n",
              "      <td>Yes</td>\n",
              "      <td>Yes</td>\n",
              "      <td>Yes</td>\n",
              "      <td>Yes</td>\n",
              "      <td>Yes</td>\n",
              "      <td>Yes</td>\n",
              "      <td>No</td>\n",
              "      <td>Yes</td>\n",
              "      <td>8 and more</td>\n",
              "    </tr>\n",
              "    <tr>\n",
              "      <th>freq</th>\n",
              "      <td>222</td>\n",
              "      <td>316</td>\n",
              "      <td>275</td>\n",
              "      <td>168</td>\n",
              "      <td>285</td>\n",
              "      <td>293</td>\n",
              "      <td>173</td>\n",
              "      <td>270</td>\n",
              "      <td>308</td>\n",
              "      <td>243</td>\n",
              "      <td>216</td>\n",
              "      <td>175</td>\n",
              "      <td>225</td>\n",
              "    </tr>\n",
              "  </tbody>\n",
              "</table>\n",
              "</div>"
            ],
            "text/plain": [
              "        Gender Churn   Residence Usage_Freq Voice_Calls Mobile_Data_Internet  \\\n",
              "count      338   338         338        338         338                  338   \n",
              "unique       2     2           2          5           2                    2   \n",
              "top     Female    No  Off-campus      Daily         Yes                  Yes   \n",
              "freq       222   316         275        168         285                  293   \n",
              "\n",
              "       SMS_Text_Messaging Data_Exhaustion Multiple_Networks  \\\n",
              "count                 338             338               338   \n",
              "unique                  2               2                 2   \n",
              "top                   Yes             Yes               Yes   \n",
              "freq                  173             270               308   \n",
              "\n",
              "       Poor_Network_Quality_Coverage Unsatisfactory_Customer_Service  \\\n",
              "count                            338                             338   \n",
              "unique                             2                               2   \n",
              "top                              Yes                              No   \n",
              "freq                             243                             216   \n",
              "\n",
              "       High_Costs_Pricing Monthly_Data_Usage  \n",
              "count                 338                338  \n",
              "unique                  2                  5  \n",
              "top                   Yes         8 and more  \n",
              "freq                  175                225  "
            ]
          },
          "execution_count": 11,
          "metadata": {},
          "output_type": "execute_result"
        }
      ],
      "source": [
        "data.describe(include=[\"object\", \"bool\"]) # For non-numeric\n"
      ]
    },
    {
      "cell_type": "code",
      "execution_count": 12,
      "metadata": {
        "colab": {
          "base_uri": "https://localhost:8080/",
          "height": 554
        },
        "id": "1TpZdEiXu3q4",
        "outputId": "a4c8ab33-f0f7-4c51-84ae-bdc94310ad8e"
      },
      "outputs": [
        {
          "data": {
            "text/plain": [
              "Gender                             0\n",
              "Churn                              0\n",
              "Residence                          0\n",
              "Usage_Freq                         0\n",
              "Network_Strength                   0\n",
              "Voice_Calls                        0\n",
              "Mobile_Data_Internet               0\n",
              "SMS_Text_Messaging                 0\n",
              "Data_Exhaustion                    0\n",
              "Multiple_Networks                  0\n",
              "Poor_Network_Quality_Coverage      0\n",
              "Unsatisfactory_Customer_Service    0\n",
              "High_Costs_Pricing                 0\n",
              "Monthly_Data_Usage                 0\n",
              "Churn_Level                        0\n",
              "dtype: int64"
            ]
          },
          "execution_count": 12,
          "metadata": {},
          "output_type": "execute_result"
        }
      ],
      "source": [
        "# Check for missing values\n",
        "missing_values = data.isnull().sum()\n",
        "\n",
        "# Check data types\n",
        "data_types = data.dtypes\n",
        "\n",
        "missing_values\n"
      ]
    },
    {
      "cell_type": "code",
      "execution_count": 13,
      "metadata": {
        "colab": {
          "base_uri": "https://localhost:8080/",
          "height": 175
        },
        "id": "b2RX9wLfu3q4",
        "outputId": "788b2072-d68a-4ec7-c7dd-51885e6ed9b5"
      },
      "outputs": [
        {
          "data": {
            "text/html": [
              "<div>\n",
              "<style scoped>\n",
              "    .dataframe tbody tr th:only-of-type {\n",
              "        vertical-align: middle;\n",
              "    }\n",
              "\n",
              "    .dataframe tbody tr th {\n",
              "        vertical-align: top;\n",
              "    }\n",
              "\n",
              "    .dataframe thead th {\n",
              "        text-align: right;\n",
              "    }\n",
              "</style>\n",
              "<table border=\"1\" class=\"dataframe\">\n",
              "  <thead>\n",
              "    <tr style=\"text-align: right;\">\n",
              "      <th>Gender</th>\n",
              "      <th>Female</th>\n",
              "      <th>Male</th>\n",
              "      <th>All</th>\n",
              "    </tr>\n",
              "    <tr>\n",
              "      <th>Churn</th>\n",
              "      <th></th>\n",
              "      <th></th>\n",
              "      <th></th>\n",
              "    </tr>\n",
              "  </thead>\n",
              "  <tbody>\n",
              "    <tr>\n",
              "      <th>No</th>\n",
              "      <td>205</td>\n",
              "      <td>111</td>\n",
              "      <td>316</td>\n",
              "    </tr>\n",
              "    <tr>\n",
              "      <th>Yes</th>\n",
              "      <td>17</td>\n",
              "      <td>5</td>\n",
              "      <td>22</td>\n",
              "    </tr>\n",
              "    <tr>\n",
              "      <th>All</th>\n",
              "      <td>222</td>\n",
              "      <td>116</td>\n",
              "      <td>338</td>\n",
              "    </tr>\n",
              "  </tbody>\n",
              "</table>\n",
              "</div>"
            ],
            "text/plain": [
              "Gender  Female  Male  All\n",
              "Churn                    \n",
              "No         205   111  316\n",
              "Yes         17     5   22\n",
              "All        222   116  338"
            ]
          },
          "execution_count": 13,
          "metadata": {},
          "output_type": "execute_result"
        }
      ],
      "source": [
        "\n",
        "pd.crosstab(data[\"Churn\"], data[\"Gender\"], margins=True)\n"
      ]
    },
    {
      "cell_type": "code",
      "execution_count": 14,
      "metadata": {
        "colab": {
          "base_uri": "https://localhost:8080/",
          "height": 517
        },
        "id": "niVjdsjHu3q4",
        "outputId": "304846fa-68dc-4a7c-b49b-641d50a17a39"
      },
      "outputs": [
        {
          "data": {
            "application/vnd.plotly.v1+json": {
              "config": {
                "plotlyServerURL": "https://plot.ly"
              },
              "data": [
                {
                  "alignmentgroup": "True",
                  "bingroup": "x",
                  "hovertemplate": "Residence=Off-campus<br>Churn=%{x}<br>count=%{y}<extra></extra>",
                  "legendgroup": "Off-campus",
                  "marker": {
                    "color": "#00cc96",
                    "pattern": {
                      "shape": ""
                    }
                  },
                  "name": "Off-campus",
                  "offsetgroup": "Off-campus",
                  "orientation": "v",
                  "showlegend": true,
                  "type": "histogram",
                  "x": [
                    "No",
                    "No",
                    "No",
                    "No",
                    "No",
                    "No",
                    "Yes",
                    "No",
                    "No",
                    "No",
                    "No",
                    "No",
                    "No",
                    "No",
                    "No",
                    "No",
                    "No",
                    "Yes",
                    "No",
                    "No",
                    "No",
                    "No",
                    "No",
                    "No",
                    "No",
                    "No",
                    "No",
                    "No",
                    "No",
                    "No",
                    "No",
                    "No",
                    "No",
                    "Yes",
                    "No",
                    "No",
                    "No",
                    "No",
                    "No",
                    "No",
                    "Yes",
                    "No",
                    "No",
                    "Yes",
                    "No",
                    "No",
                    "No",
                    "No",
                    "No",
                    "No",
                    "No",
                    "No",
                    "No",
                    "No",
                    "No",
                    "No",
                    "No",
                    "No",
                    "No",
                    "Yes",
                    "No",
                    "No",
                    "No",
                    "No",
                    "No",
                    "No",
                    "No",
                    "No",
                    "No",
                    "No",
                    "Yes",
                    "No",
                    "No",
                    "No",
                    "No",
                    "No",
                    "No",
                    "No",
                    "No",
                    "No",
                    "No",
                    "No",
                    "No",
                    "No",
                    "No",
                    "No",
                    "Yes",
                    "No",
                    "No",
                    "No",
                    "No",
                    "No",
                    "No",
                    "No",
                    "No",
                    "No",
                    "No",
                    "No",
                    "No",
                    "No",
                    "No",
                    "No",
                    "No",
                    "No",
                    "Yes",
                    "No",
                    "No",
                    "No",
                    "No",
                    "No",
                    "No",
                    "No",
                    "Yes",
                    "No",
                    "No",
                    "No",
                    "No",
                    "No",
                    "No",
                    "No",
                    "No",
                    "No",
                    "No",
                    "No",
                    "No",
                    "No",
                    "Yes",
                    "No",
                    "No",
                    "No",
                    "No",
                    "Yes",
                    "No",
                    "No",
                    "No",
                    "No",
                    "No",
                    "No",
                    "No",
                    "No",
                    "No",
                    "Yes",
                    "No",
                    "No",
                    "No",
                    "No",
                    "No",
                    "No",
                    "No",
                    "No",
                    "No",
                    "No",
                    "No",
                    "No",
                    "No",
                    "No",
                    "No",
                    "No",
                    "No",
                    "No",
                    "No",
                    "Yes",
                    "No",
                    "No",
                    "No",
                    "No",
                    "No",
                    "No",
                    "No",
                    "No",
                    "No",
                    "No",
                    "No",
                    "No",
                    "No",
                    "No",
                    "No",
                    "No",
                    "No",
                    "No",
                    "No",
                    "No",
                    "No",
                    "No",
                    "No",
                    "No",
                    "No",
                    "No",
                    "No",
                    "No",
                    "No",
                    "No",
                    "No",
                    "No",
                    "No",
                    "No",
                    "No",
                    "Yes",
                    "No",
                    "No",
                    "No",
                    "No",
                    "No",
                    "No",
                    "No",
                    "No",
                    "No",
                    "No",
                    "No",
                    "No",
                    "No",
                    "Yes",
                    "No",
                    "No",
                    "No",
                    "No",
                    "No",
                    "No",
                    "No",
                    "No",
                    "No",
                    "No",
                    "Yes",
                    "No",
                    "No",
                    "No",
                    "No",
                    "No",
                    "No",
                    "Yes",
                    "No",
                    "No",
                    "No",
                    "No",
                    "No",
                    "No",
                    "No",
                    "No",
                    "No",
                    "No",
                    "No",
                    "No",
                    "No",
                    "No",
                    "No",
                    "Yes",
                    "No",
                    "No",
                    "No",
                    "No",
                    "No",
                    "No",
                    "No",
                    "No",
                    "No",
                    "No",
                    "No",
                    "No",
                    "No",
                    "Yes",
                    "No",
                    "No",
                    "No",
                    "No",
                    "No",
                    "No",
                    "No",
                    "No",
                    "No",
                    "No",
                    "No",
                    "No",
                    "No",
                    "No",
                    "No"
                  ],
                  "xaxis": "x",
                  "yaxis": "y"
                },
                {
                  "alignmentgroup": "True",
                  "bingroup": "x",
                  "hovertemplate": "Residence=On-campus<br>Churn=%{x}<br>count=%{y}<extra></extra>",
                  "legendgroup": "On-campus",
                  "marker": {
                    "color": "#ab63fa",
                    "pattern": {
                      "shape": ""
                    }
                  },
                  "name": "On-campus",
                  "offsetgroup": "On-campus",
                  "orientation": "v",
                  "showlegend": true,
                  "type": "histogram",
                  "x": [
                    "No",
                    "No",
                    "No",
                    "No",
                    "No",
                    "No",
                    "No",
                    "No",
                    "No",
                    "No",
                    "No",
                    "No",
                    "No",
                    "No",
                    "No",
                    "No",
                    "No",
                    "No",
                    "No",
                    "No",
                    "No",
                    "No",
                    "No",
                    "No",
                    "No",
                    "No",
                    "No",
                    "No",
                    "No",
                    "No",
                    "No",
                    "No",
                    "Yes",
                    "No",
                    "No",
                    "No",
                    "No",
                    "Yes",
                    "No",
                    "No",
                    "No",
                    "No",
                    "No",
                    "No",
                    "No",
                    "No",
                    "No",
                    "No",
                    "No",
                    "No",
                    "No",
                    "No",
                    "No",
                    "No",
                    "No",
                    "No",
                    "No",
                    "No",
                    "No",
                    "No",
                    "No",
                    "No",
                    "No"
                  ],
                  "xaxis": "x",
                  "yaxis": "y"
                }
              ],
              "layout": {
                "bargap": 0.1,
                "barmode": "relative",
                "height": 500,
                "legend": {
                  "title": {
                    "text": "Residence"
                  },
                  "tracegroupgap": 0
                },
                "template": {
                  "data": {
                    "bar": [
                      {
                        "error_x": {
                          "color": "#2a3f5f"
                        },
                        "error_y": {
                          "color": "#2a3f5f"
                        },
                        "marker": {
                          "line": {
                            "color": "#E5ECF6",
                            "width": 0.5
                          },
                          "pattern": {
                            "fillmode": "overlay",
                            "size": 10,
                            "solidity": 0.2
                          }
                        },
                        "type": "bar"
                      }
                    ],
                    "barpolar": [
                      {
                        "marker": {
                          "line": {
                            "color": "#E5ECF6",
                            "width": 0.5
                          },
                          "pattern": {
                            "fillmode": "overlay",
                            "size": 10,
                            "solidity": 0.2
                          }
                        },
                        "type": "barpolar"
                      }
                    ],
                    "carpet": [
                      {
                        "aaxis": {
                          "endlinecolor": "#2a3f5f",
                          "gridcolor": "white",
                          "linecolor": "white",
                          "minorgridcolor": "white",
                          "startlinecolor": "#2a3f5f"
                        },
                        "baxis": {
                          "endlinecolor": "#2a3f5f",
                          "gridcolor": "white",
                          "linecolor": "white",
                          "minorgridcolor": "white",
                          "startlinecolor": "#2a3f5f"
                        },
                        "type": "carpet"
                      }
                    ],
                    "choropleth": [
                      {
                        "colorbar": {
                          "outlinewidth": 0,
                          "ticks": ""
                        },
                        "type": "choropleth"
                      }
                    ],
                    "contour": [
                      {
                        "colorbar": {
                          "outlinewidth": 0,
                          "ticks": ""
                        },
                        "colorscale": [
                          [
                            0,
                            "#0d0887"
                          ],
                          [
                            0.1111111111111111,
                            "#46039f"
                          ],
                          [
                            0.2222222222222222,
                            "#7201a8"
                          ],
                          [
                            0.3333333333333333,
                            "#9c179e"
                          ],
                          [
                            0.4444444444444444,
                            "#bd3786"
                          ],
                          [
                            0.5555555555555556,
                            "#d8576b"
                          ],
                          [
                            0.6666666666666666,
                            "#ed7953"
                          ],
                          [
                            0.7777777777777778,
                            "#fb9f3a"
                          ],
                          [
                            0.8888888888888888,
                            "#fdca26"
                          ],
                          [
                            1,
                            "#f0f921"
                          ]
                        ],
                        "type": "contour"
                      }
                    ],
                    "contourcarpet": [
                      {
                        "colorbar": {
                          "outlinewidth": 0,
                          "ticks": ""
                        },
                        "type": "contourcarpet"
                      }
                    ],
                    "heatmap": [
                      {
                        "colorbar": {
                          "outlinewidth": 0,
                          "ticks": ""
                        },
                        "colorscale": [
                          [
                            0,
                            "#0d0887"
                          ],
                          [
                            0.1111111111111111,
                            "#46039f"
                          ],
                          [
                            0.2222222222222222,
                            "#7201a8"
                          ],
                          [
                            0.3333333333333333,
                            "#9c179e"
                          ],
                          [
                            0.4444444444444444,
                            "#bd3786"
                          ],
                          [
                            0.5555555555555556,
                            "#d8576b"
                          ],
                          [
                            0.6666666666666666,
                            "#ed7953"
                          ],
                          [
                            0.7777777777777778,
                            "#fb9f3a"
                          ],
                          [
                            0.8888888888888888,
                            "#fdca26"
                          ],
                          [
                            1,
                            "#f0f921"
                          ]
                        ],
                        "type": "heatmap"
                      }
                    ],
                    "heatmapgl": [
                      {
                        "colorbar": {
                          "outlinewidth": 0,
                          "ticks": ""
                        },
                        "colorscale": [
                          [
                            0,
                            "#0d0887"
                          ],
                          [
                            0.1111111111111111,
                            "#46039f"
                          ],
                          [
                            0.2222222222222222,
                            "#7201a8"
                          ],
                          [
                            0.3333333333333333,
                            "#9c179e"
                          ],
                          [
                            0.4444444444444444,
                            "#bd3786"
                          ],
                          [
                            0.5555555555555556,
                            "#d8576b"
                          ],
                          [
                            0.6666666666666666,
                            "#ed7953"
                          ],
                          [
                            0.7777777777777778,
                            "#fb9f3a"
                          ],
                          [
                            0.8888888888888888,
                            "#fdca26"
                          ],
                          [
                            1,
                            "#f0f921"
                          ]
                        ],
                        "type": "heatmapgl"
                      }
                    ],
                    "histogram": [
                      {
                        "marker": {
                          "pattern": {
                            "fillmode": "overlay",
                            "size": 10,
                            "solidity": 0.2
                          }
                        },
                        "type": "histogram"
                      }
                    ],
                    "histogram2d": [
                      {
                        "colorbar": {
                          "outlinewidth": 0,
                          "ticks": ""
                        },
                        "colorscale": [
                          [
                            0,
                            "#0d0887"
                          ],
                          [
                            0.1111111111111111,
                            "#46039f"
                          ],
                          [
                            0.2222222222222222,
                            "#7201a8"
                          ],
                          [
                            0.3333333333333333,
                            "#9c179e"
                          ],
                          [
                            0.4444444444444444,
                            "#bd3786"
                          ],
                          [
                            0.5555555555555556,
                            "#d8576b"
                          ],
                          [
                            0.6666666666666666,
                            "#ed7953"
                          ],
                          [
                            0.7777777777777778,
                            "#fb9f3a"
                          ],
                          [
                            0.8888888888888888,
                            "#fdca26"
                          ],
                          [
                            1,
                            "#f0f921"
                          ]
                        ],
                        "type": "histogram2d"
                      }
                    ],
                    "histogram2dcontour": [
                      {
                        "colorbar": {
                          "outlinewidth": 0,
                          "ticks": ""
                        },
                        "colorscale": [
                          [
                            0,
                            "#0d0887"
                          ],
                          [
                            0.1111111111111111,
                            "#46039f"
                          ],
                          [
                            0.2222222222222222,
                            "#7201a8"
                          ],
                          [
                            0.3333333333333333,
                            "#9c179e"
                          ],
                          [
                            0.4444444444444444,
                            "#bd3786"
                          ],
                          [
                            0.5555555555555556,
                            "#d8576b"
                          ],
                          [
                            0.6666666666666666,
                            "#ed7953"
                          ],
                          [
                            0.7777777777777778,
                            "#fb9f3a"
                          ],
                          [
                            0.8888888888888888,
                            "#fdca26"
                          ],
                          [
                            1,
                            "#f0f921"
                          ]
                        ],
                        "type": "histogram2dcontour"
                      }
                    ],
                    "mesh3d": [
                      {
                        "colorbar": {
                          "outlinewidth": 0,
                          "ticks": ""
                        },
                        "type": "mesh3d"
                      }
                    ],
                    "parcoords": [
                      {
                        "line": {
                          "colorbar": {
                            "outlinewidth": 0,
                            "ticks": ""
                          }
                        },
                        "type": "parcoords"
                      }
                    ],
                    "pie": [
                      {
                        "automargin": true,
                        "type": "pie"
                      }
                    ],
                    "scatter": [
                      {
                        "fillpattern": {
                          "fillmode": "overlay",
                          "size": 10,
                          "solidity": 0.2
                        },
                        "type": "scatter"
                      }
                    ],
                    "scatter3d": [
                      {
                        "line": {
                          "colorbar": {
                            "outlinewidth": 0,
                            "ticks": ""
                          }
                        },
                        "marker": {
                          "colorbar": {
                            "outlinewidth": 0,
                            "ticks": ""
                          }
                        },
                        "type": "scatter3d"
                      }
                    ],
                    "scattercarpet": [
                      {
                        "marker": {
                          "colorbar": {
                            "outlinewidth": 0,
                            "ticks": ""
                          }
                        },
                        "type": "scattercarpet"
                      }
                    ],
                    "scattergeo": [
                      {
                        "marker": {
                          "colorbar": {
                            "outlinewidth": 0,
                            "ticks": ""
                          }
                        },
                        "type": "scattergeo"
                      }
                    ],
                    "scattergl": [
                      {
                        "marker": {
                          "colorbar": {
                            "outlinewidth": 0,
                            "ticks": ""
                          }
                        },
                        "type": "scattergl"
                      }
                    ],
                    "scattermapbox": [
                      {
                        "marker": {
                          "colorbar": {
                            "outlinewidth": 0,
                            "ticks": ""
                          }
                        },
                        "type": "scattermapbox"
                      }
                    ],
                    "scatterpolar": [
                      {
                        "marker": {
                          "colorbar": {
                            "outlinewidth": 0,
                            "ticks": ""
                          }
                        },
                        "type": "scatterpolar"
                      }
                    ],
                    "scatterpolargl": [
                      {
                        "marker": {
                          "colorbar": {
                            "outlinewidth": 0,
                            "ticks": ""
                          }
                        },
                        "type": "scatterpolargl"
                      }
                    ],
                    "scatterternary": [
                      {
                        "marker": {
                          "colorbar": {
                            "outlinewidth": 0,
                            "ticks": ""
                          }
                        },
                        "type": "scatterternary"
                      }
                    ],
                    "surface": [
                      {
                        "colorbar": {
                          "outlinewidth": 0,
                          "ticks": ""
                        },
                        "colorscale": [
                          [
                            0,
                            "#0d0887"
                          ],
                          [
                            0.1111111111111111,
                            "#46039f"
                          ],
                          [
                            0.2222222222222222,
                            "#7201a8"
                          ],
                          [
                            0.3333333333333333,
                            "#9c179e"
                          ],
                          [
                            0.4444444444444444,
                            "#bd3786"
                          ],
                          [
                            0.5555555555555556,
                            "#d8576b"
                          ],
                          [
                            0.6666666666666666,
                            "#ed7953"
                          ],
                          [
                            0.7777777777777778,
                            "#fb9f3a"
                          ],
                          [
                            0.8888888888888888,
                            "#fdca26"
                          ],
                          [
                            1,
                            "#f0f921"
                          ]
                        ],
                        "type": "surface"
                      }
                    ],
                    "table": [
                      {
                        "cells": {
                          "fill": {
                            "color": "#EBF0F8"
                          },
                          "line": {
                            "color": "white"
                          }
                        },
                        "header": {
                          "fill": {
                            "color": "#C8D4E3"
                          },
                          "line": {
                            "color": "white"
                          }
                        },
                        "type": "table"
                      }
                    ]
                  },
                  "layout": {
                    "annotationdefaults": {
                      "arrowcolor": "#2a3f5f",
                      "arrowhead": 0,
                      "arrowwidth": 1
                    },
                    "autotypenumbers": "strict",
                    "coloraxis": {
                      "colorbar": {
                        "outlinewidth": 0,
                        "ticks": ""
                      }
                    },
                    "colorscale": {
                      "diverging": [
                        [
                          0,
                          "#8e0152"
                        ],
                        [
                          0.1,
                          "#c51b7d"
                        ],
                        [
                          0.2,
                          "#de77ae"
                        ],
                        [
                          0.3,
                          "#f1b6da"
                        ],
                        [
                          0.4,
                          "#fde0ef"
                        ],
                        [
                          0.5,
                          "#f7f7f7"
                        ],
                        [
                          0.6,
                          "#e6f5d0"
                        ],
                        [
                          0.7,
                          "#b8e186"
                        ],
                        [
                          0.8,
                          "#7fbc41"
                        ],
                        [
                          0.9,
                          "#4d9221"
                        ],
                        [
                          1,
                          "#276419"
                        ]
                      ],
                      "sequential": [
                        [
                          0,
                          "#0d0887"
                        ],
                        [
                          0.1111111111111111,
                          "#46039f"
                        ],
                        [
                          0.2222222222222222,
                          "#7201a8"
                        ],
                        [
                          0.3333333333333333,
                          "#9c179e"
                        ],
                        [
                          0.4444444444444444,
                          "#bd3786"
                        ],
                        [
                          0.5555555555555556,
                          "#d8576b"
                        ],
                        [
                          0.6666666666666666,
                          "#ed7953"
                        ],
                        [
                          0.7777777777777778,
                          "#fb9f3a"
                        ],
                        [
                          0.8888888888888888,
                          "#fdca26"
                        ],
                        [
                          1,
                          "#f0f921"
                        ]
                      ],
                      "sequentialminus": [
                        [
                          0,
                          "#0d0887"
                        ],
                        [
                          0.1111111111111111,
                          "#46039f"
                        ],
                        [
                          0.2222222222222222,
                          "#7201a8"
                        ],
                        [
                          0.3333333333333333,
                          "#9c179e"
                        ],
                        [
                          0.4444444444444444,
                          "#bd3786"
                        ],
                        [
                          0.5555555555555556,
                          "#d8576b"
                        ],
                        [
                          0.6666666666666666,
                          "#ed7953"
                        ],
                        [
                          0.7777777777777778,
                          "#fb9f3a"
                        ],
                        [
                          0.8888888888888888,
                          "#fdca26"
                        ],
                        [
                          1,
                          "#f0f921"
                        ]
                      ]
                    },
                    "colorway": [
                      "#636efa",
                      "#EF553B",
                      "#00cc96",
                      "#ab63fa",
                      "#FFA15A",
                      "#19d3f3",
                      "#FF6692",
                      "#B6E880",
                      "#FF97FF",
                      "#FECB52"
                    ],
                    "font": {
                      "color": "#2a3f5f"
                    },
                    "geo": {
                      "bgcolor": "white",
                      "lakecolor": "white",
                      "landcolor": "#E5ECF6",
                      "showlakes": true,
                      "showland": true,
                      "subunitcolor": "white"
                    },
                    "hoverlabel": {
                      "align": "left"
                    },
                    "hovermode": "closest",
                    "mapbox": {
                      "style": "light"
                    },
                    "paper_bgcolor": "white",
                    "plot_bgcolor": "#E5ECF6",
                    "polar": {
                      "angularaxis": {
                        "gridcolor": "white",
                        "linecolor": "white",
                        "ticks": ""
                      },
                      "bgcolor": "#E5ECF6",
                      "radialaxis": {
                        "gridcolor": "white",
                        "linecolor": "white",
                        "ticks": ""
                      }
                    },
                    "scene": {
                      "xaxis": {
                        "backgroundcolor": "#E5ECF6",
                        "gridcolor": "white",
                        "gridwidth": 2,
                        "linecolor": "white",
                        "showbackground": true,
                        "ticks": "",
                        "zerolinecolor": "white"
                      },
                      "yaxis": {
                        "backgroundcolor": "#E5ECF6",
                        "gridcolor": "white",
                        "gridwidth": 2,
                        "linecolor": "white",
                        "showbackground": true,
                        "ticks": "",
                        "zerolinecolor": "white"
                      },
                      "zaxis": {
                        "backgroundcolor": "#E5ECF6",
                        "gridcolor": "white",
                        "gridwidth": 2,
                        "linecolor": "white",
                        "showbackground": true,
                        "ticks": "",
                        "zerolinecolor": "white"
                      }
                    },
                    "shapedefaults": {
                      "line": {
                        "color": "#2a3f5f"
                      }
                    },
                    "ternary": {
                      "aaxis": {
                        "gridcolor": "white",
                        "linecolor": "white",
                        "ticks": ""
                      },
                      "baxis": {
                        "gridcolor": "white",
                        "linecolor": "white",
                        "ticks": ""
                      },
                      "bgcolor": "#E5ECF6",
                      "caxis": {
                        "gridcolor": "white",
                        "linecolor": "white",
                        "ticks": ""
                      }
                    },
                    "title": {
                      "x": 0.05
                    },
                    "xaxis": {
                      "automargin": true,
                      "gridcolor": "white",
                      "linecolor": "white",
                      "ticks": "",
                      "title": {
                        "standoff": 15
                      },
                      "zerolinecolor": "white",
                      "zerolinewidth": 2
                    },
                    "yaxis": {
                      "automargin": true,
                      "gridcolor": "white",
                      "linecolor": "white",
                      "ticks": "",
                      "title": {
                        "standoff": 15
                      },
                      "zerolinecolor": "white",
                      "zerolinewidth": 2
                    }
                  }
                },
                "title": {
                  "text": "<b>Churn distribution by Residence</b>"
                },
                "width": 700,
                "xaxis": {
                  "anchor": "y",
                  "domain": [
                    0,
                    1
                  ],
                  "title": {
                    "text": "Churn"
                  }
                },
                "yaxis": {
                  "anchor": "x",
                  "domain": [
                    0,
                    1
                  ],
                  "title": {
                    "text": "count"
                  }
                }
              }
            }
          },
          "metadata": {},
          "output_type": "display_data"
        }
      ],
      "source": [
        "\n",
        "color_map = {\"Yes\": '#FFA15A', \"No\": '#00CC96'}\n",
        "fig = px.histogram(data, x=\"Churn\", color=\"Residence\",  title=\"<b>Churn distribution by Residence</b>\", color_discrete_map=color_map)\n",
        "fig.update_layout(width=700, height=500, bargap=0.1)\n",
        "fig.show()"
      ]
    },
    {
      "cell_type": "code",
      "execution_count": 15,
      "metadata": {
        "colab": {
          "base_uri": "https://localhost:8080/",
          "height": 542
        },
        "id": "2foctdQ5u3q4",
        "outputId": "1cab3839-2e2b-47e8-9124-25ddca330d0c"
      },
      "outputs": [
        {
          "data": {
            "application/vnd.plotly.v1+json": {
              "config": {
                "plotlyServerURL": "https://plot.ly"
              },
              "data": [
                {
                  "domain": {
                    "x": [
                      0,
                      0.45
                    ],
                    "y": [
                      0,
                      1
                    ]
                  },
                  "hole": 0.4,
                  "hoverinfo": "label+percent+name",
                  "labels": [
                    "Male",
                    "Female"
                  ],
                  "name": "Gender",
                  "textfont": {
                    "size": 16
                  },
                  "type": "pie",
                  "values": [
                    222,
                    116
                  ]
                },
                {
                  "domain": {
                    "x": [
                      0.55,
                      1
                    ],
                    "y": [
                      0,
                      1
                    ]
                  },
                  "hole": 0.4,
                  "hoverinfo": "label+percent+name",
                  "labels": [
                    "No",
                    "Yes"
                  ],
                  "name": "Churn",
                  "textfont": {
                    "size": 16
                  },
                  "type": "pie",
                  "values": [
                    316,
                    22
                  ]
                }
              ],
              "layout": {
                "annotations": [
                  {
                    "font": {
                      "size": 20
                    },
                    "showarrow": false,
                    "text": "Gender",
                    "x": 0.16,
                    "y": 0.5
                  },
                  {
                    "font": {
                      "size": 20
                    },
                    "showarrow": false,
                    "text": "Churn",
                    "x": 0.84,
                    "y": 0.5
                  }
                ],
                "template": {
                  "data": {
                    "bar": [
                      {
                        "error_x": {
                          "color": "#2a3f5f"
                        },
                        "error_y": {
                          "color": "#2a3f5f"
                        },
                        "marker": {
                          "line": {
                            "color": "#E5ECF6",
                            "width": 0.5
                          },
                          "pattern": {
                            "fillmode": "overlay",
                            "size": 10,
                            "solidity": 0.2
                          }
                        },
                        "type": "bar"
                      }
                    ],
                    "barpolar": [
                      {
                        "marker": {
                          "line": {
                            "color": "#E5ECF6",
                            "width": 0.5
                          },
                          "pattern": {
                            "fillmode": "overlay",
                            "size": 10,
                            "solidity": 0.2
                          }
                        },
                        "type": "barpolar"
                      }
                    ],
                    "carpet": [
                      {
                        "aaxis": {
                          "endlinecolor": "#2a3f5f",
                          "gridcolor": "white",
                          "linecolor": "white",
                          "minorgridcolor": "white",
                          "startlinecolor": "#2a3f5f"
                        },
                        "baxis": {
                          "endlinecolor": "#2a3f5f",
                          "gridcolor": "white",
                          "linecolor": "white",
                          "minorgridcolor": "white",
                          "startlinecolor": "#2a3f5f"
                        },
                        "type": "carpet"
                      }
                    ],
                    "choropleth": [
                      {
                        "colorbar": {
                          "outlinewidth": 0,
                          "ticks": ""
                        },
                        "type": "choropleth"
                      }
                    ],
                    "contour": [
                      {
                        "colorbar": {
                          "outlinewidth": 0,
                          "ticks": ""
                        },
                        "colorscale": [
                          [
                            0,
                            "#0d0887"
                          ],
                          [
                            0.1111111111111111,
                            "#46039f"
                          ],
                          [
                            0.2222222222222222,
                            "#7201a8"
                          ],
                          [
                            0.3333333333333333,
                            "#9c179e"
                          ],
                          [
                            0.4444444444444444,
                            "#bd3786"
                          ],
                          [
                            0.5555555555555556,
                            "#d8576b"
                          ],
                          [
                            0.6666666666666666,
                            "#ed7953"
                          ],
                          [
                            0.7777777777777778,
                            "#fb9f3a"
                          ],
                          [
                            0.8888888888888888,
                            "#fdca26"
                          ],
                          [
                            1,
                            "#f0f921"
                          ]
                        ],
                        "type": "contour"
                      }
                    ],
                    "contourcarpet": [
                      {
                        "colorbar": {
                          "outlinewidth": 0,
                          "ticks": ""
                        },
                        "type": "contourcarpet"
                      }
                    ],
                    "heatmap": [
                      {
                        "colorbar": {
                          "outlinewidth": 0,
                          "ticks": ""
                        },
                        "colorscale": [
                          [
                            0,
                            "#0d0887"
                          ],
                          [
                            0.1111111111111111,
                            "#46039f"
                          ],
                          [
                            0.2222222222222222,
                            "#7201a8"
                          ],
                          [
                            0.3333333333333333,
                            "#9c179e"
                          ],
                          [
                            0.4444444444444444,
                            "#bd3786"
                          ],
                          [
                            0.5555555555555556,
                            "#d8576b"
                          ],
                          [
                            0.6666666666666666,
                            "#ed7953"
                          ],
                          [
                            0.7777777777777778,
                            "#fb9f3a"
                          ],
                          [
                            0.8888888888888888,
                            "#fdca26"
                          ],
                          [
                            1,
                            "#f0f921"
                          ]
                        ],
                        "type": "heatmap"
                      }
                    ],
                    "heatmapgl": [
                      {
                        "colorbar": {
                          "outlinewidth": 0,
                          "ticks": ""
                        },
                        "colorscale": [
                          [
                            0,
                            "#0d0887"
                          ],
                          [
                            0.1111111111111111,
                            "#46039f"
                          ],
                          [
                            0.2222222222222222,
                            "#7201a8"
                          ],
                          [
                            0.3333333333333333,
                            "#9c179e"
                          ],
                          [
                            0.4444444444444444,
                            "#bd3786"
                          ],
                          [
                            0.5555555555555556,
                            "#d8576b"
                          ],
                          [
                            0.6666666666666666,
                            "#ed7953"
                          ],
                          [
                            0.7777777777777778,
                            "#fb9f3a"
                          ],
                          [
                            0.8888888888888888,
                            "#fdca26"
                          ],
                          [
                            1,
                            "#f0f921"
                          ]
                        ],
                        "type": "heatmapgl"
                      }
                    ],
                    "histogram": [
                      {
                        "marker": {
                          "pattern": {
                            "fillmode": "overlay",
                            "size": 10,
                            "solidity": 0.2
                          }
                        },
                        "type": "histogram"
                      }
                    ],
                    "histogram2d": [
                      {
                        "colorbar": {
                          "outlinewidth": 0,
                          "ticks": ""
                        },
                        "colorscale": [
                          [
                            0,
                            "#0d0887"
                          ],
                          [
                            0.1111111111111111,
                            "#46039f"
                          ],
                          [
                            0.2222222222222222,
                            "#7201a8"
                          ],
                          [
                            0.3333333333333333,
                            "#9c179e"
                          ],
                          [
                            0.4444444444444444,
                            "#bd3786"
                          ],
                          [
                            0.5555555555555556,
                            "#d8576b"
                          ],
                          [
                            0.6666666666666666,
                            "#ed7953"
                          ],
                          [
                            0.7777777777777778,
                            "#fb9f3a"
                          ],
                          [
                            0.8888888888888888,
                            "#fdca26"
                          ],
                          [
                            1,
                            "#f0f921"
                          ]
                        ],
                        "type": "histogram2d"
                      }
                    ],
                    "histogram2dcontour": [
                      {
                        "colorbar": {
                          "outlinewidth": 0,
                          "ticks": ""
                        },
                        "colorscale": [
                          [
                            0,
                            "#0d0887"
                          ],
                          [
                            0.1111111111111111,
                            "#46039f"
                          ],
                          [
                            0.2222222222222222,
                            "#7201a8"
                          ],
                          [
                            0.3333333333333333,
                            "#9c179e"
                          ],
                          [
                            0.4444444444444444,
                            "#bd3786"
                          ],
                          [
                            0.5555555555555556,
                            "#d8576b"
                          ],
                          [
                            0.6666666666666666,
                            "#ed7953"
                          ],
                          [
                            0.7777777777777778,
                            "#fb9f3a"
                          ],
                          [
                            0.8888888888888888,
                            "#fdca26"
                          ],
                          [
                            1,
                            "#f0f921"
                          ]
                        ],
                        "type": "histogram2dcontour"
                      }
                    ],
                    "mesh3d": [
                      {
                        "colorbar": {
                          "outlinewidth": 0,
                          "ticks": ""
                        },
                        "type": "mesh3d"
                      }
                    ],
                    "parcoords": [
                      {
                        "line": {
                          "colorbar": {
                            "outlinewidth": 0,
                            "ticks": ""
                          }
                        },
                        "type": "parcoords"
                      }
                    ],
                    "pie": [
                      {
                        "automargin": true,
                        "type": "pie"
                      }
                    ],
                    "scatter": [
                      {
                        "fillpattern": {
                          "fillmode": "overlay",
                          "size": 10,
                          "solidity": 0.2
                        },
                        "type": "scatter"
                      }
                    ],
                    "scatter3d": [
                      {
                        "line": {
                          "colorbar": {
                            "outlinewidth": 0,
                            "ticks": ""
                          }
                        },
                        "marker": {
                          "colorbar": {
                            "outlinewidth": 0,
                            "ticks": ""
                          }
                        },
                        "type": "scatter3d"
                      }
                    ],
                    "scattercarpet": [
                      {
                        "marker": {
                          "colorbar": {
                            "outlinewidth": 0,
                            "ticks": ""
                          }
                        },
                        "type": "scattercarpet"
                      }
                    ],
                    "scattergeo": [
                      {
                        "marker": {
                          "colorbar": {
                            "outlinewidth": 0,
                            "ticks": ""
                          }
                        },
                        "type": "scattergeo"
                      }
                    ],
                    "scattergl": [
                      {
                        "marker": {
                          "colorbar": {
                            "outlinewidth": 0,
                            "ticks": ""
                          }
                        },
                        "type": "scattergl"
                      }
                    ],
                    "scattermapbox": [
                      {
                        "marker": {
                          "colorbar": {
                            "outlinewidth": 0,
                            "ticks": ""
                          }
                        },
                        "type": "scattermapbox"
                      }
                    ],
                    "scatterpolar": [
                      {
                        "marker": {
                          "colorbar": {
                            "outlinewidth": 0,
                            "ticks": ""
                          }
                        },
                        "type": "scatterpolar"
                      }
                    ],
                    "scatterpolargl": [
                      {
                        "marker": {
                          "colorbar": {
                            "outlinewidth": 0,
                            "ticks": ""
                          }
                        },
                        "type": "scatterpolargl"
                      }
                    ],
                    "scatterternary": [
                      {
                        "marker": {
                          "colorbar": {
                            "outlinewidth": 0,
                            "ticks": ""
                          }
                        },
                        "type": "scatterternary"
                      }
                    ],
                    "surface": [
                      {
                        "colorbar": {
                          "outlinewidth": 0,
                          "ticks": ""
                        },
                        "colorscale": [
                          [
                            0,
                            "#0d0887"
                          ],
                          [
                            0.1111111111111111,
                            "#46039f"
                          ],
                          [
                            0.2222222222222222,
                            "#7201a8"
                          ],
                          [
                            0.3333333333333333,
                            "#9c179e"
                          ],
                          [
                            0.4444444444444444,
                            "#bd3786"
                          ],
                          [
                            0.5555555555555556,
                            "#d8576b"
                          ],
                          [
                            0.6666666666666666,
                            "#ed7953"
                          ],
                          [
                            0.7777777777777778,
                            "#fb9f3a"
                          ],
                          [
                            0.8888888888888888,
                            "#fdca26"
                          ],
                          [
                            1,
                            "#f0f921"
                          ]
                        ],
                        "type": "surface"
                      }
                    ],
                    "table": [
                      {
                        "cells": {
                          "fill": {
                            "color": "#EBF0F8"
                          },
                          "line": {
                            "color": "white"
                          }
                        },
                        "header": {
                          "fill": {
                            "color": "#C8D4E3"
                          },
                          "line": {
                            "color": "white"
                          }
                        },
                        "type": "table"
                      }
                    ]
                  },
                  "layout": {
                    "annotationdefaults": {
                      "arrowcolor": "#2a3f5f",
                      "arrowhead": 0,
                      "arrowwidth": 1
                    },
                    "autotypenumbers": "strict",
                    "coloraxis": {
                      "colorbar": {
                        "outlinewidth": 0,
                        "ticks": ""
                      }
                    },
                    "colorscale": {
                      "diverging": [
                        [
                          0,
                          "#8e0152"
                        ],
                        [
                          0.1,
                          "#c51b7d"
                        ],
                        [
                          0.2,
                          "#de77ae"
                        ],
                        [
                          0.3,
                          "#f1b6da"
                        ],
                        [
                          0.4,
                          "#fde0ef"
                        ],
                        [
                          0.5,
                          "#f7f7f7"
                        ],
                        [
                          0.6,
                          "#e6f5d0"
                        ],
                        [
                          0.7,
                          "#b8e186"
                        ],
                        [
                          0.8,
                          "#7fbc41"
                        ],
                        [
                          0.9,
                          "#4d9221"
                        ],
                        [
                          1,
                          "#276419"
                        ]
                      ],
                      "sequential": [
                        [
                          0,
                          "#0d0887"
                        ],
                        [
                          0.1111111111111111,
                          "#46039f"
                        ],
                        [
                          0.2222222222222222,
                          "#7201a8"
                        ],
                        [
                          0.3333333333333333,
                          "#9c179e"
                        ],
                        [
                          0.4444444444444444,
                          "#bd3786"
                        ],
                        [
                          0.5555555555555556,
                          "#d8576b"
                        ],
                        [
                          0.6666666666666666,
                          "#ed7953"
                        ],
                        [
                          0.7777777777777778,
                          "#fb9f3a"
                        ],
                        [
                          0.8888888888888888,
                          "#fdca26"
                        ],
                        [
                          1,
                          "#f0f921"
                        ]
                      ],
                      "sequentialminus": [
                        [
                          0,
                          "#0d0887"
                        ],
                        [
                          0.1111111111111111,
                          "#46039f"
                        ],
                        [
                          0.2222222222222222,
                          "#7201a8"
                        ],
                        [
                          0.3333333333333333,
                          "#9c179e"
                        ],
                        [
                          0.4444444444444444,
                          "#bd3786"
                        ],
                        [
                          0.5555555555555556,
                          "#d8576b"
                        ],
                        [
                          0.6666666666666666,
                          "#ed7953"
                        ],
                        [
                          0.7777777777777778,
                          "#fb9f3a"
                        ],
                        [
                          0.8888888888888888,
                          "#fdca26"
                        ],
                        [
                          1,
                          "#f0f921"
                        ]
                      ]
                    },
                    "colorway": [
                      "#636efa",
                      "#EF553B",
                      "#00cc96",
                      "#ab63fa",
                      "#FFA15A",
                      "#19d3f3",
                      "#FF6692",
                      "#B6E880",
                      "#FF97FF",
                      "#FECB52"
                    ],
                    "font": {
                      "color": "#2a3f5f"
                    },
                    "geo": {
                      "bgcolor": "white",
                      "lakecolor": "white",
                      "landcolor": "#E5ECF6",
                      "showlakes": true,
                      "showland": true,
                      "subunitcolor": "white"
                    },
                    "hoverlabel": {
                      "align": "left"
                    },
                    "hovermode": "closest",
                    "mapbox": {
                      "style": "light"
                    },
                    "paper_bgcolor": "white",
                    "plot_bgcolor": "#E5ECF6",
                    "polar": {
                      "angularaxis": {
                        "gridcolor": "white",
                        "linecolor": "white",
                        "ticks": ""
                      },
                      "bgcolor": "#E5ECF6",
                      "radialaxis": {
                        "gridcolor": "white",
                        "linecolor": "white",
                        "ticks": ""
                      }
                    },
                    "scene": {
                      "xaxis": {
                        "backgroundcolor": "#E5ECF6",
                        "gridcolor": "white",
                        "gridwidth": 2,
                        "linecolor": "white",
                        "showbackground": true,
                        "ticks": "",
                        "zerolinecolor": "white"
                      },
                      "yaxis": {
                        "backgroundcolor": "#E5ECF6",
                        "gridcolor": "white",
                        "gridwidth": 2,
                        "linecolor": "white",
                        "showbackground": true,
                        "ticks": "",
                        "zerolinecolor": "white"
                      },
                      "zaxis": {
                        "backgroundcolor": "#E5ECF6",
                        "gridcolor": "white",
                        "gridwidth": 2,
                        "linecolor": "white",
                        "showbackground": true,
                        "ticks": "",
                        "zerolinecolor": "white"
                      }
                    },
                    "shapedefaults": {
                      "line": {
                        "color": "#2a3f5f"
                      }
                    },
                    "ternary": {
                      "aaxis": {
                        "gridcolor": "white",
                        "linecolor": "white",
                        "ticks": ""
                      },
                      "baxis": {
                        "gridcolor": "white",
                        "linecolor": "white",
                        "ticks": ""
                      },
                      "bgcolor": "#E5ECF6",
                      "caxis": {
                        "gridcolor": "white",
                        "linecolor": "white",
                        "ticks": ""
                      }
                    },
                    "title": {
                      "x": 0.05
                    },
                    "xaxis": {
                      "automargin": true,
                      "gridcolor": "white",
                      "linecolor": "white",
                      "ticks": "",
                      "title": {
                        "standoff": 15
                      },
                      "zerolinecolor": "white",
                      "zerolinewidth": 2
                    },
                    "yaxis": {
                      "automargin": true,
                      "gridcolor": "white",
                      "linecolor": "white",
                      "ticks": "",
                      "title": {
                        "standoff": 15
                      },
                      "zerolinecolor": "white",
                      "zerolinewidth": 2
                    }
                  }
                },
                "title": {
                  "text": "Gender and Churn Distributions of Students"
                }
              }
            }
          },
          "metadata": {},
          "output_type": "display_data"
        }
      ],
      "source": [
        "g_labels = ['Male', 'Female']\n",
        "c_labels = ['No', 'Yes']\n",
        "# Create subplots: use 'domain' type for Pie subplot\n",
        "fig = make_subplots(rows=1, cols=2, specs=[[{'type':'domain'}, {'type':'domain'}]])\n",
        "fig.add_trace(go.Pie(labels=g_labels, values=data['Gender'].value_counts(), name=\"Gender\"),\n",
        "              1, 1)\n",
        "fig.add_trace(go.Pie(labels=c_labels, values=data['Churn'].value_counts(), name=\"Churn\"),\n",
        "              1, 2)\n",
        "\n",
        "# Use `hole` to create a donut-like pie chart\n",
        "fig.update_traces(hole=.4, hoverinfo=\"label+percent+name\", textfont_size=16)\n",
        "\n",
        "fig.update_layout(\n",
        "    title_text=\"Gender and Churn Distributions of Students\",\n",
        "    # Add annotations in the center of the donut pies.\n",
        "    annotations=[dict(text='Gender', x=0.16, y=0.5, font_size=20, showarrow=False),\n",
        "                 dict(text='Churn', x=0.84, y=0.5, font_size=20, showarrow=False)])\n",
        "fig.show()"
      ]
    },
    {
      "cell_type": "code",
      "execution_count": 16,
      "metadata": {
        "colab": {
          "base_uri": "https://localhost:8080/",
          "height": 542
        },
        "id": "bPuE2Dcku3q5",
        "outputId": "92203c1f-ae7a-41f8-b8f3-552439751690"
      },
      "outputs": [
        {
          "data": {
            "application/vnd.plotly.v1+json": {
              "config": {
                "plotlyServerURL": "https://plot.ly"
              },
              "data": [
                {
                  "hole": 0.5,
                  "labels": [
                    "Daily",
                    "Occasionally",
                    "Rarely",
                    "Never",
                    "Several times a week"
                  ],
                  "pull": [
                    0.1,
                    0,
                    0.1,
                    0,
                    0
                  ],
                  "textinfo": "label+percent+value",
                  "textposition": "outside",
                  "type": "pie",
                  "values": [
                    168,
                    76,
                    42,
                    32,
                    20
                  ]
                }
              ],
              "layout": {
                "template": {
                  "data": {
                    "bar": [
                      {
                        "error_x": {
                          "color": "#2a3f5f"
                        },
                        "error_y": {
                          "color": "#2a3f5f"
                        },
                        "marker": {
                          "line": {
                            "color": "#E5ECF6",
                            "width": 0.5
                          },
                          "pattern": {
                            "fillmode": "overlay",
                            "size": 10,
                            "solidity": 0.2
                          }
                        },
                        "type": "bar"
                      }
                    ],
                    "barpolar": [
                      {
                        "marker": {
                          "line": {
                            "color": "#E5ECF6",
                            "width": 0.5
                          },
                          "pattern": {
                            "fillmode": "overlay",
                            "size": 10,
                            "solidity": 0.2
                          }
                        },
                        "type": "barpolar"
                      }
                    ],
                    "carpet": [
                      {
                        "aaxis": {
                          "endlinecolor": "#2a3f5f",
                          "gridcolor": "white",
                          "linecolor": "white",
                          "minorgridcolor": "white",
                          "startlinecolor": "#2a3f5f"
                        },
                        "baxis": {
                          "endlinecolor": "#2a3f5f",
                          "gridcolor": "white",
                          "linecolor": "white",
                          "minorgridcolor": "white",
                          "startlinecolor": "#2a3f5f"
                        },
                        "type": "carpet"
                      }
                    ],
                    "choropleth": [
                      {
                        "colorbar": {
                          "outlinewidth": 0,
                          "ticks": ""
                        },
                        "type": "choropleth"
                      }
                    ],
                    "contour": [
                      {
                        "colorbar": {
                          "outlinewidth": 0,
                          "ticks": ""
                        },
                        "colorscale": [
                          [
                            0,
                            "#0d0887"
                          ],
                          [
                            0.1111111111111111,
                            "#46039f"
                          ],
                          [
                            0.2222222222222222,
                            "#7201a8"
                          ],
                          [
                            0.3333333333333333,
                            "#9c179e"
                          ],
                          [
                            0.4444444444444444,
                            "#bd3786"
                          ],
                          [
                            0.5555555555555556,
                            "#d8576b"
                          ],
                          [
                            0.6666666666666666,
                            "#ed7953"
                          ],
                          [
                            0.7777777777777778,
                            "#fb9f3a"
                          ],
                          [
                            0.8888888888888888,
                            "#fdca26"
                          ],
                          [
                            1,
                            "#f0f921"
                          ]
                        ],
                        "type": "contour"
                      }
                    ],
                    "contourcarpet": [
                      {
                        "colorbar": {
                          "outlinewidth": 0,
                          "ticks": ""
                        },
                        "type": "contourcarpet"
                      }
                    ],
                    "heatmap": [
                      {
                        "colorbar": {
                          "outlinewidth": 0,
                          "ticks": ""
                        },
                        "colorscale": [
                          [
                            0,
                            "#0d0887"
                          ],
                          [
                            0.1111111111111111,
                            "#46039f"
                          ],
                          [
                            0.2222222222222222,
                            "#7201a8"
                          ],
                          [
                            0.3333333333333333,
                            "#9c179e"
                          ],
                          [
                            0.4444444444444444,
                            "#bd3786"
                          ],
                          [
                            0.5555555555555556,
                            "#d8576b"
                          ],
                          [
                            0.6666666666666666,
                            "#ed7953"
                          ],
                          [
                            0.7777777777777778,
                            "#fb9f3a"
                          ],
                          [
                            0.8888888888888888,
                            "#fdca26"
                          ],
                          [
                            1,
                            "#f0f921"
                          ]
                        ],
                        "type": "heatmap"
                      }
                    ],
                    "heatmapgl": [
                      {
                        "colorbar": {
                          "outlinewidth": 0,
                          "ticks": ""
                        },
                        "colorscale": [
                          [
                            0,
                            "#0d0887"
                          ],
                          [
                            0.1111111111111111,
                            "#46039f"
                          ],
                          [
                            0.2222222222222222,
                            "#7201a8"
                          ],
                          [
                            0.3333333333333333,
                            "#9c179e"
                          ],
                          [
                            0.4444444444444444,
                            "#bd3786"
                          ],
                          [
                            0.5555555555555556,
                            "#d8576b"
                          ],
                          [
                            0.6666666666666666,
                            "#ed7953"
                          ],
                          [
                            0.7777777777777778,
                            "#fb9f3a"
                          ],
                          [
                            0.8888888888888888,
                            "#fdca26"
                          ],
                          [
                            1,
                            "#f0f921"
                          ]
                        ],
                        "type": "heatmapgl"
                      }
                    ],
                    "histogram": [
                      {
                        "marker": {
                          "pattern": {
                            "fillmode": "overlay",
                            "size": 10,
                            "solidity": 0.2
                          }
                        },
                        "type": "histogram"
                      }
                    ],
                    "histogram2d": [
                      {
                        "colorbar": {
                          "outlinewidth": 0,
                          "ticks": ""
                        },
                        "colorscale": [
                          [
                            0,
                            "#0d0887"
                          ],
                          [
                            0.1111111111111111,
                            "#46039f"
                          ],
                          [
                            0.2222222222222222,
                            "#7201a8"
                          ],
                          [
                            0.3333333333333333,
                            "#9c179e"
                          ],
                          [
                            0.4444444444444444,
                            "#bd3786"
                          ],
                          [
                            0.5555555555555556,
                            "#d8576b"
                          ],
                          [
                            0.6666666666666666,
                            "#ed7953"
                          ],
                          [
                            0.7777777777777778,
                            "#fb9f3a"
                          ],
                          [
                            0.8888888888888888,
                            "#fdca26"
                          ],
                          [
                            1,
                            "#f0f921"
                          ]
                        ],
                        "type": "histogram2d"
                      }
                    ],
                    "histogram2dcontour": [
                      {
                        "colorbar": {
                          "outlinewidth": 0,
                          "ticks": ""
                        },
                        "colorscale": [
                          [
                            0,
                            "#0d0887"
                          ],
                          [
                            0.1111111111111111,
                            "#46039f"
                          ],
                          [
                            0.2222222222222222,
                            "#7201a8"
                          ],
                          [
                            0.3333333333333333,
                            "#9c179e"
                          ],
                          [
                            0.4444444444444444,
                            "#bd3786"
                          ],
                          [
                            0.5555555555555556,
                            "#d8576b"
                          ],
                          [
                            0.6666666666666666,
                            "#ed7953"
                          ],
                          [
                            0.7777777777777778,
                            "#fb9f3a"
                          ],
                          [
                            0.8888888888888888,
                            "#fdca26"
                          ],
                          [
                            1,
                            "#f0f921"
                          ]
                        ],
                        "type": "histogram2dcontour"
                      }
                    ],
                    "mesh3d": [
                      {
                        "colorbar": {
                          "outlinewidth": 0,
                          "ticks": ""
                        },
                        "type": "mesh3d"
                      }
                    ],
                    "parcoords": [
                      {
                        "line": {
                          "colorbar": {
                            "outlinewidth": 0,
                            "ticks": ""
                          }
                        },
                        "type": "parcoords"
                      }
                    ],
                    "pie": [
                      {
                        "automargin": true,
                        "type": "pie"
                      }
                    ],
                    "scatter": [
                      {
                        "fillpattern": {
                          "fillmode": "overlay",
                          "size": 10,
                          "solidity": 0.2
                        },
                        "type": "scatter"
                      }
                    ],
                    "scatter3d": [
                      {
                        "line": {
                          "colorbar": {
                            "outlinewidth": 0,
                            "ticks": ""
                          }
                        },
                        "marker": {
                          "colorbar": {
                            "outlinewidth": 0,
                            "ticks": ""
                          }
                        },
                        "type": "scatter3d"
                      }
                    ],
                    "scattercarpet": [
                      {
                        "marker": {
                          "colorbar": {
                            "outlinewidth": 0,
                            "ticks": ""
                          }
                        },
                        "type": "scattercarpet"
                      }
                    ],
                    "scattergeo": [
                      {
                        "marker": {
                          "colorbar": {
                            "outlinewidth": 0,
                            "ticks": ""
                          }
                        },
                        "type": "scattergeo"
                      }
                    ],
                    "scattergl": [
                      {
                        "marker": {
                          "colorbar": {
                            "outlinewidth": 0,
                            "ticks": ""
                          }
                        },
                        "type": "scattergl"
                      }
                    ],
                    "scattermapbox": [
                      {
                        "marker": {
                          "colorbar": {
                            "outlinewidth": 0,
                            "ticks": ""
                          }
                        },
                        "type": "scattermapbox"
                      }
                    ],
                    "scatterpolar": [
                      {
                        "marker": {
                          "colorbar": {
                            "outlinewidth": 0,
                            "ticks": ""
                          }
                        },
                        "type": "scatterpolar"
                      }
                    ],
                    "scatterpolargl": [
                      {
                        "marker": {
                          "colorbar": {
                            "outlinewidth": 0,
                            "ticks": ""
                          }
                        },
                        "type": "scatterpolargl"
                      }
                    ],
                    "scatterternary": [
                      {
                        "marker": {
                          "colorbar": {
                            "outlinewidth": 0,
                            "ticks": ""
                          }
                        },
                        "type": "scatterternary"
                      }
                    ],
                    "surface": [
                      {
                        "colorbar": {
                          "outlinewidth": 0,
                          "ticks": ""
                        },
                        "colorscale": [
                          [
                            0,
                            "#0d0887"
                          ],
                          [
                            0.1111111111111111,
                            "#46039f"
                          ],
                          [
                            0.2222222222222222,
                            "#7201a8"
                          ],
                          [
                            0.3333333333333333,
                            "#9c179e"
                          ],
                          [
                            0.4444444444444444,
                            "#bd3786"
                          ],
                          [
                            0.5555555555555556,
                            "#d8576b"
                          ],
                          [
                            0.6666666666666666,
                            "#ed7953"
                          ],
                          [
                            0.7777777777777778,
                            "#fb9f3a"
                          ],
                          [
                            0.8888888888888888,
                            "#fdca26"
                          ],
                          [
                            1,
                            "#f0f921"
                          ]
                        ],
                        "type": "surface"
                      }
                    ],
                    "table": [
                      {
                        "cells": {
                          "fill": {
                            "color": "#EBF0F8"
                          },
                          "line": {
                            "color": "white"
                          }
                        },
                        "header": {
                          "fill": {
                            "color": "#C8D4E3"
                          },
                          "line": {
                            "color": "white"
                          }
                        },
                        "type": "table"
                      }
                    ]
                  },
                  "layout": {
                    "annotationdefaults": {
                      "arrowcolor": "#2a3f5f",
                      "arrowhead": 0,
                      "arrowwidth": 1
                    },
                    "autotypenumbers": "strict",
                    "coloraxis": {
                      "colorbar": {
                        "outlinewidth": 0,
                        "ticks": ""
                      }
                    },
                    "colorscale": {
                      "diverging": [
                        [
                          0,
                          "#8e0152"
                        ],
                        [
                          0.1,
                          "#c51b7d"
                        ],
                        [
                          0.2,
                          "#de77ae"
                        ],
                        [
                          0.3,
                          "#f1b6da"
                        ],
                        [
                          0.4,
                          "#fde0ef"
                        ],
                        [
                          0.5,
                          "#f7f7f7"
                        ],
                        [
                          0.6,
                          "#e6f5d0"
                        ],
                        [
                          0.7,
                          "#b8e186"
                        ],
                        [
                          0.8,
                          "#7fbc41"
                        ],
                        [
                          0.9,
                          "#4d9221"
                        ],
                        [
                          1,
                          "#276419"
                        ]
                      ],
                      "sequential": [
                        [
                          0,
                          "#0d0887"
                        ],
                        [
                          0.1111111111111111,
                          "#46039f"
                        ],
                        [
                          0.2222222222222222,
                          "#7201a8"
                        ],
                        [
                          0.3333333333333333,
                          "#9c179e"
                        ],
                        [
                          0.4444444444444444,
                          "#bd3786"
                        ],
                        [
                          0.5555555555555556,
                          "#d8576b"
                        ],
                        [
                          0.6666666666666666,
                          "#ed7953"
                        ],
                        [
                          0.7777777777777778,
                          "#fb9f3a"
                        ],
                        [
                          0.8888888888888888,
                          "#fdca26"
                        ],
                        [
                          1,
                          "#f0f921"
                        ]
                      ],
                      "sequentialminus": [
                        [
                          0,
                          "#0d0887"
                        ],
                        [
                          0.1111111111111111,
                          "#46039f"
                        ],
                        [
                          0.2222222222222222,
                          "#7201a8"
                        ],
                        [
                          0.3333333333333333,
                          "#9c179e"
                        ],
                        [
                          0.4444444444444444,
                          "#bd3786"
                        ],
                        [
                          0.5555555555555556,
                          "#d8576b"
                        ],
                        [
                          0.6666666666666666,
                          "#ed7953"
                        ],
                        [
                          0.7777777777777778,
                          "#fb9f3a"
                        ],
                        [
                          0.8888888888888888,
                          "#fdca26"
                        ],
                        [
                          1,
                          "#f0f921"
                        ]
                      ]
                    },
                    "colorway": [
                      "#636efa",
                      "#EF553B",
                      "#00cc96",
                      "#ab63fa",
                      "#FFA15A",
                      "#19d3f3",
                      "#FF6692",
                      "#B6E880",
                      "#FF97FF",
                      "#FECB52"
                    ],
                    "font": {
                      "color": "#2a3f5f"
                    },
                    "geo": {
                      "bgcolor": "white",
                      "lakecolor": "white",
                      "landcolor": "#E5ECF6",
                      "showlakes": true,
                      "showland": true,
                      "subunitcolor": "white"
                    },
                    "hoverlabel": {
                      "align": "left"
                    },
                    "hovermode": "closest",
                    "mapbox": {
                      "style": "light"
                    },
                    "paper_bgcolor": "white",
                    "plot_bgcolor": "#E5ECF6",
                    "polar": {
                      "angularaxis": {
                        "gridcolor": "white",
                        "linecolor": "white",
                        "ticks": ""
                      },
                      "bgcolor": "#E5ECF6",
                      "radialaxis": {
                        "gridcolor": "white",
                        "linecolor": "white",
                        "ticks": ""
                      }
                    },
                    "scene": {
                      "xaxis": {
                        "backgroundcolor": "#E5ECF6",
                        "gridcolor": "white",
                        "gridwidth": 2,
                        "linecolor": "white",
                        "showbackground": true,
                        "ticks": "",
                        "zerolinecolor": "white"
                      },
                      "yaxis": {
                        "backgroundcolor": "#E5ECF6",
                        "gridcolor": "white",
                        "gridwidth": 2,
                        "linecolor": "white",
                        "showbackground": true,
                        "ticks": "",
                        "zerolinecolor": "white"
                      },
                      "zaxis": {
                        "backgroundcolor": "#E5ECF6",
                        "gridcolor": "white",
                        "gridwidth": 2,
                        "linecolor": "white",
                        "showbackground": true,
                        "ticks": "",
                        "zerolinecolor": "white"
                      }
                    },
                    "shapedefaults": {
                      "line": {
                        "color": "#2a3f5f"
                      }
                    },
                    "ternary": {
                      "aaxis": {
                        "gridcolor": "white",
                        "linecolor": "white",
                        "ticks": ""
                      },
                      "baxis": {
                        "gridcolor": "white",
                        "linecolor": "white",
                        "ticks": ""
                      },
                      "bgcolor": "#E5ECF6",
                      "caxis": {
                        "gridcolor": "white",
                        "linecolor": "white",
                        "ticks": ""
                      }
                    },
                    "title": {
                      "x": 0.05
                    },
                    "xaxis": {
                      "automargin": true,
                      "gridcolor": "white",
                      "linecolor": "white",
                      "ticks": "",
                      "title": {
                        "standoff": 15
                      },
                      "zerolinecolor": "white",
                      "zerolinewidth": 2
                    },
                    "yaxis": {
                      "automargin": true,
                      "gridcolor": "white",
                      "linecolor": "white",
                      "ticks": "",
                      "title": {
                        "standoff": 15
                      },
                      "zerolinecolor": "white",
                      "zerolinewidth": 2
                    }
                  }
                },
                "title": {
                  "text": "<b>Usage Frequency Distribution</b>"
                }
              }
            }
          },
          "metadata": {},
          "output_type": "display_data"
        }
      ],
      "source": [
        "import plotly.graph_objects as go\n",
        "\n",
        "labels = data['Usage_Freq'].unique()\n",
        "values = data['Usage_Freq'].value_counts()\n",
        "\n",
        "# Define explode values; set non-zero values for the slices you want to explode\n",
        "explode = [0.1 if label in ['Rarely', 'Daily'] else 0 for label in labels]\n",
        "\n",
        "fig = go.Figure(data=[go.Pie(labels=labels, values=values, textinfo='label+percent+value',\n",
        "                             hole=.5, pull=explode,\n",
        "                             textposition='outside')])\n",
        "\n",
        "fig.update_layout(title_text=\"<b>Usage Frequency Distribution</b>\")\n",
        "\n",
        "fig.show()\n"
      ]
    },
    {
      "cell_type": "code",
      "execution_count": 17,
      "metadata": {
        "id": "_lOMNNBpu3q5"
      },
      "outputs": [],
      "source": [
        "# plt.figure(figsize=(25, 10))\n",
        "# corr = data.apply(lambda x: pd.factorize(x)[0]).corr()\n",
        "# mask = np.triu(np.ones_like(corr, dtype=bool))\n",
        "# ax = sns.heatmap(corr, mask=mask, xticklabels=corr.columns, yticklabels=corr.columns, annot=True, linewidths=.2, cmap='coolwarm', vmin=-1, vmax=1)\n",
        "# # sns.heatmap(data.corr(), annot=True, fmt='.2f', cmap='coolwarm')\n"
      ]
    },
    {
      "cell_type": "code",
      "execution_count": 18,
      "metadata": {
        "id": "8BBUQA4wu3q5"
      },
      "outputs": [],
      "source": [
        "# Create a DataFrame to store the encoded values\n",
        "encoded_values = pd.DataFrame(columns=['Feature', 'Category', 'Encoded Value'])\n",
        "# Get all the categorical columns\n",
        "category_feature = data.select_dtypes(include=['object']).columns\n",
        "\n",
        "# Create a LabelEncoder object\n",
        "le = LabelEncoder()\n",
        "\n",
        "# Iterate through each categorical feature\n",
        "for feature in category_feature:\n",
        "    # Fit the LabelEncoder on the current feature and transform the data\n",
        "    data[feature] = le.fit_transform(data[feature])\n",
        "\n",
        "    # Get the encoded values for the current feature\n",
        "    for category, encoded_value in zip(le.classes_, le.transform(le.classes_)):\n",
        "        # Create a temporary DataFrame to hold the current row\n",
        "        temp_df = pd.DataFrame([{'Feature': feature, 'Category': category, 'Encoded Value': encoded_value}])\n",
        "\n",
        "        # Append the temporary DataFrame to the main DataFrame\n",
        "        encoded_values = pd.concat([encoded_values, temp_df], ignore_index=True)\n"
      ]
    },
    {
      "cell_type": "code",
      "execution_count": 19,
      "metadata": {
        "colab": {
          "base_uri": "https://localhost:8080/",
          "height": 739
        },
        "id": "QroVcP_1u3q5",
        "outputId": "40ca1e15-ece2-4148-9c44-30f2d883e021"
      },
      "outputs": [
        {
          "data": {
            "image/png": "[encoded data removed]",
            "text/plain": [
              "<Figure size 1000x600 with 1 Axes>"
            ]
          },
          "metadata": {},
          "output_type": "display_data"
        },
        {
          "data": {
            "text/html": [
              "<div>\n",
              "<style scoped>\n",
              "    .dataframe tbody tr th:only-of-type {\n",
              "        vertical-align: middle;\n",
              "    }\n",
              "\n",
              "    .dataframe tbody tr th {\n",
              "        vertical-align: top;\n",
              "    }\n",
              "\n",
              "    .dataframe thead th {\n",
              "        text-align: right;\n",
              "    }\n",
              "</style>\n",
              "<table border=\"1\" class=\"dataframe\">\n",
              "  <thead>\n",
              "    <tr style=\"text-align: right;\">\n",
              "      <th></th>\n",
              "      <th>Event Time</th>\n",
              "      <th>Number of Individuals</th>\n",
              "      <th>Number of Events</th>\n",
              "      <th>Survival Probability</th>\n",
              "      <th>Lower CI</th>\n",
              "      <th>Upper CI</th>\n",
              "    </tr>\n",
              "  </thead>\n",
              "  <tbody>\n",
              "    <tr>\n",
              "      <th>0</th>\n",
              "      <td>0.0</td>\n",
              "      <td>338</td>\n",
              "      <td>0</td>\n",
              "      <td>1.000000</td>\n",
              "      <td>1.000000</td>\n",
              "      <td>1.000000</td>\n",
              "    </tr>\n",
              "    <tr>\n",
              "      <th>1</th>\n",
              "      <td>1.0</td>\n",
              "      <td>338</td>\n",
              "      <td>12</td>\n",
              "      <td>0.964497</td>\n",
              "      <td>0.938330</td>\n",
              "      <td>0.979681</td>\n",
              "    </tr>\n",
              "    <tr>\n",
              "      <th>2</th>\n",
              "      <td>2.0</td>\n",
              "      <td>326</td>\n",
              "      <td>3</td>\n",
              "      <td>0.955621</td>\n",
              "      <td>0.927466</td>\n",
              "      <td>0.973006</td>\n",
              "    </tr>\n",
              "    <tr>\n",
              "      <th>3</th>\n",
              "      <td>3.0</td>\n",
              "      <td>323</td>\n",
              "      <td>7</td>\n",
              "      <td>0.934911</td>\n",
              "      <td>0.902828</td>\n",
              "      <td>0.956655</td>\n",
              "    </tr>\n",
              "    <tr>\n",
              "      <th>4</th>\n",
              "      <td>4.0</td>\n",
              "      <td>316</td>\n",
              "      <td>0</td>\n",
              "      <td>0.934911</td>\n",
              "      <td>0.902828</td>\n",
              "      <td>0.956655</td>\n",
              "    </tr>\n",
              "  </tbody>\n",
              "</table>\n",
              "</div>"
            ],
            "text/plain": [
              "   Event Time  Number of Individuals  Number of Events  Survival Probability  \\\n",
              "0         0.0                    338                 0              1.000000   \n",
              "1         1.0                    338                12              0.964497   \n",
              "2         2.0                    326                 3              0.955621   \n",
              "3         3.0                    323                 7              0.934911   \n",
              "4         4.0                    316                 0              0.934911   \n",
              "\n",
              "   Lower CI  Upper CI  \n",
              "0  1.000000  1.000000  \n",
              "1  0.938330  0.979681  \n",
              "2  0.927466  0.973006  \n",
              "3  0.902828  0.956655  \n",
              "4  0.902828  0.956655  "
            ]
          },
          "execution_count": 19,
          "metadata": {},
          "output_type": "execute_result"
        }
      ],
      "source": [
        "import pandas as pd\n",
        "from lifelines import KaplanMeierFitter\n",
        "import matplotlib.pyplot as plt\n",
        "# Assuming 'data' is your dataset with columns 'Level' and 'Churn'\n",
        "\n",
        "# Fit Kaplan-Meier estimator\n",
        "kmf = KaplanMeierFitter()\n",
        "kmf.fit(data['Churn_Level'], data['Churn'])\n",
        "\n",
        "# Initial number of censored individuals\n",
        "initial_censored = 338\n",
        "\n",
        "# Calculate number of censored individuals (did not churn) at each event time\n",
        "n_individuals = len(data)\n",
        "censored_counts = [initial_censored]\n",
        "\n",
        "for i in range(1, len(kmf.timeline)):\n",
        "    churned_count = kmf.event_table.iloc[i-1]['observed']  # Number of events (churns) at current event time\n",
        "    censored_count = censored_counts[i-1] - churned_count\n",
        "    censored_counts.append(censored_count)\n",
        "\n",
        "# Extract event counts (number of churns) at each event time\n",
        "event_counts = kmf.event_table['observed'].values\n",
        "\n",
        "# Extract survival probabilities\n",
        "survival_probs = kmf.survival_function_.iloc[:, 0].values\n",
        "\n",
        "# Confidence intervals from Kaplan-Meier estimator\n",
        "confidence_intervals = kmf.confidence_interval_survival_function_\n",
        "\n",
        "# Create a DataFrame to display the information\n",
        "table_data = {\n",
        "    'Event Time': kmf.timeline,\n",
        "    'Number of Individuals': censored_counts,\n",
        "    'Number of Events': event_counts,\n",
        "\n",
        "    'Survival Probability': survival_probs,\n",
        "    'Lower CI': confidence_intervals['KM_estimate_lower_0.95'].values,\n",
        "    'Upper CI': confidence_intervals['KM_estimate_upper_0.95'].values\n",
        "}\n",
        "\n",
        "df = pd.DataFrame(table_data)\n",
        "\n",
        "\n",
        "\n",
        "# Plotting the survival curves using Kaplan-Meier Estimator\n",
        "plt.figure(figsize=(10, 6))\n",
        "kmf.plot_survival_function()\n",
        "# plt.ylim(0, 1)  # Ensure y-axis ranges from 0 to 1\n",
        "\n",
        "# Set custom y-axis ticks and labels\n",
        "plt.yticks([0, 0.5, 1,1.1], ['0', '0.5', '1',''])\n",
        "plt.xticks([ 1, 2,3,4,4.2], ['1', '2', '3','4',''])\n",
        "\n",
        "plt.xlabel('Event Time')\n",
        "plt.ylabel('Survival Probability')\n",
        "plt.show()\n",
        "\n",
        "# Print the DataFrame\n",
        "df\n"
      ]
    },
    {
      "cell_type": "code",
      "execution_count": null,
      "metadata": {
        "id": "hcCmTTMBu3q5"
      },
      "outputs": [],
      "source": []
    },
    {
      "cell_type": "code",
      "execution_count": 20,
      "metadata": {
        "colab": {
          "base_uri": "https://localhost:8080/",
          "height": 1000
        },
        "id": "6yd5QAEpu3q5",
        "outputId": "45a27315-39e1-4561-938c-f8677068b8dc"
      },
      "outputs": [
        {
          "data": {
            "text/html": [
              "<div>\n",
              "<style scoped>\n",
              "    .dataframe tbody tr th:only-of-type {\n",
              "        vertical-align: middle;\n",
              "    }\n",
              "\n",
              "    .dataframe tbody tr th {\n",
              "        vertical-align: top;\n",
              "    }\n",
              "\n",
              "    .dataframe thead th {\n",
              "        text-align: right;\n",
              "    }\n",
              "</style>\n",
              "<table border=\"1\" class=\"dataframe\">\n",
              "  <tbody>\n",
              "    <tr>\n",
              "      <th>model</th>\n",
              "      <td>lifelines.CoxPHFitter</td>\n",
              "    </tr>\n",
              "    <tr>\n",
              "      <th>duration col</th>\n",
              "      <td>'Churn_Level'</td>\n",
              "    </tr>\n",
              "    <tr>\n",
              "      <th>event col</th>\n",
              "      <td>'Churn'</td>\n",
              "    </tr>\n",
              "    <tr>\n",
              "      <th>baseline estimation</th>\n",
              "      <td>breslow</td>\n",
              "    </tr>\n",
              "    <tr>\n",
              "      <th>number of observations</th>\n",
              "      <td>338</td>\n",
              "    </tr>\n",
              "    <tr>\n",
              "      <th>number of events observed</th>\n",
              "      <td>22</td>\n",
              "    </tr>\n",
              "    <tr>\n",
              "      <th>partial log-likelihood</th>\n",
              "      <td>-121.40</td>\n",
              "    </tr>\n",
              "    <tr>\n",
              "      <th>time fit was run</th>\n",
              "      <td>2024-08-02 12:07:56 UTC</td>\n",
              "    </tr>\n",
              "  </tbody>\n",
              "</table>\n",
              "</div><table border=\"1\" class=\"dataframe\">\n",
              "  <thead>\n",
              "    <tr style=\"text-align: right;\">\n",
              "      <th style=\"min-width: 12px;\"></th>\n",
              "      <th style=\"min-width: 12px;\">coef</th>\n",
              "      <th style=\"min-width: 12px;\">exp(coef)</th>\n",
              "      <th style=\"min-width: 12px;\">se(coef)</th>\n",
              "      <th style=\"min-width: 12px;\">coef lower 95%</th>\n",
              "      <th style=\"min-width: 12px;\">coef upper 95%</th>\n",
              "      <th style=\"min-width: 12px;\">exp(coef) lower 95%</th>\n",
              "      <th style=\"min-width: 12px;\">exp(coef) upper 95%</th>\n",
              "      <th style=\"min-width: 12px;\">cmp to</th>\n",
              "      <th style=\"min-width: 12px;\">z</th>\n",
              "      <th style=\"min-width: 12px;\">p</th>\n",
              "      <th style=\"min-width: 12px;\">-log2(p)</th>\n",
              "    </tr>\n",
              "  </thead>\n",
              "  <tbody>\n",
              "    <tr>\n",
              "      <th>Gender</th>\n",
              "      <td>-0.63</td>\n",
              "      <td>0.53</td>\n",
              "      <td>0.52</td>\n",
              "      <td>-1.64</td>\n",
              "      <td>0.38</td>\n",
              "      <td>0.19</td>\n",
              "      <td>1.47</td>\n",
              "      <td>0.00</td>\n",
              "      <td>-1.22</td>\n",
              "      <td>0.22</td>\n",
              "      <td>2.16</td>\n",
              "    </tr>\n",
              "    <tr>\n",
              "      <th>Residence</th>\n",
              "      <td>-0.67</td>\n",
              "      <td>0.51</td>\n",
              "      <td>0.75</td>\n",
              "      <td>-2.14</td>\n",
              "      <td>0.81</td>\n",
              "      <td>0.12</td>\n",
              "      <td>2.24</td>\n",
              "      <td>0.00</td>\n",
              "      <td>-0.89</td>\n",
              "      <td>0.38</td>\n",
              "      <td>1.41</td>\n",
              "    </tr>\n",
              "    <tr>\n",
              "      <th>Usage_Freq</th>\n",
              "      <td>-0.24</td>\n",
              "      <td>0.79</td>\n",
              "      <td>0.18</td>\n",
              "      <td>-0.58</td>\n",
              "      <td>0.11</td>\n",
              "      <td>0.56</td>\n",
              "      <td>1.11</td>\n",
              "      <td>0.00</td>\n",
              "      <td>-1.35</td>\n",
              "      <td>0.18</td>\n",
              "      <td>2.49</td>\n",
              "    </tr>\n",
              "    <tr>\n",
              "      <th>Network_Strength</th>\n",
              "      <td>0.08</td>\n",
              "      <td>1.09</td>\n",
              "      <td>0.21</td>\n",
              "      <td>-0.33</td>\n",
              "      <td>0.50</td>\n",
              "      <td>0.72</td>\n",
              "      <td>1.64</td>\n",
              "      <td>0.00</td>\n",
              "      <td>0.39</td>\n",
              "      <td>0.69</td>\n",
              "      <td>0.53</td>\n",
              "    </tr>\n",
              "    <tr>\n",
              "      <th>Voice_Calls</th>\n",
              "      <td>0.74</td>\n",
              "      <td>2.09</td>\n",
              "      <td>0.76</td>\n",
              "      <td>-0.74</td>\n",
              "      <td>2.22</td>\n",
              "      <td>0.47</td>\n",
              "      <td>9.20</td>\n",
              "      <td>0.00</td>\n",
              "      <td>0.98</td>\n",
              "      <td>0.33</td>\n",
              "      <td>1.60</td>\n",
              "    </tr>\n",
              "    <tr>\n",
              "      <th>Mobile_Data_Internet</th>\n",
              "      <td>-0.34</td>\n",
              "      <td>0.72</td>\n",
              "      <td>0.56</td>\n",
              "      <td>-1.44</td>\n",
              "      <td>0.77</td>\n",
              "      <td>0.24</td>\n",
              "      <td>2.16</td>\n",
              "      <td>0.00</td>\n",
              "      <td>-0.59</td>\n",
              "      <td>0.55</td>\n",
              "      <td>0.86</td>\n",
              "    </tr>\n",
              "    <tr>\n",
              "      <th>SMS_Text_Messaging</th>\n",
              "      <td>-0.14</td>\n",
              "      <td>0.87</td>\n",
              "      <td>0.44</td>\n",
              "      <td>-1.00</td>\n",
              "      <td>0.71</td>\n",
              "      <td>0.37</td>\n",
              "      <td>2.03</td>\n",
              "      <td>0.00</td>\n",
              "      <td>-0.33</td>\n",
              "      <td>0.74</td>\n",
              "      <td>0.43</td>\n",
              "    </tr>\n",
              "    <tr>\n",
              "      <th>Data_Exhaustion</th>\n",
              "      <td>-0.06</td>\n",
              "      <td>0.94</td>\n",
              "      <td>0.52</td>\n",
              "      <td>-1.08</td>\n",
              "      <td>0.95</td>\n",
              "      <td>0.34</td>\n",
              "      <td>2.59</td>\n",
              "      <td>0.00</td>\n",
              "      <td>-0.12</td>\n",
              "      <td>0.90</td>\n",
              "      <td>0.15</td>\n",
              "    </tr>\n",
              "    <tr>\n",
              "      <th>Multiple_Networks</th>\n",
              "      <td>0.53</td>\n",
              "      <td>1.70</td>\n",
              "      <td>1.04</td>\n",
              "      <td>-1.50</td>\n",
              "      <td>2.56</td>\n",
              "      <td>0.22</td>\n",
              "      <td>12.92</td>\n",
              "      <td>0.00</td>\n",
              "      <td>0.51</td>\n",
              "      <td>0.61</td>\n",
              "      <td>0.71</td>\n",
              "    </tr>\n",
              "    <tr>\n",
              "      <th>Poor_Network_Quality_Coverage</th>\n",
              "      <td>-0.26</td>\n",
              "      <td>0.77</td>\n",
              "      <td>0.46</td>\n",
              "      <td>-1.15</td>\n",
              "      <td>0.64</td>\n",
              "      <td>0.32</td>\n",
              "      <td>1.89</td>\n",
              "      <td>0.00</td>\n",
              "      <td>-0.56</td>\n",
              "      <td>0.57</td>\n",
              "      <td>0.80</td>\n",
              "    </tr>\n",
              "    <tr>\n",
              "      <th>Unsatisfactory_Customer_Service</th>\n",
              "      <td>0.38</td>\n",
              "      <td>1.47</td>\n",
              "      <td>0.44</td>\n",
              "      <td>-0.47</td>\n",
              "      <td>1.24</td>\n",
              "      <td>0.62</td>\n",
              "      <td>3.45</td>\n",
              "      <td>0.00</td>\n",
              "      <td>0.88</td>\n",
              "      <td>0.38</td>\n",
              "      <td>1.40</td>\n",
              "    </tr>\n",
              "    <tr>\n",
              "      <th>High_Costs_Pricing</th>\n",
              "      <td>-0.40</td>\n",
              "      <td>0.67</td>\n",
              "      <td>0.44</td>\n",
              "      <td>-1.27</td>\n",
              "      <td>0.47</td>\n",
              "      <td>0.28</td>\n",
              "      <td>1.60</td>\n",
              "      <td>0.00</td>\n",
              "      <td>-0.89</td>\n",
              "      <td>0.37</td>\n",
              "      <td>1.43</td>\n",
              "    </tr>\n",
              "    <tr>\n",
              "      <th>Monthly_Data_Usage</th>\n",
              "      <td>0.31</td>\n",
              "      <td>1.37</td>\n",
              "      <td>0.22</td>\n",
              "      <td>-0.11</td>\n",
              "      <td>0.73</td>\n",
              "      <td>0.89</td>\n",
              "      <td>2.08</td>\n",
              "      <td>0.00</td>\n",
              "      <td>1.44</td>\n",
              "      <td>0.15</td>\n",
              "      <td>2.75</td>\n",
              "    </tr>\n",
              "  </tbody>\n",
              "</table><br><div>\n",
              "<style scoped>\n",
              "    .dataframe tbody tr th:only-of-type {\n",
              "        vertical-align: middle;\n",
              "    }\n",
              "\n",
              "    .dataframe tbody tr th {\n",
              "        vertical-align: top;\n",
              "    }\n",
              "\n",
              "    .dataframe thead th {\n",
              "        text-align: right;\n",
              "    }\n",
              "</style>\n",
              "<table border=\"1\" class=\"dataframe\">\n",
              "  <tbody>\n",
              "    <tr>\n",
              "      <th>Concordance</th>\n",
              "      <td>0.72</td>\n",
              "    </tr>\n",
              "    <tr>\n",
              "      <th>Partial AIC</th>\n",
              "      <td>268.79</td>\n",
              "    </tr>\n",
              "    <tr>\n",
              "      <th>log-likelihood ratio test</th>\n",
              "      <td>12.03 on 13 df</td>\n",
              "    </tr>\n",
              "    <tr>\n",
              "      <th>-log2(p) of ll-ratio test</th>\n",
              "      <td>0.93</td>\n",
              "    </tr>\n",
              "  </tbody>\n",
              "</table>\n",
              "</div>"
            ],
            "text/latex": [
              "\\begin{tabular}{lrrrrrrrrrrr}\n",
              " & coef & exp(coef) & se(coef) & coef lower 95% & coef upper 95% & exp(coef) lower 95% & exp(coef) upper 95% & cmp to & z & p & -log2(p) \\\\\n",
              "covariate &  &  &  &  &  &  &  &  &  &  &  \\\\\n",
              "Gender & -0.63 & 0.53 & 0.52 & -1.64 & 0.38 & 0.19 & 1.47 & 0.00 & -1.22 & 0.22 & 2.16 \\\\\n",
              "Residence & -0.67 & 0.51 & 0.75 & -2.14 & 0.81 & 0.12 & 2.24 & 0.00 & -0.89 & 0.38 & 1.41 \\\\\n",
              "Usage_Freq & -0.24 & 0.79 & 0.18 & -0.58 & 0.11 & 0.56 & 1.11 & 0.00 & -1.35 & 0.18 & 2.49 \\\\\n",
              "Network_Strength & 0.08 & 1.09 & 0.21 & -0.33 & 0.50 & 0.72 & 1.64 & 0.00 & 0.39 & 0.69 & 0.53 \\\\\n",
              "Voice_Calls & 0.74 & 2.09 & 0.76 & -0.74 & 2.22 & 0.47 & 9.20 & 0.00 & 0.98 & 0.33 & 1.60 \\\\\n",
              "Mobile_Data_Internet & -0.34 & 0.72 & 0.56 & -1.44 & 0.77 & 0.24 & 2.16 & 0.00 & -0.59 & 0.55 & 0.86 \\\\\n",
              "SMS_Text_Messaging & -0.14 & 0.87 & 0.44 & -1.00 & 0.71 & 0.37 & 2.03 & 0.00 & -0.33 & 0.74 & 0.43 \\\\\n",
              "Data_Exhaustion & -0.06 & 0.94 & 0.52 & -1.08 & 0.95 & 0.34 & 2.59 & 0.00 & -0.12 & 0.90 & 0.15 \\\\\n",
              "Multiple_Networks & 0.53 & 1.70 & 1.04 & -1.50 & 2.56 & 0.22 & 12.92 & 0.00 & 0.51 & 0.61 & 0.71 \\\\\n",
              "Poor_Network_Quality_Coverage & -0.26 & 0.77 & 0.46 & -1.15 & 0.64 & 0.32 & 1.89 & 0.00 & -0.56 & 0.57 & 0.80 \\\\\n",
              "Unsatisfactory_Customer_Service & 0.38 & 1.47 & 0.44 & -0.47 & 1.24 & 0.62 & 3.45 & 0.00 & 0.88 & 0.38 & 1.40 \\\\\n",
              "High_Costs_Pricing & -0.40 & 0.67 & 0.44 & -1.27 & 0.47 & 0.28 & 1.60 & 0.00 & -0.89 & 0.37 & 1.43 \\\\\n",
              "Monthly_Data_Usage & 0.31 & 1.37 & 0.22 & -0.11 & 0.73 & 0.89 & 2.08 & 0.00 & 1.44 & 0.15 & 2.75 \\\\\n",
              "\\end{tabular}\n"
            ],
            "text/plain": [
              "<lifelines.CoxPHFitter: fitted with 338 total observations, 316 right-censored observations>\n",
              "             duration col = 'Churn_Level'\n",
              "                event col = 'Churn'\n",
              "      baseline estimation = breslow\n",
              "   number of observations = 338\n",
              "number of events observed = 22\n",
              "   partial log-likelihood = -121.40\n",
              "         time fit was run = 2024-08-02 12:07:56 UTC\n",
              "\n",
              "---\n",
              "                                 coef exp(coef)  se(coef)  coef lower 95%  coef upper 95% exp(coef) lower 95% exp(coef) upper 95%\n",
              "covariate                                                                                                                        \n",
              "Gender                          -0.63      0.53      0.52           -1.64            0.38                0.19                1.47\n",
              "Residence                       -0.67      0.51      0.75           -2.14            0.81                0.12                2.24\n",
              "Usage_Freq                      -0.24      0.79      0.18           -0.58            0.11                0.56                1.11\n",
              "Network_Strength                 0.08      1.09      0.21           -0.33            0.50                0.72                1.64\n",
              "Voice_Calls                      0.74      2.09      0.76           -0.74            2.22                0.47                9.20\n",
              "Mobile_Data_Internet            -0.34      0.72      0.56           -1.44            0.77                0.24                2.16\n",
              "SMS_Text_Messaging              -0.14      0.87      0.44           -1.00            0.71                0.37                2.03\n",
              "Data_Exhaustion                 -0.06      0.94      0.52           -1.08            0.95                0.34                2.59\n",
              "Multiple_Networks                0.53      1.70      1.04           -1.50            2.56                0.22               12.92\n",
              "Poor_Network_Quality_Coverage   -0.26      0.77      0.46           -1.15            0.64                0.32                1.89\n",
              "Unsatisfactory_Customer_Service  0.38      1.47      0.44           -0.47            1.24                0.62                3.45\n",
              "High_Costs_Pricing              -0.40      0.67      0.44           -1.27            0.47                0.28                1.60\n",
              "Monthly_Data_Usage               0.31      1.37      0.22           -0.11            0.73                0.89                2.08\n",
              "\n",
              "                                 cmp to     z    p  -log2(p)\n",
              "covariate                                                   \n",
              "Gender                             0.00 -1.22 0.22      2.16\n",
              "Residence                          0.00 -0.89 0.38      1.41\n",
              "Usage_Freq                         0.00 -1.35 0.18      2.49\n",
              "Network_Strength                   0.00  0.39 0.69      0.53\n",
              "Voice_Calls                        0.00  0.98 0.33      1.60\n",
              "Mobile_Data_Internet               0.00 -0.59 0.55      0.86\n",
              "SMS_Text_Messaging                 0.00 -0.33 0.74      0.43\n",
              "Data_Exhaustion                    0.00 -0.12 0.90      0.15\n",
              "Multiple_Networks                  0.00  0.51 0.61      0.71\n",
              "Poor_Network_Quality_Coverage      0.00 -0.56 0.57      0.80\n",
              "Unsatisfactory_Customer_Service    0.00  0.88 0.38      1.40\n",
              "High_Costs_Pricing                 0.00 -0.89 0.37      1.43\n",
              "Monthly_Data_Usage                 0.00  1.44 0.15      2.75\n",
              "---\n",
              "Concordance = 0.72\n",
              "Partial AIC = 268.79\n",
              "log-likelihood ratio test = 12.03 on 13 df\n",
              "-log2(p) of ll-ratio test = 0.93"
            ]
          },
          "metadata": {},
          "output_type": "display_data"
        },
        {
          "data": {
            "image/png": "[encoded data removed]",
            "text/plain": [
              "<Figure size 640x480 with 1 Axes>"
            ]
          },
          "metadata": {},
          "output_type": "display_data"
        }
      ],
      "source": [
        "import matplotlib.pyplot as plt\n",
        "from lifelines import CoxPHFitter\n",
        "# Initialize the Cox Proportional Hazards model\n",
        "cph = CoxPHFitter()\n",
        "# data = data.drop(columns=['High_Costs_Pricing','Multiple_Networks','Other_Networks_Better_Services','Poor_Network_Quality_Coverage'])\n",
        "# data = data.drop(columns='Poor_Network_Quality_Coverage')\n",
        "\n",
        "# Fit the model\n",
        "cph.fit(data, duration_col='Churn_Level', event_col='Churn')\n",
        "\n",
        "# Display the summary\n",
        "cph.print_summary()\n",
        "\n",
        "# Plot the coefficients\n",
        "cph.plot()\n",
        "# plt.title('Cox Proportional Hazards Model Coefficients')\n",
        "plt.show()\n"
      ]
    },
    {
      "cell_type": "code",
      "execution_count": 21,
      "metadata": {
        "id": "0p6Brj5wu3q5"
      },
      "outputs": [],
      "source": [
        "# data['Level'] = data['Level']/100\n",
        "\n",
        "# data"
      ]
    },
    {
      "cell_type": "code",
      "execution_count": 22,
      "metadata": {
        "id": "nuTOa_9Su3q6"
      },
      "outputs": [],
      "source": [
        "# import pandas as pd\n",
        "# from lifelines import WeibullAFTFitter, LogNormalAFTFitter, LogLogisticAFTFitter\n",
        "# import numpy as np\n",
        "\n",
        "# # Sample data\n",
        "# data = pd.DataFrame({\n",
        "#     'Churn_Level': np.random.exponential(1, 100),\n",
        "#     'Churn': np.random.randint(0, 2, 100)\n",
        "# })\n",
        "\n",
        "# # Instantiate each AFT fitter\n",
        "# weibull_aft = WeibullAFTFitter()\n",
        "# lognormal_aft = LogNormalAFTFitter()\n",
        "# loglogistic_aft = LogLogisticAFTFitter()\n",
        "\n",
        "# # Fit to data and collect AIC, BIC, and Hanna-Quinn values\n",
        "# aft_metrics = {}\n",
        "# for model in [weibull_aft, lognormal_aft, loglogistic_aft]:\n",
        "#     model.fit(data, duration_col='Churn_Level', event_col='Churn')\n",
        "#     aic = model.AIC_\n",
        "#     bic = model.BIC_  # You can get BIC directly from lifelines\n",
        "#     n = len(data)\n",
        "#     k = len(model.params_)\n",
        "\n",
        "#     # Hanna-Quinn criterion calculation\n",
        "#     hqc = np.log(n) * k * np.log(np.log(n)) + 2 * k * np.log(n)\n",
        "\n",
        "#     aft_metrics[model.__class__.__name__] = {\n",
        "#         'AIC': aic,\n",
        "#         'BIC': bic,\n",
        "#         'Hanna-Quinn': hqc\n",
        "#     }\n",
        "\n",
        "# # Create a DataFrame from the metrics\n",
        "# metrics_df = pd.DataFrame(aft_metrics).T\n",
        "# metrics_df.index.name = 'Model'\n",
        "# metrics_df = metrics_df.reset_index()\n",
        "\n",
        "# print(\"Model Comparison Metrics:\")\n",
        "# print(metrics_df)\n",
        "\n",
        "# # Find the model with the lowest AIC, BIC, and Hanna-Quinn\n",
        "# best_aft_model_aic = metrics_df.loc[metrics_df['AIC'].idxmin(), 'Model']\n",
        "# best_aft_model_bic = metrics_df.loc[metrics_df['BIC'].idxmin(), 'Model']\n",
        "# best_aft_model_hqc = metrics_df.loc[metrics_df['Hanna-Quinn'].idxmin(), 'Model']\n",
        "\n",
        "# print(f\"\\nThe AFT model with the lowest AIC is: {best_aft_model_aic}\")\n",
        "# print(f\"The AFT model with the lowest BIC is: {best_aft_model_bic}\")\n",
        "# print(f\"The AFT model with the lowest Hanna-Quinn is: {best_aft_model_hqc}\")\n"
      ]
    },
    {
      "cell_type": "code",
      "execution_count": 23,
      "metadata": {
        "colab": {
          "base_uri": "https://localhost:8080/",
          "height": 936
        },
        "id": "gK0dvRzEu3q6",
        "outputId": "c0b38ab7-026d-4333-af1a-310dfa00c9e0"
      },
      "outputs": [
        {
          "data": {
            "text/html": [
              "<div>\n",
              "<style scoped>\n",
              "    .dataframe tbody tr th:only-of-type {\n",
              "        vertical-align: middle;\n",
              "    }\n",
              "\n",
              "    .dataframe tbody tr th {\n",
              "        vertical-align: top;\n",
              "    }\n",
              "\n",
              "    .dataframe thead th {\n",
              "        text-align: right;\n",
              "    }\n",
              "</style>\n",
              "<table border=\"1\" class=\"dataframe\">\n",
              "  <tbody>\n",
              "    <tr>\n",
              "      <th>model</th>\n",
              "      <td>lifelines.LogNormalAFTFitter</td>\n",
              "    </tr>\n",
              "    <tr>\n",
              "      <th>duration col</th>\n",
              "      <td>'Churn_Level'</td>\n",
              "    </tr>\n",
              "    <tr>\n",
              "      <th>event col</th>\n",
              "      <td>'Churn'</td>\n",
              "    </tr>\n",
              "    <tr>\n",
              "      <th>number of observations</th>\n",
              "      <td>338</td>\n",
              "    </tr>\n",
              "    <tr>\n",
              "      <th>number of events observed</th>\n",
              "      <td>22</td>\n",
              "    </tr>\n",
              "    <tr>\n",
              "      <th>log-likelihood</th>\n",
              "      <td>-104.046</td>\n",
              "    </tr>\n",
              "    <tr>\n",
              "      <th>time fit was run</th>\n",
              "      <td>2024-08-02 12:07:58 UTC</td>\n",
              "    </tr>\n",
              "  </tbody>\n",
              "</table>\n",
              "</div><table border=\"1\" class=\"dataframe\">\n",
              "  <thead>\n",
              "    <tr style=\"text-align: right;\">\n",
              "      <th style=\"min-width: 12px;\"></th>\n",
              "      <th style=\"min-width: 12px;\"></th>\n",
              "      <th style=\"min-width: 12px;\">coef</th>\n",
              "      <th style=\"min-width: 12px;\">exp(coef)</th>\n",
              "      <th style=\"min-width: 12px;\">se(coef)</th>\n",
              "      <th style=\"min-width: 12px;\">coef lower 95%</th>\n",
              "      <th style=\"min-width: 12px;\">coef upper 95%</th>\n",
              "      <th style=\"min-width: 12px;\">exp(coef) lower 95%</th>\n",
              "      <th style=\"min-width: 12px;\">exp(coef) upper 95%</th>\n",
              "      <th style=\"min-width: 12px;\">cmp to</th>\n",
              "      <th style=\"min-width: 12px;\">z</th>\n",
              "      <th style=\"min-width: 12px;\">p</th>\n",
              "      <th style=\"min-width: 12px;\">-log2(p)</th>\n",
              "    </tr>\n",
              "  </thead>\n",
              "  <tbody>\n",
              "    <tr>\n",
              "      <th rowspan=\"14\" valign=\"top\">mu_</th>\n",
              "      <th>Data_Exhaustion</th>\n",
              "      <td>0.094</td>\n",
              "      <td>1.099</td>\n",
              "      <td>0.486</td>\n",
              "      <td>-0.857</td>\n",
              "      <td>1.046</td>\n",
              "      <td>0.424</td>\n",
              "      <td>2.846</td>\n",
              "      <td>0.000</td>\n",
              "      <td>0.195</td>\n",
              "      <td>0.846</td>\n",
              "      <td>0.242</td>\n",
              "    </tr>\n",
              "    <tr>\n",
              "      <th>Gender</th>\n",
              "      <td>0.625</td>\n",
              "      <td>1.867</td>\n",
              "      <td>0.474</td>\n",
              "      <td>-0.305</td>\n",
              "      <td>1.554</td>\n",
              "      <td>0.737</td>\n",
              "      <td>4.731</td>\n",
              "      <td>0.000</td>\n",
              "      <td>1.317</td>\n",
              "      <td>0.188</td>\n",
              "      <td>2.413</td>\n",
              "    </tr>\n",
              "    <tr>\n",
              "      <th>High_Costs_Pricing</th>\n",
              "      <td>0.426</td>\n",
              "      <td>1.531</td>\n",
              "      <td>0.412</td>\n",
              "      <td>-0.382</td>\n",
              "      <td>1.233</td>\n",
              "      <td>0.683</td>\n",
              "      <td>3.433</td>\n",
              "      <td>0.000</td>\n",
              "      <td>1.033</td>\n",
              "      <td>0.302</td>\n",
              "      <td>1.730</td>\n",
              "    </tr>\n",
              "    <tr>\n",
              "      <th>Mobile_Data_Internet</th>\n",
              "      <td>0.342</td>\n",
              "      <td>1.407</td>\n",
              "      <td>0.557</td>\n",
              "      <td>-0.750</td>\n",
              "      <td>1.433</td>\n",
              "      <td>0.472</td>\n",
              "      <td>4.193</td>\n",
              "      <td>0.000</td>\n",
              "      <td>0.613</td>\n",
              "      <td>0.540</td>\n",
              "      <td>0.889</td>\n",
              "    </tr>\n",
              "    <tr>\n",
              "      <th>Monthly_Data_Usage</th>\n",
              "      <td>-0.288</td>\n",
              "      <td>0.750</td>\n",
              "      <td>0.192</td>\n",
              "      <td>-0.663</td>\n",
              "      <td>0.088</td>\n",
              "      <td>0.515</td>\n",
              "      <td>1.092</td>\n",
              "      <td>0.000</td>\n",
              "      <td>-1.501</td>\n",
              "      <td>0.133</td>\n",
              "      <td>2.907</td>\n",
              "    </tr>\n",
              "    <tr>\n",
              "      <th>Multiple_Networks</th>\n",
              "      <td>-0.522</td>\n",
              "      <td>0.593</td>\n",
              "      <td>0.889</td>\n",
              "      <td>-2.265</td>\n",
              "      <td>1.220</td>\n",
              "      <td>0.104</td>\n",
              "      <td>3.388</td>\n",
              "      <td>0.000</td>\n",
              "      <td>-0.587</td>\n",
              "      <td>0.557</td>\n",
              "      <td>0.844</td>\n",
              "    </tr>\n",
              "    <tr>\n",
              "      <th>Network_Strength</th>\n",
              "      <td>-0.065</td>\n",
              "      <td>0.937</td>\n",
              "      <td>0.190</td>\n",
              "      <td>-0.437</td>\n",
              "      <td>0.308</td>\n",
              "      <td>0.646</td>\n",
              "      <td>1.361</td>\n",
              "      <td>0.000</td>\n",
              "      <td>-0.340</td>\n",
              "      <td>0.734</td>\n",
              "      <td>0.446</td>\n",
              "    </tr>\n",
              "    <tr>\n",
              "      <th>Poor_Network_Quality_Coverage</th>\n",
              "      <td>0.352</td>\n",
              "      <td>1.422</td>\n",
              "      <td>0.436</td>\n",
              "      <td>-0.504</td>\n",
              "      <td>1.207</td>\n",
              "      <td>0.604</td>\n",
              "      <td>3.344</td>\n",
              "      <td>0.000</td>\n",
              "      <td>0.806</td>\n",
              "      <td>0.420</td>\n",
              "      <td>1.251</td>\n",
              "    </tr>\n",
              "    <tr>\n",
              "      <th>Residence</th>\n",
              "      <td>0.654</td>\n",
              "      <td>1.923</td>\n",
              "      <td>0.652</td>\n",
              "      <td>-0.624</td>\n",
              "      <td>1.932</td>\n",
              "      <td>0.536</td>\n",
              "      <td>6.901</td>\n",
              "      <td>0.000</td>\n",
              "      <td>1.003</td>\n",
              "      <td>0.316</td>\n",
              "      <td>1.662</td>\n",
              "    </tr>\n",
              "    <tr>\n",
              "      <th>SMS_Text_Messaging</th>\n",
              "      <td>0.193</td>\n",
              "      <td>1.213</td>\n",
              "      <td>0.405</td>\n",
              "      <td>-0.600</td>\n",
              "      <td>0.986</td>\n",
              "      <td>0.549</td>\n",
              "      <td>2.680</td>\n",
              "      <td>0.000</td>\n",
              "      <td>0.477</td>\n",
              "      <td>0.634</td>\n",
              "      <td>0.658</td>\n",
              "    </tr>\n",
              "    <tr>\n",
              "      <th>Unsatisfactory_Customer_Service</th>\n",
              "      <td>-0.345</td>\n",
              "      <td>0.709</td>\n",
              "      <td>0.418</td>\n",
              "      <td>-1.165</td>\n",
              "      <td>0.476</td>\n",
              "      <td>0.312</td>\n",
              "      <td>1.609</td>\n",
              "      <td>0.000</td>\n",
              "      <td>-0.823</td>\n",
              "      <td>0.410</td>\n",
              "      <td>1.285</td>\n",
              "    </tr>\n",
              "    <tr>\n",
              "      <th>Usage_Freq</th>\n",
              "      <td>0.188</td>\n",
              "      <td>1.206</td>\n",
              "      <td>0.158</td>\n",
              "      <td>-0.122</td>\n",
              "      <td>0.498</td>\n",
              "      <td>0.885</td>\n",
              "      <td>1.645</td>\n",
              "      <td>0.000</td>\n",
              "      <td>1.186</td>\n",
              "      <td>0.236</td>\n",
              "      <td>2.085</td>\n",
              "    </tr>\n",
              "    <tr>\n",
              "      <th>Voice_Calls</th>\n",
              "      <td>-0.677</td>\n",
              "      <td>0.508</td>\n",
              "      <td>0.667</td>\n",
              "      <td>-1.985</td>\n",
              "      <td>0.631</td>\n",
              "      <td>0.137</td>\n",
              "      <td>1.880</td>\n",
              "      <td>0.000</td>\n",
              "      <td>-1.014</td>\n",
              "      <td>0.311</td>\n",
              "      <td>1.687</td>\n",
              "    </tr>\n",
              "    <tr>\n",
              "      <th>Intercept</th>\n",
              "      <td>5.102</td>\n",
              "      <td>164.327</td>\n",
              "      <td>1.728</td>\n",
              "      <td>1.714</td>\n",
              "      <td>8.490</td>\n",
              "      <td>5.552</td>\n",
              "      <td>4863.788</td>\n",
              "      <td>0.000</td>\n",
              "      <td>2.952</td>\n",
              "      <td>0.003</td>\n",
              "      <td>8.306</td>\n",
              "    </tr>\n",
              "    <tr>\n",
              "      <th>sigma_</th>\n",
              "      <th>Intercept</th>\n",
              "      <td>0.609</td>\n",
              "      <td>1.839</td>\n",
              "      <td>0.190</td>\n",
              "      <td>0.236</td>\n",
              "      <td>0.982</td>\n",
              "      <td>1.266</td>\n",
              "      <td>2.670</td>\n",
              "      <td>0.000</td>\n",
              "      <td>3.199</td>\n",
              "      <td>0.001</td>\n",
              "      <td>9.504</td>\n",
              "    </tr>\n",
              "  </tbody>\n",
              "</table><br><div>\n",
              "<style scoped>\n",
              "    .dataframe tbody tr th:only-of-type {\n",
              "        vertical-align: middle;\n",
              "    }\n",
              "\n",
              "    .dataframe tbody tr th {\n",
              "        vertical-align: top;\n",
              "    }\n",
              "\n",
              "    .dataframe thead th {\n",
              "        text-align: right;\n",
              "    }\n",
              "</style>\n",
              "<table border=\"1\" class=\"dataframe\">\n",
              "  <tbody>\n",
              "    <tr>\n",
              "      <th>Concordance</th>\n",
              "      <td>0.721</td>\n",
              "    </tr>\n",
              "    <tr>\n",
              "      <th>AIC</th>\n",
              "      <td>238.091</td>\n",
              "    </tr>\n",
              "    <tr>\n",
              "      <th>log-likelihood ratio test</th>\n",
              "      <td>12.939 on 13 df</td>\n",
              "    </tr>\n",
              "    <tr>\n",
              "      <th>-log2(p) of ll-ratio test</th>\n",
              "      <td>1.144</td>\n",
              "    </tr>\n",
              "  </tbody>\n",
              "</table>\n",
              "</div>"
            ],
            "text/latex": [
              "\\begin{tabular}{llrrrrrrrrrrr}\n",
              " &  & coef & exp(coef) & se(coef) & coef lower 95% & coef upper 95% & exp(coef) lower 95% & exp(coef) upper 95% & cmp to & z & p & -log2(p) \\\\\n",
              "param & covariate &  &  &  &  &  &  &  &  &  &  &  \\\\\n",
              "\\multirow[c]{14}{*}{mu_} & Data_Exhaustion & 0.094 & 1.099 & 0.486 & -0.857 & 1.046 & 0.424 & 2.846 & 0.000 & 0.195 & 0.846 & 0.242 \\\\\n",
              " & Gender & 0.625 & 1.867 & 0.474 & -0.305 & 1.554 & 0.737 & 4.731 & 0.000 & 1.317 & 0.188 & 2.413 \\\\\n",
              " & High_Costs_Pricing & 0.426 & 1.531 & 0.412 & -0.382 & 1.233 & 0.683 & 3.433 & 0.000 & 1.033 & 0.302 & 1.730 \\\\\n",
              " & Mobile_Data_Internet & 0.342 & 1.407 & 0.557 & -0.750 & 1.433 & 0.472 & 4.193 & 0.000 & 0.613 & 0.540 & 0.889 \\\\\n",
              " & Monthly_Data_Usage & -0.288 & 0.750 & 0.192 & -0.663 & 0.088 & 0.515 & 1.092 & 0.000 & -1.501 & 0.133 & 2.907 \\\\\n",
              " & Multiple_Networks & -0.522 & 0.593 & 0.889 & -2.265 & 1.220 & 0.104 & 3.388 & 0.000 & -0.587 & 0.557 & 0.844 \\\\\n",
              " & Network_Strength & -0.065 & 0.937 & 0.190 & -0.437 & 0.308 & 0.646 & 1.361 & 0.000 & -0.340 & 0.734 & 0.446 \\\\\n",
              " & Poor_Network_Quality_Coverage & 0.352 & 1.422 & 0.436 & -0.504 & 1.207 & 0.604 & 3.344 & 0.000 & 0.806 & 0.420 & 1.251 \\\\\n",
              " & Residence & 0.654 & 1.923 & 0.652 & -0.624 & 1.932 & 0.536 & 6.901 & 0.000 & 1.003 & 0.316 & 1.662 \\\\\n",
              " & SMS_Text_Messaging & 0.193 & 1.213 & 0.405 & -0.600 & 0.986 & 0.549 & 2.680 & 0.000 & 0.477 & 0.634 & 0.658 \\\\\n",
              " & Unsatisfactory_Customer_Service & -0.345 & 0.709 & 0.418 & -1.165 & 0.476 & 0.312 & 1.609 & 0.000 & -0.823 & 0.410 & 1.285 \\\\\n",
              " & Usage_Freq & 0.188 & 1.206 & 0.158 & -0.122 & 0.498 & 0.885 & 1.645 & 0.000 & 1.186 & 0.236 & 2.085 \\\\\n",
              " & Voice_Calls & -0.677 & 0.508 & 0.667 & -1.985 & 0.631 & 0.137 & 1.880 & 0.000 & -1.014 & 0.311 & 1.687 \\\\\n",
              " & Intercept & 5.102 & 164.327 & 1.728 & 1.714 & 8.490 & 5.552 & 4863.788 & 0.000 & 2.952 & 0.003 & 8.306 \\\\\n",
              "sigma_ & Intercept & 0.609 & 1.839 & 0.190 & 0.236 & 0.982 & 1.266 & 2.670 & 0.000 & 3.199 & 0.001 & 9.504 \\\\\n",
              "\\end{tabular}\n"
            ],
            "text/plain": [
              "<lifelines.LogNormalAFTFitter: fitted with 338 total observations, 316 right-censored observations>\n",
              "             duration col = 'Churn_Level'\n",
              "                event col = 'Churn'\n",
              "   number of observations = 338\n",
              "number of events observed = 22\n",
              "           log-likelihood = -104.046\n",
              "         time fit was run = 2024-08-02 12:07:58 UTC\n",
              "\n",
              "---\n",
              "                                         coef exp(coef)  se(coef)  coef lower 95%  coef upper 95% exp(coef) lower 95% exp(coef) upper 95%\n",
              "param  covariate                                                                                                                         \n",
              "mu_    Data_Exhaustion                  0.094     1.099     0.486          -0.857           1.046               0.424               2.846\n",
              "       Gender                           0.625     1.867     0.474          -0.305           1.554               0.737               4.731\n",
              "       High_Costs_Pricing               0.426     1.531     0.412          -0.382           1.233               0.683               3.433\n",
              "       Mobile_Data_Internet             0.342     1.407     0.557          -0.750           1.433               0.472               4.193\n",
              "       Monthly_Data_Usage              -0.288     0.750     0.192          -0.663           0.088               0.515               1.092\n",
              "       Multiple_Networks               -0.522     0.593     0.889          -2.265           1.220               0.104               3.388\n",
              "       Network_Strength                -0.065     0.937     0.190          -0.437           0.308               0.646               1.361\n",
              "       Poor_Network_Quality_Coverage    0.352     1.422     0.436          -0.504           1.207               0.604               3.344\n",
              "       Residence                        0.654     1.923     0.652          -0.624           1.932               0.536               6.901\n",
              "       SMS_Text_Messaging               0.193     1.213     0.405          -0.600           0.986               0.549               2.680\n",
              "       Unsatisfactory_Customer_Service -0.345     0.709     0.418          -1.165           0.476               0.312               1.609\n",
              "       Usage_Freq                       0.188     1.206     0.158          -0.122           0.498               0.885               1.645\n",
              "       Voice_Calls                     -0.677     0.508     0.667          -1.985           0.631               0.137               1.880\n",
              "       Intercept                        5.102   164.327     1.728           1.714           8.490               5.552            4863.788\n",
              "sigma_ Intercept                        0.609     1.839     0.190           0.236           0.982               1.266               2.670\n",
              "\n",
              "                                        cmp to      z     p  -log2(p)\n",
              "param  covariate                                                     \n",
              "mu_    Data_Exhaustion                   0.000  0.195 0.846     0.242\n",
              "       Gender                            0.000  1.317 0.188     2.413\n",
              "       High_Costs_Pricing                0.000  1.033 0.302     1.730\n",
              "       Mobile_Data_Internet              0.000  0.613 0.540     0.889\n",
              "       Monthly_Data_Usage                0.000 -1.501 0.133     2.907\n",
              "       Multiple_Networks                 0.000 -0.587 0.557     0.844\n",
              "       Network_Strength                  0.000 -0.340 0.734     0.446\n",
              "       Poor_Network_Quality_Coverage     0.000  0.806 0.420     1.251\n",
              "       Residence                         0.000  1.003 0.316     1.662\n",
              "       SMS_Text_Messaging                0.000  0.477 0.634     0.658\n",
              "       Unsatisfactory_Customer_Service   0.000 -0.823 0.410     1.285\n",
              "       Usage_Freq                        0.000  1.186 0.236     2.085\n",
              "       Voice_Calls                       0.000 -1.014 0.311     1.687\n",
              "       Intercept                         0.000  2.952 0.003     8.306\n",
              "sigma_ Intercept                         0.000  3.199 0.001     9.504\n",
              "---\n",
              "Concordance = 0.721\n",
              "AIC = 238.091\n",
              "log-likelihood ratio test = 12.939 on 13 df\n",
              "-log2(p) of ll-ratio test = 1.144"
            ]
          },
          "metadata": {},
          "output_type": "display_data"
        }
      ],
      "source": [
        "from lifelines import LogNormalAFTFitter\n",
        "weibull_aft = LogNormalAFTFitter()\n",
        "weibull_aft.fit(data, duration_col='Churn_Level', event_col='Churn')\n",
        "weibull_aft.print_summary(3)"
      ]
    },
    {
      "cell_type": "code",
      "execution_count": 24,
      "metadata": {
        "colab": {
          "base_uri": "https://localhost:8080/",
          "height": 468
        },
        "id": "J3rlfEENu3q6",
        "outputId": "6ce30525-64e4-4de2-c4ae-0bb55c5f874e"
      },
      "outputs": [
        {
          "data": {
            "text/plain": [
              "<Axes: xlabel='log(accelerated failure rate) (95% CI)'>"
            ]
          },
          "execution_count": 24,
          "metadata": {},
          "output_type": "execute_result"
        },
        {
          "data": {
            "image/png": "[encoded data removed]",
            "text/plain": [
              "<Figure size 1000x600 with 1 Axes>"
            ]
          },
          "metadata": {},
          "output_type": "display_data"
        }
      ],
      "source": [
        "plt.subplots(figsize=(10, 6))\n",
        "weibull_aft.plot()\n"
      ]
    },
    {
      "cell_type": "code",
      "execution_count": 25,
      "metadata": {
        "id": "U-fu4A3Cu3q6"
      },
      "outputs": [],
      "source": [
        "# from lifelines import CoxPHFitter\n",
        "\n",
        "# # Initialize the Cox Proportional Hazards model\n",
        "# cph = CoxPHFitter()\n",
        "\n",
        "# # Fit the model\n",
        "# cph.fit(data, duration_col='Level', event_col='Churn')\n",
        "\n",
        "# # Display the summary\n",
        "# cph.print_summary()\n",
        "\n",
        "# # Plot the coefficients\n",
        "# cph.plot()\n",
        "# plt.title('Cox Proportional Hazards Model Coefficients')\n",
        "# plt.show()\n"
      ]
    },
    {
      "cell_type": "code",
      "execution_count": 26,
      "metadata": {
        "colab": {
          "base_uri": "https://localhost:8080/",
          "height": 1000
        },
        "id": "6FTUHS6zu3q6",
        "outputId": "fdcfd3bc-331a-4f88-b6a4-39a599f64ff1"
      },
      "outputs": [
        {
          "name": "stdout",
          "output_type": "stream",
          "text": [
            "The ``p_value_threshold`` is set at 0.05. Even under the null hypothesis of no violations, some\n",
            "covariates will be below the threshold by chance. This is compounded when there are many covariates.\n",
            "Similarly, when there are lots of observations, even minor deviances from the proportional hazard\n",
            "assumption will be flagged.\n",
            "\n",
            "With that in mind, it's best to use a combination of statistical tests and visual tests to determine\n",
            "the most serious violations. Produce visual plots using ``check_assumptions(..., show_plots=True)``\n",
            "and looking for non-constant lines. See link [A] below for a full example.\n",
            "\n"
          ]
        },
        {
          "data": {
            "text/html": [
              "<div>\n",
              "<style scoped>\n",
              "    .dataframe tbody tr th:only-of-type {\n",
              "        vertical-align: middle;\n",
              "    }\n",
              "\n",
              "    .dataframe tbody tr th {\n",
              "        vertical-align: top;\n",
              "    }\n",
              "\n",
              "    .dataframe thead th {\n",
              "        text-align: right;\n",
              "    }\n",
              "</style>\n",
              "<table border=\"1\" class=\"dataframe\">\n",
              "  <tbody>\n",
              "    <tr>\n",
              "      <th>null_distribution</th>\n",
              "      <td>chi squared</td>\n",
              "    </tr>\n",
              "    <tr>\n",
              "      <th>degrees_of_freedom</th>\n",
              "      <td>1</td>\n",
              "    </tr>\n",
              "    <tr>\n",
              "      <th>model</th>\n",
              "      <td>&lt;lifelines.CoxPHFitter: fitted with 338 total ...</td>\n",
              "    </tr>\n",
              "    <tr>\n",
              "      <th>test_name</th>\n",
              "      <td>proportional_hazard_test</td>\n",
              "    </tr>\n",
              "  </tbody>\n",
              "</table>\n",
              "</div><table border=\"1\" class=\"dataframe\">\n",
              "  <thead>\n",
              "    <tr style=\"text-align: right;\">\n",
              "      <th></th>\n",
              "      <th></th>\n",
              "      <th>test_statistic</th>\n",
              "      <th>p</th>\n",
              "      <th>-log2(p)</th>\n",
              "    </tr>\n",
              "  </thead>\n",
              "  <tbody>\n",
              "    <tr>\n",
              "      <th rowspan=\"2\" valign=\"top\">Data_Exhaustion</th>\n",
              "      <th>km</th>\n",
              "      <td>0.34</td>\n",
              "      <td>0.56</td>\n",
              "      <td>0.84</td>\n",
              "    </tr>\n",
              "    <tr>\n",
              "      <th>rank</th>\n",
              "      <td>0.21</td>\n",
              "      <td>0.65</td>\n",
              "      <td>0.62</td>\n",
              "    </tr>\n",
              "    <tr>\n",
              "      <th rowspan=\"2\" valign=\"top\">Gender</th>\n",
              "      <th>km</th>\n",
              "      <td>3.40</td>\n",
              "      <td>0.07</td>\n",
              "      <td>3.94</td>\n",
              "    </tr>\n",
              "    <tr>\n",
              "      <th>rank</th>\n",
              "      <td>1.62</td>\n",
              "      <td>0.20</td>\n",
              "      <td>2.30</td>\n",
              "    </tr>\n",
              "    <tr>\n",
              "      <th rowspan=\"2\" valign=\"top\">High_Costs_Pricing</th>\n",
              "      <th>km</th>\n",
              "      <td>0.17</td>\n",
              "      <td>0.68</td>\n",
              "      <td>0.55</td>\n",
              "    </tr>\n",
              "    <tr>\n",
              "      <th>rank</th>\n",
              "      <td>0.46</td>\n",
              "      <td>0.50</td>\n",
              "      <td>1.01</td>\n",
              "    </tr>\n",
              "    <tr>\n",
              "      <th rowspan=\"2\" valign=\"top\">Mobile_Data_Internet</th>\n",
              "      <th>km</th>\n",
              "      <td>3.23</td>\n",
              "      <td>0.07</td>\n",
              "      <td>3.79</td>\n",
              "    </tr>\n",
              "    <tr>\n",
              "      <th>rank</th>\n",
              "      <td>2.46</td>\n",
              "      <td>0.12</td>\n",
              "      <td>3.10</td>\n",
              "    </tr>\n",
              "    <tr>\n",
              "      <th rowspan=\"2\" valign=\"top\">Monthly_Data_Usage</th>\n",
              "      <th>km</th>\n",
              "      <td>3.37</td>\n",
              "      <td>0.07</td>\n",
              "      <td>3.92</td>\n",
              "    </tr>\n",
              "    <tr>\n",
              "      <th>rank</th>\n",
              "      <td>2.09</td>\n",
              "      <td>0.15</td>\n",
              "      <td>2.76</td>\n",
              "    </tr>\n",
              "    <tr>\n",
              "      <th rowspan=\"2\" valign=\"top\">Multiple_Networks</th>\n",
              "      <th>km</th>\n",
              "      <td>0.51</td>\n",
              "      <td>0.47</td>\n",
              "      <td>1.08</td>\n",
              "    </tr>\n",
              "    <tr>\n",
              "      <th>rank</th>\n",
              "      <td>0.38</td>\n",
              "      <td>0.54</td>\n",
              "      <td>0.89</td>\n",
              "    </tr>\n",
              "    <tr>\n",
              "      <th rowspan=\"2\" valign=\"top\">Network_Strength</th>\n",
              "      <th>km</th>\n",
              "      <td>0.98</td>\n",
              "      <td>0.32</td>\n",
              "      <td>1.63</td>\n",
              "    </tr>\n",
              "    <tr>\n",
              "      <th>rank</th>\n",
              "      <td>0.65</td>\n",
              "      <td>0.42</td>\n",
              "      <td>1.25</td>\n",
              "    </tr>\n",
              "    <tr>\n",
              "      <th rowspan=\"2\" valign=\"top\">Poor_Network_Quality_Coverage</th>\n",
              "      <th>km</th>\n",
              "      <td>1.36</td>\n",
              "      <td>0.24</td>\n",
              "      <td>2.04</td>\n",
              "    </tr>\n",
              "    <tr>\n",
              "      <th>rank</th>\n",
              "      <td>4.24</td>\n",
              "      <td>0.04</td>\n",
              "      <td>4.67</td>\n",
              "    </tr>\n",
              "    <tr>\n",
              "      <th rowspan=\"2\" valign=\"top\">Residence</th>\n",
              "      <th>km</th>\n",
              "      <td>0.48</td>\n",
              "      <td>0.49</td>\n",
              "      <td>1.03</td>\n",
              "    </tr>\n",
              "    <tr>\n",
              "      <th>rank</th>\n",
              "      <td>0.03</td>\n",
              "      <td>0.86</td>\n",
              "      <td>0.22</td>\n",
              "    </tr>\n",
              "    <tr>\n",
              "      <th rowspan=\"2\" valign=\"top\">SMS_Text_Messaging</th>\n",
              "      <th>km</th>\n",
              "      <td>0.24</td>\n",
              "      <td>0.63</td>\n",
              "      <td>0.67</td>\n",
              "    </tr>\n",
              "    <tr>\n",
              "      <th>rank</th>\n",
              "      <td>0.04</td>\n",
              "      <td>0.85</td>\n",
              "      <td>0.24</td>\n",
              "    </tr>\n",
              "    <tr>\n",
              "      <th rowspan=\"2\" valign=\"top\">Unsatisfactory_Customer_Service</th>\n",
              "      <th>km</th>\n",
              "      <td>0.14</td>\n",
              "      <td>0.71</td>\n",
              "      <td>0.49</td>\n",
              "    </tr>\n",
              "    <tr>\n",
              "      <th>rank</th>\n",
              "      <td>0.13</td>\n",
              "      <td>0.72</td>\n",
              "      <td>0.47</td>\n",
              "    </tr>\n",
              "    <tr>\n",
              "      <th rowspan=\"2\" valign=\"top\">Usage_Freq</th>\n",
              "      <th>km</th>\n",
              "      <td>0.03</td>\n",
              "      <td>0.86</td>\n",
              "      <td>0.22</td>\n",
              "    </tr>\n",
              "    <tr>\n",
              "      <th>rank</th>\n",
              "      <td>0.93</td>\n",
              "      <td>0.34</td>\n",
              "      <td>1.57</td>\n",
              "    </tr>\n",
              "    <tr>\n",
              "      <th rowspan=\"2\" valign=\"top\">Voice_Calls</th>\n",
              "      <th>km</th>\n",
              "      <td>0.72</td>\n",
              "      <td>0.40</td>\n",
              "      <td>1.33</td>\n",
              "    </tr>\n",
              "    <tr>\n",
              "      <th>rank</th>\n",
              "      <td>1.44</td>\n",
              "      <td>0.23</td>\n",
              "      <td>2.12</td>\n",
              "    </tr>\n",
              "  </tbody>\n",
              "</table>"
            ],
            "text/latex": [
              "\\begin{tabular}{llrrr}\n",
              " &  & test_statistic & p & -log2(p) \\\\\n",
              "\\multirow[c]{2}{*}{Data_Exhaustion} & km & 0.34 & 0.56 & 0.84 \\\\\n",
              " & rank & 0.21 & 0.65 & 0.62 \\\\\n",
              "\\multirow[c]{2}{*}{Gender} & km & 3.40 & 0.07 & 3.94 \\\\\n",
              " & rank & 1.62 & 0.20 & 2.30 \\\\\n",
              "\\multirow[c]{2}{*}{High_Costs_Pricing} & km & 0.17 & 0.68 & 0.55 \\\\\n",
              " & rank & 0.46 & 0.50 & 1.01 \\\\\n",
              "\\multirow[c]{2}{*}{Mobile_Data_Internet} & km & 3.23 & 0.07 & 3.79 \\\\\n",
              " & rank & 2.46 & 0.12 & 3.10 \\\\\n",
              "\\multirow[c]{2}{*}{Monthly_Data_Usage} & km & 3.37 & 0.07 & 3.92 \\\\\n",
              " & rank & 2.09 & 0.15 & 2.76 \\\\\n",
              "\\multirow[c]{2}{*}{Multiple_Networks} & km & 0.51 & 0.47 & 1.08 \\\\\n",
              " & rank & 0.38 & 0.54 & 0.89 \\\\\n",
              "\\multirow[c]{2}{*}{Network_Strength} & km & 0.98 & 0.32 & 1.63 \\\\\n",
              " & rank & 0.65 & 0.42 & 1.25 \\\\\n",
              "\\multirow[c]{2}{*}{Poor_Network_Quality_Coverage} & km & 1.36 & 0.24 & 2.04 \\\\\n",
              " & rank & 4.24 & 0.04 & 4.67 \\\\\n",
              "\\multirow[c]{2}{*}{Residence} & km & 0.48 & 0.49 & 1.03 \\\\\n",
              " & rank & 0.03 & 0.86 & 0.22 \\\\\n",
              "\\multirow[c]{2}{*}{SMS_Text_Messaging} & km & 0.24 & 0.63 & 0.67 \\\\\n",
              " & rank & 0.04 & 0.85 & 0.24 \\\\\n",
              "\\multirow[c]{2}{*}{Unsatisfactory_Customer_Service} & km & 0.14 & 0.71 & 0.49 \\\\\n",
              " & rank & 0.13 & 0.72 & 0.47 \\\\\n",
              "\\multirow[c]{2}{*}{Usage_Freq} & km & 0.03 & 0.86 & 0.22 \\\\\n",
              " & rank & 0.93 & 0.34 & 1.57 \\\\\n",
              "\\multirow[c]{2}{*}{Voice_Calls} & km & 0.72 & 0.40 & 1.33 \\\\\n",
              " & rank & 1.44 & 0.23 & 2.12 \\\\\n",
              "\\end{tabular}\n"
            ],
            "text/plain": [
              "<lifelines.StatisticalResult: proportional_hazard_test>\n",
              " null_distribution = chi squared\n",
              "degrees_of_freedom = 1\n",
              "             model = <lifelines.CoxPHFitter: fitted with 338 total observations, 316 right-censored observations>\n",
              "         test_name = proportional_hazard_test\n",
              "\n",
              "---\n",
              "                                      test_statistic    p  -log2(p)\n",
              "Data_Exhaustion                 km              0.34 0.56      0.84\n",
              "                                rank            0.21 0.65      0.62\n",
              "Gender                          km              3.40 0.07      3.94\n",
              "                                rank            1.62 0.20      2.30\n",
              "High_Costs_Pricing              km              0.17 0.68      0.55\n",
              "                                rank            0.46 0.50      1.01\n",
              "Mobile_Data_Internet            km              3.23 0.07      3.79\n",
              "                                rank            2.46 0.12      3.10\n",
              "Monthly_Data_Usage              km              3.37 0.07      3.92\n",
              "                                rank            2.09 0.15      2.76\n",
              "Multiple_Networks               km              0.51 0.47      1.08\n",
              "                                rank            0.38 0.54      0.89\n",
              "Network_Strength                km              0.98 0.32      1.63\n",
              "                                rank            0.65 0.42      1.25\n",
              "Poor_Network_Quality_Coverage   km              1.36 0.24      2.04\n",
              "                                rank            4.24 0.04      4.67\n",
              "Residence                       km              0.48 0.49      1.03\n",
              "                                rank            0.03 0.86      0.22\n",
              "SMS_Text_Messaging              km              0.24 0.63      0.67\n",
              "                                rank            0.04 0.85      0.24\n",
              "Unsatisfactory_Customer_Service km              0.14 0.71      0.49\n",
              "                                rank            0.13 0.72      0.47\n",
              "Usage_Freq                      km              0.03 0.86      0.22\n",
              "                                rank            0.93 0.34      1.57\n",
              "Voice_Calls                     km              0.72 0.40      1.33\n",
              "                                rank            1.44 0.23      2.12"
            ]
          },
          "metadata": {},
          "output_type": "display_data"
        },
        {
          "name": "stdout",
          "output_type": "stream",
          "text": [
            "\n",
            "\n",
            "1. Variable 'Poor_Network_Quality_Coverage' failed the non-proportional test: p-value is 0.0394.\n",
            "\n",
            "   Advice: with so few unique values (only 2), you can include\n",
            "`strata=['Poor_Network_Quality_Coverage', ...]` in the call in `.fit`. See documentation in link [E]\n",
            "below.\n",
            "\n",
            "---\n",
            "[A]  https://lifelines.readthedocs.io/en/latest/jupyter_notebooks/Proportional%20hazard%20assumption.html\n",
            "[B]  https://lifelines.readthedocs.io/en/latest/jupyter_notebooks/Proportional%20hazard%20assumption.html#Bin-variable-and-stratify-on-it\n",
            "[C]  https://lifelines.readthedocs.io/en/latest/jupyter_notebooks/Proportional%20hazard%20assumption.html#Introduce-time-varying-covariates\n",
            "[D]  https://lifelines.readthedocs.io/en/latest/jupyter_notebooks/Proportional%20hazard%20assumption.html#Modify-the-functional-form\n",
            "[E]  https://lifelines.readthedocs.io/en/latest/jupyter_notebooks/Proportional%20hazard%20assumption.html#Stratification\n",
            "\n"
          ]
        },
        {
          "data": {
            "text/plain": [
              "[]"
            ]
          },
          "execution_count": 26,
          "metadata": {},
          "output_type": "execute_result"
        }
      ],
      "source": [
        "# Check proportional hazards assumption\n",
        "cph.check_assumptions(data, p_value_threshold=0.05)\n",
        "\n",
        "# Interpretation and validation\n",
        "# (This will involve checking the summary output, coefficients, and assumption checks)\n"
      ]
    },
    {
      "cell_type": "code",
      "execution_count": 27,
      "metadata": {
        "colab": {
          "base_uri": "https://localhost:8080/"
        },
        "id": "cOA_ryCyu3q6",
        "outputId": "07db1d5b-6883-4ac5-ef96-2ff7179cd434"
      },
      "outputs": [
        {
          "name": "stdout",
          "output_type": "stream",
          "text": [
            "Model Comparison Metrics:\n",
            "                  Model         AIC         BIC  Hanna-Quinn\n",
            "0      WeibullAFTFitter  182.568721  187.779061    32.486525\n",
            "1    LogNormalAFTFitter  175.138211  180.348551    32.486525\n",
            "2  LogLogisticAFTFitter  176.518119  181.728460    32.486525\n",
            "\n",
            "The AFT model with the lowest AIC is: LogNormalAFTFitter\n",
            "The AFT model with the lowest BIC is: LogNormalAFTFitter\n",
            "The AFT model with the lowest Hanna-Quinn is: WeibullAFTFitter\n"
          ]
        }
      ],
      "source": [
        "import pandas as pd\n",
        "from lifelines import WeibullAFTFitter, LogNormalAFTFitter, LogLogisticAFTFitter\n",
        "import numpy as np\n",
        "\n",
        "# Sample data\n",
        "data = pd.DataFrame({\n",
        "    'Churn_Level': np.random.exponential(1, 100),\n",
        "    'Churn': np.random.randint(0, 2, 100)\n",
        "})\n",
        "\n",
        "# Instantiate each AFT fitter\n",
        "weibull_aft = WeibullAFTFitter()\n",
        "lognormal_aft = LogNormalAFTFitter()\n",
        "loglogistic_aft = LogLogisticAFTFitter()\n",
        "\n",
        "# Fit to data and collect AIC, BIC, and Hanna-Quinn values\n",
        "aft_metrics = {}\n",
        "for model in [weibull_aft, lognormal_aft, loglogistic_aft]:\n",
        "    model.fit(data, duration_col='Churn_Level', event_col='Churn')\n",
        "    aic = model.AIC_\n",
        "    bic = model.BIC_  # You can get BIC directly from lifelines\n",
        "    n = len(data)\n",
        "    k = len(model.params_)\n",
        "\n",
        "    # Hanna-Quinn criterion calculation\n",
        "    hqc = np.log(n) * k * np.log(np.log(n)) + 2 * k * np.log(n)\n",
        "\n",
        "    aft_metrics[model.__class__.__name__] = {\n",
        "        'AIC': aic,\n",
        "        'BIC': bic,\n",
        "        'Hanna-Quinn': hqc\n",
        "    }\n",
        "\n",
        "# Create a DataFrame from the metrics\n",
        "metrics_df = pd.DataFrame(aft_metrics).T\n",
        "metrics_df.index.name = 'Model'\n",
        "metrics_df = metrics_df.reset_index()\n",
        "\n",
        "print(\"Model Comparison Metrics:\")\n",
        "print(metrics_df)\n",
        "\n",
        "# Find the model with the lowest AIC, BIC, and Hanna-Quinn\n",
        "best_aft_model_aic = metrics_df.loc[metrics_df['AIC'].idxmin(), 'Model']\n",
        "best_aft_model_bic = metrics_df.loc[metrics_df['BIC'].idxmin(), 'Model']\n",
        "best_aft_model_hqc = metrics_df.loc[metrics_df['Hanna-Quinn'].idxmin(), 'Model']\n",
        "\n",
        "print(f\"\\nThe AFT model with the lowest AIC is: {best_aft_model_aic}\")\n",
        "print(f\"The AFT model with the lowest BIC is: {best_aft_model_bic}\")\n",
        "print(f\"The AFT model with the lowest Hanna-Quinn is: {best_aft_model_hqc}\")\n"
      ]
    },
    {
      "cell_type": "code",
      "execution_count": 28,
      "metadata": {
        "colab": {
          "base_uri": "https://localhost:8080/",
          "height": 550
        },
        "id": "YzDn1bNtu3q6",
        "outputId": "b79a5f33-9017-48c0-e578-e28d7d6335b9"
      },
      "outputs": [
        {
          "data": {
            "image/png": "[encoded data removed]",
            "text/plain": [
              "<Figure size 1000x600 with 1 Axes>"
            ]
          },
          "metadata": {},
          "output_type": "display_data"
        }
      ],
      "source": [
        "from lifelines import  WeibullFitter\n",
        "\n",
        "\n",
        "# Fit the Weibull model\n",
        "wf = WeibullFitter()\n",
        "wf.fit(durations=data['Churn_Level'], event_observed=data['Churn'])\n",
        "\n",
        "# Plot the survival functions of both models\n",
        "plt.figure(figsize=(10, 6))\n",
        "wf.plot_survival_function(label='Weibull')\n",
        "plt.xlabel('Time (Level)')\n",
        "plt.ylabel('Survival Probability')\n",
        "plt.legend()\n",
        "plt.show()\n"
      ]
    },
    {
      "cell_type": "code",
      "execution_count": 29,
      "metadata": {
        "id": "33STX3fzu3q7"
      },
      "outputs": [],
      "source": [
        "# # Lognormal model summary\n",
        "# lnf.print_summary()\n",
        "\n",
        "# # Weibull model summary\n",
        "# wf.print_summary()\n",
        "\n",
        "# # Goodness-of-fit metrics\n",
        "# lnf_aic = lnf.AIC_\n",
        "# wf_aic = wf.AIC_\n",
        "\n",
        "# lnf_aic, wf_aic\n"
      ]
    },
    {
      "cell_type": "code",
      "execution_count": 30,
      "metadata": {
        "id": "pnn8T-_Fu3q7"
      },
      "outputs": [],
      "source": [
        "# # Get the AIC value of the Cox PH model\n",
        "# cox_aic = cph.AIC_partial_\n",
        "\n",
        "# # AIC values of all models\n",
        "# aic_values = {\n",
        "#     'Cox PH': cox_aic,\n",
        "#     'Lognormal': lnf.AIC_,\n",
        "#     'Weibull': wf.AIC_\n",
        "# }\n",
        "\n",
        "# aic_values\n"
      ]
    },
    {
      "cell_type": "code",
      "execution_count": 31,
      "metadata": {
        "id": "smPQl-rsu3q7"
      },
      "outputs": [],
      "source": [
        "# cox_cindex"
      ]
    },
    {
      "cell_type": "code",
      "execution_count": 32,
      "metadata": {
        "id": "HOnw--bwu3q7"
      },
      "outputs": [],
      "source": [
        "# from lifelines.utils import concordance_index\n",
        "\n",
        "# # Ensure 'Level' and 'Churn' columns are 1-dimensional\n",
        "# level = data['Level'].values.flatten()\n",
        "# churn = data['Churn'].values.flatten()\n",
        "\n",
        "# # Calculate the C-index for Cox PH model\n",
        "# cox_predictions = -cph.predict_partial_hazard(data).values.flatten()\n",
        "# cox_cindex = concordance_index(level, cox_predictions, churn)\n",
        "\n",
        "# # Calculate the C-index for Lognormal model\n",
        "# lognormal_predictions = -lnf.predict(data[['Level']]).values.flatten()\n",
        "# lognormal_cindex = concordance_index(level, lognormal_predictions, churn)\n",
        "\n",
        "# # Calculate the C-index for Weibull model\n",
        "# weibull_predictions = -wf.predict(data[['Level']]).values.flatten()\n",
        "# weibull_cindex = concordance_index(level, weibull_predictions, churn)\n",
        "\n",
        "# cox_cindex, lognormal_cindex, weibull_cindex\n"
      ]
    },
    {
      "cell_type": "code",
      "execution_count": 33,
      "metadata": {
        "id": "RxYwXj_Ju3q7"
      },
      "outputs": [],
      "source": [
        "# print(f\"Level shape: {level.shape}\")\n",
        "# print(f\"Churn shape: {churn.shape}\")\n",
        "# print(f\"Cox Predictions shape: {cox_predictions.shape}\")\n",
        "# print(f\"Lognormal Predictions shape: {lognormal_predictions.shape}\")\n",
        "# print(f\"Weibull Predictions shape: {weibull_predictions.shape}\")\n"
      ]
    },
    {
      "cell_type": "code",
      "execution_count": null,
      "metadata": {
        "id": "ufCO5-Otu3q9"
      },
      "outputs": [],
      "source": []
    },
    {
      "cell_type": "code",
      "execution_count": null,
      "metadata": {
        "id": "YMWzAHTmu3q9"
      },
      "outputs": [],
      "source": []
    }
  ],
  "metadata": {
    "accelerator": "GPU",
    "colab": {
      "gpuType": "T4",
      "provenance": []
    },
    "kernelspec": {
      "display_name": "Python 3",
      "name": "python3"
    },
    "language_info": {
      "codemirror_mode": {
        "name": "ipython",
        "version": 3
      },
      "file_extension": ".py",
      "mimetype": "text/x-python",
      "name": "python",
      "nbconvert_exporter": "python",
      "pygments_lexer": "ipython3",
      "version": "3.11.9"
    }
  },
  "nbformat": 4,
  "nbformat_minor": 0
}
