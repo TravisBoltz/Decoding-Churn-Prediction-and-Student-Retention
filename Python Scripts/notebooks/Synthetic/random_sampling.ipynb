{
 "cells": [
  {
   "cell_type": "code",
   "execution_count": 1,
   "metadata": {},
   "outputs": [],
   "source": [
    "#%pip install random-survival-forest\n",
    "#%pip install scikit-survival"
   ]
  },
  {
   "cell_type": "code",
   "execution_count": null,
   "metadata": {},
   "outputs": [],
   "source": []
  },
  {
   "cell_type": "code",
   "execution_count": 2,
   "metadata": {},
   "outputs": [],
   "source": [
    "import pandas as pd\n",
    "data = pd.read_csv('encoded_values_2.csv')\n",
    "import seaborn as sns\n",
    "from sklearn.preprocessing import LabelEncoder\n",
    "import numpy as np\n",
    "import plotly.graph_objects as go\n",
    "from plotly.subplots import make_subplots\n",
    "import plotly.express as px #for histogram\n",
    "sns.set(style=\"whitegrid\")"
   ]
  },
  {
   "cell_type": "code",
   "execution_count": 3,
   "metadata": {},
   "outputs": [],
   "source": [
    "import random\n",
    "import pandas as pd\n",
    "from lifelines import CoxPHFitter, KaplanMeierFitter\n",
    "\n",
    "np.random.seed(45)\n",
    "# Define lists for different fields\n",
    "genders = ['Male', 'Female']\n",
    "churns = ['Yes', 'No']\n",
    "residences = ['Off-campus', 'On-campus']\n",
    "usage_frequency = ['Daily', 'Several times a week', 'Occasionally', 'Rarely', 'Never']\n",
    "network_strength = [1, 2, 3, 4, 5]\n",
    "services_used = ['Voice Calls', 'Mobile data/Internet', 'SMS/Text messaging']\n",
    "data_allowance_exhaustion = ['Yes', 'No']\n",
    "other_networks = ['Yes', 'No']\n",
    "considered_discontinuing = ['Yes', 'No']\n",
    "reasons_for_discontinuing = ['Poor network quality/coverage', 'Insufficient data allowance', 'Unsatisfactory customer service', 'High costs/pricing']\n",
    "monthly_data = ['0-2', '2-4', '4-6', '6-8', '8 and more']\n",
    "\n",
    "# Define a function to generate synthetic responses\n",
    "def generate_responses(num_responses):\n",
    "    responses = []\n",
    "    for _ in range(num_responses):\n",
    "        gender = random.choices(genders, weights=[0.34, 0.66], k=1)[0]\n",
    "        churn = random.choices(churns, weights=[0.05, 0.95], k=1)[0]\n",
    "        residence = random.choices(residences, weights=[0.83, 0.17], k=1)[0]\n",
    "        usage_frequency_value = random.choices(usage_frequency, weights=[0.494, 0.16, 0.21, 0.049, 0.086], k=1)[0]\n",
    "        network_strength_value = random.choices(network_strength, weights=[0.25, 0.247, 0.333, 0.086, 0.025], k=1)[0]\n",
    "        voice_calls_value = random.choices(['Yes', 'No'], weights=[0.815, 0.185], k=1)[0]\n",
    "        mobile_data_internet_value = random.choices(['Yes', 'No'], weights=[0.865, 0.135], k=1)[0]\n",
    "        sms_text_messaging_value = random.choices(['Yes', 'No'], weights=[0.51, 0.48], k=1)[0]\n",
    "        data_allowance_exhaustion_value = random.choices(data_allowance_exhaustion, weights=[0.827, 0.173], k=1)[0]\n",
    "        other_networks_values = random.choices(other_networks, weights=[0.90, 0.1], k=1)[0]\n",
    "        # considered_discontinuing_value = random.choices(considered_discontinuing, weights=[0.84, 0.16], k=1)[0]\n",
    "        monthly_data_usage = random.choices(monthly_data, weights=[0.05, 0.1, 0.05, 0.1, 0.7], k=1)[0]\n",
    "\n",
    "        # poor_network_quality_coverage = 'Yes' if churn == 'No' else random.choices(['Yes', 'No'], weights=[0.704, 0.296], k=1)[0]\n",
    "        # # insufficient_data_allowance = 'Yes' if churn == 'No' else random.choices(['Yes', 'No'], weights=[0.3, 0.7], k=1)[0]\n",
    "        # unsatisfactory_customer_service = 'Yes' if churn == 'No' else random.choices(['Yes', 'No'], weights=[0.39, 0.61], k=1)[0]\n",
    "        # high_costs_pricing = 'Yes' if churn == 'No' else random.choices(['Yes', 'No'], weights=[0.545, 0.455], k=1)[0]\n",
    "        poor_network_quality_coverage = random.choices(['Yes', 'No'], weights=[0.704, 0.296], k=1)[0]\n",
    "        # insufficient_data_allowance = random.choices(['Yes', 'No'], weights=[0.3, 0.7], k=1)[0]\n",
    "        unsatisfactory_customer_service = random.choices(['Yes', 'No'], weights=[0.39, 0.61], k=1)[0]\n",
    "        high_costs_pricing = random.choices(['Yes', 'No'], weights=[0.545, 0.455], k=1)[0]\n",
    "\n",
    "\n",
    "\n",
    "        # Determine churn level\n",
    "        churn_level = random.randint(1, 3) if churn == 'Yes' else 4\n",
    "\n",
    "        responses.append([gender, churn, residence, usage_frequency_value, network_strength_value, voice_calls_value, mobile_data_internet_value, sms_text_messaging_value, data_allowance_exhaustion_value, other_networks_values, poor_network_quality_coverage, unsatisfactory_customer_service, high_costs_pricing, monthly_data_usage, churn_level])\n",
    "\n",
    "    return responses\n",
    "\n",
    "# Generate synthetic responses for a sample size of 338\n",
    "sample_size = 338\n",
    "responses = generate_responses(sample_size)\n",
    "\n",
    "# Create a DataFrame from the synthetic responses\n",
    "columns = ['Gender' ,'Churn', 'Residence', 'Usage_Freq', 'Network_Strength', 'Voice_Calls', 'Mobile_Data_Internet', 'SMS_Text_Messaging', 'Data_Exhaustion','Multiple_Networks', 'Poor_Network_Quality_Coverage', 'Unsatisfactory_Customer_Service', 'High_Costs_Pricing', 'Monthly_Data_Usage', 'Churn_Level']\n",
    "\n",
    "data = pd.DataFrame(responses, columns=columns)\n",
    "\n",
    "# Display the DataFrame\n",
    "(data.head())\n",
    "\n",
    "# Optional: Save the synthetic responses to a CSV file\n",
    "data.to_csv('sampleData.csv', index=False)\n"
   ]
  },
  {
   "cell_type": "code",
   "execution_count": 4,
   "metadata": {},
   "outputs": [],
   "source": [
    "# import random\n",
    "# import pandas as pd\n",
    "# from lifelines import CoxPHFitter, KaplanMeierFitter\n",
    "\n",
    "# np.random.seed(45)\n",
    "# # Define lists for different fields\n",
    "# genders = ['Male', 'Female']\n",
    "# churns = ['Yes', 'No']\n",
    "# residences = ['Off-campus', 'On-campus']\n",
    "# usage_frequency = ['Daily', 'Several times a week', 'Occasionally', 'Rarely', 'Never']\n",
    "# network_strength = [1, 2, 3, 4, 5]\n",
    "# services_used = ['Voice Calls', 'Mobile data/Internet', 'SMS/Text messaging']\n",
    "# data_allowance_exhaustion = ['Yes', 'No']\n",
    "# other_networks = ['Yes', 'No']\n",
    "# considered_discontinuing = ['Yes', 'No']\n",
    "# reasons_for_discontinuing = ['Poor network quality/coverage', 'Insufficient data allowance', 'Unsatisfactory customer service', 'High costs/pricing']\n",
    "# monthly_data = ['0-2', '2-4', '4-6', '6-8', '8 and more']\n",
    "\n",
    "# # Define a function to generate synthetic responses\n",
    "# def generate_responses(num_responses):\n",
    "#     responses = []\n",
    "#     for _ in range(num_responses):\n",
    "#         gender = random.choices(genders, weights=[0.442, 0.558], k=1)[0]\n",
    "#         churn = random.choices(churns, weights=[0.05, 0.95], k=1)[0]\n",
    "#         residence = random.choices(residences, weights=[0.679, 0.321], k=1)[0]\n",
    "#         usage_frequency_value = random.choices(usage_frequency, weights=[0.494, 0.16, 0.21, 0.049, 0.086], k=1)[0]\n",
    "#         network_strength_value = random.choices(network_strength, weights=[0.25, 0.247, 0.333, 0.086, 0.025], k=1)[0]\n",
    "#         voice_calls_value = random.choices(['Yes', 'No'], weights=[0.815, 0.185], k=1)[0]\n",
    "#         mobile_data_internet_value = random.choices(['Yes', 'No'], weights=[0.84, 0.16], k=1)[0]\n",
    "#         sms_text_messaging_value = random.choices(['Yes', 'No'], weights=[0.51, 0.48], k=1)[0]\n",
    "#         data_allowance_exhaustion_value = random.choices(data_allowance_exhaustion, weights=[0.827, 0.173], k=1)[0]\n",
    "#         other_networks_values = random.choices(other_networks, weights=[0.938, 0.062], k=1)[0]\n",
    "#         considered_discontinuing_value = random.choices(considered_discontinuing, weights=[0.84, 0.16], k=1)[0]\n",
    "#         monthly_data_usage = random.choices(monthly_data, weights=[0.05, 0.1, 0.15, 0.2, 0.5], k=1)[0]\n",
    "\n",
    "#         # poor_network_quality_coverage = 'Yes' if churn == 'No' else random.choices(['Yes', 'No'], weights=[0.704, 0.296], k=1)[0]\n",
    "#         # # insufficient_data_allowance = 'Yes' if churn == 'No' else random.choices(['Yes', 'No'], weights=[0.3, 0.7], k=1)[0]\n",
    "#         # unsatisfactory_customer_service = 'Yes' if churn == 'No' else random.choices(['Yes', 'No'], weights=[0.39, 0.61], k=1)[0]\n",
    "#         # high_costs_pricing = 'Yes' if churn == 'No' else random.choices(['Yes', 'No'], weights=[0.545, 0.455], k=1)[0]\n",
    "#         poor_network_quality_coverage = random.choices(['Yes', 'No'], weights=[0.704, 0.296], k=1)[0]\n",
    "#         # insufficient_data_allowance = random.choices(['Yes', 'No'], weights=[0.3, 0.7], k=1)[0]\n",
    "#         unsatisfactory_customer_service = random.choices(['Yes', 'No'], weights=[0.39, 0.61], k=1)[0]\n",
    "#         high_costs_pricing = random.choices(['Yes', 'No'], weights=[0.545, 0.455], k=1)[0]\n",
    "\n",
    "\n",
    "\n",
    "#         # Determine churn level\n",
    "#         churn_level = random.randint(1, 3) if churn == 'Yes' else 4\n",
    "\n",
    "#         responses.append([gender, churn, residence, usage_frequency_value, network_strength_value, voice_calls_value, mobile_data_internet_value, sms_text_messaging_value, data_allowance_exhaustion_value, other_networks_values, poor_network_quality_coverage, unsatisfactory_customer_service, high_costs_pricing, monthly_data_usage, churn_level])\n",
    "\n",
    "#     return responses\n",
    "\n",
    "# # Generate synthetic responses for a sample size of 338\n",
    "# sample_size = 338\n",
    "# responses = generate_responses(sample_size)\n",
    "\n",
    "# # Create a DataFrame from the synthetic responses\n",
    "# columns = ['Gender' ,'Churn', 'Residence', 'Usage_Freq', 'Network_Strength', 'Voice_Calls', 'Mobile_Data_Internet', 'SMS_Text_Messaging', 'Data_Exhaustion','Multiple_Networks', 'Poor_Network_Quality_Coverage', 'Unsatisfactory_Customer_Service', 'High_Costs_Pricing', 'Monthly_Data_Usage', 'Churn_Level']\n",
    "\n",
    "# data = pd.DataFrame(responses, columns=columns)\n",
    "\n",
    "# # Display the DataFrame\n",
    "# (data.head())\n",
    "\n",
    "# # Optional: Save the synthetic responses to a CSV file\n",
    "# data.to_csv('sampleData.csv', index=False)\n"
   ]
  },
  {
   "cell_type": "code",
   "execution_count": 5,
   "metadata": {},
   "outputs": [],
   "source": [
    "# from ydata_profiling import ProfileReport\n",
    "\n",
    "# ProfileReport(data, title=\"Profiling Report\")"
   ]
  },
  {
   "cell_type": "code",
   "execution_count": 6,
   "metadata": {},
   "outputs": [
    {
     "data": {
      "text/html": [
       "<div>\n",
       "<style scoped>\n",
       "    .dataframe tbody tr th:only-of-type {\n",
       "        vertical-align: middle;\n",
       "    }\n",
       "\n",
       "    .dataframe tbody tr th {\n",
       "        vertical-align: top;\n",
       "    }\n",
       "\n",
       "    .dataframe thead th {\n",
       "        text-align: right;\n",
       "    }\n",
       "</style>\n",
       "<table border=\"1\" class=\"dataframe\">\n",
       "  <thead>\n",
       "    <tr style=\"text-align: right;\">\n",
       "      <th></th>\n",
       "      <th>Network_Strength</th>\n",
       "      <th>Churn_Level</th>\n",
       "    </tr>\n",
       "  </thead>\n",
       "  <tbody>\n",
       "    <tr>\n",
       "      <th>count</th>\n",
       "      <td>338.000000</td>\n",
       "      <td>338.000000</td>\n",
       "    </tr>\n",
       "    <tr>\n",
       "      <th>mean</th>\n",
       "      <td>2.349112</td>\n",
       "      <td>3.872781</td>\n",
       "    </tr>\n",
       "    <tr>\n",
       "      <th>std</th>\n",
       "      <td>1.028964</td>\n",
       "      <td>0.554265</td>\n",
       "    </tr>\n",
       "    <tr>\n",
       "      <th>min</th>\n",
       "      <td>1.000000</td>\n",
       "      <td>1.000000</td>\n",
       "    </tr>\n",
       "    <tr>\n",
       "      <th>25%</th>\n",
       "      <td>1.000000</td>\n",
       "      <td>4.000000</td>\n",
       "    </tr>\n",
       "    <tr>\n",
       "      <th>50%</th>\n",
       "      <td>2.000000</td>\n",
       "      <td>4.000000</td>\n",
       "    </tr>\n",
       "    <tr>\n",
       "      <th>75%</th>\n",
       "      <td>3.000000</td>\n",
       "      <td>4.000000</td>\n",
       "    </tr>\n",
       "    <tr>\n",
       "      <th>max</th>\n",
       "      <td>5.000000</td>\n",
       "      <td>4.000000</td>\n",
       "    </tr>\n",
       "  </tbody>\n",
       "</table>\n",
       "</div>"
      ],
      "text/plain": [
       "       Network_Strength  Churn_Level\n",
       "count        338.000000   338.000000\n",
       "mean           2.349112     3.872781\n",
       "std            1.028964     0.554265\n",
       "min            1.000000     1.000000\n",
       "25%            1.000000     4.000000\n",
       "50%            2.000000     4.000000\n",
       "75%            3.000000     4.000000\n",
       "max            5.000000     4.000000"
      ]
     },
     "execution_count": 6,
     "metadata": {},
     "output_type": "execute_result"
    }
   ],
   "source": [
    "data.describe()"
   ]
  },
  {
   "cell_type": "code",
   "execution_count": 7,
   "metadata": {},
   "outputs": [
    {
     "data": {
      "text/html": [
       "<div>\n",
       "<style scoped>\n",
       "    .dataframe tbody tr th:only-of-type {\n",
       "        vertical-align: middle;\n",
       "    }\n",
       "\n",
       "    .dataframe tbody tr th {\n",
       "        vertical-align: top;\n",
       "    }\n",
       "\n",
       "    .dataframe thead th {\n",
       "        text-align: right;\n",
       "    }\n",
       "</style>\n",
       "<table border=\"1\" class=\"dataframe\">\n",
       "  <thead>\n",
       "    <tr style=\"text-align: right;\">\n",
       "      <th></th>\n",
       "      <th>Gender</th>\n",
       "      <th>Churn</th>\n",
       "      <th>Residence</th>\n",
       "      <th>Usage_Freq</th>\n",
       "      <th>Voice_Calls</th>\n",
       "      <th>Mobile_Data_Internet</th>\n",
       "      <th>SMS_Text_Messaging</th>\n",
       "      <th>Data_Exhaustion</th>\n",
       "      <th>Multiple_Networks</th>\n",
       "      <th>Poor_Network_Quality_Coverage</th>\n",
       "      <th>Unsatisfactory_Customer_Service</th>\n",
       "      <th>High_Costs_Pricing</th>\n",
       "      <th>Monthly_Data_Usage</th>\n",
       "    </tr>\n",
       "  </thead>\n",
       "  <tbody>\n",
       "    <tr>\n",
       "      <th>count</th>\n",
       "      <td>338</td>\n",
       "      <td>338</td>\n",
       "      <td>338</td>\n",
       "      <td>338</td>\n",
       "      <td>338</td>\n",
       "      <td>338</td>\n",
       "      <td>338</td>\n",
       "      <td>338</td>\n",
       "      <td>338</td>\n",
       "      <td>338</td>\n",
       "      <td>338</td>\n",
       "      <td>338</td>\n",
       "      <td>338</td>\n",
       "    </tr>\n",
       "    <tr>\n",
       "      <th>unique</th>\n",
       "      <td>2</td>\n",
       "      <td>2</td>\n",
       "      <td>2</td>\n",
       "      <td>5</td>\n",
       "      <td>2</td>\n",
       "      <td>2</td>\n",
       "      <td>2</td>\n",
       "      <td>2</td>\n",
       "      <td>2</td>\n",
       "      <td>2</td>\n",
       "      <td>2</td>\n",
       "      <td>2</td>\n",
       "      <td>5</td>\n",
       "    </tr>\n",
       "    <tr>\n",
       "      <th>top</th>\n",
       "      <td>Female</td>\n",
       "      <td>No</td>\n",
       "      <td>Off-campus</td>\n",
       "      <td>Daily</td>\n",
       "      <td>Yes</td>\n",
       "      <td>Yes</td>\n",
       "      <td>Yes</td>\n",
       "      <td>Yes</td>\n",
       "      <td>Yes</td>\n",
       "      <td>Yes</td>\n",
       "      <td>No</td>\n",
       "      <td>No</td>\n",
       "      <td>8 and more</td>\n",
       "    </tr>\n",
       "    <tr>\n",
       "      <th>freq</th>\n",
       "      <td>230</td>\n",
       "      <td>318</td>\n",
       "      <td>287</td>\n",
       "      <td>174</td>\n",
       "      <td>282</td>\n",
       "      <td>300</td>\n",
       "      <td>184</td>\n",
       "      <td>269</td>\n",
       "      <td>308</td>\n",
       "      <td>240</td>\n",
       "      <td>197</td>\n",
       "      <td>172</td>\n",
       "      <td>245</td>\n",
       "    </tr>\n",
       "  </tbody>\n",
       "</table>\n",
       "</div>"
      ],
      "text/plain": [
       "        Gender Churn   Residence Usage_Freq Voice_Calls Mobile_Data_Internet  \\\n",
       "count      338   338         338        338         338                  338   \n",
       "unique       2     2           2          5           2                    2   \n",
       "top     Female    No  Off-campus      Daily         Yes                  Yes   \n",
       "freq       230   318         287        174         282                  300   \n",
       "\n",
       "       SMS_Text_Messaging Data_Exhaustion Multiple_Networks  \\\n",
       "count                 338             338               338   \n",
       "unique                  2               2                 2   \n",
       "top                   Yes             Yes               Yes   \n",
       "freq                  184             269               308   \n",
       "\n",
       "       Poor_Network_Quality_Coverage Unsatisfactory_Customer_Service  \\\n",
       "count                            338                             338   \n",
       "unique                             2                               2   \n",
       "top                              Yes                              No   \n",
       "freq                             240                             197   \n",
       "\n",
       "       High_Costs_Pricing Monthly_Data_Usage  \n",
       "count                 338                338  \n",
       "unique                  2                  5  \n",
       "top                    No         8 and more  \n",
       "freq                  172                245  "
      ]
     },
     "execution_count": 7,
     "metadata": {},
     "output_type": "execute_result"
    }
   ],
   "source": [
    "data.describe(include=[\"object\", \"bool\"]) # For non-numeric\n"
   ]
  },
  {
   "cell_type": "code",
   "execution_count": 8,
   "metadata": {},
   "outputs": [
    {
     "data": {
      "text/plain": [
       "Gender                             0\n",
       "Churn                              0\n",
       "Residence                          0\n",
       "Usage_Freq                         0\n",
       "Network_Strength                   0\n",
       "Voice_Calls                        0\n",
       "Mobile_Data_Internet               0\n",
       "SMS_Text_Messaging                 0\n",
       "Data_Exhaustion                    0\n",
       "Multiple_Networks                  0\n",
       "Poor_Network_Quality_Coverage      0\n",
       "Unsatisfactory_Customer_Service    0\n",
       "High_Costs_Pricing                 0\n",
       "Monthly_Data_Usage                 0\n",
       "Churn_Level                        0\n",
       "dtype: int64"
      ]
     },
     "execution_count": 8,
     "metadata": {},
     "output_type": "execute_result"
    }
   ],
   "source": [
    "# Check for missing values\n",
    "missing_values = data.isnull().sum()\n",
    "\n",
    "# Check data types\n",
    "data_types = data.dtypes\n",
    "\n",
    "missing_values\n"
   ]
  },
  {
   "cell_type": "code",
   "execution_count": 9,
   "metadata": {},
   "outputs": [
    {
     "data": {
      "text/html": [
       "<div>\n",
       "<style scoped>\n",
       "    .dataframe tbody tr th:only-of-type {\n",
       "        vertical-align: middle;\n",
       "    }\n",
       "\n",
       "    .dataframe tbody tr th {\n",
       "        vertical-align: top;\n",
       "    }\n",
       "\n",
       "    .dataframe thead th {\n",
       "        text-align: right;\n",
       "    }\n",
       "</style>\n",
       "<table border=\"1\" class=\"dataframe\">\n",
       "  <thead>\n",
       "    <tr style=\"text-align: right;\">\n",
       "      <th>Gender</th>\n",
       "      <th>Female</th>\n",
       "      <th>Male</th>\n",
       "      <th>All</th>\n",
       "    </tr>\n",
       "    <tr>\n",
       "      <th>Churn</th>\n",
       "      <th></th>\n",
       "      <th></th>\n",
       "      <th></th>\n",
       "    </tr>\n",
       "  </thead>\n",
       "  <tbody>\n",
       "    <tr>\n",
       "      <th>No</th>\n",
       "      <td>212</td>\n",
       "      <td>106</td>\n",
       "      <td>318</td>\n",
       "    </tr>\n",
       "    <tr>\n",
       "      <th>Yes</th>\n",
       "      <td>18</td>\n",
       "      <td>2</td>\n",
       "      <td>20</td>\n",
       "    </tr>\n",
       "    <tr>\n",
       "      <th>All</th>\n",
       "      <td>230</td>\n",
       "      <td>108</td>\n",
       "      <td>338</td>\n",
       "    </tr>\n",
       "  </tbody>\n",
       "</table>\n",
       "</div>"
      ],
      "text/plain": [
       "Gender  Female  Male  All\n",
       "Churn                    \n",
       "No         212   106  318\n",
       "Yes         18     2   20\n",
       "All        230   108  338"
      ]
     },
     "execution_count": 9,
     "metadata": {},
     "output_type": "execute_result"
    }
   ],
   "source": [
    "\n",
    "pd.crosstab(data[\"Churn\"], data[\"Gender\"], margins=True)\n"
   ]
  },
  {
   "cell_type": "code",
   "execution_count": 10,
   "metadata": {},
   "outputs": [
    {
     "data": {
      "application/vnd.plotly.v1+json": {
       "config": {
        "plotlyServerURL": "https://plot.ly"
       },
       "data": [
        {
         "alignmentgroup": "True",
         "bingroup": "x",
         "hovertemplate": "Residence=Off-campus<br>Churn=%{x}<br>count=%{y}<extra></extra>",
         "legendgroup": "Off-campus",
         "marker": {
          "color": "#00cc96",
          "pattern": {
           "shape": ""
          }
         },
         "name": "Off-campus",
         "offsetgroup": "Off-campus",
         "orientation": "v",
         "showlegend": true,
         "type": "histogram",
         "x": [
          "No",
          "Yes",
          "No",
          "No",
          "No",
          "No",
          "No",
          "No",
          "No",
          "No",
          "No",
          "No",
          "No",
          "No",
          "No",
          "No",
          "No",
          "No",
          "No",
          "No",
          "No",
          "No",
          "No",
          "No",
          "No",
          "No",
          "No",
          "No",
          "No",
          "No",
          "No",
          "No",
          "No",
          "No",
          "No",
          "No",
          "No",
          "No",
          "No",
          "No",
          "Yes",
          "No",
          "No",
          "No",
          "No",
          "No",
          "No",
          "No",
          "No",
          "No",
          "No",
          "No",
          "No",
          "No",
          "No",
          "No",
          "No",
          "No",
          "No",
          "No",
          "Yes",
          "No",
          "No",
          "No",
          "No",
          "No",
          "No",
          "No",
          "No",
          "No",
          "No",
          "No",
          "No",
          "No",
          "No",
          "No",
          "No",
          "No",
          "No",
          "No",
          "No",
          "No",
          "No",
          "No",
          "No",
          "No",
          "No",
          "No",
          "No",
          "No",
          "No",
          "No",
          "No",
          "No",
          "No",
          "No",
          "No",
          "No",
          "No",
          "No",
          "No",
          "No",
          "No",
          "No",
          "No",
          "No",
          "No",
          "No",
          "No",
          "No",
          "No",
          "No",
          "No",
          "No",
          "No",
          "Yes",
          "No",
          "No",
          "No",
          "No",
          "No",
          "No",
          "No",
          "No",
          "No",
          "No",
          "No",
          "No",
          "No",
          "No",
          "No",
          "Yes",
          "No",
          "No",
          "No",
          "No",
          "No",
          "No",
          "No",
          "No",
          "No",
          "No",
          "No",
          "No",
          "No",
          "No",
          "No",
          "No",
          "No",
          "No",
          "No",
          "No",
          "No",
          "No",
          "No",
          "No",
          "No",
          "No",
          "No",
          "No",
          "No",
          "No",
          "No",
          "No",
          "No",
          "No",
          "No",
          "No",
          "No",
          "No",
          "No",
          "No",
          "No",
          "No",
          "No",
          "No",
          "No",
          "Yes",
          "No",
          "No",
          "No",
          "No",
          "Yes",
          "Yes",
          "No",
          "Yes",
          "No",
          "Yes",
          "No",
          "No",
          "No",
          "No",
          "No",
          "No",
          "No",
          "No",
          "No",
          "No",
          "No",
          "No",
          "No",
          "No",
          "No",
          "No",
          "No",
          "No",
          "No",
          "No",
          "Yes",
          "No",
          "No",
          "No",
          "No",
          "No",
          "No",
          "No",
          "No",
          "No",
          "No",
          "No",
          "No",
          "No",
          "No",
          "No",
          "No",
          "No",
          "No",
          "No",
          "No",
          "No",
          "No",
          "No",
          "No",
          "No",
          "No",
          "No",
          "No",
          "No",
          "No",
          "No",
          "No",
          "No",
          "No",
          "No",
          "No",
          "No",
          "No",
          "No",
          "No",
          "No",
          "No",
          "No",
          "No",
          "No",
          "No",
          "No",
          "No",
          "No",
          "No",
          "No",
          "No",
          "No",
          "No",
          "No",
          "No",
          "No",
          "Yes",
          "No",
          "No",
          "No",
          "No",
          "No",
          "No",
          "No",
          "No",
          "No",
          "Yes",
          "No",
          "Yes",
          "No",
          "No",
          "No",
          "No",
          "No",
          "No",
          "No",
          "No"
         ],
         "xaxis": "x",
         "yaxis": "y"
        },
        {
         "alignmentgroup": "True",
         "bingroup": "x",
         "hovertemplate": "Residence=On-campus<br>Churn=%{x}<br>count=%{y}<extra></extra>",
         "legendgroup": "On-campus",
         "marker": {
          "color": "#ab63fa",
          "pattern": {
           "shape": ""
          }
         },
         "name": "On-campus",
         "offsetgroup": "On-campus",
         "orientation": "v",
         "showlegend": true,
         "type": "histogram",
         "x": [
          "No",
          "No",
          "No",
          "No",
          "No",
          "No",
          "No",
          "No",
          "No",
          "No",
          "No",
          "No",
          "No",
          "Yes",
          "No",
          "No",
          "No",
          "Yes",
          "No",
          "No",
          "No",
          "No",
          "No",
          "Yes",
          "No",
          "No",
          "No",
          "No",
          "No",
          "No",
          "No",
          "No",
          "No",
          "No",
          "No",
          "No",
          "No",
          "No",
          "No",
          "No",
          "Yes",
          "No",
          "No",
          "No",
          "No",
          "Yes",
          "No",
          "Yes",
          "No",
          "No",
          "No"
         ],
         "xaxis": "x",
         "yaxis": "y"
        }
       ],
       "layout": {
        "bargap": 0.1,
        "barmode": "relative",
        "height": 500,
        "legend": {
         "title": {
          "text": "Residence"
         },
         "tracegroupgap": 0
        },
        "template": {
         "data": {
          "bar": [
           {
            "error_x": {
             "color": "#2a3f5f"
            },
            "error_y": {
             "color": "#2a3f5f"
            },
            "marker": {
             "line": {
              "color": "#E5ECF6",
              "width": 0.5
             },
             "pattern": {
              "fillmode": "overlay",
              "size": 10,
              "solidity": 0.2
             }
            },
            "type": "bar"
           }
          ],
          "barpolar": [
           {
            "marker": {
             "line": {
              "color": "#E5ECF6",
              "width": 0.5
             },
             "pattern": {
              "fillmode": "overlay",
              "size": 10,
              "solidity": 0.2
             }
            },
            "type": "barpolar"
           }
          ],
          "carpet": [
           {
            "aaxis": {
             "endlinecolor": "#2a3f5f",
             "gridcolor": "white",
             "linecolor": "white",
             "minorgridcolor": "white",
             "startlinecolor": "#2a3f5f"
            },
            "baxis": {
             "endlinecolor": "#2a3f5f",
             "gridcolor": "white",
             "linecolor": "white",
             "minorgridcolor": "white",
             "startlinecolor": "#2a3f5f"
            },
            "type": "carpet"
           }
          ],
          "choropleth": [
           {
            "colorbar": {
             "outlinewidth": 0,
             "ticks": ""
            },
            "type": "choropleth"
           }
          ],
          "contour": [
           {
            "colorbar": {
             "outlinewidth": 0,
             "ticks": ""
            },
            "colorscale": [
             [
              0,
              "#0d0887"
             ],
             [
              0.1111111111111111,
              "#46039f"
             ],
             [
              0.2222222222222222,
              "#7201a8"
             ],
             [
              0.3333333333333333,
              "#9c179e"
             ],
             [
              0.4444444444444444,
              "#bd3786"
             ],
             [
              0.5555555555555556,
              "#d8576b"
             ],
             [
              0.6666666666666666,
              "#ed7953"
             ],
             [
              0.7777777777777778,
              "#fb9f3a"
             ],
             [
              0.8888888888888888,
              "#fdca26"
             ],
             [
              1,
              "#f0f921"
             ]
            ],
            "type": "contour"
           }
          ],
          "contourcarpet": [
           {
            "colorbar": {
             "outlinewidth": 0,
             "ticks": ""
            },
            "type": "contourcarpet"
           }
          ],
          "heatmap": [
           {
            "colorbar": {
             "outlinewidth": 0,
             "ticks": ""
            },
            "colorscale": [
             [
              0,
              "#0d0887"
             ],
             [
              0.1111111111111111,
              "#46039f"
             ],
             [
              0.2222222222222222,
              "#7201a8"
             ],
             [
              0.3333333333333333,
              "#9c179e"
             ],
             [
              0.4444444444444444,
              "#bd3786"
             ],
             [
              0.5555555555555556,
              "#d8576b"
             ],
             [
              0.6666666666666666,
              "#ed7953"
             ],
             [
              0.7777777777777778,
              "#fb9f3a"
             ],
             [
              0.8888888888888888,
              "#fdca26"
             ],
             [
              1,
              "#f0f921"
             ]
            ],
            "type": "heatmap"
           }
          ],
          "heatmapgl": [
           {
            "colorbar": {
             "outlinewidth": 0,
             "ticks": ""
            },
            "colorscale": [
             [
              0,
              "#0d0887"
             ],
             [
              0.1111111111111111,
              "#46039f"
             ],
             [
              0.2222222222222222,
              "#7201a8"
             ],
             [
              0.3333333333333333,
              "#9c179e"
             ],
             [
              0.4444444444444444,
              "#bd3786"
             ],
             [
              0.5555555555555556,
              "#d8576b"
             ],
             [
              0.6666666666666666,
              "#ed7953"
             ],
             [
              0.7777777777777778,
              "#fb9f3a"
             ],
             [
              0.8888888888888888,
              "#fdca26"
             ],
             [
              1,
              "#f0f921"
             ]
            ],
            "type": "heatmapgl"
           }
          ],
          "histogram": [
           {
            "marker": {
             "pattern": {
              "fillmode": "overlay",
              "size": 10,
              "solidity": 0.2
             }
            },
            "type": "histogram"
           }
          ],
          "histogram2d": [
           {
            "colorbar": {
             "outlinewidth": 0,
             "ticks": ""
            },
            "colorscale": [
             [
              0,
              "#0d0887"
             ],
             [
              0.1111111111111111,
              "#46039f"
             ],
             [
              0.2222222222222222,
              "#7201a8"
             ],
             [
              0.3333333333333333,
              "#9c179e"
             ],
             [
              0.4444444444444444,
              "#bd3786"
             ],
             [
              0.5555555555555556,
              "#d8576b"
             ],
             [
              0.6666666666666666,
              "#ed7953"
             ],
             [
              0.7777777777777778,
              "#fb9f3a"
             ],
             [
              0.8888888888888888,
              "#fdca26"
             ],
             [
              1,
              "#f0f921"
             ]
            ],
            "type": "histogram2d"
           }
          ],
          "histogram2dcontour": [
           {
            "colorbar": {
             "outlinewidth": 0,
             "ticks": ""
            },
            "colorscale": [
             [
              0,
              "#0d0887"
             ],
             [
              0.1111111111111111,
              "#46039f"
             ],
             [
              0.2222222222222222,
              "#7201a8"
             ],
             [
              0.3333333333333333,
              "#9c179e"
             ],
             [
              0.4444444444444444,
              "#bd3786"
             ],
             [
              0.5555555555555556,
              "#d8576b"
             ],
             [
              0.6666666666666666,
              "#ed7953"
             ],
             [
              0.7777777777777778,
              "#fb9f3a"
             ],
             [
              0.8888888888888888,
              "#fdca26"
             ],
             [
              1,
              "#f0f921"
             ]
            ],
            "type": "histogram2dcontour"
           }
          ],
          "mesh3d": [
           {
            "colorbar": {
             "outlinewidth": 0,
             "ticks": ""
            },
            "type": "mesh3d"
           }
          ],
          "parcoords": [
           {
            "line": {
             "colorbar": {
              "outlinewidth": 0,
              "ticks": ""
             }
            },
            "type": "parcoords"
           }
          ],
          "pie": [
           {
            "automargin": true,
            "type": "pie"
           }
          ],
          "scatter": [
           {
            "fillpattern": {
             "fillmode": "overlay",
             "size": 10,
             "solidity": 0.2
            },
            "type": "scatter"
           }
          ],
          "scatter3d": [
           {
            "line": {
             "colorbar": {
              "outlinewidth": 0,
              "ticks": ""
             }
            },
            "marker": {
             "colorbar": {
              "outlinewidth": 0,
              "ticks": ""
             }
            },
            "type": "scatter3d"
           }
          ],
          "scattercarpet": [
           {
            "marker": {
             "colorbar": {
              "outlinewidth": 0,
              "ticks": ""
             }
            },
            "type": "scattercarpet"
           }
          ],
          "scattergeo": [
           {
            "marker": {
             "colorbar": {
              "outlinewidth": 0,
              "ticks": ""
             }
            },
            "type": "scattergeo"
           }
          ],
          "scattergl": [
           {
            "marker": {
             "colorbar": {
              "outlinewidth": 0,
              "ticks": ""
             }
            },
            "type": "scattergl"
           }
          ],
          "scattermapbox": [
           {
            "marker": {
             "colorbar": {
              "outlinewidth": 0,
              "ticks": ""
             }
            },
            "type": "scattermapbox"
           }
          ],
          "scatterpolar": [
           {
            "marker": {
             "colorbar": {
              "outlinewidth": 0,
              "ticks": ""
             }
            },
            "type": "scatterpolar"
           }
          ],
          "scatterpolargl": [
           {
            "marker": {
             "colorbar": {
              "outlinewidth": 0,
              "ticks": ""
             }
            },
            "type": "scatterpolargl"
           }
          ],
          "scatterternary": [
           {
            "marker": {
             "colorbar": {
              "outlinewidth": 0,
              "ticks": ""
             }
            },
            "type": "scatterternary"
           }
          ],
          "surface": [
           {
            "colorbar": {
             "outlinewidth": 0,
             "ticks": ""
            },
            "colorscale": [
             [
              0,
              "#0d0887"
             ],
             [
              0.1111111111111111,
              "#46039f"
             ],
             [
              0.2222222222222222,
              "#7201a8"
             ],
             [
              0.3333333333333333,
              "#9c179e"
             ],
             [
              0.4444444444444444,
              "#bd3786"
             ],
             [
              0.5555555555555556,
              "#d8576b"
             ],
             [
              0.6666666666666666,
              "#ed7953"
             ],
             [
              0.7777777777777778,
              "#fb9f3a"
             ],
             [
              0.8888888888888888,
              "#fdca26"
             ],
             [
              1,
              "#f0f921"
             ]
            ],
            "type": "surface"
           }
          ],
          "table": [
           {
            "cells": {
             "fill": {
              "color": "#EBF0F8"
             },
             "line": {
              "color": "white"
             }
            },
            "header": {
             "fill": {
              "color": "#C8D4E3"
             },
             "line": {
              "color": "white"
             }
            },
            "type": "table"
           }
          ]
         },
         "layout": {
          "annotationdefaults": {
           "arrowcolor": "#2a3f5f",
           "arrowhead": 0,
           "arrowwidth": 1
          },
          "autotypenumbers": "strict",
          "coloraxis": {
           "colorbar": {
            "outlinewidth": 0,
            "ticks": ""
           }
          },
          "colorscale": {
           "diverging": [
            [
             0,
             "#8e0152"
            ],
            [
             0.1,
             "#c51b7d"
            ],
            [
             0.2,
             "#de77ae"
            ],
            [
             0.3,
             "#f1b6da"
            ],
            [
             0.4,
             "#fde0ef"
            ],
            [
             0.5,
             "#f7f7f7"
            ],
            [
             0.6,
             "#e6f5d0"
            ],
            [
             0.7,
             "#b8e186"
            ],
            [
             0.8,
             "#7fbc41"
            ],
            [
             0.9,
             "#4d9221"
            ],
            [
             1,
             "#276419"
            ]
           ],
           "sequential": [
            [
             0,
             "#0d0887"
            ],
            [
             0.1111111111111111,
             "#46039f"
            ],
            [
             0.2222222222222222,
             "#7201a8"
            ],
            [
             0.3333333333333333,
             "#9c179e"
            ],
            [
             0.4444444444444444,
             "#bd3786"
            ],
            [
             0.5555555555555556,
             "#d8576b"
            ],
            [
             0.6666666666666666,
             "#ed7953"
            ],
            [
             0.7777777777777778,
             "#fb9f3a"
            ],
            [
             0.8888888888888888,
             "#fdca26"
            ],
            [
             1,
             "#f0f921"
            ]
           ],
           "sequentialminus": [
            [
             0,
             "#0d0887"
            ],
            [
             0.1111111111111111,
             "#46039f"
            ],
            [
             0.2222222222222222,
             "#7201a8"
            ],
            [
             0.3333333333333333,
             "#9c179e"
            ],
            [
             0.4444444444444444,
             "#bd3786"
            ],
            [
             0.5555555555555556,
             "#d8576b"
            ],
            [
             0.6666666666666666,
             "#ed7953"
            ],
            [
             0.7777777777777778,
             "#fb9f3a"
            ],
            [
             0.8888888888888888,
             "#fdca26"
            ],
            [
             1,
             "#f0f921"
            ]
           ]
          },
          "colorway": [
           "#636efa",
           "#EF553B",
           "#00cc96",
           "#ab63fa",
           "#FFA15A",
           "#19d3f3",
           "#FF6692",
           "#B6E880",
           "#FF97FF",
           "#FECB52"
          ],
          "font": {
           "color": "#2a3f5f"
          },
          "geo": {
           "bgcolor": "white",
           "lakecolor": "white",
           "landcolor": "#E5ECF6",
           "showlakes": true,
           "showland": true,
           "subunitcolor": "white"
          },
          "hoverlabel": {
           "align": "left"
          },
          "hovermode": "closest",
          "mapbox": {
           "style": "light"
          },
          "paper_bgcolor": "white",
          "plot_bgcolor": "#E5ECF6",
          "polar": {
           "angularaxis": {
            "gridcolor": "white",
            "linecolor": "white",
            "ticks": ""
           },
           "bgcolor": "#E5ECF6",
           "radialaxis": {
            "gridcolor": "white",
            "linecolor": "white",
            "ticks": ""
           }
          },
          "scene": {
           "xaxis": {
            "backgroundcolor": "#E5ECF6",
            "gridcolor": "white",
            "gridwidth": 2,
            "linecolor": "white",
            "showbackground": true,
            "ticks": "",
            "zerolinecolor": "white"
           },
           "yaxis": {
            "backgroundcolor": "#E5ECF6",
            "gridcolor": "white",
            "gridwidth": 2,
            "linecolor": "white",
            "showbackground": true,
            "ticks": "",
            "zerolinecolor": "white"
           },
           "zaxis": {
            "backgroundcolor": "#E5ECF6",
            "gridcolor": "white",
            "gridwidth": 2,
            "linecolor": "white",
            "showbackground": true,
            "ticks": "",
            "zerolinecolor": "white"
           }
          },
          "shapedefaults": {
           "line": {
            "color": "#2a3f5f"
           }
          },
          "ternary": {
           "aaxis": {
            "gridcolor": "white",
            "linecolor": "white",
            "ticks": ""
           },
           "baxis": {
            "gridcolor": "white",
            "linecolor": "white",
            "ticks": ""
           },
           "bgcolor": "#E5ECF6",
           "caxis": {
            "gridcolor": "white",
            "linecolor": "white",
            "ticks": ""
           }
          },
          "title": {
           "x": 0.05
          },
          "xaxis": {
           "automargin": true,
           "gridcolor": "white",
           "linecolor": "white",
           "ticks": "",
           "title": {
            "standoff": 15
           },
           "zerolinecolor": "white",
           "zerolinewidth": 2
          },
          "yaxis": {
           "automargin": true,
           "gridcolor": "white",
           "linecolor": "white",
           "ticks": "",
           "title": {
            "standoff": 15
           },
           "zerolinecolor": "white",
           "zerolinewidth": 2
          }
         }
        },
        "title": {
         "text": "<b>Churn distribution by Residence</b>"
        },
        "width": 700,
        "xaxis": {
         "anchor": "y",
         "domain": [
          0,
          1
         ],
         "title": {
          "text": "Churn"
         }
        },
        "yaxis": {
         "anchor": "x",
         "domain": [
          0,
          1
         ],
         "title": {
          "text": "count"
         }
        }
       }
      }
     },
     "metadata": {},
     "output_type": "display_data"
    }
   ],
   "source": [
    "\n",
    "color_map = {\"Yes\": '#FFA15A', \"No\": '#00CC96'}\n",
    "fig = px.histogram(data, x=\"Churn\", color=\"Residence\",  title=\"<b>Churn distribution by Residence</b>\", color_discrete_map=color_map)\n",
    "fig.update_layout(width=700, height=500, bargap=0.1)\n",
    "fig.show()"
   ]
  },
  {
   "cell_type": "code",
   "execution_count": 11,
   "metadata": {},
   "outputs": [
    {
     "data": {
      "application/vnd.plotly.v1+json": {
       "config": {
        "plotlyServerURL": "https://plot.ly"
       },
       "data": [
        {
         "domain": {
          "x": [
           0,
           0.45
          ],
          "y": [
           0,
           1
          ]
         },
         "hole": 0.4,
         "hoverinfo": "label+percent+name",
         "labels": [
          "Male",
          "Female"
         ],
         "name": "Gender",
         "textfont": {
          "size": 16
         },
         "type": "pie",
         "values": [
          230,
          108
         ]
        },
        {
         "domain": {
          "x": [
           0.55,
           1
          ],
          "y": [
           0,
           1
          ]
         },
         "hole": 0.4,
         "hoverinfo": "label+percent+name",
         "labels": [
          "No",
          "Yes"
         ],
         "name": "Churn",
         "textfont": {
          "size": 16
         },
         "type": "pie",
         "values": [
          318,
          20
         ]
        }
       ],
       "layout": {
        "annotations": [
         {
          "font": {
           "size": 20
          },
          "showarrow": false,
          "text": "Gender",
          "x": 0.16,
          "y": 0.5
         },
         {
          "font": {
           "size": 20
          },
          "showarrow": false,
          "text": "Churn",
          "x": 0.84,
          "y": 0.5
         }
        ],
        "template": {
         "data": {
          "bar": [
           {
            "error_x": {
             "color": "#2a3f5f"
            },
            "error_y": {
             "color": "#2a3f5f"
            },
            "marker": {
             "line": {
              "color": "#E5ECF6",
              "width": 0.5
             },
             "pattern": {
              "fillmode": "overlay",
              "size": 10,
              "solidity": 0.2
             }
            },
            "type": "bar"
           }
          ],
          "barpolar": [
           {
            "marker": {
             "line": {
              "color": "#E5ECF6",
              "width": 0.5
             },
             "pattern": {
              "fillmode": "overlay",
              "size": 10,
              "solidity": 0.2
             }
            },
            "type": "barpolar"
           }
          ],
          "carpet": [
           {
            "aaxis": {
             "endlinecolor": "#2a3f5f",
             "gridcolor": "white",
             "linecolor": "white",
             "minorgridcolor": "white",
             "startlinecolor": "#2a3f5f"
            },
            "baxis": {
             "endlinecolor": "#2a3f5f",
             "gridcolor": "white",
             "linecolor": "white",
             "minorgridcolor": "white",
             "startlinecolor": "#2a3f5f"
            },
            "type": "carpet"
           }
          ],
          "choropleth": [
           {
            "colorbar": {
             "outlinewidth": 0,
             "ticks": ""
            },
            "type": "choropleth"
           }
          ],
          "contour": [
           {
            "colorbar": {
             "outlinewidth": 0,
             "ticks": ""
            },
            "colorscale": [
             [
              0,
              "#0d0887"
             ],
             [
              0.1111111111111111,
              "#46039f"
             ],
             [
              0.2222222222222222,
              "#7201a8"
             ],
             [
              0.3333333333333333,
              "#9c179e"
             ],
             [
              0.4444444444444444,
              "#bd3786"
             ],
             [
              0.5555555555555556,
              "#d8576b"
             ],
             [
              0.6666666666666666,
              "#ed7953"
             ],
             [
              0.7777777777777778,
              "#fb9f3a"
             ],
             [
              0.8888888888888888,
              "#fdca26"
             ],
             [
              1,
              "#f0f921"
             ]
            ],
            "type": "contour"
           }
          ],
          "contourcarpet": [
           {
            "colorbar": {
             "outlinewidth": 0,
             "ticks": ""
            },
            "type": "contourcarpet"
           }
          ],
          "heatmap": [
           {
            "colorbar": {
             "outlinewidth": 0,
             "ticks": ""
            },
            "colorscale": [
             [
              0,
              "#0d0887"
             ],
             [
              0.1111111111111111,
              "#46039f"
             ],
             [
              0.2222222222222222,
              "#7201a8"
             ],
             [
              0.3333333333333333,
              "#9c179e"
             ],
             [
              0.4444444444444444,
              "#bd3786"
             ],
             [
              0.5555555555555556,
              "#d8576b"
             ],
             [
              0.6666666666666666,
              "#ed7953"
             ],
             [
              0.7777777777777778,
              "#fb9f3a"
             ],
             [
              0.8888888888888888,
              "#fdca26"
             ],
             [
              1,
              "#f0f921"
             ]
            ],
            "type": "heatmap"
           }
          ],
          "heatmapgl": [
           {
            "colorbar": {
             "outlinewidth": 0,
             "ticks": ""
            },
            "colorscale": [
             [
              0,
              "#0d0887"
             ],
             [
              0.1111111111111111,
              "#46039f"
             ],
             [
              0.2222222222222222,
              "#7201a8"
             ],
             [
              0.3333333333333333,
              "#9c179e"
             ],
             [
              0.4444444444444444,
              "#bd3786"
             ],
             [
              0.5555555555555556,
              "#d8576b"
             ],
             [
              0.6666666666666666,
              "#ed7953"
             ],
             [
              0.7777777777777778,
              "#fb9f3a"
             ],
             [
              0.8888888888888888,
              "#fdca26"
             ],
             [
              1,
              "#f0f921"
             ]
            ],
            "type": "heatmapgl"
           }
          ],
          "histogram": [
           {
            "marker": {
             "pattern": {
              "fillmode": "overlay",
              "size": 10,
              "solidity": 0.2
             }
            },
            "type": "histogram"
           }
          ],
          "histogram2d": [
           {
            "colorbar": {
             "outlinewidth": 0,
             "ticks": ""
            },
            "colorscale": [
             [
              0,
              "#0d0887"
             ],
             [
              0.1111111111111111,
              "#46039f"
             ],
             [
              0.2222222222222222,
              "#7201a8"
             ],
             [
              0.3333333333333333,
              "#9c179e"
             ],
             [
              0.4444444444444444,
              "#bd3786"
             ],
             [
              0.5555555555555556,
              "#d8576b"
             ],
             [
              0.6666666666666666,
              "#ed7953"
             ],
             [
              0.7777777777777778,
              "#fb9f3a"
             ],
             [
              0.8888888888888888,
              "#fdca26"
             ],
             [
              1,
              "#f0f921"
             ]
            ],
            "type": "histogram2d"
           }
          ],
          "histogram2dcontour": [
           {
            "colorbar": {
             "outlinewidth": 0,
             "ticks": ""
            },
            "colorscale": [
             [
              0,
              "#0d0887"
             ],
             [
              0.1111111111111111,
              "#46039f"
             ],
             [
              0.2222222222222222,
              "#7201a8"
             ],
             [
              0.3333333333333333,
              "#9c179e"
             ],
             [
              0.4444444444444444,
              "#bd3786"
             ],
             [
              0.5555555555555556,
              "#d8576b"
             ],
             [
              0.6666666666666666,
              "#ed7953"
             ],
             [
              0.7777777777777778,
              "#fb9f3a"
             ],
             [
              0.8888888888888888,
              "#fdca26"
             ],
             [
              1,
              "#f0f921"
             ]
            ],
            "type": "histogram2dcontour"
           }
          ],
          "mesh3d": [
           {
            "colorbar": {
             "outlinewidth": 0,
             "ticks": ""
            },
            "type": "mesh3d"
           }
          ],
          "parcoords": [
           {
            "line": {
             "colorbar": {
              "outlinewidth": 0,
              "ticks": ""
             }
            },
            "type": "parcoords"
           }
          ],
          "pie": [
           {
            "automargin": true,
            "type": "pie"
           }
          ],
          "scatter": [
           {
            "fillpattern": {
             "fillmode": "overlay",
             "size": 10,
             "solidity": 0.2
            },
            "type": "scatter"
           }
          ],
          "scatter3d": [
           {
            "line": {
             "colorbar": {
              "outlinewidth": 0,
              "ticks": ""
             }
            },
            "marker": {
             "colorbar": {
              "outlinewidth": 0,
              "ticks": ""
             }
            },
            "type": "scatter3d"
           }
          ],
          "scattercarpet": [
           {
            "marker": {
             "colorbar": {
              "outlinewidth": 0,
              "ticks": ""
             }
            },
            "type": "scattercarpet"
           }
          ],
          "scattergeo": [
           {
            "marker": {
             "colorbar": {
              "outlinewidth": 0,
              "ticks": ""
             }
            },
            "type": "scattergeo"
           }
          ],
          "scattergl": [
           {
            "marker": {
             "colorbar": {
              "outlinewidth": 0,
              "ticks": ""
             }
            },
            "type": "scattergl"
           }
          ],
          "scattermapbox": [
           {
            "marker": {
             "colorbar": {
              "outlinewidth": 0,
              "ticks": ""
             }
            },
            "type": "scattermapbox"
           }
          ],
          "scatterpolar": [
           {
            "marker": {
             "colorbar": {
              "outlinewidth": 0,
              "ticks": ""
             }
            },
            "type": "scatterpolar"
           }
          ],
          "scatterpolargl": [
           {
            "marker": {
             "colorbar": {
              "outlinewidth": 0,
              "ticks": ""
             }
            },
            "type": "scatterpolargl"
           }
          ],
          "scatterternary": [
           {
            "marker": {
             "colorbar": {
              "outlinewidth": 0,
              "ticks": ""
             }
            },
            "type": "scatterternary"
           }
          ],
          "surface": [
           {
            "colorbar": {
             "outlinewidth": 0,
             "ticks": ""
            },
            "colorscale": [
             [
              0,
              "#0d0887"
             ],
             [
              0.1111111111111111,
              "#46039f"
             ],
             [
              0.2222222222222222,
              "#7201a8"
             ],
             [
              0.3333333333333333,
              "#9c179e"
             ],
             [
              0.4444444444444444,
              "#bd3786"
             ],
             [
              0.5555555555555556,
              "#d8576b"
             ],
             [
              0.6666666666666666,
              "#ed7953"
             ],
             [
              0.7777777777777778,
              "#fb9f3a"
             ],
             [
              0.8888888888888888,
              "#fdca26"
             ],
             [
              1,
              "#f0f921"
             ]
            ],
            "type": "surface"
           }
          ],
          "table": [
           {
            "cells": {
             "fill": {
              "color": "#EBF0F8"
             },
             "line": {
              "color": "white"
             }
            },
            "header": {
             "fill": {
              "color": "#C8D4E3"
             },
             "line": {
              "color": "white"
             }
            },
            "type": "table"
           }
          ]
         },
         "layout": {
          "annotationdefaults": {
           "arrowcolor": "#2a3f5f",
           "arrowhead": 0,
           "arrowwidth": 1
          },
          "autotypenumbers": "strict",
          "coloraxis": {
           "colorbar": {
            "outlinewidth": 0,
            "ticks": ""
           }
          },
          "colorscale": {
           "diverging": [
            [
             0,
             "#8e0152"
            ],
            [
             0.1,
             "#c51b7d"
            ],
            [
             0.2,
             "#de77ae"
            ],
            [
             0.3,
             "#f1b6da"
            ],
            [
             0.4,
             "#fde0ef"
            ],
            [
             0.5,
             "#f7f7f7"
            ],
            [
             0.6,
             "#e6f5d0"
            ],
            [
             0.7,
             "#b8e186"
            ],
            [
             0.8,
             "#7fbc41"
            ],
            [
             0.9,
             "#4d9221"
            ],
            [
             1,
             "#276419"
            ]
           ],
           "sequential": [
            [
             0,
             "#0d0887"
            ],
            [
             0.1111111111111111,
             "#46039f"
            ],
            [
             0.2222222222222222,
             "#7201a8"
            ],
            [
             0.3333333333333333,
             "#9c179e"
            ],
            [
             0.4444444444444444,
             "#bd3786"
            ],
            [
             0.5555555555555556,
             "#d8576b"
            ],
            [
             0.6666666666666666,
             "#ed7953"
            ],
            [
             0.7777777777777778,
             "#fb9f3a"
            ],
            [
             0.8888888888888888,
             "#fdca26"
            ],
            [
             1,
             "#f0f921"
            ]
           ],
           "sequentialminus": [
            [
             0,
             "#0d0887"
            ],
            [
             0.1111111111111111,
             "#46039f"
            ],
            [
             0.2222222222222222,
             "#7201a8"
            ],
            [
             0.3333333333333333,
             "#9c179e"
            ],
            [
             0.4444444444444444,
             "#bd3786"
            ],
            [
             0.5555555555555556,
             "#d8576b"
            ],
            [
             0.6666666666666666,
             "#ed7953"
            ],
            [
             0.7777777777777778,
             "#fb9f3a"
            ],
            [
             0.8888888888888888,
             "#fdca26"
            ],
            [
             1,
             "#f0f921"
            ]
           ]
          },
          "colorway": [
           "#636efa",
           "#EF553B",
           "#00cc96",
           "#ab63fa",
           "#FFA15A",
           "#19d3f3",
           "#FF6692",
           "#B6E880",
           "#FF97FF",
           "#FECB52"
          ],
          "font": {
           "color": "#2a3f5f"
          },
          "geo": {
           "bgcolor": "white",
           "lakecolor": "white",
           "landcolor": "#E5ECF6",
           "showlakes": true,
           "showland": true,
           "subunitcolor": "white"
          },
          "hoverlabel": {
           "align": "left"
          },
          "hovermode": "closest",
          "mapbox": {
           "style": "light"
          },
          "paper_bgcolor": "white",
          "plot_bgcolor": "#E5ECF6",
          "polar": {
           "angularaxis": {
            "gridcolor": "white",
            "linecolor": "white",
            "ticks": ""
           },
           "bgcolor": "#E5ECF6",
           "radialaxis": {
            "gridcolor": "white",
            "linecolor": "white",
            "ticks": ""
           }
          },
          "scene": {
           "xaxis": {
            "backgroundcolor": "#E5ECF6",
            "gridcolor": "white",
            "gridwidth": 2,
            "linecolor": "white",
            "showbackground": true,
            "ticks": "",
            "zerolinecolor": "white"
           },
           "yaxis": {
            "backgroundcolor": "#E5ECF6",
            "gridcolor": "white",
            "gridwidth": 2,
            "linecolor": "white",
            "showbackground": true,
            "ticks": "",
            "zerolinecolor": "white"
           },
           "zaxis": {
            "backgroundcolor": "#E5ECF6",
            "gridcolor": "white",
            "gridwidth": 2,
            "linecolor": "white",
            "showbackground": true,
            "ticks": "",
            "zerolinecolor": "white"
           }
          },
          "shapedefaults": {
           "line": {
            "color": "#2a3f5f"
           }
          },
          "ternary": {
           "aaxis": {
            "gridcolor": "white",
            "linecolor": "white",
            "ticks": ""
           },
           "baxis": {
            "gridcolor": "white",
            "linecolor": "white",
            "ticks": ""
           },
           "bgcolor": "#E5ECF6",
           "caxis": {
            "gridcolor": "white",
            "linecolor": "white",
            "ticks": ""
           }
          },
          "title": {
           "x": 0.05
          },
          "xaxis": {
           "automargin": true,
           "gridcolor": "white",
           "linecolor": "white",
           "ticks": "",
           "title": {
            "standoff": 15
           },
           "zerolinecolor": "white",
           "zerolinewidth": 2
          },
          "yaxis": {
           "automargin": true,
           "gridcolor": "white",
           "linecolor": "white",
           "ticks": "",
           "title": {
            "standoff": 15
           },
           "zerolinecolor": "white",
           "zerolinewidth": 2
          }
         }
        },
        "title": {
         "text": "Gender and Churn Distributions of Students"
        }
       }
      }
     },
     "metadata": {},
     "output_type": "display_data"
    }
   ],
   "source": [
    "g_labels = ['Male', 'Female']\n",
    "c_labels = ['No', 'Yes']\n",
    "# Create subplots: use 'domain' type for Pie subplot\n",
    "fig = make_subplots(rows=1, cols=2, specs=[[{'type':'domain'}, {'type':'domain'}]])\n",
    "fig.add_trace(go.Pie(labels=g_labels, values=data['Gender'].value_counts(), name=\"Gender\"),\n",
    "              1, 1)\n",
    "fig.add_trace(go.Pie(labels=c_labels, values=data['Churn'].value_counts(), name=\"Churn\"),\n",
    "              1, 2)\n",
    "\n",
    "# Use `hole` to create a donut-like pie chart\n",
    "fig.update_traces(hole=.4, hoverinfo=\"label+percent+name\", textfont_size=16)\n",
    "\n",
    "fig.update_layout(\n",
    "    title_text=\"Gender and Churn Distributions of Students\",\n",
    "    # Add annotations in the center of the donut pies.\n",
    "    annotations=[dict(text='Gender', x=0.16, y=0.5, font_size=20, showarrow=False),\n",
    "                 dict(text='Churn', x=0.84, y=0.5, font_size=20, showarrow=False)])\n",
    "fig.show()"
   ]
  },
  {
   "cell_type": "code",
   "execution_count": 12,
   "metadata": {},
   "outputs": [
    {
     "data": {
      "application/vnd.plotly.v1+json": {
       "config": {
        "plotlyServerURL": "https://plot.ly"
       },
       "data": [
        {
         "hole": 0.5,
         "labels": [
          "Occasionally",
          "Daily",
          "Several times a week",
          "Rarely",
          "Never"
         ],
         "pull": [
          0,
          0.1,
          0,
          0.1,
          0
         ],
         "textinfo": "label+percent+value",
         "textposition": "outside",
         "type": "pie",
         "values": [
          174,
          70,
          60,
          21,
          13
         ]
        }
       ],
       "layout": {
        "template": {
         "data": {
          "bar": [
           {
            "error_x": {
             "color": "#2a3f5f"
            },
            "error_y": {
             "color": "#2a3f5f"
            },
            "marker": {
             "line": {
              "color": "#E5ECF6",
              "width": 0.5
             },
             "pattern": {
              "fillmode": "overlay",
              "size": 10,
              "solidity": 0.2
             }
            },
            "type": "bar"
           }
          ],
          "barpolar": [
           {
            "marker": {
             "line": {
              "color": "#E5ECF6",
              "width": 0.5
             },
             "pattern": {
              "fillmode": "overlay",
              "size": 10,
              "solidity": 0.2
             }
            },
            "type": "barpolar"
           }
          ],
          "carpet": [
           {
            "aaxis": {
             "endlinecolor": "#2a3f5f",
             "gridcolor": "white",
             "linecolor": "white",
             "minorgridcolor": "white",
             "startlinecolor": "#2a3f5f"
            },
            "baxis": {
             "endlinecolor": "#2a3f5f",
             "gridcolor": "white",
             "linecolor": "white",
             "minorgridcolor": "white",
             "startlinecolor": "#2a3f5f"
            },
            "type": "carpet"
           }
          ],
          "choropleth": [
           {
            "colorbar": {
             "outlinewidth": 0,
             "ticks": ""
            },
            "type": "choropleth"
           }
          ],
          "contour": [
           {
            "colorbar": {
             "outlinewidth": 0,
             "ticks": ""
            },
            "colorscale": [
             [
              0,
              "#0d0887"
             ],
             [
              0.1111111111111111,
              "#46039f"
             ],
             [
              0.2222222222222222,
              "#7201a8"
             ],
             [
              0.3333333333333333,
              "#9c179e"
             ],
             [
              0.4444444444444444,
              "#bd3786"
             ],
             [
              0.5555555555555556,
              "#d8576b"
             ],
             [
              0.6666666666666666,
              "#ed7953"
             ],
             [
              0.7777777777777778,
              "#fb9f3a"
             ],
             [
              0.8888888888888888,
              "#fdca26"
             ],
             [
              1,
              "#f0f921"
             ]
            ],
            "type": "contour"
           }
          ],
          "contourcarpet": [
           {
            "colorbar": {
             "outlinewidth": 0,
             "ticks": ""
            },
            "type": "contourcarpet"
           }
          ],
          "heatmap": [
           {
            "colorbar": {
             "outlinewidth": 0,
             "ticks": ""
            },
            "colorscale": [
             [
              0,
              "#0d0887"
             ],
             [
              0.1111111111111111,
              "#46039f"
             ],
             [
              0.2222222222222222,
              "#7201a8"
             ],
             [
              0.3333333333333333,
              "#9c179e"
             ],
             [
              0.4444444444444444,
              "#bd3786"
             ],
             [
              0.5555555555555556,
              "#d8576b"
             ],
             [
              0.6666666666666666,
              "#ed7953"
             ],
             [
              0.7777777777777778,
              "#fb9f3a"
             ],
             [
              0.8888888888888888,
              "#fdca26"
             ],
             [
              1,
              "#f0f921"
             ]
            ],
            "type": "heatmap"
           }
          ],
          "heatmapgl": [
           {
            "colorbar": {
             "outlinewidth": 0,
             "ticks": ""
            },
            "colorscale": [
             [
              0,
              "#0d0887"
             ],
             [
              0.1111111111111111,
              "#46039f"
             ],
             [
              0.2222222222222222,
              "#7201a8"
             ],
             [
              0.3333333333333333,
              "#9c179e"
             ],
             [
              0.4444444444444444,
              "#bd3786"
             ],
             [
              0.5555555555555556,
              "#d8576b"
             ],
             [
              0.6666666666666666,
              "#ed7953"
             ],
             [
              0.7777777777777778,
              "#fb9f3a"
             ],
             [
              0.8888888888888888,
              "#fdca26"
             ],
             [
              1,
              "#f0f921"
             ]
            ],
            "type": "heatmapgl"
           }
          ],
          "histogram": [
           {
            "marker": {
             "pattern": {
              "fillmode": "overlay",
              "size": 10,
              "solidity": 0.2
             }
            },
            "type": "histogram"
           }
          ],
          "histogram2d": [
           {
            "colorbar": {
             "outlinewidth": 0,
             "ticks": ""
            },
            "colorscale": [
             [
              0,
              "#0d0887"
             ],
             [
              0.1111111111111111,
              "#46039f"
             ],
             [
              0.2222222222222222,
              "#7201a8"
             ],
             [
              0.3333333333333333,
              "#9c179e"
             ],
             [
              0.4444444444444444,
              "#bd3786"
             ],
             [
              0.5555555555555556,
              "#d8576b"
             ],
             [
              0.6666666666666666,
              "#ed7953"
             ],
             [
              0.7777777777777778,
              "#fb9f3a"
             ],
             [
              0.8888888888888888,
              "#fdca26"
             ],
             [
              1,
              "#f0f921"
             ]
            ],
            "type": "histogram2d"
           }
          ],
          "histogram2dcontour": [
           {
            "colorbar": {
             "outlinewidth": 0,
             "ticks": ""
            },
            "colorscale": [
             [
              0,
              "#0d0887"
             ],
             [
              0.1111111111111111,
              "#46039f"
             ],
             [
              0.2222222222222222,
              "#7201a8"
             ],
             [
              0.3333333333333333,
              "#9c179e"
             ],
             [
              0.4444444444444444,
              "#bd3786"
             ],
             [
              0.5555555555555556,
              "#d8576b"
             ],
             [
              0.6666666666666666,
              "#ed7953"
             ],
             [
              0.7777777777777778,
              "#fb9f3a"
             ],
             [
              0.8888888888888888,
              "#fdca26"
             ],
             [
              1,
              "#f0f921"
             ]
            ],
            "type": "histogram2dcontour"
           }
          ],
          "mesh3d": [
           {
            "colorbar": {
             "outlinewidth": 0,
             "ticks": ""
            },
            "type": "mesh3d"
           }
          ],
          "parcoords": [
           {
            "line": {
             "colorbar": {
              "outlinewidth": 0,
              "ticks": ""
             }
            },
            "type": "parcoords"
           }
          ],
          "pie": [
           {
            "automargin": true,
            "type": "pie"
           }
          ],
          "scatter": [
           {
            "fillpattern": {
             "fillmode": "overlay",
             "size": 10,
             "solidity": 0.2
            },
            "type": "scatter"
           }
          ],
          "scatter3d": [
           {
            "line": {
             "colorbar": {
              "outlinewidth": 0,
              "ticks": ""
             }
            },
            "marker": {
             "colorbar": {
              "outlinewidth": 0,
              "ticks": ""
             }
            },
            "type": "scatter3d"
           }
          ],
          "scattercarpet": [
           {
            "marker": {
             "colorbar": {
              "outlinewidth": 0,
              "ticks": ""
             }
            },
            "type": "scattercarpet"
           }
          ],
          "scattergeo": [
           {
            "marker": {
             "colorbar": {
              "outlinewidth": 0,
              "ticks": ""
             }
            },
            "type": "scattergeo"
           }
          ],
          "scattergl": [
           {
            "marker": {
             "colorbar": {
              "outlinewidth": 0,
              "ticks": ""
             }
            },
            "type": "scattergl"
           }
          ],
          "scattermapbox": [
           {
            "marker": {
             "colorbar": {
              "outlinewidth": 0,
              "ticks": ""
             }
            },
            "type": "scattermapbox"
           }
          ],
          "scatterpolar": [
           {
            "marker": {
             "colorbar": {
              "outlinewidth": 0,
              "ticks": ""
             }
            },
            "type": "scatterpolar"
           }
          ],
          "scatterpolargl": [
           {
            "marker": {
             "colorbar": {
              "outlinewidth": 0,
              "ticks": ""
             }
            },
            "type": "scatterpolargl"
           }
          ],
          "scatterternary": [
           {
            "marker": {
             "colorbar": {
              "outlinewidth": 0,
              "ticks": ""
             }
            },
            "type": "scatterternary"
           }
          ],
          "surface": [
           {
            "colorbar": {
             "outlinewidth": 0,
             "ticks": ""
            },
            "colorscale": [
             [
              0,
              "#0d0887"
             ],
             [
              0.1111111111111111,
              "#46039f"
             ],
             [
              0.2222222222222222,
              "#7201a8"
             ],
             [
              0.3333333333333333,
              "#9c179e"
             ],
             [
              0.4444444444444444,
              "#bd3786"
             ],
             [
              0.5555555555555556,
              "#d8576b"
             ],
             [
              0.6666666666666666,
              "#ed7953"
             ],
             [
              0.7777777777777778,
              "#fb9f3a"
             ],
             [
              0.8888888888888888,
              "#fdca26"
             ],
             [
              1,
              "#f0f921"
             ]
            ],
            "type": "surface"
           }
          ],
          "table": [
           {
            "cells": {
             "fill": {
              "color": "#EBF0F8"
             },
             "line": {
              "color": "white"
             }
            },
            "header": {
             "fill": {
              "color": "#C8D4E3"
             },
             "line": {
              "color": "white"
             }
            },
            "type": "table"
           }
          ]
         },
         "layout": {
          "annotationdefaults": {
           "arrowcolor": "#2a3f5f",
           "arrowhead": 0,
           "arrowwidth": 1
          },
          "autotypenumbers": "strict",
          "coloraxis": {
           "colorbar": {
            "outlinewidth": 0,
            "ticks": ""
           }
          },
          "colorscale": {
           "diverging": [
            [
             0,
             "#8e0152"
            ],
            [
             0.1,
             "#c51b7d"
            ],
            [
             0.2,
             "#de77ae"
            ],
            [
             0.3,
             "#f1b6da"
            ],
            [
             0.4,
             "#fde0ef"
            ],
            [
             0.5,
             "#f7f7f7"
            ],
            [
             0.6,
             "#e6f5d0"
            ],
            [
             0.7,
             "#b8e186"
            ],
            [
             0.8,
             "#7fbc41"
            ],
            [
             0.9,
             "#4d9221"
            ],
            [
             1,
             "#276419"
            ]
           ],
           "sequential": [
            [
             0,
             "#0d0887"
            ],
            [
             0.1111111111111111,
             "#46039f"
            ],
            [
             0.2222222222222222,
             "#7201a8"
            ],
            [
             0.3333333333333333,
             "#9c179e"
            ],
            [
             0.4444444444444444,
             "#bd3786"
            ],
            [
             0.5555555555555556,
             "#d8576b"
            ],
            [
             0.6666666666666666,
             "#ed7953"
            ],
            [
             0.7777777777777778,
             "#fb9f3a"
            ],
            [
             0.8888888888888888,
             "#fdca26"
            ],
            [
             1,
             "#f0f921"
            ]
           ],
           "sequentialminus": [
            [
             0,
             "#0d0887"
            ],
            [
             0.1111111111111111,
             "#46039f"
            ],
            [
             0.2222222222222222,
             "#7201a8"
            ],
            [
             0.3333333333333333,
             "#9c179e"
            ],
            [
             0.4444444444444444,
             "#bd3786"
            ],
            [
             0.5555555555555556,
             "#d8576b"
            ],
            [
             0.6666666666666666,
             "#ed7953"
            ],
            [
             0.7777777777777778,
             "#fb9f3a"
            ],
            [
             0.8888888888888888,
             "#fdca26"
            ],
            [
             1,
             "#f0f921"
            ]
           ]
          },
          "colorway": [
           "#636efa",
           "#EF553B",
           "#00cc96",
           "#ab63fa",
           "#FFA15A",
           "#19d3f3",
           "#FF6692",
           "#B6E880",
           "#FF97FF",
           "#FECB52"
          ],
          "font": {
           "color": "#2a3f5f"
          },
          "geo": {
           "bgcolor": "white",
           "lakecolor": "white",
           "landcolor": "#E5ECF6",
           "showlakes": true,
           "showland": true,
           "subunitcolor": "white"
          },
          "hoverlabel": {
           "align": "left"
          },
          "hovermode": "closest",
          "mapbox": {
           "style": "light"
          },
          "paper_bgcolor": "white",
          "plot_bgcolor": "#E5ECF6",
          "polar": {
           "angularaxis": {
            "gridcolor": "white",
            "linecolor": "white",
            "ticks": ""
           },
           "bgcolor": "#E5ECF6",
           "radialaxis": {
            "gridcolor": "white",
            "linecolor": "white",
            "ticks": ""
           }
          },
          "scene": {
           "xaxis": {
            "backgroundcolor": "#E5ECF6",
            "gridcolor": "white",
            "gridwidth": 2,
            "linecolor": "white",
            "showbackground": true,
            "ticks": "",
            "zerolinecolor": "white"
           },
           "yaxis": {
            "backgroundcolor": "#E5ECF6",
            "gridcolor": "white",
            "gridwidth": 2,
            "linecolor": "white",
            "showbackground": true,
            "ticks": "",
            "zerolinecolor": "white"
           },
           "zaxis": {
            "backgroundcolor": "#E5ECF6",
            "gridcolor": "white",
            "gridwidth": 2,
            "linecolor": "white",
            "showbackground": true,
            "ticks": "",
            "zerolinecolor": "white"
           }
          },
          "shapedefaults": {
           "line": {
            "color": "#2a3f5f"
           }
          },
          "ternary": {
           "aaxis": {
            "gridcolor": "white",
            "linecolor": "white",
            "ticks": ""
           },
           "baxis": {
            "gridcolor": "white",
            "linecolor": "white",
            "ticks": ""
           },
           "bgcolor": "#E5ECF6",
           "caxis": {
            "gridcolor": "white",
            "linecolor": "white",
            "ticks": ""
           }
          },
          "title": {
           "x": 0.05
          },
          "xaxis": {
           "automargin": true,
           "gridcolor": "white",
           "linecolor": "white",
           "ticks": "",
           "title": {
            "standoff": 15
           },
           "zerolinecolor": "white",
           "zerolinewidth": 2
          },
          "yaxis": {
           "automargin": true,
           "gridcolor": "white",
           "linecolor": "white",
           "ticks": "",
           "title": {
            "standoff": 15
           },
           "zerolinecolor": "white",
           "zerolinewidth": 2
          }
         }
        },
        "title": {
         "text": "<b>Usage Frequency Distribution</b>"
        }
       }
      }
     },
     "metadata": {},
     "output_type": "display_data"
    }
   ],
   "source": [
    "import plotly.graph_objects as go\n",
    "\n",
    "labels = data['Usage_Freq'].unique()\n",
    "values = data['Usage_Freq'].value_counts()\n",
    "\n",
    "# Define explode values; set non-zero values for the slices you want to explode\n",
    "explode = [0.1 if label in ['Rarely', 'Daily'] else 0 for label in labels]\n",
    "\n",
    "fig = go.Figure(data=[go.Pie(labels=labels, values=values, textinfo='label+percent+value',\n",
    "                             hole=.5, pull=explode,\n",
    "                             textposition='outside')])\n",
    "\n",
    "fig.update_layout(title_text=\"<b>Usage Frequency Distribution</b>\")\n",
    "\n",
    "fig.show()\n"
   ]
  },
  {
   "cell_type": "code",
   "execution_count": 13,
   "metadata": {},
   "outputs": [],
   "source": [
    "# plt.figure(figsize=(25, 10))\n",
    "# corr = data.apply(lambda x: pd.factorize(x)[0]).corr()\n",
    "# mask = np.triu(np.ones_like(corr, dtype=bool))\n",
    "# ax = sns.heatmap(corr, mask=mask, xticklabels=corr.columns, yticklabels=corr.columns, annot=True, linewidths=.2, cmap='coolwarm', vmin=-1, vmax=1)\n",
    "# # sns.heatmap(data.corr(), annot=True, fmt='.2f', cmap='coolwarm')\n"
   ]
  },
  {
   "cell_type": "code",
   "execution_count": 14,
   "metadata": {},
   "outputs": [],
   "source": [
    "# Create a DataFrame to store the encoded values\n",
    "encoded_values = pd.DataFrame(columns=['Feature', 'Category', 'Encoded Value'])\n",
    "# Get all the categorical columns\n",
    "category_feature = data.select_dtypes(include=['object']).columns\n",
    "\n",
    "# Create a LabelEncoder object\n",
    "le = LabelEncoder()\n",
    "\n",
    "# Iterate through each categorical feature\n",
    "for feature in category_feature:\n",
    "    # Fit the LabelEncoder on the current feature and transform the data\n",
    "    data[feature] = le.fit_transform(data[feature])\n",
    "\n",
    "    # Get the encoded values for the current feature\n",
    "    for category, encoded_value in zip(le.classes_, le.transform(le.classes_)):\n",
    "        # Create a temporary DataFrame to hold the current row\n",
    "        temp_df = pd.DataFrame([{'Feature': feature, 'Category': category, 'Encoded Value': encoded_value}])\n",
    "\n",
    "        # Append the temporary DataFrame to the main DataFrame\n",
    "        encoded_values = pd.concat([encoded_values, temp_df], ignore_index=True)\n"
   ]
  },
  {
   "cell_type": "code",
   "execution_count": 15,
   "metadata": {},
   "outputs": [
    {
     "data": {
      "image/png": "[encoded data removed]",
      "text/plain": [
       "<Figure size 1000x600 with 1 Axes>"
      ]
     },
     "metadata": {},
     "output_type": "display_data"
    },
    {
     "data": {
      "text/html": [
       "<div>\n",
       "<style scoped>\n",
       "    .dataframe tbody tr th:only-of-type {\n",
       "        vertical-align: middle;\n",
       "    }\n",
       "\n",
       "    .dataframe tbody tr th {\n",
       "        vertical-align: top;\n",
       "    }\n",
       "\n",
       "    .dataframe thead th {\n",
       "        text-align: right;\n",
       "    }\n",
       "</style>\n",
       "<table border=\"1\" class=\"dataframe\">\n",
       "  <thead>\n",
       "    <tr style=\"text-align: right;\">\n",
       "      <th></th>\n",
       "      <th>Event Time</th>\n",
       "      <th>Number of Individuals</th>\n",
       "      <th>Number of Events</th>\n",
       "      <th>Survival Probability</th>\n",
       "      <th>Lower CI</th>\n",
       "      <th>Upper CI</th>\n",
       "    </tr>\n",
       "  </thead>\n",
       "  <tbody>\n",
       "    <tr>\n",
       "      <th>0</th>\n",
       "      <td>0.0</td>\n",
       "      <td>338</td>\n",
       "      <td>0</td>\n",
       "      <td>1.000000</td>\n",
       "      <td>1.000000</td>\n",
       "      <td>1.000000</td>\n",
       "    </tr>\n",
       "    <tr>\n",
       "      <th>1</th>\n",
       "      <td>1.0</td>\n",
       "      <td>338</td>\n",
       "      <td>10</td>\n",
       "      <td>0.970414</td>\n",
       "      <td>0.945712</td>\n",
       "      <td>0.983971</td>\n",
       "    </tr>\n",
       "    <tr>\n",
       "      <th>2</th>\n",
       "      <td>2.0</td>\n",
       "      <td>328</td>\n",
       "      <td>3</td>\n",
       "      <td>0.961538</td>\n",
       "      <td>0.934683</td>\n",
       "      <td>0.977484</td>\n",
       "    </tr>\n",
       "    <tr>\n",
       "      <th>3</th>\n",
       "      <td>3.0</td>\n",
       "      <td>325</td>\n",
       "      <td>7</td>\n",
       "      <td>0.940828</td>\n",
       "      <td>0.909784</td>\n",
       "      <td>0.961416</td>\n",
       "    </tr>\n",
       "    <tr>\n",
       "      <th>4</th>\n",
       "      <td>4.0</td>\n",
       "      <td>318</td>\n",
       "      <td>0</td>\n",
       "      <td>0.940828</td>\n",
       "      <td>0.909784</td>\n",
       "      <td>0.961416</td>\n",
       "    </tr>\n",
       "  </tbody>\n",
       "</table>\n",
       "</div>"
      ],
      "text/plain": [
       "   Event Time  Number of Individuals  Number of Events  Survival Probability  \\\n",
       "0         0.0                    338                 0              1.000000   \n",
       "1         1.0                    338                10              0.970414   \n",
       "2         2.0                    328                 3              0.961538   \n",
       "3         3.0                    325                 7              0.940828   \n",
       "4         4.0                    318                 0              0.940828   \n",
       "\n",
       "   Lower CI  Upper CI  \n",
       "0  1.000000  1.000000  \n",
       "1  0.945712  0.983971  \n",
       "2  0.934683  0.977484  \n",
       "3  0.909784  0.961416  \n",
       "4  0.909784  0.961416  "
      ]
     },
     "execution_count": 15,
     "metadata": {},
     "output_type": "execute_result"
    }
   ],
   "source": [
    "import pandas as pd\n",
    "from lifelines import KaplanMeierFitter\n",
    "import matplotlib.pyplot as plt\n",
    "# Assuming 'data' is your dataset with columns 'Level' and 'Churn'\n",
    "\n",
    "# Fit Kaplan-Meier estimator\n",
    "kmf = KaplanMeierFitter()\n",
    "kmf.fit(data['Churn_Level'], data['Churn'])\n",
    "\n",
    "# Initial number of censored individuals\n",
    "initial_censored = 338\n",
    "\n",
    "# Calculate number of censored individuals (did not churn) at each event time\n",
    "n_individuals = len(data)\n",
    "censored_counts = [initial_censored]\n",
    "\n",
    "for i in range(1, len(kmf.timeline)):\n",
    "    churned_count = kmf.event_table.iloc[i-1]['observed']  # Number of events (churns) at current event time\n",
    "    censored_count = censored_counts[i-1] - churned_count\n",
    "    censored_counts.append(censored_count)\n",
    "\n",
    "# Extract event counts (number of churns) at each event time\n",
    "event_counts = kmf.event_table['observed'].values\n",
    "\n",
    "# Extract survival probabilities\n",
    "survival_probs = kmf.survival_function_.iloc[:, 0].values\n",
    "\n",
    "# Confidence intervals from Kaplan-Meier estimator\n",
    "confidence_intervals = kmf.confidence_interval_survival_function_\n",
    "\n",
    "# Create a DataFrame to display the information\n",
    "table_data = {\n",
    "    'Event Time': kmf.timeline,\n",
    "    'Number of Individuals': censored_counts,\n",
    "    'Number of Events': event_counts,\n",
    "\n",
    "    'Survival Probability': survival_probs,\n",
    "    'Lower CI': confidence_intervals['KM_estimate_lower_0.95'].values,\n",
    "    'Upper CI': confidence_intervals['KM_estimate_upper_0.95'].values\n",
    "}\n",
    "\n",
    "df = pd.DataFrame(table_data)\n",
    "\n",
    "\n",
    "# Plotting the survival curves using Kaplan-Meier Estimator\n",
    "plt.figure(figsize=(10, 6))\n",
    "kmf.plot_survival_function()\n",
    "plt.title('Survival curves using Kaplan-Meier Estimator')\n",
    "# Set y-axis limits\n",
    "plt.ylim(0.5, 1.06)\n",
    "\n",
    "plt.show()\n",
    "\n",
    "# Print the DataFrame\n",
    "df\n"
   ]
  },
  {
   "cell_type": "code",
   "execution_count": null,
   "metadata": {},
   "outputs": [],
   "source": []
  },
  {
   "cell_type": "code",
   "execution_count": 16,
   "metadata": {},
   "outputs": [
    {
     "data": {
      "text/html": [
       "<div>\n",
       "<style scoped>\n",
       "    .dataframe tbody tr th:only-of-type {\n",
       "        vertical-align: middle;\n",
       "    }\n",
       "\n",
       "    .dataframe tbody tr th {\n",
       "        vertical-align: top;\n",
       "    }\n",
       "\n",
       "    .dataframe thead th {\n",
       "        text-align: right;\n",
       "    }\n",
       "</style>\n",
       "<table border=\"1\" class=\"dataframe\">\n",
       "  <tbody>\n",
       "    <tr>\n",
       "      <th>model</th>\n",
       "      <td>lifelines.CoxPHFitter</td>\n",
       "    </tr>\n",
       "    <tr>\n",
       "      <th>duration col</th>\n",
       "      <td>'Churn_Level'</td>\n",
       "    </tr>\n",
       "    <tr>\n",
       "      <th>event col</th>\n",
       "      <td>'Churn'</td>\n",
       "    </tr>\n",
       "    <tr>\n",
       "      <th>baseline estimation</th>\n",
       "      <td>breslow</td>\n",
       "    </tr>\n",
       "    <tr>\n",
       "      <th>number of observations</th>\n",
       "      <td>338</td>\n",
       "    </tr>\n",
       "    <tr>\n",
       "      <th>number of events observed</th>\n",
       "      <td>20</td>\n",
       "    </tr>\n",
       "    <tr>\n",
       "      <th>partial log-likelihood</th>\n",
       "      <td>-106.60</td>\n",
       "    </tr>\n",
       "    <tr>\n",
       "      <th>time fit was run</th>\n",
       "      <td>2024-07-30 14:38:33 UTC</td>\n",
       "    </tr>\n",
       "  </tbody>\n",
       "</table>\n",
       "</div><table border=\"1\" class=\"dataframe\">\n",
       "  <thead>\n",
       "    <tr style=\"text-align: right;\">\n",
       "      <th style=\"min-width: 12px;\"></th>\n",
       "      <th style=\"min-width: 12px;\">coef</th>\n",
       "      <th style=\"min-width: 12px;\">exp(coef)</th>\n",
       "      <th style=\"min-width: 12px;\">se(coef)</th>\n",
       "      <th style=\"min-width: 12px;\">coef lower 95%</th>\n",
       "      <th style=\"min-width: 12px;\">coef upper 95%</th>\n",
       "      <th style=\"min-width: 12px;\">exp(coef) lower 95%</th>\n",
       "      <th style=\"min-width: 12px;\">exp(coef) upper 95%</th>\n",
       "      <th style=\"min-width: 12px;\">cmp to</th>\n",
       "      <th style=\"min-width: 12px;\">z</th>\n",
       "      <th style=\"min-width: 12px;\">p</th>\n",
       "      <th style=\"min-width: 12px;\">-log2(p)</th>\n",
       "    </tr>\n",
       "  </thead>\n",
       "  <tbody>\n",
       "    <tr>\n",
       "      <th>Gender</th>\n",
       "      <td>-1.37</td>\n",
       "      <td>0.25</td>\n",
       "      <td>0.76</td>\n",
       "      <td>-2.85</td>\n",
       "      <td>0.11</td>\n",
       "      <td>0.06</td>\n",
       "      <td>1.12</td>\n",
       "      <td>0.00</td>\n",
       "      <td>-1.81</td>\n",
       "      <td>0.07</td>\n",
       "      <td>3.84</td>\n",
       "    </tr>\n",
       "    <tr>\n",
       "      <th>Residence</th>\n",
       "      <td>1.07</td>\n",
       "      <td>2.91</td>\n",
       "      <td>0.53</td>\n",
       "      <td>0.03</td>\n",
       "      <td>2.11</td>\n",
       "      <td>1.03</td>\n",
       "      <td>8.24</td>\n",
       "      <td>0.00</td>\n",
       "      <td>2.01</td>\n",
       "      <td>0.04</td>\n",
       "      <td>4.48</td>\n",
       "    </tr>\n",
       "    <tr>\n",
       "      <th>Usage_Freq</th>\n",
       "      <td>0.12</td>\n",
       "      <td>1.13</td>\n",
       "      <td>0.15</td>\n",
       "      <td>-0.17</td>\n",
       "      <td>0.40</td>\n",
       "      <td>0.85</td>\n",
       "      <td>1.50</td>\n",
       "      <td>0.00</td>\n",
       "      <td>0.81</td>\n",
       "      <td>0.42</td>\n",
       "      <td>1.26</td>\n",
       "    </tr>\n",
       "    <tr>\n",
       "      <th>Network_Strength</th>\n",
       "      <td>-0.13</td>\n",
       "      <td>0.87</td>\n",
       "      <td>0.22</td>\n",
       "      <td>-0.57</td>\n",
       "      <td>0.30</td>\n",
       "      <td>0.57</td>\n",
       "      <td>1.35</td>\n",
       "      <td>0.00</td>\n",
       "      <td>-0.61</td>\n",
       "      <td>0.54</td>\n",
       "      <td>0.88</td>\n",
       "    </tr>\n",
       "    <tr>\n",
       "      <th>Voice_Calls</th>\n",
       "      <td>-0.62</td>\n",
       "      <td>0.54</td>\n",
       "      <td>0.60</td>\n",
       "      <td>-1.79</td>\n",
       "      <td>0.55</td>\n",
       "      <td>0.17</td>\n",
       "      <td>1.73</td>\n",
       "      <td>0.00</td>\n",
       "      <td>-1.04</td>\n",
       "      <td>0.30</td>\n",
       "      <td>1.75</td>\n",
       "    </tr>\n",
       "    <tr>\n",
       "      <th>Mobile_Data_Internet</th>\n",
       "      <td>-0.72</td>\n",
       "      <td>0.49</td>\n",
       "      <td>0.58</td>\n",
       "      <td>-1.86</td>\n",
       "      <td>0.42</td>\n",
       "      <td>0.15</td>\n",
       "      <td>1.52</td>\n",
       "      <td>0.00</td>\n",
       "      <td>-1.24</td>\n",
       "      <td>0.22</td>\n",
       "      <td>2.22</td>\n",
       "    </tr>\n",
       "    <tr>\n",
       "      <th>SMS_Text_Messaging</th>\n",
       "      <td>0.12</td>\n",
       "      <td>1.13</td>\n",
       "      <td>0.48</td>\n",
       "      <td>-0.81</td>\n",
       "      <td>1.05</td>\n",
       "      <td>0.44</td>\n",
       "      <td>2.87</td>\n",
       "      <td>0.00</td>\n",
       "      <td>0.25</td>\n",
       "      <td>0.80</td>\n",
       "      <td>0.32</td>\n",
       "    </tr>\n",
       "    <tr>\n",
       "      <th>Data_Exhaustion</th>\n",
       "      <td>-0.35</td>\n",
       "      <td>0.70</td>\n",
       "      <td>0.53</td>\n",
       "      <td>-1.40</td>\n",
       "      <td>0.69</td>\n",
       "      <td>0.25</td>\n",
       "      <td>1.99</td>\n",
       "      <td>0.00</td>\n",
       "      <td>-0.67</td>\n",
       "      <td>0.50</td>\n",
       "      <td>0.99</td>\n",
       "    </tr>\n",
       "    <tr>\n",
       "      <th>Multiple_Networks</th>\n",
       "      <td>-0.43</td>\n",
       "      <td>0.65</td>\n",
       "      <td>0.78</td>\n",
       "      <td>-1.97</td>\n",
       "      <td>1.10</td>\n",
       "      <td>0.14</td>\n",
       "      <td>3.01</td>\n",
       "      <td>0.00</td>\n",
       "      <td>-0.55</td>\n",
       "      <td>0.58</td>\n",
       "      <td>0.79</td>\n",
       "    </tr>\n",
       "    <tr>\n",
       "      <th>Poor_Network_Quality_Coverage</th>\n",
       "      <td>-0.62</td>\n",
       "      <td>0.54</td>\n",
       "      <td>0.48</td>\n",
       "      <td>-1.55</td>\n",
       "      <td>0.32</td>\n",
       "      <td>0.21</td>\n",
       "      <td>1.37</td>\n",
       "      <td>0.00</td>\n",
       "      <td>-1.29</td>\n",
       "      <td>0.20</td>\n",
       "      <td>2.35</td>\n",
       "    </tr>\n",
       "    <tr>\n",
       "      <th>Unsatisfactory_Customer_Service</th>\n",
       "      <td>-0.37</td>\n",
       "      <td>0.69</td>\n",
       "      <td>0.48</td>\n",
       "      <td>-1.31</td>\n",
       "      <td>0.57</td>\n",
       "      <td>0.27</td>\n",
       "      <td>1.77</td>\n",
       "      <td>0.00</td>\n",
       "      <td>-0.77</td>\n",
       "      <td>0.44</td>\n",
       "      <td>1.18</td>\n",
       "    </tr>\n",
       "    <tr>\n",
       "      <th>High_Costs_Pricing</th>\n",
       "      <td>0.87</td>\n",
       "      <td>2.38</td>\n",
       "      <td>0.50</td>\n",
       "      <td>-0.11</td>\n",
       "      <td>1.84</td>\n",
       "      <td>0.90</td>\n",
       "      <td>6.28</td>\n",
       "      <td>0.00</td>\n",
       "      <td>1.74</td>\n",
       "      <td>0.08</td>\n",
       "      <td>3.63</td>\n",
       "    </tr>\n",
       "    <tr>\n",
       "      <th>Monthly_Data_Usage</th>\n",
       "      <td>0.28</td>\n",
       "      <td>1.32</td>\n",
       "      <td>0.27</td>\n",
       "      <td>-0.24</td>\n",
       "      <td>0.80</td>\n",
       "      <td>0.78</td>\n",
       "      <td>2.23</td>\n",
       "      <td>0.00</td>\n",
       "      <td>1.05</td>\n",
       "      <td>0.29</td>\n",
       "      <td>1.77</td>\n",
       "    </tr>\n",
       "  </tbody>\n",
       "</table><br><div>\n",
       "<style scoped>\n",
       "    .dataframe tbody tr th:only-of-type {\n",
       "        vertical-align: middle;\n",
       "    }\n",
       "\n",
       "    .dataframe tbody tr th {\n",
       "        vertical-align: top;\n",
       "    }\n",
       "\n",
       "    .dataframe thead th {\n",
       "        text-align: right;\n",
       "    }\n",
       "</style>\n",
       "<table border=\"1\" class=\"dataframe\">\n",
       "  <tbody>\n",
       "    <tr>\n",
       "      <th>Concordance</th>\n",
       "      <td>0.74</td>\n",
       "    </tr>\n",
       "    <tr>\n",
       "      <th>Partial AIC</th>\n",
       "      <td>239.20</td>\n",
       "    </tr>\n",
       "    <tr>\n",
       "      <th>log-likelihood ratio test</th>\n",
       "      <td>18.57 on 13 df</td>\n",
       "    </tr>\n",
       "    <tr>\n",
       "      <th>-log2(p) of ll-ratio test</th>\n",
       "      <td>2.87</td>\n",
       "    </tr>\n",
       "  </tbody>\n",
       "</table>\n",
       "</div>"
      ],
      "text/latex": [
       "\\begin{tabular}{lrrrrrrrrrrr}\n",
       " & coef & exp(coef) & se(coef) & coef lower 95% & coef upper 95% & exp(coef) lower 95% & exp(coef) upper 95% & cmp to & z & p & -log2(p) \\\\\n",
       "covariate &  &  &  &  &  &  &  &  &  &  &  \\\\\n",
       "Gender & -1.37 & 0.25 & 0.76 & -2.85 & 0.11 & 0.06 & 1.12 & 0.00 & -1.81 & 0.07 & 3.84 \\\\\n",
       "Residence & 1.07 & 2.91 & 0.53 & 0.03 & 2.11 & 1.03 & 8.24 & 0.00 & 2.01 & 0.04 & 4.48 \\\\\n",
       "Usage_Freq & 0.12 & 1.13 & 0.15 & -0.17 & 0.40 & 0.85 & 1.50 & 0.00 & 0.81 & 0.42 & 1.26 \\\\\n",
       "Network_Strength & -0.13 & 0.87 & 0.22 & -0.57 & 0.30 & 0.57 & 1.35 & 0.00 & -0.61 & 0.54 & 0.88 \\\\\n",
       "Voice_Calls & -0.62 & 0.54 & 0.60 & -1.79 & 0.55 & 0.17 & 1.73 & 0.00 & -1.04 & 0.30 & 1.75 \\\\\n",
       "Mobile_Data_Internet & -0.72 & 0.49 & 0.58 & -1.86 & 0.42 & 0.15 & 1.52 & 0.00 & -1.24 & 0.22 & 2.22 \\\\\n",
       "SMS_Text_Messaging & 0.12 & 1.13 & 0.48 & -0.81 & 1.05 & 0.44 & 2.87 & 0.00 & 0.25 & 0.80 & 0.32 \\\\\n",
       "Data_Exhaustion & -0.35 & 0.70 & 0.53 & -1.40 & 0.69 & 0.25 & 1.99 & 0.00 & -0.67 & 0.50 & 0.99 \\\\\n",
       "Multiple_Networks & -0.43 & 0.65 & 0.78 & -1.97 & 1.10 & 0.14 & 3.01 & 0.00 & -0.55 & 0.58 & 0.79 \\\\\n",
       "Poor_Network_Quality_Coverage & -0.62 & 0.54 & 0.48 & -1.55 & 0.32 & 0.21 & 1.37 & 0.00 & -1.29 & 0.20 & 2.35 \\\\\n",
       "Unsatisfactory_Customer_Service & -0.37 & 0.69 & 0.48 & -1.31 & 0.57 & 0.27 & 1.77 & 0.00 & -0.77 & 0.44 & 1.18 \\\\\n",
       "High_Costs_Pricing & 0.87 & 2.38 & 0.50 & -0.11 & 1.84 & 0.90 & 6.28 & 0.00 & 1.74 & 0.08 & 3.63 \\\\\n",
       "Monthly_Data_Usage & 0.28 & 1.32 & 0.27 & -0.24 & 0.80 & 0.78 & 2.23 & 0.00 & 1.05 & 0.29 & 1.77 \\\\\n",
       "\\end{tabular}\n"
      ],
      "text/plain": [
       "<lifelines.CoxPHFitter: fitted with 338 total observations, 318 right-censored observations>\n",
       "             duration col = 'Churn_Level'\n",
       "                event col = 'Churn'\n",
       "      baseline estimation = breslow\n",
       "   number of observations = 338\n",
       "number of events observed = 20\n",
       "   partial log-likelihood = -106.60\n",
       "         time fit was run = 2024-07-30 14:38:33 UTC\n",
       "\n",
       "---\n",
       "                                 coef exp(coef)  se(coef)  coef lower 95%  coef upper 95% exp(coef) lower 95% exp(coef) upper 95%\n",
       "covariate                                                                                                                        \n",
       "Gender                          -1.37      0.25      0.76           -2.85            0.11                0.06                1.12\n",
       "Residence                        1.07      2.91      0.53            0.03            2.11                1.03                8.24\n",
       "Usage_Freq                       0.12      1.13      0.15           -0.17            0.40                0.85                1.50\n",
       "Network_Strength                -0.13      0.87      0.22           -0.57            0.30                0.57                1.35\n",
       "Voice_Calls                     -0.62      0.54      0.60           -1.79            0.55                0.17                1.73\n",
       "Mobile_Data_Internet            -0.72      0.49      0.58           -1.86            0.42                0.15                1.52\n",
       "SMS_Text_Messaging               0.12      1.13      0.48           -0.81            1.05                0.44                2.87\n",
       "Data_Exhaustion                 -0.35      0.70      0.53           -1.40            0.69                0.25                1.99\n",
       "Multiple_Networks               -0.43      0.65      0.78           -1.97            1.10                0.14                3.01\n",
       "Poor_Network_Quality_Coverage   -0.62      0.54      0.48           -1.55            0.32                0.21                1.37\n",
       "Unsatisfactory_Customer_Service -0.37      0.69      0.48           -1.31            0.57                0.27                1.77\n",
       "High_Costs_Pricing               0.87      2.38      0.50           -0.11            1.84                0.90                6.28\n",
       "Monthly_Data_Usage               0.28      1.32      0.27           -0.24            0.80                0.78                2.23\n",
       "\n",
       "                                 cmp to     z    p  -log2(p)\n",
       "covariate                                                   \n",
       "Gender                             0.00 -1.81 0.07      3.84\n",
       "Residence                          0.00  2.01 0.04      4.48\n",
       "Usage_Freq                         0.00  0.81 0.42      1.26\n",
       "Network_Strength                   0.00 -0.61 0.54      0.88\n",
       "Voice_Calls                        0.00 -1.04 0.30      1.75\n",
       "Mobile_Data_Internet               0.00 -1.24 0.22      2.22\n",
       "SMS_Text_Messaging                 0.00  0.25 0.80      0.32\n",
       "Data_Exhaustion                    0.00 -0.67 0.50      0.99\n",
       "Multiple_Networks                  0.00 -0.55 0.58      0.79\n",
       "Poor_Network_Quality_Coverage      0.00 -1.29 0.20      2.35\n",
       "Unsatisfactory_Customer_Service    0.00 -0.77 0.44      1.18\n",
       "High_Costs_Pricing                 0.00  1.74 0.08      3.63\n",
       "Monthly_Data_Usage                 0.00  1.05 0.29      1.77\n",
       "---\n",
       "Concordance = 0.74\n",
       "Partial AIC = 239.20\n",
       "log-likelihood ratio test = 18.57 on 13 df\n",
       "-log2(p) of ll-ratio test = 2.87"
      ]
     },
     "metadata": {},
     "output_type": "display_data"
    },
    {
     "data": {
      "image/png": "[encoded data removed]",
      "text/plain": [
       "<Figure size 640x480 with 1 Axes>"
      ]
     },
     "metadata": {},
     "output_type": "display_data"
    }
   ],
   "source": [
    "import matplotlib.pyplot as plt\n",
    "from lifelines import CoxPHFitter\n",
    "# Initialize the Cox Proportional Hazards model\n",
    "cph = CoxPHFitter()\n",
    "# data = data.drop(columns=['High_Costs_Pricing','Multiple_Networks','Other_Networks_Better_Services','Poor_Network_Quality_Coverage'])\n",
    "# data = data.drop(columns='Poor_Network_Quality_Coverage')\n",
    "\n",
    "# Fit the model\n",
    "cph.fit(data, duration_col='Churn_Level', event_col='Churn')\n",
    "\n",
    "# Display the summary\n",
    "cph.print_summary()\n",
    "\n",
    "# Plot the coefficients\n",
    "cph.plot()\n",
    "# plt.title('Cox Proportional Hazards Model Coefficients')\n",
    "plt.show()\n"
   ]
  },
  {
   "cell_type": "code",
   "execution_count": 17,
   "metadata": {},
   "outputs": [],
   "source": [
    "# data['Level'] = data['Level']/100\n",
    "\n",
    "# data"
   ]
  },
  {
   "cell_type": "code",
   "execution_count": 18,
   "metadata": {},
   "outputs": [],
   "source": [
    "# import pandas as pd\n",
    "# from lifelines import WeibullAFTFitter, LogNormalAFTFitter, LogLogisticAFTFitter\n",
    "# import numpy as np\n",
    "\n",
    "# # Sample data\n",
    "# data = pd.DataFrame({\n",
    "#     'Churn_Level': np.random.exponential(1, 100),\n",
    "#     'Churn': np.random.randint(0, 2, 100)\n",
    "# })\n",
    "\n",
    "# # Instantiate each AFT fitter\n",
    "# weibull_aft = WeibullAFTFitter()\n",
    "# lognormal_aft = LogNormalAFTFitter()\n",
    "# loglogistic_aft = LogLogisticAFTFitter()\n",
    "\n",
    "# # Fit to data and collect AIC, BIC, and Hanna-Quinn values\n",
    "# aft_metrics = {}\n",
    "# for model in [weibull_aft, lognormal_aft, loglogistic_aft]:\n",
    "#     model.fit(data, duration_col='Churn_Level', event_col='Churn')\n",
    "#     aic = model.AIC_\n",
    "#     bic = model.BIC_  # You can get BIC directly from lifelines\n",
    "#     n = len(data)\n",
    "#     k = len(model.params_)\n",
    "    \n",
    "#     # Hanna-Quinn criterion calculation\n",
    "#     hqc = np.log(n) * k * np.log(np.log(n)) + 2 * k * np.log(n)\n",
    "    \n",
    "#     aft_metrics[model.__class__.__name__] = {\n",
    "#         'AIC': aic,\n",
    "#         'BIC': bic,\n",
    "#         'Hanna-Quinn': hqc\n",
    "#     }\n",
    "\n",
    "# # Create a DataFrame from the metrics\n",
    "# metrics_df = pd.DataFrame(aft_metrics).T\n",
    "# metrics_df.index.name = 'Model'\n",
    "# metrics_df = metrics_df.reset_index()\n",
    "\n",
    "# print(\"Model Comparison Metrics:\")\n",
    "# print(metrics_df)\n",
    "\n",
    "# # Find the model with the lowest AIC, BIC, and Hanna-Quinn\n",
    "# best_aft_model_aic = metrics_df.loc[metrics_df['AIC'].idxmin(), 'Model']\n",
    "# best_aft_model_bic = metrics_df.loc[metrics_df['BIC'].idxmin(), 'Model']\n",
    "# best_aft_model_hqc = metrics_df.loc[metrics_df['Hanna-Quinn'].idxmin(), 'Model']\n",
    "\n",
    "# print(f\"\\nThe AFT model with the lowest AIC is: {best_aft_model_aic}\")\n",
    "# print(f\"The AFT model with the lowest BIC is: {best_aft_model_bic}\")\n",
    "# print(f\"The AFT model with the lowest Hanna-Quinn is: {best_aft_model_hqc}\")\n"
   ]
  },
  {
   "cell_type": "code",
   "execution_count": 19,
   "metadata": {},
   "outputs": [
    {
     "data": {
      "text/html": [
       "<div>\n",
       "<style scoped>\n",
       "    .dataframe tbody tr th:only-of-type {\n",
       "        vertical-align: middle;\n",
       "    }\n",
       "\n",
       "    .dataframe tbody tr th {\n",
       "        vertical-align: top;\n",
       "    }\n",
       "\n",
       "    .dataframe thead th {\n",
       "        text-align: right;\n",
       "    }\n",
       "</style>\n",
       "<table border=\"1\" class=\"dataframe\">\n",
       "  <tbody>\n",
       "    <tr>\n",
       "      <th>model</th>\n",
       "      <td>lifelines.LogNormalAFTFitter</td>\n",
       "    </tr>\n",
       "    <tr>\n",
       "      <th>duration col</th>\n",
       "      <td>'Churn_Level'</td>\n",
       "    </tr>\n",
       "    <tr>\n",
       "      <th>event col</th>\n",
       "      <td>'Churn'</td>\n",
       "    </tr>\n",
       "    <tr>\n",
       "      <th>number of observations</th>\n",
       "      <td>338</td>\n",
       "    </tr>\n",
       "    <tr>\n",
       "      <th>number of events observed</th>\n",
       "      <td>20</td>\n",
       "    </tr>\n",
       "    <tr>\n",
       "      <th>log-likelihood</th>\n",
       "      <td>-93.480</td>\n",
       "    </tr>\n",
       "    <tr>\n",
       "      <th>time fit was run</th>\n",
       "      <td>2024-07-30 14:38:34 UTC</td>\n",
       "    </tr>\n",
       "  </tbody>\n",
       "</table>\n",
       "</div><table border=\"1\" class=\"dataframe\">\n",
       "  <thead>\n",
       "    <tr style=\"text-align: right;\">\n",
       "      <th style=\"min-width: 12px;\"></th>\n",
       "      <th style=\"min-width: 12px;\"></th>\n",
       "      <th style=\"min-width: 12px;\">coef</th>\n",
       "      <th style=\"min-width: 12px;\">exp(coef)</th>\n",
       "      <th style=\"min-width: 12px;\">se(coef)</th>\n",
       "      <th style=\"min-width: 12px;\">coef lower 95%</th>\n",
       "      <th style=\"min-width: 12px;\">coef upper 95%</th>\n",
       "      <th style=\"min-width: 12px;\">exp(coef) lower 95%</th>\n",
       "      <th style=\"min-width: 12px;\">exp(coef) upper 95%</th>\n",
       "      <th style=\"min-width: 12px;\">cmp to</th>\n",
       "      <th style=\"min-width: 12px;\">z</th>\n",
       "      <th style=\"min-width: 12px;\">p</th>\n",
       "      <th style=\"min-width: 12px;\">-log2(p)</th>\n",
       "    </tr>\n",
       "  </thead>\n",
       "  <tbody>\n",
       "    <tr>\n",
       "      <th rowspan=\"14\" valign=\"top\">mu_</th>\n",
       "      <th>Data_Exhaustion</th>\n",
       "      <td>0.366</td>\n",
       "      <td>1.442</td>\n",
       "      <td>0.484</td>\n",
       "      <td>-0.582</td>\n",
       "      <td>1.315</td>\n",
       "      <td>0.559</td>\n",
       "      <td>3.723</td>\n",
       "      <td>0.000</td>\n",
       "      <td>0.757</td>\n",
       "      <td>0.449</td>\n",
       "      <td>1.155</td>\n",
       "    </tr>\n",
       "    <tr>\n",
       "      <th>Gender</th>\n",
       "      <td>1.087</td>\n",
       "      <td>2.966</td>\n",
       "      <td>0.593</td>\n",
       "      <td>-0.075</td>\n",
       "      <td>2.249</td>\n",
       "      <td>0.928</td>\n",
       "      <td>9.483</td>\n",
       "      <td>0.000</td>\n",
       "      <td>1.833</td>\n",
       "      <td>0.067</td>\n",
       "      <td>3.905</td>\n",
       "    </tr>\n",
       "    <tr>\n",
       "      <th>High_Costs_Pricing</th>\n",
       "      <td>-0.752</td>\n",
       "      <td>0.471</td>\n",
       "      <td>0.439</td>\n",
       "      <td>-1.613</td>\n",
       "      <td>0.109</td>\n",
       "      <td>0.199</td>\n",
       "      <td>1.115</td>\n",
       "      <td>0.000</td>\n",
       "      <td>-1.713</td>\n",
       "      <td>0.087</td>\n",
       "      <td>3.527</td>\n",
       "    </tr>\n",
       "    <tr>\n",
       "      <th>Mobile_Data_Internet</th>\n",
       "      <td>0.492</td>\n",
       "      <td>1.636</td>\n",
       "      <td>0.572</td>\n",
       "      <td>-0.629</td>\n",
       "      <td>1.613</td>\n",
       "      <td>0.533</td>\n",
       "      <td>5.019</td>\n",
       "      <td>0.000</td>\n",
       "      <td>0.860</td>\n",
       "      <td>0.390</td>\n",
       "      <td>1.360</td>\n",
       "    </tr>\n",
       "    <tr>\n",
       "      <th>Monthly_Data_Usage</th>\n",
       "      <td>-0.258</td>\n",
       "      <td>0.773</td>\n",
       "      <td>0.225</td>\n",
       "      <td>-0.699</td>\n",
       "      <td>0.184</td>\n",
       "      <td>0.497</td>\n",
       "      <td>1.201</td>\n",
       "      <td>0.000</td>\n",
       "      <td>-1.145</td>\n",
       "      <td>0.252</td>\n",
       "      <td>1.986</td>\n",
       "    </tr>\n",
       "    <tr>\n",
       "      <th>Multiple_Networks</th>\n",
       "      <td>0.241</td>\n",
       "      <td>1.273</td>\n",
       "      <td>0.682</td>\n",
       "      <td>-1.095</td>\n",
       "      <td>1.577</td>\n",
       "      <td>0.335</td>\n",
       "      <td>4.841</td>\n",
       "      <td>0.000</td>\n",
       "      <td>0.354</td>\n",
       "      <td>0.723</td>\n",
       "      <td>0.467</td>\n",
       "    </tr>\n",
       "    <tr>\n",
       "      <th>Network_Strength</th>\n",
       "      <td>0.117</td>\n",
       "      <td>1.124</td>\n",
       "      <td>0.189</td>\n",
       "      <td>-0.253</td>\n",
       "      <td>0.488</td>\n",
       "      <td>0.776</td>\n",
       "      <td>1.629</td>\n",
       "      <td>0.000</td>\n",
       "      <td>0.621</td>\n",
       "      <td>0.535</td>\n",
       "      <td>0.903</td>\n",
       "    </tr>\n",
       "    <tr>\n",
       "      <th>Poor_Network_Quality_Coverage</th>\n",
       "      <td>0.380</td>\n",
       "      <td>1.462</td>\n",
       "      <td>0.440</td>\n",
       "      <td>-0.482</td>\n",
       "      <td>1.242</td>\n",
       "      <td>0.617</td>\n",
       "      <td>3.463</td>\n",
       "      <td>0.000</td>\n",
       "      <td>0.864</td>\n",
       "      <td>0.388</td>\n",
       "      <td>1.367</td>\n",
       "    </tr>\n",
       "    <tr>\n",
       "      <th>Residence</th>\n",
       "      <td>-0.864</td>\n",
       "      <td>0.421</td>\n",
       "      <td>0.505</td>\n",
       "      <td>-1.854</td>\n",
       "      <td>0.126</td>\n",
       "      <td>0.157</td>\n",
       "      <td>1.134</td>\n",
       "      <td>0.000</td>\n",
       "      <td>-1.711</td>\n",
       "      <td>0.087</td>\n",
       "      <td>3.521</td>\n",
       "    </tr>\n",
       "    <tr>\n",
       "      <th>SMS_Text_Messaging</th>\n",
       "      <td>-0.024</td>\n",
       "      <td>0.976</td>\n",
       "      <td>0.405</td>\n",
       "      <td>-0.818</td>\n",
       "      <td>0.769</td>\n",
       "      <td>0.441</td>\n",
       "      <td>2.158</td>\n",
       "      <td>0.000</td>\n",
       "      <td>-0.060</td>\n",
       "      <td>0.952</td>\n",
       "      <td>0.071</td>\n",
       "    </tr>\n",
       "    <tr>\n",
       "      <th>Unsatisfactory_Customer_Service</th>\n",
       "      <td>0.188</td>\n",
       "      <td>1.207</td>\n",
       "      <td>0.411</td>\n",
       "      <td>-0.616</td>\n",
       "      <td>0.993</td>\n",
       "      <td>0.540</td>\n",
       "      <td>2.700</td>\n",
       "      <td>0.000</td>\n",
       "      <td>0.459</td>\n",
       "      <td>0.646</td>\n",
       "      <td>0.630</td>\n",
       "    </tr>\n",
       "    <tr>\n",
       "      <th>Usage_Freq</th>\n",
       "      <td>-0.128</td>\n",
       "      <td>0.880</td>\n",
       "      <td>0.132</td>\n",
       "      <td>-0.387</td>\n",
       "      <td>0.130</td>\n",
       "      <td>0.679</td>\n",
       "      <td>1.139</td>\n",
       "      <td>0.000</td>\n",
       "      <td>-0.974</td>\n",
       "      <td>0.330</td>\n",
       "      <td>1.600</td>\n",
       "    </tr>\n",
       "    <tr>\n",
       "      <th>Voice_Calls</th>\n",
       "      <td>0.544</td>\n",
       "      <td>1.723</td>\n",
       "      <td>0.511</td>\n",
       "      <td>-0.458</td>\n",
       "      <td>1.546</td>\n",
       "      <td>0.633</td>\n",
       "      <td>4.693</td>\n",
       "      <td>0.000</td>\n",
       "      <td>1.065</td>\n",
       "      <td>0.287</td>\n",
       "      <td>1.801</td>\n",
       "    </tr>\n",
       "    <tr>\n",
       "      <th>Intercept</th>\n",
       "      <td>3.582</td>\n",
       "      <td>35.955</td>\n",
       "      <td>1.556</td>\n",
       "      <td>0.532</td>\n",
       "      <td>6.633</td>\n",
       "      <td>1.702</td>\n",
       "      <td>759.469</td>\n",
       "      <td>0.000</td>\n",
       "      <td>2.302</td>\n",
       "      <td>0.021</td>\n",
       "      <td>5.550</td>\n",
       "    </tr>\n",
       "    <tr>\n",
       "      <th>sigma_</th>\n",
       "      <th>Intercept</th>\n",
       "      <td>0.550</td>\n",
       "      <td>1.733</td>\n",
       "      <td>0.199</td>\n",
       "      <td>0.159</td>\n",
       "      <td>0.940</td>\n",
       "      <td>1.173</td>\n",
       "      <td>2.560</td>\n",
       "      <td>0.000</td>\n",
       "      <td>2.761</td>\n",
       "      <td>0.006</td>\n",
       "      <td>7.439</td>\n",
       "    </tr>\n",
       "  </tbody>\n",
       "</table><br><div>\n",
       "<style scoped>\n",
       "    .dataframe tbody tr th:only-of-type {\n",
       "        vertical-align: middle;\n",
       "    }\n",
       "\n",
       "    .dataframe tbody tr th {\n",
       "        vertical-align: top;\n",
       "    }\n",
       "\n",
       "    .dataframe thead th {\n",
       "        text-align: right;\n",
       "    }\n",
       "</style>\n",
       "<table border=\"1\" class=\"dataframe\">\n",
       "  <tbody>\n",
       "    <tr>\n",
       "      <th>Concordance</th>\n",
       "      <td>0.750</td>\n",
       "    </tr>\n",
       "    <tr>\n",
       "      <th>AIC</th>\n",
       "      <td>216.960</td>\n",
       "    </tr>\n",
       "    <tr>\n",
       "      <th>log-likelihood ratio test</th>\n",
       "      <td>17.968 on 13 df</td>\n",
       "    </tr>\n",
       "    <tr>\n",
       "      <th>-log2(p) of ll-ratio test</th>\n",
       "      <td>2.655</td>\n",
       "    </tr>\n",
       "  </tbody>\n",
       "</table>\n",
       "</div>"
      ],
      "text/latex": [
       "\\begin{tabular}{llrrrrrrrrrrr}\n",
       " &  & coef & exp(coef) & se(coef) & coef lower 95% & coef upper 95% & exp(coef) lower 95% & exp(coef) upper 95% & cmp to & z & p & -log2(p) \\\\\n",
       "param & covariate &  &  &  &  &  &  &  &  &  &  &  \\\\\n",
       "\\multirow[c]{14}{*}{mu_} & Data_Exhaustion & 0.366 & 1.442 & 0.484 & -0.582 & 1.315 & 0.559 & 3.723 & 0.000 & 0.757 & 0.449 & 1.155 \\\\\n",
       " & Gender & 1.087 & 2.966 & 0.593 & -0.075 & 2.249 & 0.928 & 9.483 & 0.000 & 1.833 & 0.067 & 3.905 \\\\\n",
       " & High_Costs_Pricing & -0.752 & 0.471 & 0.439 & -1.613 & 0.109 & 0.199 & 1.115 & 0.000 & -1.713 & 0.087 & 3.527 \\\\\n",
       " & Mobile_Data_Internet & 0.492 & 1.636 & 0.572 & -0.629 & 1.613 & 0.533 & 5.019 & 0.000 & 0.860 & 0.390 & 1.360 \\\\\n",
       " & Monthly_Data_Usage & -0.258 & 0.773 & 0.225 & -0.699 & 0.184 & 0.497 & 1.201 & 0.000 & -1.145 & 0.252 & 1.986 \\\\\n",
       " & Multiple_Networks & 0.241 & 1.273 & 0.682 & -1.095 & 1.577 & 0.335 & 4.841 & 0.000 & 0.354 & 0.723 & 0.467 \\\\\n",
       " & Network_Strength & 0.117 & 1.124 & 0.189 & -0.253 & 0.488 & 0.776 & 1.629 & 0.000 & 0.621 & 0.535 & 0.903 \\\\\n",
       " & Poor_Network_Quality_Coverage & 0.380 & 1.462 & 0.440 & -0.482 & 1.242 & 0.617 & 3.463 & 0.000 & 0.864 & 0.388 & 1.367 \\\\\n",
       " & Residence & -0.864 & 0.421 & 0.505 & -1.854 & 0.126 & 0.157 & 1.134 & 0.000 & -1.711 & 0.087 & 3.521 \\\\\n",
       " & SMS_Text_Messaging & -0.024 & 0.976 & 0.405 & -0.818 & 0.769 & 0.441 & 2.158 & 0.000 & -0.060 & 0.952 & 0.071 \\\\\n",
       " & Unsatisfactory_Customer_Service & 0.188 & 1.207 & 0.411 & -0.616 & 0.993 & 0.540 & 2.700 & 0.000 & 0.459 & 0.646 & 0.630 \\\\\n",
       " & Usage_Freq & -0.128 & 0.880 & 0.132 & -0.387 & 0.130 & 0.679 & 1.139 & 0.000 & -0.974 & 0.330 & 1.600 \\\\\n",
       " & Voice_Calls & 0.544 & 1.723 & 0.511 & -0.458 & 1.546 & 0.633 & 4.693 & 0.000 & 1.065 & 0.287 & 1.801 \\\\\n",
       " & Intercept & 3.582 & 35.955 & 1.556 & 0.532 & 6.633 & 1.702 & 759.469 & 0.000 & 2.302 & 0.021 & 5.550 \\\\\n",
       "sigma_ & Intercept & 0.550 & 1.733 & 0.199 & 0.159 & 0.940 & 1.173 & 2.560 & 0.000 & 2.761 & 0.006 & 7.439 \\\\\n",
       "\\end{tabular}\n"
      ],
      "text/plain": [
       "<lifelines.LogNormalAFTFitter: fitted with 338 total observations, 318 right-censored observations>\n",
       "             duration col = 'Churn_Level'\n",
       "                event col = 'Churn'\n",
       "   number of observations = 338\n",
       "number of events observed = 20\n",
       "           log-likelihood = -93.480\n",
       "         time fit was run = 2024-07-30 14:38:34 UTC\n",
       "\n",
       "---\n",
       "                                         coef exp(coef)  se(coef)  coef lower 95%  coef upper 95% exp(coef) lower 95% exp(coef) upper 95%\n",
       "param  covariate                                                                                                                         \n",
       "mu_    Data_Exhaustion                  0.366     1.442     0.484          -0.582           1.315               0.559               3.723\n",
       "       Gender                           1.087     2.966     0.593          -0.075           2.249               0.928               9.483\n",
       "       High_Costs_Pricing              -0.752     0.471     0.439          -1.613           0.109               0.199               1.115\n",
       "       Mobile_Data_Internet             0.492     1.636     0.572          -0.629           1.613               0.533               5.019\n",
       "       Monthly_Data_Usage              -0.258     0.773     0.225          -0.699           0.184               0.497               1.201\n",
       "       Multiple_Networks                0.241     1.273     0.682          -1.095           1.577               0.335               4.841\n",
       "       Network_Strength                 0.117     1.124     0.189          -0.253           0.488               0.776               1.629\n",
       "       Poor_Network_Quality_Coverage    0.380     1.462     0.440          -0.482           1.242               0.617               3.463\n",
       "       Residence                       -0.864     0.421     0.505          -1.854           0.126               0.157               1.134\n",
       "       SMS_Text_Messaging              -0.024     0.976     0.405          -0.818           0.769               0.441               2.158\n",
       "       Unsatisfactory_Customer_Service  0.188     1.207     0.411          -0.616           0.993               0.540               2.700\n",
       "       Usage_Freq                      -0.128     0.880     0.132          -0.387           0.130               0.679               1.139\n",
       "       Voice_Calls                      0.544     1.723     0.511          -0.458           1.546               0.633               4.693\n",
       "       Intercept                        3.582    35.955     1.556           0.532           6.633               1.702             759.469\n",
       "sigma_ Intercept                        0.550     1.733     0.199           0.159           0.940               1.173               2.560\n",
       "\n",
       "                                        cmp to      z     p  -log2(p)\n",
       "param  covariate                                                     \n",
       "mu_    Data_Exhaustion                   0.000  0.757 0.449     1.155\n",
       "       Gender                            0.000  1.833 0.067     3.905\n",
       "       High_Costs_Pricing                0.000 -1.713 0.087     3.527\n",
       "       Mobile_Data_Internet              0.000  0.860 0.390     1.360\n",
       "       Monthly_Data_Usage                0.000 -1.145 0.252     1.986\n",
       "       Multiple_Networks                 0.000  0.354 0.723     0.467\n",
       "       Network_Strength                  0.000  0.621 0.535     0.903\n",
       "       Poor_Network_Quality_Coverage     0.000  0.864 0.388     1.367\n",
       "       Residence                         0.000 -1.711 0.087     3.521\n",
       "       SMS_Text_Messaging                0.000 -0.060 0.952     0.071\n",
       "       Unsatisfactory_Customer_Service   0.000  0.459 0.646     0.630\n",
       "       Usage_Freq                        0.000 -0.974 0.330     1.600\n",
       "       Voice_Calls                       0.000  1.065 0.287     1.801\n",
       "       Intercept                         0.000  2.302 0.021     5.550\n",
       "sigma_ Intercept                         0.000  2.761 0.006     7.439\n",
       "---\n",
       "Concordance = 0.750\n",
       "AIC = 216.960\n",
       "log-likelihood ratio test = 17.968 on 13 df\n",
       "-log2(p) of ll-ratio test = 2.655"
      ]
     },
     "metadata": {},
     "output_type": "display_data"
    }
   ],
   "source": [
    "from lifelines import LogNormalAFTFitter\n",
    "weibull_aft = LogNormalAFTFitter()\n",
    "weibull_aft.fit(data, duration_col='Churn_Level', event_col='Churn')\n",
    "weibull_aft.print_summary(3)"
   ]
  },
  {
   "cell_type": "code",
   "execution_count": 20,
   "metadata": {},
   "outputs": [
    {
     "data": {
      "text/plain": [
       "<Axes: xlabel='log(accelerated failure rate) (95% CI)'>"
      ]
     },
     "execution_count": 20,
     "metadata": {},
     "output_type": "execute_result"
    },
    {
     "data": {
      "image/png": "[encoded data removed]",
      "text/plain": [
       "<Figure size 1000x600 with 1 Axes>"
      ]
     },
     "metadata": {},
     "output_type": "display_data"
    }
   ],
   "source": [
    "plt.subplots(figsize=(10, 6))\n",
    "weibull_aft.plot()\n"
   ]
  },
  {
   "cell_type": "code",
   "execution_count": 21,
   "metadata": {},
   "outputs": [],
   "source": [
    "# from lifelines import CoxPHFitter\n",
    "\n",
    "# # Initialize the Cox Proportional Hazards model\n",
    "# cph = CoxPHFitter()\n",
    "\n",
    "# # Fit the model\n",
    "# cph.fit(data, duration_col='Level', event_col='Churn')\n",
    "\n",
    "# # Display the summary\n",
    "# cph.print_summary()\n",
    "\n",
    "# # Plot the coefficients\n",
    "# cph.plot()\n",
    "# plt.title('Cox Proportional Hazards Model Coefficients')\n",
    "# plt.show()\n"
   ]
  },
  {
   "cell_type": "code",
   "execution_count": 22,
   "metadata": {},
   "outputs": [
    {
     "name": "stdout",
     "output_type": "stream",
     "text": [
      "The ``p_value_threshold`` is set at 0.05. Even under the null hypothesis of no violations, some\n",
      "covariates will be below the threshold by chance. This is compounded when there are many covariates.\n",
      "Similarly, when there are lots of observations, even minor deviances from the proportional hazard\n",
      "assumption will be flagged.\n",
      "\n",
      "With that in mind, it's best to use a combination of statistical tests and visual tests to determine\n",
      "the most serious violations. Produce visual plots using ``check_assumptions(..., show_plots=True)``\n",
      "and looking for non-constant lines. See link [A] below for a full example.\n",
      "\n"
     ]
    },
    {
     "data": {
      "text/html": [
       "<div>\n",
       "<style scoped>\n",
       "    .dataframe tbody tr th:only-of-type {\n",
       "        vertical-align: middle;\n",
       "    }\n",
       "\n",
       "    .dataframe tbody tr th {\n",
       "        vertical-align: top;\n",
       "    }\n",
       "\n",
       "    .dataframe thead th {\n",
       "        text-align: right;\n",
       "    }\n",
       "</style>\n",
       "<table border=\"1\" class=\"dataframe\">\n",
       "  <tbody>\n",
       "    <tr>\n",
       "      <th>null_distribution</th>\n",
       "      <td>chi squared</td>\n",
       "    </tr>\n",
       "    <tr>\n",
       "      <th>degrees_of_freedom</th>\n",
       "      <td>1</td>\n",
       "    </tr>\n",
       "    <tr>\n",
       "      <th>model</th>\n",
       "      <td>&lt;lifelines.CoxPHFitter: fitted with 338 total ...</td>\n",
       "    </tr>\n",
       "    <tr>\n",
       "      <th>test_name</th>\n",
       "      <td>proportional_hazard_test</td>\n",
       "    </tr>\n",
       "  </tbody>\n",
       "</table>\n",
       "</div><table border=\"1\" class=\"dataframe\">\n",
       "  <thead>\n",
       "    <tr style=\"text-align: right;\">\n",
       "      <th></th>\n",
       "      <th></th>\n",
       "      <th>test_statistic</th>\n",
       "      <th>p</th>\n",
       "      <th>-log2(p)</th>\n",
       "    </tr>\n",
       "  </thead>\n",
       "  <tbody>\n",
       "    <tr>\n",
       "      <th rowspan=\"2\" valign=\"top\">Data_Exhaustion</th>\n",
       "      <th>km</th>\n",
       "      <td>4.63</td>\n",
       "      <td>0.03</td>\n",
       "      <td>4.99</td>\n",
       "    </tr>\n",
       "    <tr>\n",
       "      <th>rank</th>\n",
       "      <td>6.56</td>\n",
       "      <td>0.01</td>\n",
       "      <td>6.58</td>\n",
       "    </tr>\n",
       "    <tr>\n",
       "      <th rowspan=\"2\" valign=\"top\">Gender</th>\n",
       "      <th>km</th>\n",
       "      <td>0.23</td>\n",
       "      <td>0.63</td>\n",
       "      <td>0.66</td>\n",
       "    </tr>\n",
       "    <tr>\n",
       "      <th>rank</th>\n",
       "      <td>0.01</td>\n",
       "      <td>0.93</td>\n",
       "      <td>0.11</td>\n",
       "    </tr>\n",
       "    <tr>\n",
       "      <th rowspan=\"2\" valign=\"top\">High_Costs_Pricing</th>\n",
       "      <th>km</th>\n",
       "      <td>0.37</td>\n",
       "      <td>0.54</td>\n",
       "      <td>0.88</td>\n",
       "    </tr>\n",
       "    <tr>\n",
       "      <th>rank</th>\n",
       "      <td>0.40</td>\n",
       "      <td>0.53</td>\n",
       "      <td>0.92</td>\n",
       "    </tr>\n",
       "    <tr>\n",
       "      <th rowspan=\"2\" valign=\"top\">Mobile_Data_Internet</th>\n",
       "      <th>km</th>\n",
       "      <td>0.04</td>\n",
       "      <td>0.84</td>\n",
       "      <td>0.25</td>\n",
       "    </tr>\n",
       "    <tr>\n",
       "      <th>rank</th>\n",
       "      <td>0.11</td>\n",
       "      <td>0.74</td>\n",
       "      <td>0.43</td>\n",
       "    </tr>\n",
       "    <tr>\n",
       "      <th rowspan=\"2\" valign=\"top\">Monthly_Data_Usage</th>\n",
       "      <th>km</th>\n",
       "      <td>0.35</td>\n",
       "      <td>0.56</td>\n",
       "      <td>0.85</td>\n",
       "    </tr>\n",
       "    <tr>\n",
       "      <th>rank</th>\n",
       "      <td>0.33</td>\n",
       "      <td>0.56</td>\n",
       "      <td>0.83</td>\n",
       "    </tr>\n",
       "    <tr>\n",
       "      <th rowspan=\"2\" valign=\"top\">Multiple_Networks</th>\n",
       "      <th>km</th>\n",
       "      <td>2.08</td>\n",
       "      <td>0.15</td>\n",
       "      <td>2.74</td>\n",
       "    </tr>\n",
       "    <tr>\n",
       "      <th>rank</th>\n",
       "      <td>1.96</td>\n",
       "      <td>0.16</td>\n",
       "      <td>2.63</td>\n",
       "    </tr>\n",
       "    <tr>\n",
       "      <th rowspan=\"2\" valign=\"top\">Network_Strength</th>\n",
       "      <th>km</th>\n",
       "      <td>0.40</td>\n",
       "      <td>0.53</td>\n",
       "      <td>0.93</td>\n",
       "    </tr>\n",
       "    <tr>\n",
       "      <th>rank</th>\n",
       "      <td>0.65</td>\n",
       "      <td>0.42</td>\n",
       "      <td>1.25</td>\n",
       "    </tr>\n",
       "    <tr>\n",
       "      <th rowspan=\"2\" valign=\"top\">Poor_Network_Quality_Coverage</th>\n",
       "      <th>km</th>\n",
       "      <td>0.05</td>\n",
       "      <td>0.82</td>\n",
       "      <td>0.29</td>\n",
       "    </tr>\n",
       "    <tr>\n",
       "      <th>rank</th>\n",
       "      <td>0.37</td>\n",
       "      <td>0.54</td>\n",
       "      <td>0.89</td>\n",
       "    </tr>\n",
       "    <tr>\n",
       "      <th rowspan=\"2\" valign=\"top\">Residence</th>\n",
       "      <th>km</th>\n",
       "      <td>0.10</td>\n",
       "      <td>0.75</td>\n",
       "      <td>0.41</td>\n",
       "    </tr>\n",
       "    <tr>\n",
       "      <th>rank</th>\n",
       "      <td>0.03</td>\n",
       "      <td>0.86</td>\n",
       "      <td>0.22</td>\n",
       "    </tr>\n",
       "    <tr>\n",
       "      <th rowspan=\"2\" valign=\"top\">SMS_Text_Messaging</th>\n",
       "      <th>km</th>\n",
       "      <td>1.10</td>\n",
       "      <td>0.29</td>\n",
       "      <td>1.77</td>\n",
       "    </tr>\n",
       "    <tr>\n",
       "      <th>rank</th>\n",
       "      <td>1.79</td>\n",
       "      <td>0.18</td>\n",
       "      <td>2.47</td>\n",
       "    </tr>\n",
       "    <tr>\n",
       "      <th rowspan=\"2\" valign=\"top\">Unsatisfactory_Customer_Service</th>\n",
       "      <th>km</th>\n",
       "      <td>0.53</td>\n",
       "      <td>0.47</td>\n",
       "      <td>1.10</td>\n",
       "    </tr>\n",
       "    <tr>\n",
       "      <th>rank</th>\n",
       "      <td>0.02</td>\n",
       "      <td>0.90</td>\n",
       "      <td>0.16</td>\n",
       "    </tr>\n",
       "    <tr>\n",
       "      <th rowspan=\"2\" valign=\"top\">Usage_Freq</th>\n",
       "      <th>km</th>\n",
       "      <td>0.99</td>\n",
       "      <td>0.32</td>\n",
       "      <td>1.64</td>\n",
       "    </tr>\n",
       "    <tr>\n",
       "      <th>rank</th>\n",
       "      <td>1.32</td>\n",
       "      <td>0.25</td>\n",
       "      <td>2.00</td>\n",
       "    </tr>\n",
       "    <tr>\n",
       "      <th rowspan=\"2\" valign=\"top\">Voice_Calls</th>\n",
       "      <th>km</th>\n",
       "      <td>3.67</td>\n",
       "      <td>0.06</td>\n",
       "      <td>4.18</td>\n",
       "    </tr>\n",
       "    <tr>\n",
       "      <th>rank</th>\n",
       "      <td>1.52</td>\n",
       "      <td>0.22</td>\n",
       "      <td>2.20</td>\n",
       "    </tr>\n",
       "  </tbody>\n",
       "</table>"
      ],
      "text/latex": [
       "\\begin{tabular}{llrrr}\n",
       " &  & test_statistic & p & -log2(p) \\\\\n",
       "\\multirow[c]{2}{*}{Data_Exhaustion} & km & 4.63 & 0.03 & 4.99 \\\\\n",
       " & rank & 6.56 & 0.01 & 6.58 \\\\\n",
       "\\multirow[c]{2}{*}{Gender} & km & 0.23 & 0.63 & 0.66 \\\\\n",
       " & rank & 0.01 & 0.93 & 0.11 \\\\\n",
       "\\multirow[c]{2}{*}{High_Costs_Pricing} & km & 0.37 & 0.54 & 0.88 \\\\\n",
       " & rank & 0.40 & 0.53 & 0.92 \\\\\n",
       "\\multirow[c]{2}{*}{Mobile_Data_Internet} & km & 0.04 & 0.84 & 0.25 \\\\\n",
       " & rank & 0.11 & 0.74 & 0.43 \\\\\n",
       "\\multirow[c]{2}{*}{Monthly_Data_Usage} & km & 0.35 & 0.56 & 0.85 \\\\\n",
       " & rank & 0.33 & 0.56 & 0.83 \\\\\n",
       "\\multirow[c]{2}{*}{Multiple_Networks} & km & 2.08 & 0.15 & 2.74 \\\\\n",
       " & rank & 1.96 & 0.16 & 2.63 \\\\\n",
       "\\multirow[c]{2}{*}{Network_Strength} & km & 0.40 & 0.53 & 0.93 \\\\\n",
       " & rank & 0.65 & 0.42 & 1.25 \\\\\n",
       "\\multirow[c]{2}{*}{Poor_Network_Quality_Coverage} & km & 0.05 & 0.82 & 0.29 \\\\\n",
       " & rank & 0.37 & 0.54 & 0.89 \\\\\n",
       "\\multirow[c]{2}{*}{Residence} & km & 0.10 & 0.75 & 0.41 \\\\\n",
       " & rank & 0.03 & 0.86 & 0.22 \\\\\n",
       "\\multirow[c]{2}{*}{SMS_Text_Messaging} & km & 1.10 & 0.29 & 1.77 \\\\\n",
       " & rank & 1.79 & 0.18 & 2.47 \\\\\n",
       "\\multirow[c]{2}{*}{Unsatisfactory_Customer_Service} & km & 0.53 & 0.47 & 1.10 \\\\\n",
       " & rank & 0.02 & 0.90 & 0.16 \\\\\n",
       "\\multirow[c]{2}{*}{Usage_Freq} & km & 0.99 & 0.32 & 1.64 \\\\\n",
       " & rank & 1.32 & 0.25 & 2.00 \\\\\n",
       "\\multirow[c]{2}{*}{Voice_Calls} & km & 3.67 & 0.06 & 4.18 \\\\\n",
       " & rank & 1.52 & 0.22 & 2.20 \\\\\n",
       "\\end{tabular}\n"
      ],
      "text/plain": [
       "<lifelines.StatisticalResult: proportional_hazard_test>\n",
       " null_distribution = chi squared\n",
       "degrees_of_freedom = 1\n",
       "             model = <lifelines.CoxPHFitter: fitted with 338 total observations, 318 right-censored observations>\n",
       "         test_name = proportional_hazard_test\n",
       "\n",
       "---\n",
       "                                      test_statistic    p  -log2(p)\n",
       "Data_Exhaustion                 km              4.63 0.03      4.99\n",
       "                                rank            6.56 0.01      6.58\n",
       "Gender                          km              0.23 0.63      0.66\n",
       "                                rank            0.01 0.93      0.11\n",
       "High_Costs_Pricing              km              0.37 0.54      0.88\n",
       "                                rank            0.40 0.53      0.92\n",
       "Mobile_Data_Internet            km              0.04 0.84      0.25\n",
       "                                rank            0.11 0.74      0.43\n",
       "Monthly_Data_Usage              km              0.35 0.56      0.85\n",
       "                                rank            0.33 0.56      0.83\n",
       "Multiple_Networks               km              2.08 0.15      2.74\n",
       "                                rank            1.96 0.16      2.63\n",
       "Network_Strength                km              0.40 0.53      0.93\n",
       "                                rank            0.65 0.42      1.25\n",
       "Poor_Network_Quality_Coverage   km              0.05 0.82      0.29\n",
       "                                rank            0.37 0.54      0.89\n",
       "Residence                       km              0.10 0.75      0.41\n",
       "                                rank            0.03 0.86      0.22\n",
       "SMS_Text_Messaging              km              1.10 0.29      1.77\n",
       "                                rank            1.79 0.18      2.47\n",
       "Unsatisfactory_Customer_Service km              0.53 0.47      1.10\n",
       "                                rank            0.02 0.90      0.16\n",
       "Usage_Freq                      km              0.99 0.32      1.64\n",
       "                                rank            1.32 0.25      2.00\n",
       "Voice_Calls                     km              3.67 0.06      4.18\n",
       "                                rank            1.52 0.22      2.20"
      ]
     },
     "metadata": {},
     "output_type": "display_data"
    },
    {
     "name": "stdout",
     "output_type": "stream",
     "text": [
      "\n",
      "\n",
      "1. Variable 'Data_Exhaustion' failed the non-proportional test: p-value is 0.0105.\n",
      "\n",
      "   Advice: with so few unique values (only 2), you can include `strata=['Data_Exhaustion', ...]` in\n",
      "the call in `.fit`. See documentation in link [E] below.\n",
      "\n",
      "---\n",
      "[A]  https://lifelines.readthedocs.io/en/latest/jupyter_notebooks/Proportional%20hazard%20assumption.html\n",
      "[B]  https://lifelines.readthedocs.io/en/latest/jupyter_notebooks/Proportional%20hazard%20assumption.html#Bin-variable-and-stratify-on-it\n",
      "[C]  https://lifelines.readthedocs.io/en/latest/jupyter_notebooks/Proportional%20hazard%20assumption.html#Introduce-time-varying-covariates\n",
      "[D]  https://lifelines.readthedocs.io/en/latest/jupyter_notebooks/Proportional%20hazard%20assumption.html#Modify-the-functional-form\n",
      "[E]  https://lifelines.readthedocs.io/en/latest/jupyter_notebooks/Proportional%20hazard%20assumption.html#Stratification\n",
      "\n"
     ]
    },
    {
     "data": {
      "text/plain": [
       "[]"
      ]
     },
     "execution_count": 22,
     "metadata": {},
     "output_type": "execute_result"
    }
   ],
   "source": [
    "# Check proportional hazards assumption\n",
    "cph.check_assumptions(data, p_value_threshold=0.05)\n",
    "\n",
    "# Interpretation and validation\n",
    "# (This will involve checking the summary output, coefficients, and assumption checks)\n"
   ]
  },
  {
   "cell_type": "code",
   "execution_count": 30,
   "metadata": {},
   "outputs": [
    {
     "name": "stdout",
     "output_type": "stream",
     "text": [
      "Model Comparison Metrics:\n",
      "                  Model         AIC         BIC  Hanna-Quinn\n",
      "0      WeibullAFTFitter  182.568721  187.779061    32.486525\n",
      "1    LogNormalAFTFitter  175.138211  180.348551    32.486525\n",
      "2  LogLogisticAFTFitter  176.518119  181.728460    32.486525\n",
      "\n",
      "The AFT model with the lowest AIC is: LogNormalAFTFitter\n",
      "The AFT model with the lowest BIC is: LogNormalAFTFitter\n",
      "The AFT model with the lowest Hanna-Quinn is: WeibullAFTFitter\n"
     ]
    }
   ],
   "source": [
    "import pandas as pd\n",
    "from lifelines import WeibullAFTFitter, LogNormalAFTFitter, LogLogisticAFTFitter\n",
    "import numpy as np\n",
    "\n",
    "# Sample data\n",
    "data = pd.DataFrame({\n",
    "    'Churn_Level': np.random.exponential(1, 100),\n",
    "    'Churn': np.random.randint(0, 2, 100)\n",
    "})\n",
    "\n",
    "# Instantiate each AFT fitter\n",
    "weibull_aft = WeibullAFTFitter()\n",
    "lognormal_aft = LogNormalAFTFitter()\n",
    "loglogistic_aft = LogLogisticAFTFitter()\n",
    "\n",
    "# Fit to data and collect AIC, BIC, and Hanna-Quinn values\n",
    "aft_metrics = {}\n",
    "for model in [weibull_aft, lognormal_aft, loglogistic_aft]:\n",
    "    model.fit(data, duration_col='Churn_Level', event_col='Churn')\n",
    "    aic = model.AIC_\n",
    "    bic = model.BIC_  # You can get BIC directly from lifelines\n",
    "    n = len(data)\n",
    "    k = len(model.params_)\n",
    "    \n",
    "    # Hanna-Quinn criterion calculation\n",
    "    hqc = np.log(n) * k * np.log(np.log(n)) + 2 * k * np.log(n)\n",
    "    \n",
    "    aft_metrics[model.__class__.__name__] = {\n",
    "        'AIC': aic,\n",
    "        'BIC': bic,\n",
    "        'Hanna-Quinn': hqc\n",
    "    }\n",
    "\n",
    "# Create a DataFrame from the metrics\n",
    "metrics_df = pd.DataFrame(aft_metrics).T\n",
    "metrics_df.index.name = 'Model'\n",
    "metrics_df = metrics_df.reset_index()\n",
    "\n",
    "print(\"Model Comparison Metrics:\")\n",
    "print(metrics_df)\n",
    "\n",
    "# Find the model with the lowest AIC, BIC, and Hanna-Quinn\n",
    "best_aft_model_aic = metrics_df.loc[metrics_df['AIC'].idxmin(), 'Model']\n",
    "best_aft_model_bic = metrics_df.loc[metrics_df['BIC'].idxmin(), 'Model']\n",
    "best_aft_model_hqc = metrics_df.loc[metrics_df['Hanna-Quinn'].idxmin(), 'Model']\n",
    "\n",
    "print(f\"\\nThe AFT model with the lowest AIC is: {best_aft_model_aic}\")\n",
    "print(f\"The AFT model with the lowest BIC is: {best_aft_model_bic}\")\n",
    "print(f\"The AFT model with the lowest Hanna-Quinn is: {best_aft_model_hqc}\")\n"
   ]
  },
  {
   "cell_type": "code",
   "execution_count": 23,
   "metadata": {},
   "outputs": [
    {
     "data": {
      "image/png": "[encoded data removed]",
      "text/plain": [
       "<Figure size 1000x600 with 1 Axes>"
      ]
     },
     "metadata": {},
     "output_type": "display_data"
    }
   ],
   "source": [
    "from lifelines import  WeibullFitter\n",
    "\n",
    "\n",
    "# Fit the Weibull model\n",
    "wf = WeibullFitter()\n",
    "wf.fit(durations=data['Churn_Level'], event_observed=data['Churn'])\n",
    "\n",
    "# Plot the survival functions of both models\n",
    "plt.figure(figsize=(10, 6))\n",
    "wf.plot_survival_function(label='Weibull')\n",
    "plt.xlabel('Time (Level)')\n",
    "plt.ylabel('Survival Probability')\n",
    "plt.legend()\n",
    "plt.show()\n"
   ]
  },
  {
   "cell_type": "code",
   "execution_count": 24,
   "metadata": {},
   "outputs": [],
   "source": [
    "# # Lognormal model summary\n",
    "# lnf.print_summary()\n",
    "\n",
    "# # Weibull model summary\n",
    "# wf.print_summary()\n",
    "\n",
    "# # Goodness-of-fit metrics\n",
    "# lnf_aic = lnf.AIC_\n",
    "# wf_aic = wf.AIC_\n",
    "\n",
    "# lnf_aic, wf_aic\n"
   ]
  },
  {
   "cell_type": "code",
   "execution_count": 25,
   "metadata": {},
   "outputs": [],
   "source": [
    "# # Get the AIC value of the Cox PH model\n",
    "# cox_aic = cph.AIC_partial_\n",
    "\n",
    "# # AIC values of all models\n",
    "# aic_values = {\n",
    "#     'Cox PH': cox_aic,\n",
    "#     'Lognormal': lnf.AIC_,\n",
    "#     'Weibull': wf.AIC_\n",
    "# }\n",
    "\n",
    "# aic_values\n"
   ]
  },
  {
   "cell_type": "code",
   "execution_count": 26,
   "metadata": {},
   "outputs": [],
   "source": [
    "# cox_cindex"
   ]
  },
  {
   "cell_type": "code",
   "execution_count": 27,
   "metadata": {},
   "outputs": [],
   "source": [
    "# from lifelines.utils import concordance_index\n",
    "\n",
    "# # Ensure 'Level' and 'Churn' columns are 1-dimensional\n",
    "# level = data['Level'].values.flatten()\n",
    "# churn = data['Churn'].values.flatten()\n",
    "\n",
    "# # Calculate the C-index for Cox PH model\n",
    "# cox_predictions = -cph.predict_partial_hazard(data).values.flatten()\n",
    "# cox_cindex = concordance_index(level, cox_predictions, churn)\n",
    "\n",
    "# # Calculate the C-index for Lognormal model\n",
    "# lognormal_predictions = -lnf.predict(data[['Level']]).values.flatten()\n",
    "# lognormal_cindex = concordance_index(level, lognormal_predictions, churn)\n",
    "\n",
    "# # Calculate the C-index for Weibull model\n",
    "# weibull_predictions = -wf.predict(data[['Level']]).values.flatten()\n",
    "# weibull_cindex = concordance_index(level, weibull_predictions, churn)\n",
    "\n",
    "# cox_cindex, lognormal_cindex, weibull_cindex\n"
   ]
  },
  {
   "cell_type": "code",
   "execution_count": 28,
   "metadata": {},
   "outputs": [],
   "source": [
    "# print(f\"Level shape: {level.shape}\")\n",
    "# print(f\"Churn shape: {churn.shape}\")\n",
    "# print(f\"Cox Predictions shape: {cox_predictions.shape}\")\n",
    "# print(f\"Lognormal Predictions shape: {lognormal_predictions.shape}\")\n",
    "# print(f\"Weibull Predictions shape: {weibull_predictions.shape}\")\n"
   ]
  },
  {
   "cell_type": "code",
   "execution_count": null,
   "metadata": {},
   "outputs": [],
   "source": []
  },
  {
   "cell_type": "code",
   "execution_count": null,
   "metadata": {},
   "outputs": [],
   "source": []
  }
 ],
 "metadata": {
  "kernelspec": {
   "display_name": ".venv",
   "language": "python",
   "name": "python3"
  },
  "language_info": {
   "codemirror_mode": {
    "name": "ipython",
    "version": 3
   },
   "file_extension": ".py",
   "mimetype": "text/x-python",
   "name": "python",
   "nbconvert_exporter": "python",
   "pygments_lexer": "ipython3",
   "version": "3.11.9"
  }
 },
 "nbformat": 4,
 "nbformat_minor": 2
}
